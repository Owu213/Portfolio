{
 "cells": [
  {
   "cell_type": "markdown",
   "metadata": {},
   "source": [
    "# Восстановление золота из руды"
   ]
  },
  {
   "cell_type": "markdown",
   "metadata": {
    "toc": true
   },
   "source": [
    "<h1>Содержание<span class=\"tocSkip\"></span></h1>\n",
    "<div class=\"toc\"><ul class=\"toc-item\"><li><span><a href=\"#Описание-проекта\" data-toc-modified-id=\"Описание-проекта-1\"><span class=\"toc-item-num\">1&nbsp;&nbsp;</span>Описание проекта</a></span><ul class=\"toc-item\"><li><span><a href=\"#Импорт-библиотек\" data-toc-modified-id=\"Импорт-библиотек-1.1\"><span class=\"toc-item-num\">1.1&nbsp;&nbsp;</span>Импорт библиотек</a></span></li></ul></li><li><span><a href=\"#Обзор-данных.-Уточнение-задачи.\" data-toc-modified-id=\"Обзор-данных.-Уточнение-задачи.-2\"><span class=\"toc-item-num\">2&nbsp;&nbsp;</span>Обзор данных. Уточнение задачи.</a></span><ul class=\"toc-item\"><li><span><a href=\"#Итоги\" data-toc-modified-id=\"Итоги-2.1\"><span class=\"toc-item-num\">2.1&nbsp;&nbsp;</span><strong>Итоги</strong></a></span></li></ul></li><li><span><a href=\"#Подготовка-данных\" data-toc-modified-id=\"Подготовка-данных-3\"><span class=\"toc-item-num\">3&nbsp;&nbsp;</span>Подготовка данных</a></span><ul class=\"toc-item\"><li><span><a href=\"#Проверка-правильности-расчета-эффективности-обогащения.\" data-toc-modified-id=\"Проверка-правильности-расчета-эффективности-обогащения.-3.1\"><span class=\"toc-item-num\">3.1&nbsp;&nbsp;</span>Проверка правильности расчета эффективности обогащения.</a></span></li><li><span><a href=\"#Добавление-признаков-в-тестовую-выборку\" data-toc-modified-id=\"Добавление-признаков-в-тестовую-выборку-3.2\"><span class=\"toc-item-num\">3.2&nbsp;&nbsp;</span>Добавление признаков в тестовую выборку</a></span></li><li><span><a href=\"#Заполним-пропуски-в-тестовой-и-обучающей-выборках\" data-toc-modified-id=\"Заполним-пропуски-в-тестовой-и-обучающей-выборках-3.3\"><span class=\"toc-item-num\">3.3&nbsp;&nbsp;</span>Заполним пропуски в тестовой и обучающей выборках</a></span></li><li><span><a href=\"#Проверим-наличие-явных-дубликатов\" data-toc-modified-id=\"Проверим-наличие-явных-дубликатов-3.4\"><span class=\"toc-item-num\">3.4&nbsp;&nbsp;</span>Проверим наличие явных дубликатов</a></span></li><li><span><a href=\"#Итоги\" data-toc-modified-id=\"Итоги-3.5\"><span class=\"toc-item-num\">3.5&nbsp;&nbsp;</span><strong>Итоги</strong></a></span></li></ul></li><li><span><a href=\"#Анализ-данных\" data-toc-modified-id=\"Анализ-данных-4\"><span class=\"toc-item-num\">4&nbsp;&nbsp;</span>Анализ данных</a></span><ul class=\"toc-item\"><li><span><a href=\"#Динамика-концентрации-металлов.\" data-toc-modified-id=\"Динамика-концентрации-металлов.-4.1\"><span class=\"toc-item-num\">4.1&nbsp;&nbsp;</span>Динамика концентрации металлов.</a></span></li><li><span><a href=\"#Сравнение-распределения-размеров-гранул-сырья-на-обучающей-и-тестовой-выборках.\" data-toc-modified-id=\"Сравнение-распределения-размеров-гранул-сырья-на-обучающей-и-тестовой-выборках.-4.2\"><span class=\"toc-item-num\">4.2&nbsp;&nbsp;</span>Сравнение распределения размеров гранул сырья на обучающей и тестовой выборках.</a></span><ul class=\"toc-item\"><li><span><a href=\"#Т-тест\" data-toc-modified-id=\"Т-тест-4.2.1\"><span class=\"toc-item-num\">4.2.1&nbsp;&nbsp;</span>Т-тест</a></span></li></ul></li><li><span><a href=\"#Исследование-суммарной-концентрации-всех-веществ-на-разных-стадиях.\" data-toc-modified-id=\"Исследование-суммарной-концентрации-всех-веществ-на-разных-стадиях.-4.3\"><span class=\"toc-item-num\">4.3&nbsp;&nbsp;</span>Исследование суммарной концентрации всех веществ на разных стадиях.</a></span></li><li><span><a href=\"#Итоги\" data-toc-modified-id=\"Итоги-4.4\"><span class=\"toc-item-num\">4.4&nbsp;&nbsp;</span><strong>Итоги</strong></a></span></li></ul></li><li><span><a href=\"#Модель.\" data-toc-modified-id=\"Модель.-5\"><span class=\"toc-item-num\">5&nbsp;&nbsp;</span>Модель.</a></span><ul class=\"toc-item\"><li><span><a href=\"#Подготовим-выборки-для-каждого-таргета\" data-toc-modified-id=\"Подготовим-выборки-для-каждого-таргета-5.1\"><span class=\"toc-item-num\">5.1&nbsp;&nbsp;</span>Подготовим выборки для каждого таргета</a></span></li><li><span><a href=\"#Функция-рассчета-sMAPE\" data-toc-modified-id=\"Функция-рассчета-sMAPE-5.2\"><span class=\"toc-item-num\">5.2&nbsp;&nbsp;</span>Функция рассчета sMAPE</a></span></li><li><span><a href=\"#Поиск-лучшей-модели\" data-toc-modified-id=\"Поиск-лучшей-модели-5.3\"><span class=\"toc-item-num\">5.3&nbsp;&nbsp;</span>Поиск лучшей модели</a></span><ul class=\"toc-item\"><li><span><a href=\"#Поиск-гиперпараметров\" data-toc-modified-id=\"Поиск-гиперпараметров-5.3.1\"><span class=\"toc-item-num\">5.3.1&nbsp;&nbsp;</span>Поиск гиперпараметров</a></span></li><li><span><a href=\"#Поиск-лучшей-модели-по-sMAPE\" data-toc-modified-id=\"Поиск-лучшей-модели-по-sMAPE-5.3.2\"><span class=\"toc-item-num\">5.3.2&nbsp;&nbsp;</span>Поиск лучшей модели по sMAPE</a></span></li><li><span><a href=\"#Проверка-модели-на-тестовой-выборке.\" data-toc-modified-id=\"Проверка-модели-на-тестовой-выборке.-5.3.3\"><span class=\"toc-item-num\">5.3.3&nbsp;&nbsp;</span>Проверка модели на тестовой выборке.</a></span></li></ul></li></ul></li><li><span><a href=\"#Итоги\" data-toc-modified-id=\"Итоги-6\"><span class=\"toc-item-num\">6&nbsp;&nbsp;</span><strong>Итоги</strong></a></span></li></ul></div>"
   ]
  },
  {
   "cell_type": "markdown",
   "metadata": {},
   "source": [
    "## Описание проекта\n",
    "Компания разрабатывает решения для эффективной работы промышленных предприятий.  \n",
    "  \n",
    "Модель должна предсказать коэффициент восстановления золота из золотосодержащей руды. Используйте данные с параметрами добычи и очистки.Модель поможет оптимизировать производство, чтобы не запускать предприятие с убыточными характеристиками.  \n",
    "\n",
    "Подготовим прототип модели машинного обучения для «Цифры».\n",
    "\n",
    "\n",
    "\n",
    "Данные находятся в трёх файлах:  \n",
    "gold_recovery_train_new.csv — обучающая выборка;  \n",
    "gold_recovery_test_new.csv — тестовая выборка;  \n",
    "gold_recovery_full_new.csv — исходные данные.  \n",
    "\n",
    "Данные индексируются датой и временем получения информации (признак date). Соседние по времени параметры часто похожи. Некоторые параметры недоступны, потому что замеряются и/или рассчитываются значительно позже. Из-за этого в тестовой выборке отсутствуют некоторые признаки, которые могут быть в обучающей. Также в тестовом наборе нет целевых признаков.  \n",
    "Исходный датасет содержит обучающую и тестовую выборки со всеми признаками.  \n",
    "\n",
    "В вашем распоряжении сырые данные: их просто выгрузили из хранилища. Прежде чем приступить к построению модели, проверьте по нашей инструкции их на корректность.  \n",
    "\n",
    "**Этапы по выполнению проекта**  \n",
    "\n",
    "1. Подготовим данные  \n",
    "    1.1. Откроем файлы и изучим их.  \n",
    "    Путь к файлам:  \n",
    "    /datasets/gold_recovery_train_new.csv  \n",
    "    /datasets/gold_recovery_test_new.csv  \n",
    "    /datasets/gold_recovery_full_new.csv   \n",
    "    1.2. Проверим, что эффективность обогащения рассчитана правильно. Вычислим её на обучающей выборке для признака rougher.output.recovery. Найдем MAE между своими расчётами и значением признака. Опишем выводы.  \n",
    "    1.3. Проанализируем признаки, недоступные в тестовой выборке. Что это за параметры? К какому типу относятся?  \n",
    "    1.4. Проведем предобработку данных.  \n",
    "    \n",
    "2. Проанализируйем данные  \n",
    "    2.1. Посмотрим, как меняется концентрация металлов (Au, Ag, Pb) на различных этапах очистки. Опишем выводы.  \n",
    "    2.2. Сравним распределения размеров гранул сырья на обучающей и тестовой выборках. Если распределения сильно отличаются друг от друга, оценка модели будет неправильной.  \n",
    "    2.3. Исследуем суммарную концентрацию всех веществ на разных стадиях: в сырье, в черновом и финальном концентратах.  \n",
    "3. Построим модель  \n",
    "    3.1. Напишем функцию для вычисления итоговой sMAPE.  \n",
    "    3.2. Обучим разные модели и оценим их качество кросс-валидацией. Выбереи лучшую модель и проверьим её на тестовой выборке. Напишем выводы. \n",
    "    \n",
    "**Формулы метрик качества**:  \n",
    "  \n",
    "sMAPE - симметричное среднее абсолютное процентное отклонение целевого признака  \n",
    "Итоговое sMAPE = 0.25 * sMAPE(Флотации) + 0.75 * sMAPE(Очистки)  \n",
    "recovery - Коэффициент восстановления золота.   \n",
    "\n",
    "\n",
    "**Описание данных**  \n",
    "  \n",
    "*Технологический процесс*  \n",
    "Rougher feed — исходное сырье  \n",
    "Rougher additions (или reagent additions) — флотационные реагенты: Xanthate, Sulphate, Depressant  \n",
    "Xanthate — ксантогенат (промотер, или активатор флотации);  \n",
    "Sulphate — сульфат (на данном производстве сульфид натрия);  \n",
    "Depressant — депрессант (силикат натрия). \n",
    "Rougher process (англ. «грубый процесс») — флотация  \n",
    "Rougher tails — отвальные хвосты  \n",
    "Float banks — флотационная установка  \n",
    "Cleaner process — очистка  \n",
    "Rougher Au — черновой концентрат золота  \n",
    "Final Au — финальный концентрат золота  \n",
    "  \n",
    "*Параметры этапов*  \n",
    "air amount — объём воздуха  \n",
    "fluid levels — уровень жидкости  \n",
    "feed size — размер гранул сырья  \n",
    "feed rate — скорость подачи  \n",
    "\n",
    " \n",
    "*Наименование признаков должно быть такое*:  \n",
    "[этап].[тип_параметра].[название_параметра]  \n",
    "Пример: rougher.input.feed_ag  \n",
    "Возможные значения для блока [этап]:  \n",
    "rougher — флотация  \n",
    "primary_cleaner — первичная очистка  \n",
    "secondary_cleaner — вторичная очистка  \n",
    "final — финальные характеристики  \n",
    "Возможные значения для блока [тип_параметра]:  \n",
    "input — параметры сырья  \n",
    "output — параметры продукта  \n",
    "state — параметры, характеризующие текущее состояние этапа  \n",
    "calculation — расчётные характеристики  \n",
    "\n"
   ]
  },
  {
   "cell_type": "markdown",
   "metadata": {},
   "source": [
    "### Импорт библиотек\n",
    "Здесь будем импортировать все нужные нам библиотеки"
   ]
  },
  {
   "cell_type": "code",
   "execution_count": 1,
   "metadata": {},
   "outputs": [],
   "source": [
    "import pandas as pd\n",
    "import matplotlib.pyplot as plt\n",
    "import numpy as np\n",
    "from scipy import stats as st\n",
    "from sklearn.metrics import mean_absolute_error\n",
    "from sklearn.preprocessing import StandardScaler\n",
    "from sklearn.model_selection import GridSearchCV\n",
    "from sklearn.ensemble import RandomForestRegressor\n",
    "from sklearn.tree import DecisionTreeRegressor\n",
    "from sklearn.linear_model import LinearRegression\n",
    "from sklearn.metrics import make_scorer"
   ]
  },
  {
   "cell_type": "markdown",
   "metadata": {},
   "source": [
    "## Обзор данных. Уточнение задачи.\n",
    "Загрузим датасеты. Поскольку общий датасет содержит и тестовую выборку и тренировочную, для обзора данных выведем информацию о нем на экран, а так же первые 5 строк для ознакомления."
   ]
  },
  {
   "cell_type": "code",
   "execution_count": 2,
   "metadata": {},
   "outputs": [
    {
     "name": "stdout",
     "output_type": "stream",
     "text": [
      "<class 'pandas.core.frame.DataFrame'>\n",
      "RangeIndex: 19439 entries, 0 to 19438\n",
      "Data columns (total 87 columns):\n",
      " #   Column                                              Non-Null Count  Dtype  \n",
      "---  ------                                              --------------  -----  \n",
      " 0   date                                                19439 non-null  object \n",
      " 1   final.output.concentrate_ag                         19438 non-null  float64\n",
      " 2   final.output.concentrate_pb                         19438 non-null  float64\n",
      " 3   final.output.concentrate_sol                        19228 non-null  float64\n",
      " 4   final.output.concentrate_au                         19439 non-null  float64\n",
      " 5   final.output.recovery                               19439 non-null  float64\n",
      " 6   final.output.tail_ag                                19438 non-null  float64\n",
      " 7   final.output.tail_pb                                19338 non-null  float64\n",
      " 8   final.output.tail_sol                               19433 non-null  float64\n",
      " 9   final.output.tail_au                                19439 non-null  float64\n",
      " 10  primary_cleaner.input.sulfate                       19415 non-null  float64\n",
      " 11  primary_cleaner.input.depressant                    19402 non-null  float64\n",
      " 12  primary_cleaner.input.feed_size                     19439 non-null  float64\n",
      " 13  primary_cleaner.input.xanthate                      19335 non-null  float64\n",
      " 14  primary_cleaner.output.concentrate_ag               19439 non-null  float64\n",
      " 15  primary_cleaner.output.concentrate_pb               19323 non-null  float64\n",
      " 16  primary_cleaner.output.concentrate_sol              19069 non-null  float64\n",
      " 17  primary_cleaner.output.concentrate_au               19439 non-null  float64\n",
      " 18  primary_cleaner.output.tail_ag                      19435 non-null  float64\n",
      " 19  primary_cleaner.output.tail_pb                      19418 non-null  float64\n",
      " 20  primary_cleaner.output.tail_sol                     19377 non-null  float64\n",
      " 21  primary_cleaner.output.tail_au                      19439 non-null  float64\n",
      " 22  primary_cleaner.state.floatbank8_a_air              19435 non-null  float64\n",
      " 23  primary_cleaner.state.floatbank8_a_level            19438 non-null  float64\n",
      " 24  primary_cleaner.state.floatbank8_b_air              19435 non-null  float64\n",
      " 25  primary_cleaner.state.floatbank8_b_level            19438 non-null  float64\n",
      " 26  primary_cleaner.state.floatbank8_c_air              19437 non-null  float64\n",
      " 27  primary_cleaner.state.floatbank8_c_level            19438 non-null  float64\n",
      " 28  primary_cleaner.state.floatbank8_d_air              19436 non-null  float64\n",
      " 29  primary_cleaner.state.floatbank8_d_level            19438 non-null  float64\n",
      " 30  rougher.calculation.sulfate_to_au_concentrate       19437 non-null  float64\n",
      " 31  rougher.calculation.floatbank10_sulfate_to_au_feed  19437 non-null  float64\n",
      " 32  rougher.calculation.floatbank11_sulfate_to_au_feed  19437 non-null  float64\n",
      " 33  rougher.calculation.au_pb_ratio                     19439 non-null  float64\n",
      " 34  rougher.input.feed_ag                               19439 non-null  float64\n",
      " 35  rougher.input.feed_pb                               19339 non-null  float64\n",
      " 36  rougher.input.feed_rate                             19428 non-null  float64\n",
      " 37  rougher.input.feed_size                             19294 non-null  float64\n",
      " 38  rougher.input.feed_sol                              19340 non-null  float64\n",
      " 39  rougher.input.feed_au                               19439 non-null  float64\n",
      " 40  rougher.input.floatbank10_sulfate                   19405 non-null  float64\n",
      " 41  rougher.input.floatbank10_xanthate                  19431 non-null  float64\n",
      " 42  rougher.input.floatbank11_sulfate                   19395 non-null  float64\n",
      " 43  rougher.input.floatbank11_xanthate                  18986 non-null  float64\n",
      " 44  rougher.output.concentrate_ag                       19439 non-null  float64\n",
      " 45  rougher.output.concentrate_pb                       19439 non-null  float64\n",
      " 46  rougher.output.concentrate_sol                      19416 non-null  float64\n",
      " 47  rougher.output.concentrate_au                       19439 non-null  float64\n",
      " 48  rougher.output.recovery                             19439 non-null  float64\n",
      " 49  rougher.output.tail_ag                              19438 non-null  float64\n",
      " 50  rougher.output.tail_pb                              19439 non-null  float64\n",
      " 51  rougher.output.tail_sol                             19439 non-null  float64\n",
      " 52  rougher.output.tail_au                              19439 non-null  float64\n",
      " 53  rougher.state.floatbank10_a_air                     19438 non-null  float64\n",
      " 54  rougher.state.floatbank10_a_level                   19438 non-null  float64\n",
      " 55  rougher.state.floatbank10_b_air                     19438 non-null  float64\n",
      " 56  rougher.state.floatbank10_b_level                   19438 non-null  float64\n",
      " 57  rougher.state.floatbank10_c_air                     19438 non-null  float64\n",
      " 58  rougher.state.floatbank10_c_level                   19438 non-null  float64\n",
      " 59  rougher.state.floatbank10_d_air                     19439 non-null  float64\n",
      " 60  rougher.state.floatbank10_d_level                   19439 non-null  float64\n",
      " 61  rougher.state.floatbank10_e_air                     19003 non-null  float64\n",
      " 62  rougher.state.floatbank10_e_level                   19439 non-null  float64\n",
      " 63  rougher.state.floatbank10_f_air                     19439 non-null  float64\n",
      " 64  rougher.state.floatbank10_f_level                   19439 non-null  float64\n",
      " 65  secondary_cleaner.output.tail_ag                    19437 non-null  float64\n",
      " 66  secondary_cleaner.output.tail_pb                    19427 non-null  float64\n",
      " 67  secondary_cleaner.output.tail_sol                   17691 non-null  float64\n",
      " 68  secondary_cleaner.output.tail_au                    19439 non-null  float64\n",
      " 69  secondary_cleaner.state.floatbank2_a_air            19219 non-null  float64\n",
      " 70  secondary_cleaner.state.floatbank2_a_level          19438 non-null  float64\n",
      " 71  secondary_cleaner.state.floatbank2_b_air            19416 non-null  float64\n",
      " 72  secondary_cleaner.state.floatbank2_b_level          19438 non-null  float64\n",
      " 73  secondary_cleaner.state.floatbank3_a_air            19426 non-null  float64\n",
      " 74  secondary_cleaner.state.floatbank3_a_level          19438 non-null  float64\n",
      " 75  secondary_cleaner.state.floatbank3_b_air            19438 non-null  float64\n",
      " 76  secondary_cleaner.state.floatbank3_b_level          19438 non-null  float64\n",
      " 77  secondary_cleaner.state.floatbank4_a_air            19433 non-null  float64\n",
      " 78  secondary_cleaner.state.floatbank4_a_level          19438 non-null  float64\n",
      " 79  secondary_cleaner.state.floatbank4_b_air            19438 non-null  float64\n",
      " 80  secondary_cleaner.state.floatbank4_b_level          19438 non-null  float64\n",
      " 81  secondary_cleaner.state.floatbank5_a_air            19438 non-null  float64\n",
      " 82  secondary_cleaner.state.floatbank5_a_level          19438 non-null  float64\n",
      " 83  secondary_cleaner.state.floatbank5_b_air            19438 non-null  float64\n",
      " 84  secondary_cleaner.state.floatbank5_b_level          19438 non-null  float64\n",
      " 85  secondary_cleaner.state.floatbank6_a_air            19437 non-null  float64\n",
      " 86  secondary_cleaner.state.floatbank6_a_level          19438 non-null  float64\n",
      "dtypes: float64(86), object(1)\n",
      "memory usage: 12.9+ MB\n"
     ]
    },
    {
     "data": {
      "text/plain": [
       "None"
      ]
     },
     "metadata": {},
     "output_type": "display_data"
    }
   ],
   "source": [
    "train_data = pd.read_csv('/datasets/gold_recovery_train_new.csv')\n",
    "test_data = pd.read_csv('/datasets/gold_recovery_test_new.csv')\n",
    "basic_data = pd.read_csv('/datasets/gold_recovery_full_new.csv')\n",
    "\n",
    "display(basic_data.info())"
   ]
  },
  {
   "cell_type": "code",
   "execution_count": 3,
   "metadata": {},
   "outputs": [
    {
     "data": {
      "text/html": [
       "<div>\n",
       "<style scoped>\n",
       "    .dataframe tbody tr th:only-of-type {\n",
       "        vertical-align: middle;\n",
       "    }\n",
       "\n",
       "    .dataframe tbody tr th {\n",
       "        vertical-align: top;\n",
       "    }\n",
       "\n",
       "    .dataframe thead th {\n",
       "        text-align: right;\n",
       "    }\n",
       "</style>\n",
       "<table border=\"1\" class=\"dataframe\">\n",
       "  <thead>\n",
       "    <tr style=\"text-align: right;\">\n",
       "      <th></th>\n",
       "      <th>date</th>\n",
       "      <th>final.output.concentrate_ag</th>\n",
       "      <th>final.output.concentrate_pb</th>\n",
       "      <th>final.output.concentrate_sol</th>\n",
       "      <th>final.output.concentrate_au</th>\n",
       "      <th>final.output.recovery</th>\n",
       "      <th>final.output.tail_ag</th>\n",
       "      <th>final.output.tail_pb</th>\n",
       "      <th>final.output.tail_sol</th>\n",
       "      <th>final.output.tail_au</th>\n",
       "      <th>...</th>\n",
       "      <th>secondary_cleaner.state.floatbank4_a_air</th>\n",
       "      <th>secondary_cleaner.state.floatbank4_a_level</th>\n",
       "      <th>secondary_cleaner.state.floatbank4_b_air</th>\n",
       "      <th>secondary_cleaner.state.floatbank4_b_level</th>\n",
       "      <th>secondary_cleaner.state.floatbank5_a_air</th>\n",
       "      <th>secondary_cleaner.state.floatbank5_a_level</th>\n",
       "      <th>secondary_cleaner.state.floatbank5_b_air</th>\n",
       "      <th>secondary_cleaner.state.floatbank5_b_level</th>\n",
       "      <th>secondary_cleaner.state.floatbank6_a_air</th>\n",
       "      <th>secondary_cleaner.state.floatbank6_a_level</th>\n",
       "    </tr>\n",
       "  </thead>\n",
       "  <tbody>\n",
       "    <tr>\n",
       "      <th>0</th>\n",
       "      <td>2016-01-15 00:00:00</td>\n",
       "      <td>6.055403</td>\n",
       "      <td>9.889648</td>\n",
       "      <td>5.507324</td>\n",
       "      <td>42.192020</td>\n",
       "      <td>70.541216</td>\n",
       "      <td>10.411962</td>\n",
       "      <td>0.895447</td>\n",
       "      <td>16.904297</td>\n",
       "      <td>2.143149</td>\n",
       "      <td>...</td>\n",
       "      <td>14.016835</td>\n",
       "      <td>-502.488007</td>\n",
       "      <td>12.099931</td>\n",
       "      <td>-504.715942</td>\n",
       "      <td>9.925633</td>\n",
       "      <td>-498.310211</td>\n",
       "      <td>8.079666</td>\n",
       "      <td>-500.470978</td>\n",
       "      <td>14.151341</td>\n",
       "      <td>-605.841980</td>\n",
       "    </tr>\n",
       "    <tr>\n",
       "      <th>1</th>\n",
       "      <td>2016-01-15 01:00:00</td>\n",
       "      <td>6.029369</td>\n",
       "      <td>9.968944</td>\n",
       "      <td>5.257781</td>\n",
       "      <td>42.701629</td>\n",
       "      <td>69.266198</td>\n",
       "      <td>10.462676</td>\n",
       "      <td>0.927452</td>\n",
       "      <td>16.634514</td>\n",
       "      <td>2.224930</td>\n",
       "      <td>...</td>\n",
       "      <td>13.992281</td>\n",
       "      <td>-505.503262</td>\n",
       "      <td>11.950531</td>\n",
       "      <td>-501.331529</td>\n",
       "      <td>10.039245</td>\n",
       "      <td>-500.169983</td>\n",
       "      <td>7.984757</td>\n",
       "      <td>-500.582168</td>\n",
       "      <td>13.998353</td>\n",
       "      <td>-599.787184</td>\n",
       "    </tr>\n",
       "    <tr>\n",
       "      <th>2</th>\n",
       "      <td>2016-01-15 02:00:00</td>\n",
       "      <td>6.055926</td>\n",
       "      <td>10.213995</td>\n",
       "      <td>5.383759</td>\n",
       "      <td>42.657501</td>\n",
       "      <td>68.116445</td>\n",
       "      <td>10.507046</td>\n",
       "      <td>0.953716</td>\n",
       "      <td>16.208849</td>\n",
       "      <td>2.257889</td>\n",
       "      <td>...</td>\n",
       "      <td>14.015015</td>\n",
       "      <td>-502.520901</td>\n",
       "      <td>11.912783</td>\n",
       "      <td>-501.133383</td>\n",
       "      <td>10.070913</td>\n",
       "      <td>-500.129135</td>\n",
       "      <td>8.013877</td>\n",
       "      <td>-500.517572</td>\n",
       "      <td>14.028663</td>\n",
       "      <td>-601.427363</td>\n",
       "    </tr>\n",
       "    <tr>\n",
       "      <th>3</th>\n",
       "      <td>2016-01-15 03:00:00</td>\n",
       "      <td>6.047977</td>\n",
       "      <td>9.977019</td>\n",
       "      <td>4.858634</td>\n",
       "      <td>42.689819</td>\n",
       "      <td>68.347543</td>\n",
       "      <td>10.422762</td>\n",
       "      <td>0.883763</td>\n",
       "      <td>16.532835</td>\n",
       "      <td>2.146849</td>\n",
       "      <td>...</td>\n",
       "      <td>14.036510</td>\n",
       "      <td>-500.857308</td>\n",
       "      <td>11.999550</td>\n",
       "      <td>-501.193686</td>\n",
       "      <td>9.970366</td>\n",
       "      <td>-499.201640</td>\n",
       "      <td>7.977324</td>\n",
       "      <td>-500.255908</td>\n",
       "      <td>14.005551</td>\n",
       "      <td>-599.996129</td>\n",
       "    </tr>\n",
       "    <tr>\n",
       "      <th>4</th>\n",
       "      <td>2016-01-15 04:00:00</td>\n",
       "      <td>6.148599</td>\n",
       "      <td>10.142511</td>\n",
       "      <td>4.939416</td>\n",
       "      <td>42.774141</td>\n",
       "      <td>66.927016</td>\n",
       "      <td>10.360302</td>\n",
       "      <td>0.792826</td>\n",
       "      <td>16.525686</td>\n",
       "      <td>2.055292</td>\n",
       "      <td>...</td>\n",
       "      <td>14.027298</td>\n",
       "      <td>-499.838632</td>\n",
       "      <td>11.953070</td>\n",
       "      <td>-501.053894</td>\n",
       "      <td>9.925709</td>\n",
       "      <td>-501.686727</td>\n",
       "      <td>7.894242</td>\n",
       "      <td>-500.356035</td>\n",
       "      <td>13.996647</td>\n",
       "      <td>-601.496691</td>\n",
       "    </tr>\n",
       "  </tbody>\n",
       "</table>\n",
       "<p>5 rows × 87 columns</p>\n",
       "</div>"
      ],
      "text/plain": [
       "                  date  final.output.concentrate_ag  \\\n",
       "0  2016-01-15 00:00:00                     6.055403   \n",
       "1  2016-01-15 01:00:00                     6.029369   \n",
       "2  2016-01-15 02:00:00                     6.055926   \n",
       "3  2016-01-15 03:00:00                     6.047977   \n",
       "4  2016-01-15 04:00:00                     6.148599   \n",
       "\n",
       "   final.output.concentrate_pb  final.output.concentrate_sol  \\\n",
       "0                     9.889648                      5.507324   \n",
       "1                     9.968944                      5.257781   \n",
       "2                    10.213995                      5.383759   \n",
       "3                     9.977019                      4.858634   \n",
       "4                    10.142511                      4.939416   \n",
       "\n",
       "   final.output.concentrate_au  final.output.recovery  final.output.tail_ag  \\\n",
       "0                    42.192020              70.541216             10.411962   \n",
       "1                    42.701629              69.266198             10.462676   \n",
       "2                    42.657501              68.116445             10.507046   \n",
       "3                    42.689819              68.347543             10.422762   \n",
       "4                    42.774141              66.927016             10.360302   \n",
       "\n",
       "   final.output.tail_pb  final.output.tail_sol  final.output.tail_au  ...  \\\n",
       "0              0.895447              16.904297              2.143149  ...   \n",
       "1              0.927452              16.634514              2.224930  ...   \n",
       "2              0.953716              16.208849              2.257889  ...   \n",
       "3              0.883763              16.532835              2.146849  ...   \n",
       "4              0.792826              16.525686              2.055292  ...   \n",
       "\n",
       "   secondary_cleaner.state.floatbank4_a_air  \\\n",
       "0                                 14.016835   \n",
       "1                                 13.992281   \n",
       "2                                 14.015015   \n",
       "3                                 14.036510   \n",
       "4                                 14.027298   \n",
       "\n",
       "   secondary_cleaner.state.floatbank4_a_level  \\\n",
       "0                                 -502.488007   \n",
       "1                                 -505.503262   \n",
       "2                                 -502.520901   \n",
       "3                                 -500.857308   \n",
       "4                                 -499.838632   \n",
       "\n",
       "   secondary_cleaner.state.floatbank4_b_air  \\\n",
       "0                                 12.099931   \n",
       "1                                 11.950531   \n",
       "2                                 11.912783   \n",
       "3                                 11.999550   \n",
       "4                                 11.953070   \n",
       "\n",
       "   secondary_cleaner.state.floatbank4_b_level  \\\n",
       "0                                 -504.715942   \n",
       "1                                 -501.331529   \n",
       "2                                 -501.133383   \n",
       "3                                 -501.193686   \n",
       "4                                 -501.053894   \n",
       "\n",
       "   secondary_cleaner.state.floatbank5_a_air  \\\n",
       "0                                  9.925633   \n",
       "1                                 10.039245   \n",
       "2                                 10.070913   \n",
       "3                                  9.970366   \n",
       "4                                  9.925709   \n",
       "\n",
       "   secondary_cleaner.state.floatbank5_a_level  \\\n",
       "0                                 -498.310211   \n",
       "1                                 -500.169983   \n",
       "2                                 -500.129135   \n",
       "3                                 -499.201640   \n",
       "4                                 -501.686727   \n",
       "\n",
       "   secondary_cleaner.state.floatbank5_b_air  \\\n",
       "0                                  8.079666   \n",
       "1                                  7.984757   \n",
       "2                                  8.013877   \n",
       "3                                  7.977324   \n",
       "4                                  7.894242   \n",
       "\n",
       "   secondary_cleaner.state.floatbank5_b_level  \\\n",
       "0                                 -500.470978   \n",
       "1                                 -500.582168   \n",
       "2                                 -500.517572   \n",
       "3                                 -500.255908   \n",
       "4                                 -500.356035   \n",
       "\n",
       "   secondary_cleaner.state.floatbank6_a_air  \\\n",
       "0                                 14.151341   \n",
       "1                                 13.998353   \n",
       "2                                 14.028663   \n",
       "3                                 14.005551   \n",
       "4                                 13.996647   \n",
       "\n",
       "   secondary_cleaner.state.floatbank6_a_level  \n",
       "0                                 -605.841980  \n",
       "1                                 -599.787184  \n",
       "2                                 -601.427363  \n",
       "3                                 -599.996129  \n",
       "4                                 -601.496691  \n",
       "\n",
       "[5 rows x 87 columns]"
      ]
     },
     "execution_count": 3,
     "metadata": {},
     "output_type": "execute_result"
    }
   ],
   "source": [
    "basic_data.head()"
   ]
  },
  {
   "cell_type": "markdown",
   "metadata": {},
   "source": [
    "Итак, у нас 87 числовых колонок кроме  Даты, всего 19439  строк.  Пропуски есть в каждом столбце. Самое больше количество пропусков 17691 что  составляет практически 9% от общего количества объектов, это слишком много чтобы удалять, поэтому надо их заполнить. Как сказано в задании заполнить их можно предыдущими значениями, потому что соседние по времени параметры часто похожи.  \n",
    "\n",
    "Чтобы решить задачу нам нужно построить модель, которая умеет предсказывать два целевых признака:\n",
    "1) final.output.recovery  \n",
    "2) rougher.output.recovery  \n",
    "  \n",
    "Качество предсказаний будем оценивать по метрике sMAPE, которое показывает среднее отклонение прогноза в %.\n",
    "  \n",
    "Final и rougher это два этапа, первый - результат двух этапов очистки, второй - результат флотации. Соотвественно выборку нужно будет разделить, что бы данные флотации, повторно не попадали при прогнозировании результатов очистки.\n",
    "\n",
    "Таким образом при прогнозировании целевого признака rougher.output.recovery будем исползьовать все признаки процесса rouger, кроме параметров продуктa (output), поскольку они являются следствием процесса, и не имеют влияния на эффективность самого процесса.  \n",
    "\n",
    "Поскольку в очистку отправляется сырье после флотации, то для прогнозирования final.output.recovery будем использовать признаки процесса rouger.output(кроме первого целевого признака), все признаки secondary_cleaner и primary_cleaner кроме параметров продуктов secondary_cleaner.output. поскольку они как и в случае с флотацией являются следствием очистки, т.е. учитывать их при прогнозировании эффективности процесса не корректно.  \n",
    "\n",
    "Поскольку оба целевых признака числовые и спрогнозировать нам нужно именно число, то это задача регрессии. Поэтому  для каждого этапа искать модель будем исходя из трех регрессров: Дерева решений, Случайного леса и Линейной регрессии. Выберем лучший алгоритм, и узнаем качество модели с помощью метрики sMAPE и кросс валидации. В итоге чем ближе к 0 мы получим итоговый sMAPE  тем качественнее работает модель.\n",
    "\n",
    "Теперь посмотрим на размеры обучающей и тестовой выборки."
   ]
  },
  {
   "cell_type": "code",
   "execution_count": 4,
   "metadata": {},
   "outputs": [
    {
     "data": {
      "text/plain": [
       "((14149, 87), (5290, 53))"
      ]
     },
     "execution_count": 4,
     "metadata": {},
     "output_type": "execute_result"
    }
   ],
   "source": [
    "train_data.shape, test_data.shape"
   ]
  },
  {
   "cell_type": "markdown",
   "metadata": {},
   "source": [
    "Как мы видим, количество объектов в сумме совпадает с общей выборокой, а вот количество колнок в тестовой не хватает. Выведем на экран список колонок."
   ]
  },
  {
   "cell_type": "code",
   "execution_count": 5,
   "metadata": {},
   "outputs": [
    {
     "name": "stdout",
     "output_type": "stream",
     "text": [
      "<class 'pandas.core.frame.DataFrame'>\n",
      "RangeIndex: 5290 entries, 0 to 5289\n",
      "Data columns (total 53 columns):\n",
      " #   Column                                      Non-Null Count  Dtype  \n",
      "---  ------                                      --------------  -----  \n",
      " 0   date                                        5290 non-null   object \n",
      " 1   primary_cleaner.input.sulfate               5286 non-null   float64\n",
      " 2   primary_cleaner.input.depressant            5285 non-null   float64\n",
      " 3   primary_cleaner.input.feed_size             5290 non-null   float64\n",
      " 4   primary_cleaner.input.xanthate              5286 non-null   float64\n",
      " 5   primary_cleaner.state.floatbank8_a_air      5290 non-null   float64\n",
      " 6   primary_cleaner.state.floatbank8_a_level    5290 non-null   float64\n",
      " 7   primary_cleaner.state.floatbank8_b_air      5290 non-null   float64\n",
      " 8   primary_cleaner.state.floatbank8_b_level    5290 non-null   float64\n",
      " 9   primary_cleaner.state.floatbank8_c_air      5290 non-null   float64\n",
      " 10  primary_cleaner.state.floatbank8_c_level    5290 non-null   float64\n",
      " 11  primary_cleaner.state.floatbank8_d_air      5290 non-null   float64\n",
      " 12  primary_cleaner.state.floatbank8_d_level    5290 non-null   float64\n",
      " 13  rougher.input.feed_ag                       5290 non-null   float64\n",
      " 14  rougher.input.feed_pb                       5290 non-null   float64\n",
      " 15  rougher.input.feed_rate                     5287 non-null   float64\n",
      " 16  rougher.input.feed_size                     5289 non-null   float64\n",
      " 17  rougher.input.feed_sol                      5269 non-null   float64\n",
      " 18  rougher.input.feed_au                       5290 non-null   float64\n",
      " 19  rougher.input.floatbank10_sulfate           5285 non-null   float64\n",
      " 20  rougher.input.floatbank10_xanthate          5290 non-null   float64\n",
      " 21  rougher.input.floatbank11_sulfate           5282 non-null   float64\n",
      " 22  rougher.input.floatbank11_xanthate          5265 non-null   float64\n",
      " 23  rougher.state.floatbank10_a_air             5290 non-null   float64\n",
      " 24  rougher.state.floatbank10_a_level           5290 non-null   float64\n",
      " 25  rougher.state.floatbank10_b_air             5290 non-null   float64\n",
      " 26  rougher.state.floatbank10_b_level           5290 non-null   float64\n",
      " 27  rougher.state.floatbank10_c_air             5290 non-null   float64\n",
      " 28  rougher.state.floatbank10_c_level           5290 non-null   float64\n",
      " 29  rougher.state.floatbank10_d_air             5290 non-null   float64\n",
      " 30  rougher.state.floatbank10_d_level           5290 non-null   float64\n",
      " 31  rougher.state.floatbank10_e_air             5290 non-null   float64\n",
      " 32  rougher.state.floatbank10_e_level           5290 non-null   float64\n",
      " 33  rougher.state.floatbank10_f_air             5290 non-null   float64\n",
      " 34  rougher.state.floatbank10_f_level           5290 non-null   float64\n",
      " 35  secondary_cleaner.state.floatbank2_a_air    5287 non-null   float64\n",
      " 36  secondary_cleaner.state.floatbank2_a_level  5290 non-null   float64\n",
      " 37  secondary_cleaner.state.floatbank2_b_air    5288 non-null   float64\n",
      " 38  secondary_cleaner.state.floatbank2_b_level  5290 non-null   float64\n",
      " 39  secondary_cleaner.state.floatbank3_a_air    5281 non-null   float64\n",
      " 40  secondary_cleaner.state.floatbank3_a_level  5290 non-null   float64\n",
      " 41  secondary_cleaner.state.floatbank3_b_air    5290 non-null   float64\n",
      " 42  secondary_cleaner.state.floatbank3_b_level  5290 non-null   float64\n",
      " 43  secondary_cleaner.state.floatbank4_a_air    5290 non-null   float64\n",
      " 44  secondary_cleaner.state.floatbank4_a_level  5290 non-null   float64\n",
      " 45  secondary_cleaner.state.floatbank4_b_air    5290 non-null   float64\n",
      " 46  secondary_cleaner.state.floatbank4_b_level  5290 non-null   float64\n",
      " 47  secondary_cleaner.state.floatbank5_a_air    5290 non-null   float64\n",
      " 48  secondary_cleaner.state.floatbank5_a_level  5290 non-null   float64\n",
      " 49  secondary_cleaner.state.floatbank5_b_air    5290 non-null   float64\n",
      " 50  secondary_cleaner.state.floatbank5_b_level  5290 non-null   float64\n",
      " 51  secondary_cleaner.state.floatbank6_a_air    5290 non-null   float64\n",
      " 52  secondary_cleaner.state.floatbank6_a_level  5290 non-null   float64\n",
      "dtypes: float64(52), object(1)\n",
      "memory usage: 2.1+ MB\n"
     ]
    }
   ],
   "source": [
    "test_data.info()"
   ]
  },
  {
   "cell_type": "markdown",
   "metadata": {},
   "source": [
    "1) У нас не хватает признаков rougher.output в том числе целевого.  \n",
    "2) по перовй ступени очистки так же не хватает признаков output  \n",
    "3) по второй ступени у нас есть только данные с самого процесса   \n",
    "4) Так же в тестовой выборке присутствует назначительное количество пропусков\n",
    " \n",
    "В общем у нас полностью отсутствуют данные по результатам работы каждого этапа. Соответственно можно прийти к выводу, что Тестовая выборка содержит только заранее известные данные, или по сути - настройки производственной линии. Поэтому для корректности теста нужно убрать отсутствующие в тестовой выбороке из обучающей выборки.  \n",
    "\n",
    "Теперь посмотрим на информацию об обучающей выборке."
   ]
  },
  {
   "cell_type": "code",
   "execution_count": 6,
   "metadata": {},
   "outputs": [
    {
     "name": "stdout",
     "output_type": "stream",
     "text": [
      "<class 'pandas.core.frame.DataFrame'>\n",
      "RangeIndex: 14149 entries, 0 to 14148\n",
      "Data columns (total 87 columns):\n",
      " #   Column                                              Non-Null Count  Dtype  \n",
      "---  ------                                              --------------  -----  \n",
      " 0   date                                                14149 non-null  object \n",
      " 1   final.output.concentrate_ag                         14148 non-null  float64\n",
      " 2   final.output.concentrate_pb                         14148 non-null  float64\n",
      " 3   final.output.concentrate_sol                        13938 non-null  float64\n",
      " 4   final.output.concentrate_au                         14149 non-null  float64\n",
      " 5   final.output.recovery                               14149 non-null  float64\n",
      " 6   final.output.tail_ag                                14149 non-null  float64\n",
      " 7   final.output.tail_pb                                14049 non-null  float64\n",
      " 8   final.output.tail_sol                               14144 non-null  float64\n",
      " 9   final.output.tail_au                                14149 non-null  float64\n",
      " 10  primary_cleaner.input.sulfate                       14129 non-null  float64\n",
      " 11  primary_cleaner.input.depressant                    14117 non-null  float64\n",
      " 12  primary_cleaner.input.feed_size                     14149 non-null  float64\n",
      " 13  primary_cleaner.input.xanthate                      14049 non-null  float64\n",
      " 14  primary_cleaner.output.concentrate_ag               14149 non-null  float64\n",
      " 15  primary_cleaner.output.concentrate_pb               14063 non-null  float64\n",
      " 16  primary_cleaner.output.concentrate_sol              13863 non-null  float64\n",
      " 17  primary_cleaner.output.concentrate_au               14149 non-null  float64\n",
      " 18  primary_cleaner.output.tail_ag                      14148 non-null  float64\n",
      " 19  primary_cleaner.output.tail_pb                      14134 non-null  float64\n",
      " 20  primary_cleaner.output.tail_sol                     14103 non-null  float64\n",
      " 21  primary_cleaner.output.tail_au                      14149 non-null  float64\n",
      " 22  primary_cleaner.state.floatbank8_a_air              14145 non-null  float64\n",
      " 23  primary_cleaner.state.floatbank8_a_level            14148 non-null  float64\n",
      " 24  primary_cleaner.state.floatbank8_b_air              14145 non-null  float64\n",
      " 25  primary_cleaner.state.floatbank8_b_level            14148 non-null  float64\n",
      " 26  primary_cleaner.state.floatbank8_c_air              14147 non-null  float64\n",
      " 27  primary_cleaner.state.floatbank8_c_level            14148 non-null  float64\n",
      " 28  primary_cleaner.state.floatbank8_d_air              14146 non-null  float64\n",
      " 29  primary_cleaner.state.floatbank8_d_level            14148 non-null  float64\n",
      " 30  rougher.calculation.sulfate_to_au_concentrate       14148 non-null  float64\n",
      " 31  rougher.calculation.floatbank10_sulfate_to_au_feed  14148 non-null  float64\n",
      " 32  rougher.calculation.floatbank11_sulfate_to_au_feed  14148 non-null  float64\n",
      " 33  rougher.calculation.au_pb_ratio                     14149 non-null  float64\n",
      " 34  rougher.input.feed_ag                               14149 non-null  float64\n",
      " 35  rougher.input.feed_pb                               14049 non-null  float64\n",
      " 36  rougher.input.feed_rate                             14141 non-null  float64\n",
      " 37  rougher.input.feed_size                             14005 non-null  float64\n",
      " 38  rougher.input.feed_sol                              14071 non-null  float64\n",
      " 39  rougher.input.feed_au                               14149 non-null  float64\n",
      " 40  rougher.input.floatbank10_sulfate                   14120 non-null  float64\n",
      " 41  rougher.input.floatbank10_xanthate                  14141 non-null  float64\n",
      " 42  rougher.input.floatbank11_sulfate                   14113 non-null  float64\n",
      " 43  rougher.input.floatbank11_xanthate                  13721 non-null  float64\n",
      " 44  rougher.output.concentrate_ag                       14149 non-null  float64\n",
      " 45  rougher.output.concentrate_pb                       14149 non-null  float64\n",
      " 46  rougher.output.concentrate_sol                      14127 non-null  float64\n",
      " 47  rougher.output.concentrate_au                       14149 non-null  float64\n",
      " 48  rougher.output.recovery                             14149 non-null  float64\n",
      " 49  rougher.output.tail_ag                              14148 non-null  float64\n",
      " 50  rougher.output.tail_pb                              14149 non-null  float64\n",
      " 51  rougher.output.tail_sol                             14149 non-null  float64\n",
      " 52  rougher.output.tail_au                              14149 non-null  float64\n",
      " 53  rougher.state.floatbank10_a_air                     14148 non-null  float64\n",
      " 54  rougher.state.floatbank10_a_level                   14148 non-null  float64\n",
      " 55  rougher.state.floatbank10_b_air                     14148 non-null  float64\n",
      " 56  rougher.state.floatbank10_b_level                   14148 non-null  float64\n",
      " 57  rougher.state.floatbank10_c_air                     14148 non-null  float64\n",
      " 58  rougher.state.floatbank10_c_level                   14148 non-null  float64\n",
      " 59  rougher.state.floatbank10_d_air                     14149 non-null  float64\n",
      " 60  rougher.state.floatbank10_d_level                   14149 non-null  float64\n",
      " 61  rougher.state.floatbank10_e_air                     13713 non-null  float64\n",
      " 62  rougher.state.floatbank10_e_level                   14149 non-null  float64\n",
      " 63  rougher.state.floatbank10_f_air                     14149 non-null  float64\n",
      " 64  rougher.state.floatbank10_f_level                   14149 non-null  float64\n",
      " 65  secondary_cleaner.output.tail_ag                    14147 non-null  float64\n",
      " 66  secondary_cleaner.output.tail_pb                    14139 non-null  float64\n",
      " 67  secondary_cleaner.output.tail_sol                   12544 non-null  float64\n",
      " 68  secondary_cleaner.output.tail_au                    14149 non-null  float64\n",
      " 69  secondary_cleaner.state.floatbank2_a_air            13932 non-null  float64\n",
      " 70  secondary_cleaner.state.floatbank2_a_level          14148 non-null  float64\n",
      " 71  secondary_cleaner.state.floatbank2_b_air            14128 non-null  float64\n",
      " 72  secondary_cleaner.state.floatbank2_b_level          14148 non-null  float64\n",
      " 73  secondary_cleaner.state.floatbank3_a_air            14145 non-null  float64\n",
      " 74  secondary_cleaner.state.floatbank3_a_level          14148 non-null  float64\n",
      " 75  secondary_cleaner.state.floatbank3_b_air            14148 non-null  float64\n",
      " 76  secondary_cleaner.state.floatbank3_b_level          14148 non-null  float64\n",
      " 77  secondary_cleaner.state.floatbank4_a_air            14143 non-null  float64\n",
      " 78  secondary_cleaner.state.floatbank4_a_level          14148 non-null  float64\n",
      " 79  secondary_cleaner.state.floatbank4_b_air            14148 non-null  float64\n",
      " 80  secondary_cleaner.state.floatbank4_b_level          14148 non-null  float64\n",
      " 81  secondary_cleaner.state.floatbank5_a_air            14148 non-null  float64\n",
      " 82  secondary_cleaner.state.floatbank5_a_level          14148 non-null  float64\n",
      " 83  secondary_cleaner.state.floatbank5_b_air            14148 non-null  float64\n",
      " 84  secondary_cleaner.state.floatbank5_b_level          14148 non-null  float64\n",
      " 85  secondary_cleaner.state.floatbank6_a_air            14147 non-null  float64\n",
      " 86  secondary_cleaner.state.floatbank6_a_level          14148 non-null  float64\n",
      "dtypes: float64(86), object(1)\n",
      "memory usage: 9.4+ MB\n"
     ]
    }
   ],
   "source": [
    "train_data.info()"
   ]
  },
  {
   "cell_type": "markdown",
   "metadata": {},
   "source": [
    "Данные выглядят нормально, за исключением тех же пропусков, что вполне ожидаемо, поскольку выборк сделана из полной, в которой пропуски так же присутствуют. \n",
    "Выведем на экран первые 5 объектов всех трех выборок.:"
   ]
  },
  {
   "cell_type": "code",
   "execution_count": 7,
   "metadata": {},
   "outputs": [
    {
     "data": {
      "text/html": [
       "<div>\n",
       "<style scoped>\n",
       "    .dataframe tbody tr th:only-of-type {\n",
       "        vertical-align: middle;\n",
       "    }\n",
       "\n",
       "    .dataframe tbody tr th {\n",
       "        vertical-align: top;\n",
       "    }\n",
       "\n",
       "    .dataframe thead th {\n",
       "        text-align: right;\n",
       "    }\n",
       "</style>\n",
       "<table border=\"1\" class=\"dataframe\">\n",
       "  <thead>\n",
       "    <tr style=\"text-align: right;\">\n",
       "      <th></th>\n",
       "      <th>date</th>\n",
       "      <th>final.output.concentrate_ag</th>\n",
       "      <th>final.output.concentrate_pb</th>\n",
       "      <th>final.output.concentrate_sol</th>\n",
       "      <th>final.output.concentrate_au</th>\n",
       "      <th>final.output.recovery</th>\n",
       "      <th>final.output.tail_ag</th>\n",
       "      <th>final.output.tail_pb</th>\n",
       "      <th>final.output.tail_sol</th>\n",
       "      <th>final.output.tail_au</th>\n",
       "      <th>...</th>\n",
       "      <th>secondary_cleaner.state.floatbank4_a_air</th>\n",
       "      <th>secondary_cleaner.state.floatbank4_a_level</th>\n",
       "      <th>secondary_cleaner.state.floatbank4_b_air</th>\n",
       "      <th>secondary_cleaner.state.floatbank4_b_level</th>\n",
       "      <th>secondary_cleaner.state.floatbank5_a_air</th>\n",
       "      <th>secondary_cleaner.state.floatbank5_a_level</th>\n",
       "      <th>secondary_cleaner.state.floatbank5_b_air</th>\n",
       "      <th>secondary_cleaner.state.floatbank5_b_level</th>\n",
       "      <th>secondary_cleaner.state.floatbank6_a_air</th>\n",
       "      <th>secondary_cleaner.state.floatbank6_a_level</th>\n",
       "    </tr>\n",
       "  </thead>\n",
       "  <tbody>\n",
       "    <tr>\n",
       "      <th>0</th>\n",
       "      <td>2016-01-15 00:00:00</td>\n",
       "      <td>6.055403</td>\n",
       "      <td>9.889648</td>\n",
       "      <td>5.507324</td>\n",
       "      <td>42.192020</td>\n",
       "      <td>70.541216</td>\n",
       "      <td>10.411962</td>\n",
       "      <td>0.895447</td>\n",
       "      <td>16.904297</td>\n",
       "      <td>2.143149</td>\n",
       "      <td>...</td>\n",
       "      <td>14.016835</td>\n",
       "      <td>-502.488007</td>\n",
       "      <td>12.099931</td>\n",
       "      <td>-504.715942</td>\n",
       "      <td>9.925633</td>\n",
       "      <td>-498.310211</td>\n",
       "      <td>8.079666</td>\n",
       "      <td>-500.470978</td>\n",
       "      <td>14.151341</td>\n",
       "      <td>-605.841980</td>\n",
       "    </tr>\n",
       "    <tr>\n",
       "      <th>1</th>\n",
       "      <td>2016-01-15 01:00:00</td>\n",
       "      <td>6.029369</td>\n",
       "      <td>9.968944</td>\n",
       "      <td>5.257781</td>\n",
       "      <td>42.701629</td>\n",
       "      <td>69.266198</td>\n",
       "      <td>10.462676</td>\n",
       "      <td>0.927452</td>\n",
       "      <td>16.634514</td>\n",
       "      <td>2.224930</td>\n",
       "      <td>...</td>\n",
       "      <td>13.992281</td>\n",
       "      <td>-505.503262</td>\n",
       "      <td>11.950531</td>\n",
       "      <td>-501.331529</td>\n",
       "      <td>10.039245</td>\n",
       "      <td>-500.169983</td>\n",
       "      <td>7.984757</td>\n",
       "      <td>-500.582168</td>\n",
       "      <td>13.998353</td>\n",
       "      <td>-599.787184</td>\n",
       "    </tr>\n",
       "    <tr>\n",
       "      <th>2</th>\n",
       "      <td>2016-01-15 02:00:00</td>\n",
       "      <td>6.055926</td>\n",
       "      <td>10.213995</td>\n",
       "      <td>5.383759</td>\n",
       "      <td>42.657501</td>\n",
       "      <td>68.116445</td>\n",
       "      <td>10.507046</td>\n",
       "      <td>0.953716</td>\n",
       "      <td>16.208849</td>\n",
       "      <td>2.257889</td>\n",
       "      <td>...</td>\n",
       "      <td>14.015015</td>\n",
       "      <td>-502.520901</td>\n",
       "      <td>11.912783</td>\n",
       "      <td>-501.133383</td>\n",
       "      <td>10.070913</td>\n",
       "      <td>-500.129135</td>\n",
       "      <td>8.013877</td>\n",
       "      <td>-500.517572</td>\n",
       "      <td>14.028663</td>\n",
       "      <td>-601.427363</td>\n",
       "    </tr>\n",
       "    <tr>\n",
       "      <th>3</th>\n",
       "      <td>2016-01-15 03:00:00</td>\n",
       "      <td>6.047977</td>\n",
       "      <td>9.977019</td>\n",
       "      <td>4.858634</td>\n",
       "      <td>42.689819</td>\n",
       "      <td>68.347543</td>\n",
       "      <td>10.422762</td>\n",
       "      <td>0.883763</td>\n",
       "      <td>16.532835</td>\n",
       "      <td>2.146849</td>\n",
       "      <td>...</td>\n",
       "      <td>14.036510</td>\n",
       "      <td>-500.857308</td>\n",
       "      <td>11.999550</td>\n",
       "      <td>-501.193686</td>\n",
       "      <td>9.970366</td>\n",
       "      <td>-499.201640</td>\n",
       "      <td>7.977324</td>\n",
       "      <td>-500.255908</td>\n",
       "      <td>14.005551</td>\n",
       "      <td>-599.996129</td>\n",
       "    </tr>\n",
       "    <tr>\n",
       "      <th>4</th>\n",
       "      <td>2016-01-15 04:00:00</td>\n",
       "      <td>6.148599</td>\n",
       "      <td>10.142511</td>\n",
       "      <td>4.939416</td>\n",
       "      <td>42.774141</td>\n",
       "      <td>66.927016</td>\n",
       "      <td>10.360302</td>\n",
       "      <td>0.792826</td>\n",
       "      <td>16.525686</td>\n",
       "      <td>2.055292</td>\n",
       "      <td>...</td>\n",
       "      <td>14.027298</td>\n",
       "      <td>-499.838632</td>\n",
       "      <td>11.953070</td>\n",
       "      <td>-501.053894</td>\n",
       "      <td>9.925709</td>\n",
       "      <td>-501.686727</td>\n",
       "      <td>7.894242</td>\n",
       "      <td>-500.356035</td>\n",
       "      <td>13.996647</td>\n",
       "      <td>-601.496691</td>\n",
       "    </tr>\n",
       "  </tbody>\n",
       "</table>\n",
       "<p>5 rows × 87 columns</p>\n",
       "</div>"
      ],
      "text/plain": [
       "                  date  final.output.concentrate_ag  \\\n",
       "0  2016-01-15 00:00:00                     6.055403   \n",
       "1  2016-01-15 01:00:00                     6.029369   \n",
       "2  2016-01-15 02:00:00                     6.055926   \n",
       "3  2016-01-15 03:00:00                     6.047977   \n",
       "4  2016-01-15 04:00:00                     6.148599   \n",
       "\n",
       "   final.output.concentrate_pb  final.output.concentrate_sol  \\\n",
       "0                     9.889648                      5.507324   \n",
       "1                     9.968944                      5.257781   \n",
       "2                    10.213995                      5.383759   \n",
       "3                     9.977019                      4.858634   \n",
       "4                    10.142511                      4.939416   \n",
       "\n",
       "   final.output.concentrate_au  final.output.recovery  final.output.tail_ag  \\\n",
       "0                    42.192020              70.541216             10.411962   \n",
       "1                    42.701629              69.266198             10.462676   \n",
       "2                    42.657501              68.116445             10.507046   \n",
       "3                    42.689819              68.347543             10.422762   \n",
       "4                    42.774141              66.927016             10.360302   \n",
       "\n",
       "   final.output.tail_pb  final.output.tail_sol  final.output.tail_au  ...  \\\n",
       "0              0.895447              16.904297              2.143149  ...   \n",
       "1              0.927452              16.634514              2.224930  ...   \n",
       "2              0.953716              16.208849              2.257889  ...   \n",
       "3              0.883763              16.532835              2.146849  ...   \n",
       "4              0.792826              16.525686              2.055292  ...   \n",
       "\n",
       "   secondary_cleaner.state.floatbank4_a_air  \\\n",
       "0                                 14.016835   \n",
       "1                                 13.992281   \n",
       "2                                 14.015015   \n",
       "3                                 14.036510   \n",
       "4                                 14.027298   \n",
       "\n",
       "   secondary_cleaner.state.floatbank4_a_level  \\\n",
       "0                                 -502.488007   \n",
       "1                                 -505.503262   \n",
       "2                                 -502.520901   \n",
       "3                                 -500.857308   \n",
       "4                                 -499.838632   \n",
       "\n",
       "   secondary_cleaner.state.floatbank4_b_air  \\\n",
       "0                                 12.099931   \n",
       "1                                 11.950531   \n",
       "2                                 11.912783   \n",
       "3                                 11.999550   \n",
       "4                                 11.953070   \n",
       "\n",
       "   secondary_cleaner.state.floatbank4_b_level  \\\n",
       "0                                 -504.715942   \n",
       "1                                 -501.331529   \n",
       "2                                 -501.133383   \n",
       "3                                 -501.193686   \n",
       "4                                 -501.053894   \n",
       "\n",
       "   secondary_cleaner.state.floatbank5_a_air  \\\n",
       "0                                  9.925633   \n",
       "1                                 10.039245   \n",
       "2                                 10.070913   \n",
       "3                                  9.970366   \n",
       "4                                  9.925709   \n",
       "\n",
       "   secondary_cleaner.state.floatbank5_a_level  \\\n",
       "0                                 -498.310211   \n",
       "1                                 -500.169983   \n",
       "2                                 -500.129135   \n",
       "3                                 -499.201640   \n",
       "4                                 -501.686727   \n",
       "\n",
       "   secondary_cleaner.state.floatbank5_b_air  \\\n",
       "0                                  8.079666   \n",
       "1                                  7.984757   \n",
       "2                                  8.013877   \n",
       "3                                  7.977324   \n",
       "4                                  7.894242   \n",
       "\n",
       "   secondary_cleaner.state.floatbank5_b_level  \\\n",
       "0                                 -500.470978   \n",
       "1                                 -500.582168   \n",
       "2                                 -500.517572   \n",
       "3                                 -500.255908   \n",
       "4                                 -500.356035   \n",
       "\n",
       "   secondary_cleaner.state.floatbank6_a_air  \\\n",
       "0                                 14.151341   \n",
       "1                                 13.998353   \n",
       "2                                 14.028663   \n",
       "3                                 14.005551   \n",
       "4                                 13.996647   \n",
       "\n",
       "   secondary_cleaner.state.floatbank6_a_level  \n",
       "0                                 -605.841980  \n",
       "1                                 -599.787184  \n",
       "2                                 -601.427363  \n",
       "3                                 -599.996129  \n",
       "4                                 -601.496691  \n",
       "\n",
       "[5 rows x 87 columns]"
      ]
     },
     "metadata": {},
     "output_type": "display_data"
    },
    {
     "data": {
      "text/html": [
       "<div>\n",
       "<style scoped>\n",
       "    .dataframe tbody tr th:only-of-type {\n",
       "        vertical-align: middle;\n",
       "    }\n",
       "\n",
       "    .dataframe tbody tr th {\n",
       "        vertical-align: top;\n",
       "    }\n",
       "\n",
       "    .dataframe thead th {\n",
       "        text-align: right;\n",
       "    }\n",
       "</style>\n",
       "<table border=\"1\" class=\"dataframe\">\n",
       "  <thead>\n",
       "    <tr style=\"text-align: right;\">\n",
       "      <th></th>\n",
       "      <th>date</th>\n",
       "      <th>final.output.concentrate_ag</th>\n",
       "      <th>final.output.concentrate_pb</th>\n",
       "      <th>final.output.concentrate_sol</th>\n",
       "      <th>final.output.concentrate_au</th>\n",
       "      <th>final.output.recovery</th>\n",
       "      <th>final.output.tail_ag</th>\n",
       "      <th>final.output.tail_pb</th>\n",
       "      <th>final.output.tail_sol</th>\n",
       "      <th>final.output.tail_au</th>\n",
       "      <th>...</th>\n",
       "      <th>secondary_cleaner.state.floatbank4_a_air</th>\n",
       "      <th>secondary_cleaner.state.floatbank4_a_level</th>\n",
       "      <th>secondary_cleaner.state.floatbank4_b_air</th>\n",
       "      <th>secondary_cleaner.state.floatbank4_b_level</th>\n",
       "      <th>secondary_cleaner.state.floatbank5_a_air</th>\n",
       "      <th>secondary_cleaner.state.floatbank5_a_level</th>\n",
       "      <th>secondary_cleaner.state.floatbank5_b_air</th>\n",
       "      <th>secondary_cleaner.state.floatbank5_b_level</th>\n",
       "      <th>secondary_cleaner.state.floatbank6_a_air</th>\n",
       "      <th>secondary_cleaner.state.floatbank6_a_level</th>\n",
       "    </tr>\n",
       "  </thead>\n",
       "  <tbody>\n",
       "    <tr>\n",
       "      <th>0</th>\n",
       "      <td>2016-01-15 00:00:00</td>\n",
       "      <td>6.055403</td>\n",
       "      <td>9.889648</td>\n",
       "      <td>5.507324</td>\n",
       "      <td>42.192020</td>\n",
       "      <td>70.541216</td>\n",
       "      <td>10.411962</td>\n",
       "      <td>0.895447</td>\n",
       "      <td>16.904297</td>\n",
       "      <td>2.143149</td>\n",
       "      <td>...</td>\n",
       "      <td>14.016835</td>\n",
       "      <td>-502.488007</td>\n",
       "      <td>12.099931</td>\n",
       "      <td>-504.715942</td>\n",
       "      <td>9.925633</td>\n",
       "      <td>-498.310211</td>\n",
       "      <td>8.079666</td>\n",
       "      <td>-500.470978</td>\n",
       "      <td>14.151341</td>\n",
       "      <td>-605.841980</td>\n",
       "    </tr>\n",
       "    <tr>\n",
       "      <th>1</th>\n",
       "      <td>2016-01-15 01:00:00</td>\n",
       "      <td>6.029369</td>\n",
       "      <td>9.968944</td>\n",
       "      <td>5.257781</td>\n",
       "      <td>42.701629</td>\n",
       "      <td>69.266198</td>\n",
       "      <td>10.462676</td>\n",
       "      <td>0.927452</td>\n",
       "      <td>16.634514</td>\n",
       "      <td>2.224930</td>\n",
       "      <td>...</td>\n",
       "      <td>13.992281</td>\n",
       "      <td>-505.503262</td>\n",
       "      <td>11.950531</td>\n",
       "      <td>-501.331529</td>\n",
       "      <td>10.039245</td>\n",
       "      <td>-500.169983</td>\n",
       "      <td>7.984757</td>\n",
       "      <td>-500.582168</td>\n",
       "      <td>13.998353</td>\n",
       "      <td>-599.787184</td>\n",
       "    </tr>\n",
       "    <tr>\n",
       "      <th>2</th>\n",
       "      <td>2016-01-15 02:00:00</td>\n",
       "      <td>6.055926</td>\n",
       "      <td>10.213995</td>\n",
       "      <td>5.383759</td>\n",
       "      <td>42.657501</td>\n",
       "      <td>68.116445</td>\n",
       "      <td>10.507046</td>\n",
       "      <td>0.953716</td>\n",
       "      <td>16.208849</td>\n",
       "      <td>2.257889</td>\n",
       "      <td>...</td>\n",
       "      <td>14.015015</td>\n",
       "      <td>-502.520901</td>\n",
       "      <td>11.912783</td>\n",
       "      <td>-501.133383</td>\n",
       "      <td>10.070913</td>\n",
       "      <td>-500.129135</td>\n",
       "      <td>8.013877</td>\n",
       "      <td>-500.517572</td>\n",
       "      <td>14.028663</td>\n",
       "      <td>-601.427363</td>\n",
       "    </tr>\n",
       "    <tr>\n",
       "      <th>3</th>\n",
       "      <td>2016-01-15 03:00:00</td>\n",
       "      <td>6.047977</td>\n",
       "      <td>9.977019</td>\n",
       "      <td>4.858634</td>\n",
       "      <td>42.689819</td>\n",
       "      <td>68.347543</td>\n",
       "      <td>10.422762</td>\n",
       "      <td>0.883763</td>\n",
       "      <td>16.532835</td>\n",
       "      <td>2.146849</td>\n",
       "      <td>...</td>\n",
       "      <td>14.036510</td>\n",
       "      <td>-500.857308</td>\n",
       "      <td>11.999550</td>\n",
       "      <td>-501.193686</td>\n",
       "      <td>9.970366</td>\n",
       "      <td>-499.201640</td>\n",
       "      <td>7.977324</td>\n",
       "      <td>-500.255908</td>\n",
       "      <td>14.005551</td>\n",
       "      <td>-599.996129</td>\n",
       "    </tr>\n",
       "    <tr>\n",
       "      <th>4</th>\n",
       "      <td>2016-01-15 04:00:00</td>\n",
       "      <td>6.148599</td>\n",
       "      <td>10.142511</td>\n",
       "      <td>4.939416</td>\n",
       "      <td>42.774141</td>\n",
       "      <td>66.927016</td>\n",
       "      <td>10.360302</td>\n",
       "      <td>0.792826</td>\n",
       "      <td>16.525686</td>\n",
       "      <td>2.055292</td>\n",
       "      <td>...</td>\n",
       "      <td>14.027298</td>\n",
       "      <td>-499.838632</td>\n",
       "      <td>11.953070</td>\n",
       "      <td>-501.053894</td>\n",
       "      <td>9.925709</td>\n",
       "      <td>-501.686727</td>\n",
       "      <td>7.894242</td>\n",
       "      <td>-500.356035</td>\n",
       "      <td>13.996647</td>\n",
       "      <td>-601.496691</td>\n",
       "    </tr>\n",
       "  </tbody>\n",
       "</table>\n",
       "<p>5 rows × 87 columns</p>\n",
       "</div>"
      ],
      "text/plain": [
       "                  date  final.output.concentrate_ag  \\\n",
       "0  2016-01-15 00:00:00                     6.055403   \n",
       "1  2016-01-15 01:00:00                     6.029369   \n",
       "2  2016-01-15 02:00:00                     6.055926   \n",
       "3  2016-01-15 03:00:00                     6.047977   \n",
       "4  2016-01-15 04:00:00                     6.148599   \n",
       "\n",
       "   final.output.concentrate_pb  final.output.concentrate_sol  \\\n",
       "0                     9.889648                      5.507324   \n",
       "1                     9.968944                      5.257781   \n",
       "2                    10.213995                      5.383759   \n",
       "3                     9.977019                      4.858634   \n",
       "4                    10.142511                      4.939416   \n",
       "\n",
       "   final.output.concentrate_au  final.output.recovery  final.output.tail_ag  \\\n",
       "0                    42.192020              70.541216             10.411962   \n",
       "1                    42.701629              69.266198             10.462676   \n",
       "2                    42.657501              68.116445             10.507046   \n",
       "3                    42.689819              68.347543             10.422762   \n",
       "4                    42.774141              66.927016             10.360302   \n",
       "\n",
       "   final.output.tail_pb  final.output.tail_sol  final.output.tail_au  ...  \\\n",
       "0              0.895447              16.904297              2.143149  ...   \n",
       "1              0.927452              16.634514              2.224930  ...   \n",
       "2              0.953716              16.208849              2.257889  ...   \n",
       "3              0.883763              16.532835              2.146849  ...   \n",
       "4              0.792826              16.525686              2.055292  ...   \n",
       "\n",
       "   secondary_cleaner.state.floatbank4_a_air  \\\n",
       "0                                 14.016835   \n",
       "1                                 13.992281   \n",
       "2                                 14.015015   \n",
       "3                                 14.036510   \n",
       "4                                 14.027298   \n",
       "\n",
       "   secondary_cleaner.state.floatbank4_a_level  \\\n",
       "0                                 -502.488007   \n",
       "1                                 -505.503262   \n",
       "2                                 -502.520901   \n",
       "3                                 -500.857308   \n",
       "4                                 -499.838632   \n",
       "\n",
       "   secondary_cleaner.state.floatbank4_b_air  \\\n",
       "0                                 12.099931   \n",
       "1                                 11.950531   \n",
       "2                                 11.912783   \n",
       "3                                 11.999550   \n",
       "4                                 11.953070   \n",
       "\n",
       "   secondary_cleaner.state.floatbank4_b_level  \\\n",
       "0                                 -504.715942   \n",
       "1                                 -501.331529   \n",
       "2                                 -501.133383   \n",
       "3                                 -501.193686   \n",
       "4                                 -501.053894   \n",
       "\n",
       "   secondary_cleaner.state.floatbank5_a_air  \\\n",
       "0                                  9.925633   \n",
       "1                                 10.039245   \n",
       "2                                 10.070913   \n",
       "3                                  9.970366   \n",
       "4                                  9.925709   \n",
       "\n",
       "   secondary_cleaner.state.floatbank5_a_level  \\\n",
       "0                                 -498.310211   \n",
       "1                                 -500.169983   \n",
       "2                                 -500.129135   \n",
       "3                                 -499.201640   \n",
       "4                                 -501.686727   \n",
       "\n",
       "   secondary_cleaner.state.floatbank5_b_air  \\\n",
       "0                                  8.079666   \n",
       "1                                  7.984757   \n",
       "2                                  8.013877   \n",
       "3                                  7.977324   \n",
       "4                                  7.894242   \n",
       "\n",
       "   secondary_cleaner.state.floatbank5_b_level  \\\n",
       "0                                 -500.470978   \n",
       "1                                 -500.582168   \n",
       "2                                 -500.517572   \n",
       "3                                 -500.255908   \n",
       "4                                 -500.356035   \n",
       "\n",
       "   secondary_cleaner.state.floatbank6_a_air  \\\n",
       "0                                 14.151341   \n",
       "1                                 13.998353   \n",
       "2                                 14.028663   \n",
       "3                                 14.005551   \n",
       "4                                 13.996647   \n",
       "\n",
       "   secondary_cleaner.state.floatbank6_a_level  \n",
       "0                                 -605.841980  \n",
       "1                                 -599.787184  \n",
       "2                                 -601.427363  \n",
       "3                                 -599.996129  \n",
       "4                                 -601.496691  \n",
       "\n",
       "[5 rows x 87 columns]"
      ]
     },
     "metadata": {},
     "output_type": "display_data"
    },
    {
     "data": {
      "text/html": [
       "<div>\n",
       "<style scoped>\n",
       "    .dataframe tbody tr th:only-of-type {\n",
       "        vertical-align: middle;\n",
       "    }\n",
       "\n",
       "    .dataframe tbody tr th {\n",
       "        vertical-align: top;\n",
       "    }\n",
       "\n",
       "    .dataframe thead th {\n",
       "        text-align: right;\n",
       "    }\n",
       "</style>\n",
       "<table border=\"1\" class=\"dataframe\">\n",
       "  <thead>\n",
       "    <tr style=\"text-align: right;\">\n",
       "      <th></th>\n",
       "      <th>date</th>\n",
       "      <th>primary_cleaner.input.sulfate</th>\n",
       "      <th>primary_cleaner.input.depressant</th>\n",
       "      <th>primary_cleaner.input.feed_size</th>\n",
       "      <th>primary_cleaner.input.xanthate</th>\n",
       "      <th>primary_cleaner.state.floatbank8_a_air</th>\n",
       "      <th>primary_cleaner.state.floatbank8_a_level</th>\n",
       "      <th>primary_cleaner.state.floatbank8_b_air</th>\n",
       "      <th>primary_cleaner.state.floatbank8_b_level</th>\n",
       "      <th>primary_cleaner.state.floatbank8_c_air</th>\n",
       "      <th>...</th>\n",
       "      <th>secondary_cleaner.state.floatbank4_a_air</th>\n",
       "      <th>secondary_cleaner.state.floatbank4_a_level</th>\n",
       "      <th>secondary_cleaner.state.floatbank4_b_air</th>\n",
       "      <th>secondary_cleaner.state.floatbank4_b_level</th>\n",
       "      <th>secondary_cleaner.state.floatbank5_a_air</th>\n",
       "      <th>secondary_cleaner.state.floatbank5_a_level</th>\n",
       "      <th>secondary_cleaner.state.floatbank5_b_air</th>\n",
       "      <th>secondary_cleaner.state.floatbank5_b_level</th>\n",
       "      <th>secondary_cleaner.state.floatbank6_a_air</th>\n",
       "      <th>secondary_cleaner.state.floatbank6_a_level</th>\n",
       "    </tr>\n",
       "  </thead>\n",
       "  <tbody>\n",
       "    <tr>\n",
       "      <th>0</th>\n",
       "      <td>2016-09-01 00:59:59</td>\n",
       "      <td>210.800909</td>\n",
       "      <td>14.993118</td>\n",
       "      <td>8.080000</td>\n",
       "      <td>1.005021</td>\n",
       "      <td>1398.981301</td>\n",
       "      <td>-500.225577</td>\n",
       "      <td>1399.144926</td>\n",
       "      <td>-499.919735</td>\n",
       "      <td>1400.102998</td>\n",
       "      <td>...</td>\n",
       "      <td>12.023554</td>\n",
       "      <td>-497.795834</td>\n",
       "      <td>8.016656</td>\n",
       "      <td>-501.289139</td>\n",
       "      <td>7.946562</td>\n",
       "      <td>-432.317850</td>\n",
       "      <td>4.872511</td>\n",
       "      <td>-500.037437</td>\n",
       "      <td>26.705889</td>\n",
       "      <td>-499.709414</td>\n",
       "    </tr>\n",
       "    <tr>\n",
       "      <th>1</th>\n",
       "      <td>2016-09-01 01:59:59</td>\n",
       "      <td>215.392455</td>\n",
       "      <td>14.987471</td>\n",
       "      <td>8.080000</td>\n",
       "      <td>0.990469</td>\n",
       "      <td>1398.777912</td>\n",
       "      <td>-500.057435</td>\n",
       "      <td>1398.055362</td>\n",
       "      <td>-499.778182</td>\n",
       "      <td>1396.151033</td>\n",
       "      <td>...</td>\n",
       "      <td>12.058140</td>\n",
       "      <td>-498.695773</td>\n",
       "      <td>8.130979</td>\n",
       "      <td>-499.634209</td>\n",
       "      <td>7.958270</td>\n",
       "      <td>-525.839648</td>\n",
       "      <td>4.878850</td>\n",
       "      <td>-500.162375</td>\n",
       "      <td>25.019940</td>\n",
       "      <td>-499.819438</td>\n",
       "    </tr>\n",
       "    <tr>\n",
       "      <th>2</th>\n",
       "      <td>2016-09-01 02:59:59</td>\n",
       "      <td>215.259946</td>\n",
       "      <td>12.884934</td>\n",
       "      <td>7.786667</td>\n",
       "      <td>0.996043</td>\n",
       "      <td>1398.493666</td>\n",
       "      <td>-500.868360</td>\n",
       "      <td>1398.860436</td>\n",
       "      <td>-499.764529</td>\n",
       "      <td>1398.075709</td>\n",
       "      <td>...</td>\n",
       "      <td>11.962366</td>\n",
       "      <td>-498.767484</td>\n",
       "      <td>8.096893</td>\n",
       "      <td>-500.827423</td>\n",
       "      <td>8.071056</td>\n",
       "      <td>-500.801673</td>\n",
       "      <td>4.905125</td>\n",
       "      <td>-499.828510</td>\n",
       "      <td>24.994862</td>\n",
       "      <td>-500.622559</td>\n",
       "    </tr>\n",
       "    <tr>\n",
       "      <th>3</th>\n",
       "      <td>2016-09-01 03:59:59</td>\n",
       "      <td>215.336236</td>\n",
       "      <td>12.006805</td>\n",
       "      <td>7.640000</td>\n",
       "      <td>0.863514</td>\n",
       "      <td>1399.618111</td>\n",
       "      <td>-498.863574</td>\n",
       "      <td>1397.440120</td>\n",
       "      <td>-499.211024</td>\n",
       "      <td>1400.129303</td>\n",
       "      <td>...</td>\n",
       "      <td>12.033091</td>\n",
       "      <td>-498.350935</td>\n",
       "      <td>8.074946</td>\n",
       "      <td>-499.474407</td>\n",
       "      <td>7.897085</td>\n",
       "      <td>-500.868509</td>\n",
       "      <td>4.931400</td>\n",
       "      <td>-499.963623</td>\n",
       "      <td>24.948919</td>\n",
       "      <td>-498.709987</td>\n",
       "    </tr>\n",
       "    <tr>\n",
       "      <th>4</th>\n",
       "      <td>2016-09-01 04:59:59</td>\n",
       "      <td>199.099327</td>\n",
       "      <td>10.682530</td>\n",
       "      <td>7.530000</td>\n",
       "      <td>0.805575</td>\n",
       "      <td>1401.268123</td>\n",
       "      <td>-500.808305</td>\n",
       "      <td>1398.128818</td>\n",
       "      <td>-499.504543</td>\n",
       "      <td>1402.172226</td>\n",
       "      <td>...</td>\n",
       "      <td>12.025367</td>\n",
       "      <td>-500.786497</td>\n",
       "      <td>8.054678</td>\n",
       "      <td>-500.397500</td>\n",
       "      <td>8.107890</td>\n",
       "      <td>-509.526725</td>\n",
       "      <td>4.957674</td>\n",
       "      <td>-500.360026</td>\n",
       "      <td>25.003331</td>\n",
       "      <td>-500.856333</td>\n",
       "    </tr>\n",
       "  </tbody>\n",
       "</table>\n",
       "<p>5 rows × 53 columns</p>\n",
       "</div>"
      ],
      "text/plain": [
       "                  date  primary_cleaner.input.sulfate  \\\n",
       "0  2016-09-01 00:59:59                     210.800909   \n",
       "1  2016-09-01 01:59:59                     215.392455   \n",
       "2  2016-09-01 02:59:59                     215.259946   \n",
       "3  2016-09-01 03:59:59                     215.336236   \n",
       "4  2016-09-01 04:59:59                     199.099327   \n",
       "\n",
       "   primary_cleaner.input.depressant  primary_cleaner.input.feed_size  \\\n",
       "0                         14.993118                         8.080000   \n",
       "1                         14.987471                         8.080000   \n",
       "2                         12.884934                         7.786667   \n",
       "3                         12.006805                         7.640000   \n",
       "4                         10.682530                         7.530000   \n",
       "\n",
       "   primary_cleaner.input.xanthate  primary_cleaner.state.floatbank8_a_air  \\\n",
       "0                        1.005021                             1398.981301   \n",
       "1                        0.990469                             1398.777912   \n",
       "2                        0.996043                             1398.493666   \n",
       "3                        0.863514                             1399.618111   \n",
       "4                        0.805575                             1401.268123   \n",
       "\n",
       "   primary_cleaner.state.floatbank8_a_level  \\\n",
       "0                               -500.225577   \n",
       "1                               -500.057435   \n",
       "2                               -500.868360   \n",
       "3                               -498.863574   \n",
       "4                               -500.808305   \n",
       "\n",
       "   primary_cleaner.state.floatbank8_b_air  \\\n",
       "0                             1399.144926   \n",
       "1                             1398.055362   \n",
       "2                             1398.860436   \n",
       "3                             1397.440120   \n",
       "4                             1398.128818   \n",
       "\n",
       "   primary_cleaner.state.floatbank8_b_level  \\\n",
       "0                               -499.919735   \n",
       "1                               -499.778182   \n",
       "2                               -499.764529   \n",
       "3                               -499.211024   \n",
       "4                               -499.504543   \n",
       "\n",
       "   primary_cleaner.state.floatbank8_c_air  ...  \\\n",
       "0                             1400.102998  ...   \n",
       "1                             1396.151033  ...   \n",
       "2                             1398.075709  ...   \n",
       "3                             1400.129303  ...   \n",
       "4                             1402.172226  ...   \n",
       "\n",
       "   secondary_cleaner.state.floatbank4_a_air  \\\n",
       "0                                 12.023554   \n",
       "1                                 12.058140   \n",
       "2                                 11.962366   \n",
       "3                                 12.033091   \n",
       "4                                 12.025367   \n",
       "\n",
       "   secondary_cleaner.state.floatbank4_a_level  \\\n",
       "0                                 -497.795834   \n",
       "1                                 -498.695773   \n",
       "2                                 -498.767484   \n",
       "3                                 -498.350935   \n",
       "4                                 -500.786497   \n",
       "\n",
       "   secondary_cleaner.state.floatbank4_b_air  \\\n",
       "0                                  8.016656   \n",
       "1                                  8.130979   \n",
       "2                                  8.096893   \n",
       "3                                  8.074946   \n",
       "4                                  8.054678   \n",
       "\n",
       "   secondary_cleaner.state.floatbank4_b_level  \\\n",
       "0                                 -501.289139   \n",
       "1                                 -499.634209   \n",
       "2                                 -500.827423   \n",
       "3                                 -499.474407   \n",
       "4                                 -500.397500   \n",
       "\n",
       "   secondary_cleaner.state.floatbank5_a_air  \\\n",
       "0                                  7.946562   \n",
       "1                                  7.958270   \n",
       "2                                  8.071056   \n",
       "3                                  7.897085   \n",
       "4                                  8.107890   \n",
       "\n",
       "   secondary_cleaner.state.floatbank5_a_level  \\\n",
       "0                                 -432.317850   \n",
       "1                                 -525.839648   \n",
       "2                                 -500.801673   \n",
       "3                                 -500.868509   \n",
       "4                                 -509.526725   \n",
       "\n",
       "   secondary_cleaner.state.floatbank5_b_air  \\\n",
       "0                                  4.872511   \n",
       "1                                  4.878850   \n",
       "2                                  4.905125   \n",
       "3                                  4.931400   \n",
       "4                                  4.957674   \n",
       "\n",
       "   secondary_cleaner.state.floatbank5_b_level  \\\n",
       "0                                 -500.037437   \n",
       "1                                 -500.162375   \n",
       "2                                 -499.828510   \n",
       "3                                 -499.963623   \n",
       "4                                 -500.360026   \n",
       "\n",
       "   secondary_cleaner.state.floatbank6_a_air  \\\n",
       "0                                 26.705889   \n",
       "1                                 25.019940   \n",
       "2                                 24.994862   \n",
       "3                                 24.948919   \n",
       "4                                 25.003331   \n",
       "\n",
       "   secondary_cleaner.state.floatbank6_a_level  \n",
       "0                                 -499.709414  \n",
       "1                                 -499.819438  \n",
       "2                                 -500.622559  \n",
       "3                                 -498.709987  \n",
       "4                                 -500.856333  \n",
       "\n",
       "[5 rows x 53 columns]"
      ]
     },
     "metadata": {},
     "output_type": "display_data"
    }
   ],
   "source": [
    "display(basic_data.head())\n",
    "display(train_data.head())\n",
    "display(test_data.head())"
   ]
  },
  {
   "cell_type": "markdown",
   "metadata": {},
   "source": [
    "Можно заметить, что колонка с датой фиксирует какой-то временной момент для объекта, возможно дату его появления в системе. В любом случае проверим их на уникальность, и если она подтвердится, то можем использовать ее в качестве индексов для добавления в тестовую выборку необходимых признаков."
   ]
  },
  {
   "cell_type": "code",
   "execution_count": 8,
   "metadata": {},
   "outputs": [
    {
     "name": "stdout",
     "output_type": "stream",
     "text": [
      "19439 (19439, 87)\n",
      "14149 (14149, 87)\n",
      "5290 (5290, 53)\n"
     ]
    }
   ],
   "source": [
    "print(len(basic_data['date'].unique()),basic_data.shape)\n",
    "print(len(train_data['date'].unique()),train_data.shape)\n",
    "print(len(test_data['date'].unique()),test_data.shape)"
   ]
  },
  {
   "cell_type": "markdown",
   "metadata": {},
   "source": [
    "Как видим количество уникальных значений Date совпадает с количеством объектов. Поэтому используем эту колонку для подтягивания в тестовую выборку необходимых данных из общей.\n",
    "### **Итоги**  \n",
    "  \n",
    "Что необходимо сделать в предобработке:\n",
    "1) Проверить, что эффективность обогащения рассчитана правильно. Вычислим её на обучающей выборке для признака rougher.output.recovery. Найдем MAE между вашими расчётами и значением признака. Сделаем выводы.  \n",
    "2) Удалить из обучающей выборки признаки, которых нет в тестовой выборке.  \n",
    "3) Заполним пропуски в обучающей и тестовой выборки значениями предыдущих объектов."
   ]
  },
  {
   "cell_type": "markdown",
   "metadata": {},
   "source": [
    "## Подготовка данных"
   ]
  },
  {
   "cell_type": "markdown",
   "metadata": {},
   "source": [
    "### Проверка правильности расчета эффективности обогащения.\n",
    "Проверим, что эффективность обогащения рассчитана правильно. Вычислим её на обучающей выборке для признака rougher.output.recovery. Найдем MAE между нашими расчётами и значением признака.\n",
    "\n",
    "Для этого создаим доп колонку rougher.output.recovery.test  и рассчитаем в ней коэффициент восстановления вручную. Рассчитаем их MAE\n"
   ]
  },
  {
   "cell_type": "code",
   "execution_count": 9,
   "metadata": {},
   "outputs": [
    {
     "name": "stdout",
     "output_type": "stream",
     "text": [
      "Cреднее абсолютное отклонение коэффициента восстановления от рассчетного 9.73512347450521e-15\n",
      "Cреднее значение фактического коэффициента восстановления 82.70450164550293\n"
     ]
    }
   ],
   "source": [
    "def recovery(data):\n",
    "    # Вручную считаем коэффицеиент восстановления\n",
    "    data['rougher.output.recovery.test'] =(\n",
    "            (data['rougher.output.concentrate_au'] * (data['rougher.input.feed_au'] - data['rougher.output.tail_au'])) /\n",
    "        (data['rougher.input.feed_au'] * (data['rougher.output.concentrate_au'] - data['rougher.output.tail_au'])) *100\n",
    "        )\n",
    "    # Считаем среднее абсолютное отклонение между факт. цифрами и рассчетными.\n",
    "    mae_recovery = mean_absolute_error(data['rougher.output.recovery'], data['rougher.output.recovery.test'])\n",
    "    return mae_recovery\n",
    "    \n",
    "mae_recovery = recovery(train_data)\n",
    "print('Cреднее абсолютное отклонение коэффициента восстановления от рассчетного', mae_recovery)\n",
    "print('Cреднее значение фактического коэффициента восстановления', train_data['rougher.output.recovery'].mean())\n",
    "\n",
    "# Удаляем колонку rougher.output.recovery.test, поскольку дальше она нам не нужна\n",
    "train_data = train_data.drop('rougher.output.recovery.test',axis=1) "
   ]
  },
  {
   "cell_type": "markdown",
   "metadata": {},
   "source": [
    "MAE между фактическим коэффициентом восстановления золота и рассчетным составило меньше 0.000 000 000 000 009, при среднем значении 82.7. Т.е очень низкое. Можем считать что фактические данные верны, характеристика рассчитана корректно."
   ]
  },
  {
   "cell_type": "markdown",
   "metadata": {},
   "source": [
    "### Добавление признаков в тестовую выборку\n",
    "Для удаления признаков в из обучающей выборки"
   ]
  },
  {
   "cell_type": "code",
   "execution_count": 10,
   "metadata": {},
   "outputs": [
    {
     "data": {
      "text/html": [
       "<div>\n",
       "<style scoped>\n",
       "    .dataframe tbody tr th:only-of-type {\n",
       "        vertical-align: middle;\n",
       "    }\n",
       "\n",
       "    .dataframe tbody tr th {\n",
       "        vertical-align: top;\n",
       "    }\n",
       "\n",
       "    .dataframe thead th {\n",
       "        text-align: right;\n",
       "    }\n",
       "</style>\n",
       "<table border=\"1\" class=\"dataframe\">\n",
       "  <thead>\n",
       "    <tr style=\"text-align: right;\">\n",
       "      <th></th>\n",
       "      <th>final.output.recovery</th>\n",
       "      <th>rougher.output.recovery</th>\n",
       "    </tr>\n",
       "  </thead>\n",
       "  <tbody>\n",
       "    <tr>\n",
       "      <th>0</th>\n",
       "      <td>70.273583</td>\n",
       "      <td>89.993421</td>\n",
       "    </tr>\n",
       "    <tr>\n",
       "      <th>1</th>\n",
       "      <td>68.910432</td>\n",
       "      <td>88.089657</td>\n",
       "    </tr>\n",
       "    <tr>\n",
       "      <th>2</th>\n",
       "      <td>68.143213</td>\n",
       "      <td>88.412756</td>\n",
       "    </tr>\n",
       "    <tr>\n",
       "      <th>3</th>\n",
       "      <td>67.776393</td>\n",
       "      <td>87.360133</td>\n",
       "    </tr>\n",
       "    <tr>\n",
       "      <th>4</th>\n",
       "      <td>61.467078</td>\n",
       "      <td>83.236367</td>\n",
       "    </tr>\n",
       "  </tbody>\n",
       "</table>\n",
       "</div>"
      ],
      "text/plain": [
       "   final.output.recovery  rougher.output.recovery\n",
       "0              70.273583                89.993421\n",
       "1              68.910432                88.089657\n",
       "2              68.143213                88.412756\n",
       "3              67.776393                87.360133\n",
       "4              61.467078                83.236367"
      ]
     },
     "metadata": {},
     "output_type": "display_data"
    },
    {
     "data": {
      "text/plain": [
       "(14149, 87)"
      ]
     },
     "metadata": {},
     "output_type": "display_data"
    },
    {
     "data": {
      "text/plain": [
       "0    127.092003\n",
       "1    125.629232\n",
       "2    123.819808\n",
       "3    122.270188\n",
       "4    117.988169\n",
       "Name: primary_cleaner.input.sulfate, dtype: float64"
      ]
     },
     "metadata": {},
     "output_type": "display_data"
    },
    {
     "data": {
      "text/plain": [
       "(14149, 55)"
      ]
     },
     "metadata": {},
     "output_type": "display_data"
    },
    {
     "data": {
      "text/plain": [
       "0    127.092003\n",
       "1    125.629232\n",
       "2    123.819808\n",
       "3    122.270188\n",
       "4    117.988169\n",
       "Name: primary_cleaner.input.sulfate, dtype: float64"
      ]
     },
     "metadata": {},
     "output_type": "display_data"
    }
   ],
   "source": [
    "# Делаем колонку date индексами в общей и тестовой выборке\n",
    "basic_data.index = basic_data['date']\n",
    "test_data.index = test_data['date']\n",
    "\n",
    "# сохраняем в test_data целевые признакаи из basic_data c индексами test_data \n",
    "test_data[['final.output.recovery','rougher.output.recovery']] = basic_data.loc[test_data.index,['final.output.recovery','rougher.output.recovery']]\n",
    "\n",
    "# возвращаем индексы в исходное состояние.\n",
    "test_data = test_data.reset_index(drop=True)\n",
    "basic_data = basic_data.reset_index(drop=True)\n",
    "\n",
    "# проверяем работу кода\n",
    "display(test_data[['final.output.recovery','rougher.output.recovery']].head())\n",
    "\n",
    "\n",
    "\n",
    "\n",
    "# Тест До\n",
    "display(train_data.shape, train_data['primary_cleaner.input.sulfate'].head())\n",
    "\n",
    "# Находим разницу в колонках и удаляем лишние из обучающей выборки\n",
    "col_to_delete = train_data.columns.difference(test_data.columns)\n",
    "train_data = train_data.drop(col_to_delete, axis=1)\n",
    "\n",
    "# Тест После\n",
    "display(train_data.shape, train_data['primary_cleaner.input.sulfate'].head())\n"
   ]
  },
  {
   "cell_type": "markdown",
   "metadata": {},
   "source": [
    " Обучающая выборка приведена в соответствие к тестовой, в тестовую добавлены целевые признаки."
   ]
  },
  {
   "cell_type": "markdown",
   "metadata": {},
   "source": [
    "###  Заполним пропуски в тестовой и обучающей выборках\n",
    "Как сказано ранее, пропуски заполняем предыдущими значениями, т.к. по условию задачи схожие по времени объекты имеют близкие по значению характеристики."
   ]
  },
  {
   "cell_type": "code",
   "execution_count": 11,
   "metadata": {},
   "outputs": [
    {
     "name": "stdout",
     "output_type": "stream",
     "text": [
      "<class 'pandas.core.frame.DataFrame'>\n",
      "RangeIndex: 14149 entries, 0 to 14148\n",
      "Data columns (total 55 columns):\n",
      " #   Column                                      Non-Null Count  Dtype  \n",
      "---  ------                                      --------------  -----  \n",
      " 0   date                                        14149 non-null  object \n",
      " 1   final.output.recovery                       14149 non-null  float64\n",
      " 2   primary_cleaner.input.sulfate               14149 non-null  float64\n",
      " 3   primary_cleaner.input.depressant            14149 non-null  float64\n",
      " 4   primary_cleaner.input.feed_size             14149 non-null  float64\n",
      " 5   primary_cleaner.input.xanthate              14149 non-null  float64\n",
      " 6   primary_cleaner.state.floatbank8_a_air      14149 non-null  float64\n",
      " 7   primary_cleaner.state.floatbank8_a_level    14149 non-null  float64\n",
      " 8   primary_cleaner.state.floatbank8_b_air      14149 non-null  float64\n",
      " 9   primary_cleaner.state.floatbank8_b_level    14149 non-null  float64\n",
      " 10  primary_cleaner.state.floatbank8_c_air      14149 non-null  float64\n",
      " 11  primary_cleaner.state.floatbank8_c_level    14149 non-null  float64\n",
      " 12  primary_cleaner.state.floatbank8_d_air      14149 non-null  float64\n",
      " 13  primary_cleaner.state.floatbank8_d_level    14149 non-null  float64\n",
      " 14  rougher.input.feed_ag                       14149 non-null  float64\n",
      " 15  rougher.input.feed_pb                       14149 non-null  float64\n",
      " 16  rougher.input.feed_rate                     14149 non-null  float64\n",
      " 17  rougher.input.feed_size                     14149 non-null  float64\n",
      " 18  rougher.input.feed_sol                      14149 non-null  float64\n",
      " 19  rougher.input.feed_au                       14149 non-null  float64\n",
      " 20  rougher.input.floatbank10_sulfate           14149 non-null  float64\n",
      " 21  rougher.input.floatbank10_xanthate          14149 non-null  float64\n",
      " 22  rougher.input.floatbank11_sulfate           14149 non-null  float64\n",
      " 23  rougher.input.floatbank11_xanthate          14149 non-null  float64\n",
      " 24  rougher.output.recovery                     14149 non-null  float64\n",
      " 25  rougher.state.floatbank10_a_air             14149 non-null  float64\n",
      " 26  rougher.state.floatbank10_a_level           14149 non-null  float64\n",
      " 27  rougher.state.floatbank10_b_air             14149 non-null  float64\n",
      " 28  rougher.state.floatbank10_b_level           14149 non-null  float64\n",
      " 29  rougher.state.floatbank10_c_air             14149 non-null  float64\n",
      " 30  rougher.state.floatbank10_c_level           14149 non-null  float64\n",
      " 31  rougher.state.floatbank10_d_air             14149 non-null  float64\n",
      " 32  rougher.state.floatbank10_d_level           14149 non-null  float64\n",
      " 33  rougher.state.floatbank10_e_air             14149 non-null  float64\n",
      " 34  rougher.state.floatbank10_e_level           14149 non-null  float64\n",
      " 35  rougher.state.floatbank10_f_air             14149 non-null  float64\n",
      " 36  rougher.state.floatbank10_f_level           14149 non-null  float64\n",
      " 37  secondary_cleaner.state.floatbank2_a_air    14149 non-null  float64\n",
      " 38  secondary_cleaner.state.floatbank2_a_level  14149 non-null  float64\n",
      " 39  secondary_cleaner.state.floatbank2_b_air    14149 non-null  float64\n",
      " 40  secondary_cleaner.state.floatbank2_b_level  14149 non-null  float64\n",
      " 41  secondary_cleaner.state.floatbank3_a_air    14149 non-null  float64\n",
      " 42  secondary_cleaner.state.floatbank3_a_level  14149 non-null  float64\n",
      " 43  secondary_cleaner.state.floatbank3_b_air    14149 non-null  float64\n",
      " 44  secondary_cleaner.state.floatbank3_b_level  14149 non-null  float64\n",
      " 45  secondary_cleaner.state.floatbank4_a_air    14149 non-null  float64\n",
      " 46  secondary_cleaner.state.floatbank4_a_level  14149 non-null  float64\n",
      " 47  secondary_cleaner.state.floatbank4_b_air    14149 non-null  float64\n",
      " 48  secondary_cleaner.state.floatbank4_b_level  14149 non-null  float64\n",
      " 49  secondary_cleaner.state.floatbank5_a_air    14149 non-null  float64\n",
      " 50  secondary_cleaner.state.floatbank5_a_level  14149 non-null  float64\n",
      " 51  secondary_cleaner.state.floatbank5_b_air    14149 non-null  float64\n",
      " 52  secondary_cleaner.state.floatbank5_b_level  14149 non-null  float64\n",
      " 53  secondary_cleaner.state.floatbank6_a_air    14149 non-null  float64\n",
      " 54  secondary_cleaner.state.floatbank6_a_level  14149 non-null  float64\n",
      "dtypes: float64(54), object(1)\n",
      "memory usage: 5.9+ MB\n",
      "<class 'pandas.core.frame.DataFrame'>\n",
      "RangeIndex: 5290 entries, 0 to 5289\n",
      "Data columns (total 55 columns):\n",
      " #   Column                                      Non-Null Count  Dtype  \n",
      "---  ------                                      --------------  -----  \n",
      " 0   date                                        5290 non-null   object \n",
      " 1   primary_cleaner.input.sulfate               5290 non-null   float64\n",
      " 2   primary_cleaner.input.depressant            5290 non-null   float64\n",
      " 3   primary_cleaner.input.feed_size             5290 non-null   float64\n",
      " 4   primary_cleaner.input.xanthate              5290 non-null   float64\n",
      " 5   primary_cleaner.state.floatbank8_a_air      5290 non-null   float64\n",
      " 6   primary_cleaner.state.floatbank8_a_level    5290 non-null   float64\n",
      " 7   primary_cleaner.state.floatbank8_b_air      5290 non-null   float64\n",
      " 8   primary_cleaner.state.floatbank8_b_level    5290 non-null   float64\n",
      " 9   primary_cleaner.state.floatbank8_c_air      5290 non-null   float64\n",
      " 10  primary_cleaner.state.floatbank8_c_level    5290 non-null   float64\n",
      " 11  primary_cleaner.state.floatbank8_d_air      5290 non-null   float64\n",
      " 12  primary_cleaner.state.floatbank8_d_level    5290 non-null   float64\n",
      " 13  rougher.input.feed_ag                       5290 non-null   float64\n",
      " 14  rougher.input.feed_pb                       5290 non-null   float64\n",
      " 15  rougher.input.feed_rate                     5290 non-null   float64\n",
      " 16  rougher.input.feed_size                     5290 non-null   float64\n",
      " 17  rougher.input.feed_sol                      5290 non-null   float64\n",
      " 18  rougher.input.feed_au                       5290 non-null   float64\n",
      " 19  rougher.input.floatbank10_sulfate           5290 non-null   float64\n",
      " 20  rougher.input.floatbank10_xanthate          5290 non-null   float64\n",
      " 21  rougher.input.floatbank11_sulfate           5290 non-null   float64\n",
      " 22  rougher.input.floatbank11_xanthate          5290 non-null   float64\n",
      " 23  rougher.state.floatbank10_a_air             5290 non-null   float64\n",
      " 24  rougher.state.floatbank10_a_level           5290 non-null   float64\n",
      " 25  rougher.state.floatbank10_b_air             5290 non-null   float64\n",
      " 26  rougher.state.floatbank10_b_level           5290 non-null   float64\n",
      " 27  rougher.state.floatbank10_c_air             5290 non-null   float64\n",
      " 28  rougher.state.floatbank10_c_level           5290 non-null   float64\n",
      " 29  rougher.state.floatbank10_d_air             5290 non-null   float64\n",
      " 30  rougher.state.floatbank10_d_level           5290 non-null   float64\n",
      " 31  rougher.state.floatbank10_e_air             5290 non-null   float64\n",
      " 32  rougher.state.floatbank10_e_level           5290 non-null   float64\n",
      " 33  rougher.state.floatbank10_f_air             5290 non-null   float64\n",
      " 34  rougher.state.floatbank10_f_level           5290 non-null   float64\n",
      " 35  secondary_cleaner.state.floatbank2_a_air    5290 non-null   float64\n",
      " 36  secondary_cleaner.state.floatbank2_a_level  5290 non-null   float64\n",
      " 37  secondary_cleaner.state.floatbank2_b_air    5290 non-null   float64\n",
      " 38  secondary_cleaner.state.floatbank2_b_level  5290 non-null   float64\n",
      " 39  secondary_cleaner.state.floatbank3_a_air    5290 non-null   float64\n",
      " 40  secondary_cleaner.state.floatbank3_a_level  5290 non-null   float64\n",
      " 41  secondary_cleaner.state.floatbank3_b_air    5290 non-null   float64\n",
      " 42  secondary_cleaner.state.floatbank3_b_level  5290 non-null   float64\n",
      " 43  secondary_cleaner.state.floatbank4_a_air    5290 non-null   float64\n",
      " 44  secondary_cleaner.state.floatbank4_a_level  5290 non-null   float64\n",
      " 45  secondary_cleaner.state.floatbank4_b_air    5290 non-null   float64\n",
      " 46  secondary_cleaner.state.floatbank4_b_level  5290 non-null   float64\n",
      " 47  secondary_cleaner.state.floatbank5_a_air    5290 non-null   float64\n",
      " 48  secondary_cleaner.state.floatbank5_a_level  5290 non-null   float64\n",
      " 49  secondary_cleaner.state.floatbank5_b_air    5290 non-null   float64\n",
      " 50  secondary_cleaner.state.floatbank5_b_level  5290 non-null   float64\n",
      " 51  secondary_cleaner.state.floatbank6_a_air    5290 non-null   float64\n",
      " 52  secondary_cleaner.state.floatbank6_a_level  5290 non-null   float64\n",
      " 53  final.output.recovery                       5290 non-null   float64\n",
      " 54  rougher.output.recovery                     5290 non-null   float64\n",
      "dtypes: float64(54), object(1)\n",
      "memory usage: 2.2+ MB\n"
     ]
    },
    {
     "data": {
      "text/plain": [
       "(None, None)"
      ]
     },
     "execution_count": 11,
     "metadata": {},
     "output_type": "execute_result"
    }
   ],
   "source": [
    "train_data = train_data.fillna(method='ffill')\n",
    "test_data = test_data.fillna(method='ffill')\n",
    "train_data.info(), test_data.info()"
   ]
  },
  {
   "cell_type": "markdown",
   "metadata": {},
   "source": [
    "Пропуски заполнены."
   ]
  },
  {
   "cell_type": "markdown",
   "metadata": {},
   "source": [
    "### Проверим наличие явных дубликатов\n"
   ]
  },
  {
   "cell_type": "code",
   "execution_count": 12,
   "metadata": {},
   "outputs": [
    {
     "data": {
      "text/plain": [
       "'Количество явных дубликатов обучающей выборки'"
      ]
     },
     "metadata": {},
     "output_type": "display_data"
    },
    {
     "data": {
      "text/plain": [
       "0"
      ]
     },
     "metadata": {},
     "output_type": "display_data"
    },
    {
     "data": {
      "text/plain": [
       "'Количество явных дубликатов тестовой выборки'"
      ]
     },
     "metadata": {},
     "output_type": "display_data"
    },
    {
     "data": {
      "text/plain": [
       "0"
      ]
     },
     "metadata": {},
     "output_type": "display_data"
    }
   ],
   "source": [
    "display('Количество явных дубликатов обучающей выборки', train_data.duplicated().sum()\n",
    "        ,'Количество явных дубликатов тестовой выборки', test_data.duplicated().sum())"
   ]
  },
  {
   "cell_type": "markdown",
   "metadata": {},
   "source": [
    "### **Итоги**  \n",
    "1) В тестовую выборку были добавлены недостающие признаки  \n",
    "2) Проверки правильности рассчета коэффициента восстановления золота показала, что фактические данные верны.  \n",
    "3) Пропуски в выборках заполнены предыдущими значениями, т.к. находящиеся рядом объекты похожи по характеристикам.  \n",
    "4) Явных дубликатов не выявлено."
   ]
  },
  {
   "cell_type": "markdown",
   "metadata": {},
   "source": [
    "## Анализ данных"
   ]
  },
  {
   "cell_type": "markdown",
   "metadata": {},
   "source": [
    "Проанализируем данные.  \n",
    "   - Посмотрим, как меняется концентрация металлов (Au, Ag, Pb) на различных этапах очистки. Опишем выводы.  \n",
    "   - Сравним распределения размеров гранул сырья на обучающей и тестовой выборках. Если распределения сильно отличаются друг от друга, оценка модели будет неправильной.  \n",
    "   - Исследуйем суммарную концентрацию всех веществ на разных стадиях: в сырье, в черновом и финальном концентратах.  "
   ]
  },
  {
   "cell_type": "markdown",
   "metadata": {},
   "source": [
    "### Динамика концентрации металлов.  \n",
    "В наших данных концентрация металлов указана после 3-х этапов:  \n",
    "1) Флотации  \n",
    "2) Первичной очистки  \n",
    "3) Вторичной очистки(или финальная концентрация)   \n",
    "Концентрацию будем смотреть на общей выборке, для получения более точных данных.\n",
    "Рассчитаем средние начения для каждого металла и этапа, и построим линейный график "
   ]
  },
  {
   "cell_type": "code",
   "execution_count": 13,
   "metadata": {},
   "outputs": [
    {
     "data": {
      "image/png": "[encoded data removed]",
      "text/plain": [
       "<Figure size 1080x432 with 1 Axes>"
      ]
     },
     "metadata": {
      "needs_background": "light"
     },
     "output_type": "display_data"
    }
   ],
   "source": [
    "def concetrate_plot(data):\n",
    "    au_plot = [data['rougher.output.concentrate_au'].mean(), data['primary_cleaner.output.concentrate_au'].mean(), data['final.output.concentrate_au'].mean()]\n",
    "    ag_plot = [data['rougher.output.concentrate_ag'].mean(), data['primary_cleaner.output.concentrate_ag'].mean(), data['final.output.concentrate_au'].mean()]\n",
    "    pb_plot = [data['rougher.output.concentrate_pb'].mean(), data['primary_cleaner.output.concentrate_pb'].mean(), data['final.output.concentrate_au'].mean()]\n",
    "    \n",
    "    fig, ax = plt.subplots(figsize=(15,6))\n",
    "    \n",
    "    plt.plot(au_plot, lw = 4, alpha=0.7, marker='o',ms=6)\n",
    "    plt.plot(ag_plot, lw = 4, alpha=0.7, marker='o',ms=6)\n",
    "    plt.plot(pb_plot, lw = 4, alpha=0.7, marker='o',ms=6)\n",
    "    \n",
    "    plt.legend(['AU','AG','PB'])\n",
    "    plt.xticks(np.arange(3), ['После флотации','после 1-й ступени очистки', 'Финальный концентрат'])\n",
    "    plt.ylabel('Средняя концентрация')\n",
    "    plt.title('Динамика изменения концентрации различных металлов\\nпосле каждого из этапов обработки')\n",
    "    plt.grid(visible=True,axis='y')\n",
    "    plt.show()\n",
    "    return\n",
    "concetrate_plot(basic_data)"
   ]
  },
  {
   "cell_type": "markdown",
   "metadata": {},
   "source": [
    "**Вывод**  \n",
    "  \n",
    "Средняя концентрация золота равномерно растет после каждого технологического этапа. Это говорит о том , что трехфазная технология восстановления золота оправдана.  \n",
    "А вот для  серебра и свинца первая ступень по сути лишняя, и в случае с серебром даже идет во вред. Возможно, сам этап и нужен, но возможно стоит пересмотреть реагенты.  \n",
    "При этом несмотря на казалось бы не эффективную первую ступень очистки для золота и свинца второй этап показывавает эффективность даже больше чем у золота.   \n",
    "В итоге концентрат всех трех металлов после 3-х этапов получается очень близкий по значениям. Это говорит о том что при производстве золота, по данной технолоигии можно получать свинец и серебро в качестве вторичного продукта."
   ]
  },
  {
   "cell_type": "markdown",
   "metadata": {},
   "source": [
    "### Сравнение распределения размеров гранул сырья на обучающей и тестовой выборках.  \n",
    "Построим гистограмы распределния размеров гранул сырья на обучающей и тестовой выборках. Поскольку процесс флотации и очистки ко всем разммерамм гранул сырья применяется одинаковые, то целесообразно проверить распределение на гранул на базовом сырье, т.е. по колонке rougher.input.feed_size."
   ]
  },
  {
   "cell_type": "code",
   "execution_count": 14,
   "metadata": {},
   "outputs": [
    {
     "data": {
      "image/png": "[encoded data removed]",
      "text/plain": [
       "<Figure size 1080x432 with 1 Axes>"
      ]
     },
     "metadata": {
      "needs_background": "light"
     },
     "output_type": "display_data"
    }
   ],
   "source": [
    "def feed_size_hist(train_data, test_data):\n",
    "    train_size = train_data['rougher.input.feed_size']\n",
    "    test_size = test_data['rougher.input.feed_size']\n",
    "    \n",
    "    fig, ax = plt.subplots(figsize=(15,6))\n",
    "    \n",
    "    plt.hist(train_size, histtype='stepfilled', bins = 200, range=(0,120), alpha = 0.5, density=True)\n",
    "    plt.hist(test_size, histtype='stepfilled', bins = 200, range=(0,120), alpha = 0.5, density=True)\n",
    "    \n",
    "    plt.legend(['Train','Test'],fontsize='xx-large')\n",
    "    plt.xlabel('Размер гранул')\n",
    "    plt.ylabel('Количество объектов')\n",
    "    plt.xticks(ticks = range(0,120,5))\n",
    "    plt.title('Распределение рамеров гранул сырья обучающей и тестовой выборок')\n",
    "    plt.grid(visible=True,axis='both',lw=1.5, color='red',alpha=0.3)\n",
    "    plt.show()\n",
    "\n",
    "    \n",
    "    \n",
    "    \n",
    "    return\n",
    "feed_size_hist(train_data,test_data)"
   ]
  },
  {
   "cell_type": "markdown",
   "metadata": {},
   "source": [
    "Как видим, большинство гранул тестовой выборке совпадают с обучающей. но пик на тестовой выборке в диапзоне  42-44 потенциально может стать проблемой, поэтому проверим соответсвие размеров  гранул с помощью ттеста двух выборочных средних.\n",
    "**Вывод**: Размер гранул сырья тестовой и обучающей выборок схож, отличия не повредят при построении модели."
   ]
  },
  {
   "cell_type": "markdown",
   "metadata": {},
   "source": [
    "#### Т-тест   \n",
    "  \n",
    "Поскольку нам необходимо определить равенство средних двух выборок, то :  \n",
    "- H0 = Средний размер гранул обучающей выборки равен среднему размеру гранул тестовой выборки\n",
    "- H1 = Средний размер гранул обучающей и тестовой выборок отличается.\n",
    "Перед нами двусторонний тест средних двух выборочных совокупностей. Поскольку мы точно знаем что наши две выборки сделаны из одной (полной) то по нужно использовать ttest для зависимых совокупностей, однако он подразумевает одно и то же количество объектов, а у нас они отличаются, поэтому исползовать будем ttest для независимых совокупностей(`ttest_ind`), предварительно оценив отличие дисперсий  обеих.\n",
    "Сначала оценим дисперсии обеих выборок:"
   ]
  },
  {
   "cell_type": "code",
   "execution_count": 15,
   "metadata": {},
   "outputs": [
    {
     "name": "stdout",
     "output_type": "stream",
     "text": [
      "Дисперсия обучающей выборки = 529.2442700162884 \n",
      "Дисперсия тестовой выборки = 364.05914924763465\n"
     ]
    }
   ],
   "source": [
    "print('Дисперсия обучающей выборки =',train_data['rougher.input.feed_size'].var(),\n",
    "      '\\nДисперсия тестовой выборки =', test_data['rougher.input.feed_size'].var())"
   ]
  },
  {
   "cell_type": "markdown",
   "metadata": {},
   "source": [
    "Дисперсии явно оличаются, поэтому в t-test передадим параметр `equal_var=False` Для большей корректности теста. Уровень статистической значимости используем 5%."
   ]
  },
  {
   "cell_type": "code",
   "execution_count": 16,
   "metadata": {},
   "outputs": [
    {
     "name": "stdout",
     "output_type": "stream",
     "text": [
      "pvalue =  3.134338776805464e-39\n",
      "отвергаем нулевую теорию\n"
     ]
    }
   ],
   "source": [
    "# Проводим t-test, не забывая удалить все пропуски в получившихся датасетах.\n",
    "results = st.ttest_ind(train_data['rougher.input.feed_size'], test_data['rougher.input.feed_size'], equal_var=False)\n",
    "# устанавливаем критический уровень статистической значимости и выводим на экран p_value\n",
    "alpha = 0.05\n",
    "print(\"pvalue = \",results.pvalue)\n",
    "\n",
    "# Принимаем решение отвергнуть ли нулевую гипотезу.\n",
    "if results.pvalue < alpha:\n",
    "    print('отвергаем нулевую теорию')\n",
    "else:\n",
    "    print(\"не получилось отвергнуть нулевую гипотезу\")"
   ]
  },
  {
   "cell_type": "markdown",
   "metadata": {},
   "source": [
    "**Вывод** К сожалению подтвердить равенство средних размеров гранул не удалось.  \n",
    "\n",
    "Тем не менее мы несовсем корректно использовали ттест для независимых выборок, а у нас они точно зависимы, и взаимоисключающие, поэтмоу полностью полагаться на него было бы так же не корректно, поэтому в дальнейшем будем исходить из того что размер гранул все-таки схож, а при предоставлении результатов прогнозов будем учитывать, что данные могут иметь погрешность.  \n",
    "\n",
    "Поэтому лучше тестовую выборку формировать с учетом схожести размера гранул. Либо ждать новых данных, пока мы не получим более равномерные по размеру гранул данные."
   ]
  },
  {
   "cell_type": "markdown",
   "metadata": {},
   "source": [
    "###  Исследование суммарной концентрации всех веществ на разных стадиях.\n",
    "Проверим распределение суммарной концентрации по каждому этапу производства. Проверять для удобства будем на общей выборке."
   ]
  },
  {
   "cell_type": "code",
   "execution_count": 17,
   "metadata": {},
   "outputs": [
    {
     "data": {
      "image/png": "[encoded data removed]",
      "text/plain": [
       "<Figure size 1080x432 with 1 Axes>"
      ]
     },
     "metadata": {
      "needs_background": "light"
     },
     "output_type": "display_data"
    }
   ],
   "source": [
    "def sum_concetrate_hist(data):\n",
    "    flot = data['rougher.output.concentrate_au'] + data['rougher.output.concentrate_ag'] + data['rougher.output.concentrate_pb']\n",
    "    feed = data['rougher.input.feed_au'] + data['rougher.input.feed_ag'] + data['rougher.input.feed_pb']\n",
    "    final = data['final.output.concentrate_au'] + data['final.output.concentrate_ag'] + data['final.output.concentrate_pb']\n",
    "    \n",
    "    figure, ax = plt.subplots(figsize=(15,6))\n",
    "    plt.hist(feed, histtype='stepfilled', bins = 200, range=(0,70), alpha = 0.5)\n",
    "    plt.hist(flot, histtype='stepfilled', bins = 200, range=(0,70), alpha = 0.5)\n",
    "    plt.hist(final, histtype='stepfilled', bins = 200, range=(0,70), alpha = 0.5)\n",
    "    \n",
    "    plt.legend(['В сырье', 'После флотации', 'После второй очистки'],fontsize='xx-large',loc='upper left')\n",
    "    plt.xlabel('Суммарная концентрация')\n",
    "    plt.ylabel('Количество объектов')\n",
    "    plt.xticks(ticks = range(0,70,5))\n",
    "    plt.title('Распределение суммарной концентрации по общей выборке')\n",
    "    plt.grid(visible=True,axis='both',lw=1.5, color='red',alpha=0.3)\n",
    "    plt.show()\n",
    "    return\n",
    "\n",
    "sum_concetrate_hist(basic_data)"
   ]
  },
  {
   "cell_type": "markdown",
   "metadata": {},
   "source": [
    "Все три распределения выглядят нормально. При этом мы видим небольшое количество нулевых значенией после этапа флотации и очистки. Причем после этапа очистки нулевых значений становится все меньше. Можно предположить, что это те объекты в которых ценных металлов либо было настолько мало, что в итоге процессов они разрушились, и более высокое но узкое распределение на графике как раз говорит о том что дисперсия и стандартное отклонение после этапа очистки гораздо меньше, что повышает стабильность и качество процесса восстановления.  \n",
    "\n",
    "Скорее всего нули на обоих этапах - это особенность технологических процессов. И хотя и они могут быть ошибкой при выгрузке данных, или попросту данные по этим объектам на момент формирования выборок еще не были получены, вероятность этого на мой взгляд низка.\n",
    "  \n",
    "В любом случае для нас эти нули определенно выбросы, которые могли бы испортить качество работы модели. Однако, при обучении модели мы будем использовать только данные по исходному сырью, в котором нулевых значений нет. Поэтому спокойно перходим к формированию модели. \n"
   ]
  },
  {
   "cell_type": "code",
   "execution_count": 18,
   "metadata": {},
   "outputs": [],
   "source": [
    "# display(train_data.shape, test_data.shape)\n",
    "# train_data = train_data[(train_data['rougher.output.concentrate_au'] \n",
    "#                          + train_data['rougher.output.concentrate_ag'] \n",
    "#                          + train_data['rougher.output.concentrate_pb']) != 0]\n",
    "# test_data = test_data[(test_data['rougher.output.concentrate_au'] \n",
    "#                          + test_data['rougher.output.concentrate_ag'] \n",
    "#                          + test_data['rougher.output.concentrate_pb']) != 0]    \n",
    "# display(train_data.shape, test_data.shape)"
   ]
  },
  {
   "cell_type": "markdown",
   "metadata": {},
   "source": [
    "### **Итоги**  \n",
    "1) Средняя концентрация золота равномерно растет после каждого технологического этапа. Это говорит о том , что трехфазная технология восстановления золота оправдана.\n",
    "\n",
    "А вот для серебра и свинца первая ступень по сути лишняя, и в случае с серебром даже идет во вред. Возможно, сам этап и нужен, но возможно стоит пересмотреть реагенты.\n",
    "    \n",
    "При этом несмотря на казалось бы не эффективную первую ступень очистки для золота и свинца второй этап показывавает эффективность даже больше чем у золота.\n",
    "    \n",
    "В итоге концентрат всех трех металлов после 3-х этапов получается очень близкий по значениям. Это говорит о том что при производстве золота, по данной технолоигии можно получать свинец и серебро в качестве вторичного продукта.  \n",
    "    \n",
    "2) К сожалению подтвердить равенство средних размеров гранул не удалось.  \n",
    "\n",
    "Тем не менее мы несовсем корректно использовали ттест для независимых выборок, а у нас они точно зависимы, и взаимоисключающие, поэтмоу полностью полагаться на него было бы так же не корректно, поэтому в дальнейшем будем исходить из того что размер гранул все-таки схож, а при предоставлении результатов прогнозов будем учитывать, что данные могут иметь погрешность.  \n",
    "    \n",
    "Поэтому лучше тестовую выборку формировать с учетом схожести размера гранул. Либо ждать новых данных, пока мы не получим более равномерные по размеру гранул данные.  \n",
    "  \n",
    "3) Все три распределения выглядят нормально. При этом мы видим небольшое количество нулевых значенией после этапа флотации и очистки. Причем после этапа очистки нулевых значений становится все меньше. Можно предположить, что это те объекты в которых ценных металлов либо было настолько мало, что в итоге процессов они разрушились, и более высокое но узкое распределение на графике как раз говорит о том что дисперсия и стандартное отклонение после этапа очистки гораздо меньше, что повышает стабильность и качество процесса восстановления.\n",
    "\n",
    "Скорее всего нули на обоих этапах - это особенность технологических процессов. И хотя и они могут быть ошибкой при выгрузке данных, или попросту данные по этим объектам на момент формирования выборок еще не были получены, вероятность этого на мой взгляд низка.\n",
    "\n",
    "В любом случае для нас эти нули определенно выбросы, которые могли бы испортить качество работы модели. Однако, при обучении модели мы будем использовать только данные по исходному сырью, в котором нулевых значений нет. Поэтому спокойно перходим к формированию модели."
   ]
  },
  {
   "cell_type": "markdown",
   "metadata": {},
   "source": [
    "## Модель.\n",
    "### Подготовим выборки для каждого таргета\n",
    "Для построения модели предсказаний двух целевых признаков нам необходимо разбить обучающую и тестовую выборки на этапы, а так же, чтобы снизить переобученность удалим откровенно не нужные для предсказания колонки, а так же сразу масштабируем наши выборки поскольку все признаки в них числовые:"
   ]
  },
  {
   "cell_type": "code",
   "execution_count": 19,
   "metadata": {},
   "outputs": [
    {
     "data": {
      "text/plain": [
       "(14149, 22)"
      ]
     },
     "metadata": {},
     "output_type": "display_data"
    },
    {
     "data": {
      "text/plain": [
       "(14149,)"
      ]
     },
     "metadata": {},
     "output_type": "display_data"
    },
    {
     "data": {
      "text/plain": [
       "(5290, 22)"
      ]
     },
     "metadata": {},
     "output_type": "display_data"
    },
    {
     "data": {
      "text/plain": [
       "(5290,)"
      ]
     },
     "metadata": {},
     "output_type": "display_data"
    },
    {
     "data": {
      "text/plain": [
       "(14149, 30)"
      ]
     },
     "metadata": {},
     "output_type": "display_data"
    },
    {
     "data": {
      "text/plain": [
       "(14149,)"
      ]
     },
     "metadata": {},
     "output_type": "display_data"
    },
    {
     "data": {
      "text/plain": [
       "(5290, 30)"
      ]
     },
     "metadata": {},
     "output_type": "display_data"
    },
    {
     "data": {
      "text/plain": [
       "(5290,)"
      ]
     },
     "metadata": {},
     "output_type": "display_data"
    }
   ],
   "source": [
    "rougher_features_train = train_data[[\n",
    "       'rougher.input.feed_ag',\n",
    "       'rougher.input.feed_pb', 'rougher.input.feed_rate',\n",
    "       'rougher.input.feed_size', 'rougher.input.feed_sol',\n",
    "       'rougher.input.feed_au', 'rougher.input.floatbank10_sulfate',\n",
    "       'rougher.input.floatbank10_xanthate','rougher.input.floatbank11_sulfate',\n",
    "       'rougher.input.floatbank11_xanthate',\n",
    "       'rougher.state.floatbank10_a_air', 'rougher.state.floatbank10_a_level',\n",
    "       'rougher.state.floatbank10_b_air', 'rougher.state.floatbank10_b_level',\n",
    "       'rougher.state.floatbank10_c_air', 'rougher.state.floatbank10_c_level',\n",
    "       'rougher.state.floatbank10_d_air', 'rougher.state.floatbank10_d_level',\n",
    "       'rougher.state.floatbank10_e_air', 'rougher.state.floatbank10_e_level',\n",
    "       'rougher.state.floatbank10_f_air', 'rougher.state.floatbank10_f_level',\n",
    "]]\n",
    "rougher_target_train = train_data['rougher.output.recovery']\n",
    "\n",
    "rougher_features_test = test_data[[\n",
    "       'rougher.input.feed_ag',\n",
    "       'rougher.input.feed_pb', 'rougher.input.feed_rate',\n",
    "       'rougher.input.feed_size', 'rougher.input.feed_sol',\n",
    "       'rougher.input.feed_au', 'rougher.input.floatbank10_sulfate',\n",
    "       'rougher.input.floatbank10_xanthate','rougher.input.floatbank11_sulfate',\n",
    "       'rougher.input.floatbank11_xanthate',\n",
    "       'rougher.state.floatbank10_a_air', 'rougher.state.floatbank10_a_level',\n",
    "       'rougher.state.floatbank10_b_air', 'rougher.state.floatbank10_b_level',\n",
    "       'rougher.state.floatbank10_c_air', 'rougher.state.floatbank10_c_level',\n",
    "       'rougher.state.floatbank10_d_air', 'rougher.state.floatbank10_d_level',\n",
    "       'rougher.state.floatbank10_e_air', 'rougher.state.floatbank10_e_level',\n",
    "       'rougher.state.floatbank10_f_air', 'rougher.state.floatbank10_f_level',\n",
    "]]\n",
    "rougher_target_test = test_data['rougher.output.recovery']\n",
    "\n",
    "\n",
    "\n",
    "final_features_train = train_data[[\n",
    "       'primary_cleaner.input.sulfate', 'primary_cleaner.input.depressant',\n",
    "       'primary_cleaner.input.feed_size', 'primary_cleaner.input.xanthate',\n",
    "       'primary_cleaner.state.floatbank8_a_air',\n",
    "       'primary_cleaner.state.floatbank8_a_level',\n",
    "       'primary_cleaner.state.floatbank8_b_air',\n",
    "       'primary_cleaner.state.floatbank8_b_level',\n",
    "       'primary_cleaner.state.floatbank8_c_air',\n",
    "       'primary_cleaner.state.floatbank8_c_level',\n",
    "       'primary_cleaner.state.floatbank8_d_air',\n",
    "       'primary_cleaner.state.floatbank8_d_level',\n",
    "       'secondary_cleaner.state.floatbank2_a_air',\n",
    "       'secondary_cleaner.state.floatbank2_a_level',\n",
    "       'secondary_cleaner.state.floatbank2_b_air',\n",
    "       'secondary_cleaner.state.floatbank2_b_level',\n",
    "       'secondary_cleaner.state.floatbank3_a_air',\n",
    "       'secondary_cleaner.state.floatbank3_a_level',\n",
    "       'secondary_cleaner.state.floatbank3_b_air',\n",
    "       'secondary_cleaner.state.floatbank3_b_level',\n",
    "       'secondary_cleaner.state.floatbank4_a_air',\n",
    "       'secondary_cleaner.state.floatbank4_a_level',\n",
    "       'secondary_cleaner.state.floatbank4_b_air',\n",
    "       'secondary_cleaner.state.floatbank4_b_level',\n",
    "       'secondary_cleaner.state.floatbank5_a_air',\n",
    "       'secondary_cleaner.state.floatbank5_a_level',\n",
    "       'secondary_cleaner.state.floatbank5_b_air',\n",
    "       'secondary_cleaner.state.floatbank5_b_level',\n",
    "       'secondary_cleaner.state.floatbank6_a_air',\n",
    "       'secondary_cleaner.state.floatbank6_a_level'\n",
    "                                  ]]                           \n",
    "final_target_train = train_data['final.output.recovery']    \n",
    "\n",
    "final_features_test = test_data[[\n",
    "       'primary_cleaner.input.sulfate', 'primary_cleaner.input.depressant',\n",
    "       'primary_cleaner.input.feed_size', 'primary_cleaner.input.xanthate',\n",
    "       'primary_cleaner.state.floatbank8_a_air',\n",
    "       'primary_cleaner.state.floatbank8_a_level',\n",
    "       'primary_cleaner.state.floatbank8_b_air',\n",
    "       'primary_cleaner.state.floatbank8_b_level',\n",
    "       'primary_cleaner.state.floatbank8_c_air',\n",
    "       'primary_cleaner.state.floatbank8_c_level',\n",
    "       'primary_cleaner.state.floatbank8_d_air',\n",
    "       'primary_cleaner.state.floatbank8_d_level',\n",
    "       'secondary_cleaner.state.floatbank2_a_air',\n",
    "       'secondary_cleaner.state.floatbank2_a_level',\n",
    "       'secondary_cleaner.state.floatbank2_b_air',\n",
    "       'secondary_cleaner.state.floatbank2_b_level',\n",
    "       'secondary_cleaner.state.floatbank3_a_air',\n",
    "       'secondary_cleaner.state.floatbank3_a_level',\n",
    "       'secondary_cleaner.state.floatbank3_b_air',\n",
    "       'secondary_cleaner.state.floatbank3_b_level',\n",
    "       'secondary_cleaner.state.floatbank4_a_air',\n",
    "       'secondary_cleaner.state.floatbank4_a_level',\n",
    "       'secondary_cleaner.state.floatbank4_b_air',\n",
    "       'secondary_cleaner.state.floatbank4_b_level',\n",
    "       'secondary_cleaner.state.floatbank5_a_air',\n",
    "       'secondary_cleaner.state.floatbank5_a_level',\n",
    "       'secondary_cleaner.state.floatbank5_b_air',\n",
    "       'secondary_cleaner.state.floatbank5_b_level',\n",
    "       'secondary_cleaner.state.floatbank6_a_air',\n",
    "       'secondary_cleaner.state.floatbank6_a_level'\n",
    "                                  ]]                           \n",
    "final_target_test = test_data['final.output.recovery']\n",
    "\n",
    "# Масшатбируем признаки\n",
    "scaler = StandardScaler()\n",
    "\n",
    "# Масштабируем признаки этапа флотации\n",
    "scaler.fit(rougher_features_train)\n",
    "rougher_features_train = scaler.transform(rougher_features_train)\n",
    "rougher_features_test = scaler.transform(rougher_features_test)\n",
    "# Масштабируем признаки этапа очистки\n",
    "scaler.fit(final_features_train)\n",
    "final_features_train = scaler.transform(final_features_train)\n",
    "final_features_test = scaler.transform(final_features_test)\n",
    "\n",
    "# проверяем корректность разбивки\n",
    "display(rougher_features_train.shape, rougher_target_train.shape, rougher_features_test.shape, rougher_target_test.shape\n",
    "        , final_features_train.shape, final_target_train.shape, final_features_test.shape, final_target_test.shape)"
   ]
  },
  {
   "cell_type": "markdown",
   "metadata": {},
   "source": [
    "###  Функция рассчета sMAPE\n",
    "Теперь, когда выборки для обоих таргетов подготовлены, напишем функцию, которая будет считать метрику sMAPE для обоих коэффициентов восстановления, и возвращать Итоговое sMAPE.\n"
   ]
  },
  {
   "cell_type": "code",
   "execution_count": 20,
   "metadata": {},
   "outputs": [],
   "source": [
    "def smape_func(target_true,target_pred):\n",
    "    summ = sum(abs(target_true - target_pred) / ((abs(target_true) + abs(target_pred)).mean()))\n",
    "    smape = 1 / len(target_true) * summ * 100\n",
    "    \n",
    "    return smape\n"
   ]
  },
  {
   "cell_type": "markdown",
   "metadata": {},
   "source": [
    "### Поиск лучшей модели\n",
    "#### Поиск гиперпараметров\n",
    "С помощью утилиты GridSearchCV определим наилучшие гиперпараметры для трех моделей:  \n",
    "1) Решающее Дерево  \n",
    "2) Случайный лес  \n",
    "3) Линейная регрессия  \n",
    "Для оценки качества будем использовать коэфициент детерминации. Чем ближе она к единице тем качественней предсказания."
   ]
  },
  {
   "cell_type": "code",
   "execution_count": 21,
   "metadata": {},
   "outputs": [
    {
     "name": "stdout",
     "output_type": "stream",
     "text": [
      "Подбор гиперпараметров для этапа флотации:\n",
      "Модель решающего Дерева make_scorer(smape_func) 8.281769011321824 {'max_depth': 12}\n",
      "Модель случайного леса make_scorer(smape_func) 5.988269368466094 {'max_depth': 9, 'n_estimators': 10}\n",
      "Модель линейной регрессии make_scorer(smape_func) 98.65018955396997 {'fit_intercept': False}\n",
      "\n",
      "Подбор гиперпараметров для этапа очистки:\n",
      "Модель решающего Дерева make_scorer(smape_func) 8.828971659362997 {'max_depth': 12}\n",
      "Модель случайного леса make_scorer(smape_func) 6.432800813129563 {'max_depth': 9, 'n_estimators': 30}\n",
      "Модель линейной регрессии make_scorer(smape_func) 97.25618796649937 {'fit_intercept': False}\n"
     ]
    }
   ],
   "source": [
    "# создаем функцию для подбора гиперпараметров\n",
    "def best_hiper_search(features, target):\n",
    "    # Указываем диапазон поиска гиперпараметров.\n",
    "    parametrs_DTR = {'max_depth': range (1,13, 1)}\n",
    "    parametrs_RFR = {'n_estimators': range (10, 51, 20),'max_depth': range (1,10, 2)}\n",
    "    parametrs_LR = {'fit_intercept':[True,False]}\n",
    "    \n",
    "    smape_scorer = make_scorer(smape_func, greater_is_better=True)\n",
    "    \n",
    "    # создаем объекты класса сетки передавая в них модели, гиперпараметры,количество выборко для кросс-валидации, и наиболее подходящую для всех моделей метрику R2\n",
    "    grid_DTR = GridSearchCV(DecisionTreeRegressor(), parametrs_DTR, cv=5, scoring=smape_scorer)\n",
    "    grid_RFR = GridSearchCV(RandomForestRegressor(), parametrs_RFR, cv=5, scoring=smape_scorer)\n",
    "    grid_LR = GridSearchCV(LinearRegression(), parametrs_LR, cv=5, scoring=smape_scorer)\n",
    "    \n",
    "    # Наполняем объекты\n",
    "    grid_DTR.fit(features,target)\n",
    "    grid_RFR.fit(features,target)\n",
    "    grid_LR.fit(features,target)\n",
    "    \n",
    "    # Выводим результат работы.\n",
    "    print(\"Модель решающего Дерева\", grid_DTR.scorer_, grid_DTR.best_score_, grid_DTR.best_params_)\n",
    "    print(\"Модель случайного леса\", grid_RFR.scorer_, grid_RFR.best_score_, grid_RFR.best_params_)\n",
    "    print(\"Модель линейной регрессии\", grid_LR.scorer_, grid_LR.best_score_, grid_LR.best_params_)\n",
    "    return\n",
    "\n",
    "# передаем в функцию  подбора гиперпараметров обучающей выборки для обоих этапов .\n",
    "print(\"Подбор гиперпараметров для этапа флотации:\")\n",
    "best_hiper_search(rougher_features_train, rougher_target_train)\n",
    "print('')\n",
    "print(\"Подбор гиперпараметров для этапа очистки:\")\n",
    "best_hiper_search(final_features_train, final_target_train)"
   ]
  },
  {
   "cell_type": "markdown",
   "metadata": {},
   "source": [
    "Как видим наиболее эффективной на обоих этапах очистки себя показала модель Случайного леса. Тем не менее основная метрика качества по условию задачи является sMAPE, функцию рассчета которой мы уже написали. Поэтому проведем кроссвалидацию повторно, по всем трем моделям, но уже с известными гиперпараметрами. "
   ]
  },
  {
   "cell_type": "markdown",
   "metadata": {},
   "source": [
    "#### Поиск лучшей модели по sMAPE  \n",
    "Создаем функцию поиска лучшей модели с помощью кросс-валидации и на основе метрики sMAPE передавать в функцию будем сразу несколько моделей, количество выборок в кросс-валидации и сами обучаующие выборки."
   ]
  },
  {
   "cell_type": "code",
   "execution_count": 25,
   "metadata": {},
   "outputs": [],
   "source": [
    "# Создаем функцию поиска лучшей модели \n",
    "def best_model_search(cv, models, features, target):\n",
    "\n",
    "    best_smape = 10000000000 # Поскольку в идеальной ситуации sMAPE должен стермиться к нулю ставим большую цифру для базовой проверки.\n",
    "    best_model = None\n",
    "    sample_size = int(len(features)/cv) # рассчитываем размер выборки для кросс-валидации\n",
    "    \n",
    "    # Перебираем модели\n",
    "    for model in models:\n",
    "        scores = []\n",
    "        \n",
    "        # Кросс-Валидация\n",
    "        for i in range(0, len(features), sample_size):\n",
    "            valid_indexes = features.iloc[i:(i+sample_size)].index \n",
    "            train_indexes = (features.iloc[0:i] + features.iloc[(i+sample_size):len(features)]).index    \n",
    "        \n",
    "            features_train = features.iloc[train_indexes]\n",
    "            features_valid = features.iloc[valid_indexes]\n",
    "            target_train = target.iloc[train_indexes]\n",
    "            target_valid = target.iloc[valid_indexes]\n",
    "        \n",
    "        \n",
    "            model.fit(features_train, target_train)\n",
    "            predictions_valid = model.predict(features_valid)\n",
    "            smape = smape_func(target_valid, predictions_valid)\n",
    "\n",
    "        scores.append(smape)\n",
    "        mean_smape = pd.Series(scores).mean()\n",
    "        \n",
    "        # выбираем лучший sMAPE и модель.\n",
    "        if mean_smape < best_smape:\n",
    "            best_smape = mean_smape\n",
    "            best_model = model\n",
    "    \n",
    "    \n",
    "    return best_model, best_smape\n",
    "\n",
    "best_rougher_model, best_rougher_smape = best_model_search(5, [DecisionTreeRegressor(random_state=0, max_depth = 12 )\n",
    "                                       , RandomForestRegressor(random_state=0, max_depth = 9, n_estimators = 10)\n",
    "                                       , LinearRegression(fit_intercept=False)]\n",
    "                                       , pd.DataFrame(rougher_features_train).reset_index(drop=True), pd.Series(rougher_target_train).reset_index(drop=True))\n",
    "\n",
    "best_final_model, best_final_smape = best_model_search(5, [DecisionTreeRegressor(random_state=0, max_depth = 12 )\n",
    "                                       , RandomForestRegressor(random_state=0, max_depth = 9, n_estimators = 30)\n",
    "                                       , LinearRegression(fit_intercept=False)]\n",
    "                                       , pd.DataFrame(final_features_train).reset_index(drop=True), pd.Series(final_target_train).reset_index(drop=True))\n"
   ]
  },
  {
   "cell_type": "markdown",
   "metadata": {},
   "source": [
    "Выведем на экран лучшие модели и их sMAPE на экран, а так же выведем Итоговый sMAPE."
   ]
  },
  {
   "cell_type": "code",
   "execution_count": 26,
   "metadata": {},
   "outputs": [
    {
     "name": "stdout",
     "output_type": "stream",
     "text": [
      "Этап флотации: RandomForestRegressor(max_depth=9, n_estimators=10, random_state=0) 0.38714516189299325\n",
      "Этап очистки: RandomForestRegressor(max_depth=9, n_estimators=30, random_state=0) 1.3895325559508394\n",
      "Итоговый sMAPE обучающей выборки 1.138935707436378\n"
     ]
    }
   ],
   "source": [
    "print('Этап флотации:', best_rougher_model, best_rougher_smape)\n",
    "print('Этап очистки:', best_final_model, best_final_smape)\n",
    "print('Итоговый sMAPE обучающей выборки', 0.25 * best_rougher_smape + 0.75 * best_final_smape )"
   ]
  },
  {
   "cell_type": "markdown",
   "metadata": {},
   "source": [
    "На тренировочной выборке на обоих этапах лучшей моделью оказался Случайный лес.\n",
    "Итоговый smape составил 1,14%, что означает процентное отклонение предсказанного коэффициента восстановления золота составляет чуть больше 1% на обучающей выборке. На мой взгляд довольно неплохой результат, но это уже должны решать специалисты."
   ]
  },
  {
   "cell_type": "markdown",
   "metadata": {},
   "source": [
    "#### Проверка модели на тестовой выборке.\n",
    "Теперь повторно обучим модели для каждого из этапов на обучающей выборке, сделаем предсказания на тестовой, и посчитаем итоговый smape для теста, а так же сравним результаты на константной модели. "
   ]
  },
  {
   "cell_type": "code",
   "execution_count": 27,
   "metadata": {},
   "outputs": [
    {
     "name": "stdout",
     "output_type": "stream",
     "text": [
      "sMAPE на тестовой выборке равен 4.83%\n",
      "sMAPE на константной выборке равен 3.28%\n"
     ]
    }
   ],
   "source": [
    "# Обучение модели\n",
    "best_rougher_model.fit(rougher_features_train, rougher_target_train)\n",
    "best_final_model.fit(final_features_train, final_target_train)\n",
    "\n",
    "# Получение предсказаний\n",
    "rougher_predict_test = best_rougher_model.predict(rougher_features_test)\n",
    "final_predict_test = best_final_model.predict(final_features_test)\n",
    "\n",
    "\n",
    "# Расчет Итогового sMAPE\n",
    "final_smape = 0.25 * smape_func(rougher_target_test,rougher_predict_test) + 0.75 * smape_func(final_target_test,final_predict_test)\n",
    "print(f'sMAPE на тестовой выборке равен {round(final_smape,2)}%')\n",
    "\n",
    "# Проверка на вменяемость.\n",
    "\n",
    "const_target_rougher = np.array([rougher_target_test.mean()]*len(rougher_target_test))\n",
    "const_target_final = np.array([final_target_test.mean()]*len(final_target_test))\n",
    "final_smape_const = 0.25 * smape_func(const_target_rougher,rougher_predict_test) + 0.75 * smape_func(const_target_final,final_predict_test)\n",
    "print(f'sMAPE на константной выборке равен {round(final_smape_const,2)}%')"
   ]
  },
  {
   "cell_type": "markdown",
   "metadata": {},
   "source": [
    "На константной выборке итоговый sMAPE отличается от фактических данных чуть более чем на один процент."
   ]
  },
  {
   "cell_type": "markdown",
   "metadata": {},
   "source": [
    "## **Итоги**  \n",
    "**Были исследованы исходные выборки** :  \n",
    "1) Обучающая с количеством объектов 14149 и количеством признаков 87  \n",
    "2) Тестовая с количеством объектов 5290 и количеством признаков 53  \n",
    "Было обнаружено что в тестовой выборке полностью отсутствуют данные по результатам работы каждого этапа. Соответственно можно прийти к выводу, что Тестовая выборка содержала только заранее известные данные, или по сути - настройки производственной линии.  \n",
    "\n",
    "**В результате подготовки данных было сделано** :  \n",
    "1) Из обучающей выборки были удалены признаки, мешающие построению модели.  \n",
    "2) Проверки правильности рассчета коэффициента восстановления золота показала, что фактические данные верны.  \n",
    "3) Пропуски в выборках заполнены предыдущими значениями, т.к. находящиеся рядом объекты похожи по характеристикам.  \n",
    "4) Явных дубликатов не выявлено.  \n",
    "\n",
    "**Результаты анализа концентрации ценных металлов** :\n",
    "1) `Средняя концентрация золота` равномерно растет после каждого технологического этапа. Это говорит о том , что трехфазная технология восстановления золота оправдана.\n",
    "\n",
    "А вот для серебра и свинца первая ступень по сути лишняя, и в случае с серебром даже идет во вред. Возможно, сам этап и нужен, но возможно стоит пересмотреть реагенты.\n",
    "    \n",
    "При этом несмотря на казалось бы не эффективную первую ступень очистки для золота и свинца второй этап показывавает эффективность даже больше чем у золота.\n",
    "    \n",
    "В итоге концентрат всех трех металлов после 3-х этапов получается очень близкий по значениям. Это говорит о том что при производстве золота, по данной технолоигии можно получать свинец и серебро в качестве вторичного продукта.  \n",
    "    \n",
    "2) К сожалению `подтвердить равенство средних размеров гранул не удалось`.  \n",
    "\n",
    "Тем не менее мы несовсем корректно использовали ттест для независимых выборок, а у нас они точно зависимы, и взаимоисключающие, поэтмоу полностью полагаться на него было бы так же не корректно, поэтому в дальнейшем будем исходить из того что размер гранул все-таки схож, а при предоставлении результатов прогнозов будем учитывать, что данные могут иметь погрешность.  \n",
    "    \n",
    "Поэтому лучше тестовую выборку формировать с учетом схожести размера гранул. Либо ждать новых данных, пока мы не получим более равномерные по размеру гранул данные.  \n",
    "  \n",
    "3) `Исследование концентрации всех векществ`. Все три распределения выглядят нормально. При этом мы видим небольшое количество нулевых значенией после этапа флотации и очистки. Причем после этапа очистки нулевых значений становится все меньше. Можно предположить, что это те объекты в которых ценных металлов либо было настолько мало, что в итоге процессов они разрушились, и более высокое но узкое распределение на графике как раз говорит о том что дисперсия и стандартное отклонение после этапа очистки гораздо меньше, что повышает стабильность и качество процесса восстановления.\n",
    "\n",
    "Скорее всего нули на обоих этапах - это особенность технологических процессов. И хотя и они могут быть ошибкой при выгрузке данных, или попросту данные по этим объектам на момент формирования выборок еще не были получены, вероятность этого на мой взгляд низка.\n",
    "\n",
    "В любом случае для нас эти нули определенно выбросы, которые могли бы испортить качество работы модели. Однако, при обучении модели мы будем использовать только данные по исходному сырью, в котором нулевых значений нет. Поэтому спокойно перходим к формированию модели.\n",
    "\n",
    "**Построение модели прогнозирвания коэффициента восстановления золота**:  \n",
    "- Тестовая и обучающая выборки были поделены на этапы в соответствии с технологией очистки;  \n",
    "- Для прогноза были взяты 3 модели регрессии:  \n",
    "    1) Решающее Дерево  \n",
    "    2) Случайный лес  \n",
    "    3) Линейная регрессия  \n",
    "- Признаки в обучающей и тестовой выборках были масштабированы.\n",
    "- Была написана функция расчета качества предсказания коэффициента восстановления sMAPE;  \n",
    "- Для каждого из алгоритмов были подобраны наилучшие гиперпараметры;  \n",
    "- С помощью кросс-валидации на основе sMAPE были выбраны наиболее подходящие модели для каждого этапа;  \n",
    "- **Расчет итоговой sMAPE показал, что симметричное(учитывающее веса обоих этапов производства) отклонение спрогнозированного коэффициента восстановления золота от фактического составило  4,83% , что отличается от константной модели всего лишь на 1,5%(3,28%)**."
   ]
  }
 ],
 "metadata": {
  "ExecuteTimeLog": [
   {
    "duration": 680,
    "start_time": "2022-05-16T20:39:40.768Z"
   },
   {
    "duration": 111,
    "start_time": "2022-05-16T20:41:58.210Z"
   },
   {
    "duration": 76,
    "start_time": "2022-05-16T20:42:02.877Z"
   },
   {
    "duration": 400,
    "start_time": "2022-05-16T20:44:19.797Z"
   },
   {
    "duration": 606,
    "start_time": "2022-05-16T20:44:28.027Z"
   },
   {
    "duration": 478,
    "start_time": "2022-05-16T20:44:28.636Z"
   },
   {
    "duration": 581,
    "start_time": "2022-05-16T20:44:38.457Z"
   },
   {
    "duration": 1234,
    "start_time": "2022-05-16T20:44:42.144Z"
   },
   {
    "duration": 1017,
    "start_time": "2022-05-16T20:45:53.499Z"
   },
   {
    "duration": 45,
    "start_time": "2022-05-17T19:28:25.155Z"
   },
   {
    "duration": 49,
    "start_time": "2022-05-17T19:28:28.760Z"
   },
   {
    "duration": 504,
    "start_time": "2022-05-17T19:28:37.459Z"
   },
   {
    "duration": 3296,
    "start_time": "2022-05-17T19:28:37.964Z"
   },
   {
    "duration": 672,
    "start_time": "2022-05-17T19:30:44.321Z"
   },
   {
    "duration": 676,
    "start_time": "2022-05-17T19:30:53.485Z"
   },
   {
    "duration": 19,
    "start_time": "2022-05-17T19:30:59.979Z"
   },
   {
    "duration": 26,
    "start_time": "2022-05-17T20:47:16.104Z"
   },
   {
    "duration": 4,
    "start_time": "2022-05-17T20:47:23.241Z"
   },
   {
    "duration": 19,
    "start_time": "2022-05-17T20:49:13.827Z"
   },
   {
    "duration": 14,
    "start_time": "2022-05-17T20:49:16.065Z"
   },
   {
    "duration": 586,
    "start_time": "2022-05-19T08:35:13.737Z"
   },
   {
    "duration": 570,
    "start_time": "2022-05-19T08:35:19.213Z"
   },
   {
    "duration": 1581,
    "start_time": "2022-05-19T08:35:19.785Z"
   },
   {
    "duration": 24,
    "start_time": "2022-05-19T08:35:21.368Z"
   },
   {
    "duration": 12,
    "start_time": "2022-05-19T08:35:21.394Z"
   },
   {
    "duration": 30,
    "start_time": "2022-05-19T08:35:21.407Z"
   },
   {
    "duration": 17,
    "start_time": "2022-05-19T08:38:28.529Z"
   },
   {
    "duration": 15,
    "start_time": "2022-05-19T08:39:43.431Z"
   },
   {
    "duration": 30,
    "start_time": "2022-05-19T08:40:01.003Z"
   },
   {
    "duration": 11,
    "start_time": "2022-05-19T08:40:11.400Z"
   },
   {
    "duration": 55,
    "start_time": "2022-05-19T08:42:02.184Z"
   },
   {
    "duration": 86,
    "start_time": "2022-05-19T08:48:42.795Z"
   },
   {
    "duration": 144,
    "start_time": "2022-05-19T08:48:50.201Z"
   },
   {
    "duration": 247,
    "start_time": "2022-05-19T08:49:01.127Z"
   },
   {
    "duration": 9,
    "start_time": "2022-05-19T08:49:43.206Z"
   },
   {
    "duration": 60,
    "start_time": "2022-05-19T09:06:20.956Z"
   },
   {
    "duration": 33,
    "start_time": "2022-05-19T09:06:37.329Z"
   },
   {
    "duration": 29,
    "start_time": "2022-05-19T09:06:47.043Z"
   },
   {
    "duration": 26,
    "start_time": "2022-05-19T09:06:51.370Z"
   },
   {
    "duration": 31,
    "start_time": "2022-05-19T09:06:57.975Z"
   },
   {
    "duration": 536,
    "start_time": "2022-05-19T09:07:03.787Z"
   },
   {
    "duration": 787,
    "start_time": "2022-05-19T09:07:04.325Z"
   },
   {
    "duration": 38,
    "start_time": "2022-05-19T09:07:05.113Z"
   },
   {
    "duration": 4,
    "start_time": "2022-05-19T09:07:05.153Z"
   },
   {
    "duration": 30,
    "start_time": "2022-05-19T09:07:05.158Z"
   },
   {
    "duration": 15,
    "start_time": "2022-05-19T09:07:05.190Z"
   },
   {
    "duration": 82,
    "start_time": "2022-05-19T09:07:05.207Z"
   },
   {
    "duration": 9,
    "start_time": "2022-05-19T09:07:05.291Z"
   },
   {
    "duration": 64,
    "start_time": "2022-05-19T09:07:05.302Z"
   },
   {
    "duration": 551,
    "start_time": "2022-05-19T09:07:15.622Z"
   },
   {
    "duration": 822,
    "start_time": "2022-05-19T09:07:16.175Z"
   },
   {
    "duration": 28,
    "start_time": "2022-05-19T09:07:16.999Z"
   },
   {
    "duration": 6,
    "start_time": "2022-05-19T09:07:17.032Z"
   },
   {
    "duration": 37,
    "start_time": "2022-05-19T09:07:17.040Z"
   },
   {
    "duration": 35,
    "start_time": "2022-05-19T09:07:17.080Z"
   },
   {
    "duration": 94,
    "start_time": "2022-05-19T09:07:17.117Z"
   },
   {
    "duration": 11,
    "start_time": "2022-05-19T09:07:17.214Z"
   },
   {
    "duration": 87,
    "start_time": "2022-05-19T09:07:17.227Z"
   },
   {
    "duration": 50,
    "start_time": "2022-05-19T09:07:32.327Z"
   },
   {
    "duration": 668,
    "start_time": "2022-05-19T09:07:45.941Z"
   },
   {
    "duration": 866,
    "start_time": "2022-05-19T09:07:46.612Z"
   },
   {
    "duration": 28,
    "start_time": "2022-05-19T09:07:47.480Z"
   },
   {
    "duration": 22,
    "start_time": "2022-05-19T09:07:47.510Z"
   },
   {
    "duration": 25,
    "start_time": "2022-05-19T09:07:47.535Z"
   },
   {
    "duration": 32,
    "start_time": "2022-05-19T09:07:47.562Z"
   },
   {
    "duration": 85,
    "start_time": "2022-05-19T09:07:47.596Z"
   },
   {
    "duration": 10,
    "start_time": "2022-05-19T09:07:47.683Z"
   },
   {
    "duration": 68,
    "start_time": "2022-05-19T09:07:47.695Z"
   },
   {
    "duration": 104,
    "start_time": "2022-05-19T09:09:34.364Z"
   },
   {
    "duration": 865,
    "start_time": "2022-05-19T09:10:05.445Z"
   },
   {
    "duration": 16,
    "start_time": "2022-05-19T09:11:41.261Z"
   },
   {
    "duration": 17,
    "start_time": "2022-05-19T09:12:12.949Z"
   },
   {
    "duration": 259,
    "start_time": "2022-05-19T09:13:31.156Z"
   },
   {
    "duration": 8,
    "start_time": "2022-05-19T09:13:40.424Z"
   },
   {
    "duration": 6,
    "start_time": "2022-05-19T09:21:20.050Z"
   },
   {
    "duration": 6,
    "start_time": "2022-05-19T09:21:46.958Z"
   },
   {
    "duration": 568,
    "start_time": "2022-05-19T09:21:54.628Z"
   },
   {
    "duration": 835,
    "start_time": "2022-05-19T09:21:55.197Z"
   },
   {
    "duration": 36,
    "start_time": "2022-05-19T09:21:56.034Z"
   },
   {
    "duration": 4,
    "start_time": "2022-05-19T09:21:56.073Z"
   },
   {
    "duration": 23,
    "start_time": "2022-05-19T09:21:56.078Z"
   },
   {
    "duration": 48,
    "start_time": "2022-05-19T09:21:56.104Z"
   },
   {
    "duration": 109,
    "start_time": "2022-05-19T09:21:56.155Z"
   },
   {
    "duration": 15,
    "start_time": "2022-05-19T09:21:56.269Z"
   },
   {
    "duration": 75,
    "start_time": "2022-05-19T09:21:56.286Z"
   },
   {
    "duration": 35,
    "start_time": "2022-05-19T09:23:53.681Z"
   },
   {
    "duration": 91,
    "start_time": "2022-05-19T09:24:40.198Z"
   },
   {
    "duration": 4,
    "start_time": "2022-05-19T09:25:02.317Z"
   },
   {
    "duration": 17,
    "start_time": "2022-05-19T09:34:22.245Z"
   },
   {
    "duration": 517,
    "start_time": "2022-05-19T09:34:34.861Z"
   },
   {
    "duration": 778,
    "start_time": "2022-05-19T09:34:35.380Z"
   },
   {
    "duration": 30,
    "start_time": "2022-05-19T09:34:36.160Z"
   },
   {
    "duration": 11,
    "start_time": "2022-05-19T09:34:36.192Z"
   },
   {
    "duration": 34,
    "start_time": "2022-05-19T09:34:36.206Z"
   },
   {
    "duration": 76,
    "start_time": "2022-05-19T09:34:36.242Z"
   },
   {
    "duration": 94,
    "start_time": "2022-05-19T09:34:36.320Z"
   },
   {
    "duration": 20,
    "start_time": "2022-05-19T09:34:36.417Z"
   },
   {
    "duration": 128,
    "start_time": "2022-05-19T09:34:36.439Z"
   },
   {
    "duration": 54,
    "start_time": "2022-05-19T09:35:01.952Z"
   },
   {
    "duration": 46,
    "start_time": "2022-05-19T09:36:06.851Z"
   },
   {
    "duration": 611,
    "start_time": "2022-05-19T09:36:48.803Z"
   },
   {
    "duration": 799,
    "start_time": "2022-05-19T09:36:49.416Z"
   },
   {
    "duration": 42,
    "start_time": "2022-05-19T09:36:50.217Z"
   },
   {
    "duration": 14,
    "start_time": "2022-05-19T09:36:50.262Z"
   },
   {
    "duration": 15,
    "start_time": "2022-05-19T09:36:50.277Z"
   },
   {
    "duration": 33,
    "start_time": "2022-05-19T09:36:50.294Z"
   },
   {
    "duration": 100,
    "start_time": "2022-05-19T09:36:50.330Z"
   },
   {
    "duration": 20,
    "start_time": "2022-05-19T09:36:50.432Z"
   },
   {
    "duration": 64,
    "start_time": "2022-05-19T09:36:50.457Z"
   },
   {
    "duration": 91,
    "start_time": "2022-05-19T09:38:49.107Z"
   },
   {
    "duration": 18,
    "start_time": "2022-05-19T09:39:02.249Z"
   },
   {
    "duration": 20,
    "start_time": "2022-05-19T09:42:14.674Z"
   },
   {
    "duration": 27,
    "start_time": "2022-05-19T09:42:23.019Z"
   },
   {
    "duration": 550,
    "start_time": "2022-05-19T09:42:28.457Z"
   },
   {
    "duration": 997,
    "start_time": "2022-05-19T09:42:29.009Z"
   },
   {
    "duration": 42,
    "start_time": "2022-05-19T09:42:30.008Z"
   },
   {
    "duration": 12,
    "start_time": "2022-05-19T09:42:30.053Z"
   },
   {
    "duration": 32,
    "start_time": "2022-05-19T09:42:30.066Z"
   },
   {
    "duration": 31,
    "start_time": "2022-05-19T09:42:30.100Z"
   },
   {
    "duration": 73,
    "start_time": "2022-05-19T09:42:30.132Z"
   },
   {
    "duration": 30,
    "start_time": "2022-05-19T09:42:30.207Z"
   },
   {
    "duration": 54,
    "start_time": "2022-05-19T09:42:30.239Z"
   },
   {
    "duration": 105,
    "start_time": "2022-05-19T10:05:45.099Z"
   },
   {
    "duration": 15,
    "start_time": "2022-05-19T10:06:07.844Z"
   },
   {
    "duration": 14,
    "start_time": "2022-05-19T10:06:18.771Z"
   },
   {
    "duration": 45,
    "start_time": "2022-05-19T10:06:39.247Z"
   },
   {
    "duration": 56,
    "start_time": "2022-05-19T10:28:06.171Z"
   },
   {
    "duration": 34,
    "start_time": "2022-05-19T10:28:21.992Z"
   },
   {
    "duration": 854,
    "start_time": "2022-05-19T10:28:29.367Z"
   },
   {
    "duration": 685,
    "start_time": "2022-05-19T10:28:42.378Z"
   },
   {
    "duration": 54,
    "start_time": "2022-05-19T10:30:20.424Z"
   },
   {
    "duration": 613,
    "start_time": "2022-05-19T10:30:24.656Z"
   },
   {
    "duration": 15,
    "start_time": "2022-05-19T10:31:19.224Z"
   },
   {
    "duration": 12,
    "start_time": "2022-05-19T10:31:57.011Z"
   },
   {
    "duration": 35,
    "start_time": "2022-05-19T10:33:08.128Z"
   },
   {
    "duration": 16,
    "start_time": "2022-05-19T10:33:14.302Z"
   },
   {
    "duration": 665,
    "start_time": "2022-05-19T10:33:48.198Z"
   },
   {
    "duration": 11,
    "start_time": "2022-05-19T10:34:38.727Z"
   },
   {
    "duration": 639,
    "start_time": "2022-05-19T10:35:32.980Z"
   },
   {
    "duration": 10,
    "start_time": "2022-05-19T10:38:22.012Z"
   },
   {
    "duration": 9,
    "start_time": "2022-05-19T10:41:16.775Z"
   },
   {
    "duration": 10,
    "start_time": "2022-05-19T10:43:35.398Z"
   },
   {
    "duration": 10,
    "start_time": "2022-05-19T10:43:54.883Z"
   },
   {
    "duration": 1352,
    "start_time": "2022-05-19T10:47:02.265Z"
   },
   {
    "duration": 2163,
    "start_time": "2022-05-19T10:47:03.619Z"
   },
   {
    "duration": 29,
    "start_time": "2022-05-19T10:47:05.785Z"
   },
   {
    "duration": 42,
    "start_time": "2022-05-19T10:47:05.816Z"
   },
   {
    "duration": 44,
    "start_time": "2022-05-19T10:47:05.861Z"
   },
   {
    "duration": 41,
    "start_time": "2022-05-19T10:47:05.907Z"
   },
   {
    "duration": 137,
    "start_time": "2022-05-19T10:47:05.951Z"
   },
   {
    "duration": 13,
    "start_time": "2022-05-19T10:47:06.091Z"
   },
   {
    "duration": 33,
    "start_time": "2022-05-19T10:47:06.106Z"
   },
   {
    "duration": 70,
    "start_time": "2022-05-19T10:47:06.141Z"
   },
   {
    "duration": 455,
    "start_time": "2022-05-19T10:47:06.213Z"
   },
   {
    "duration": 14,
    "start_time": "2022-05-19T10:50:37.845Z"
   },
   {
    "duration": 110,
    "start_time": "2022-05-19T10:51:06.910Z"
   },
   {
    "duration": 1079,
    "start_time": "2022-05-19T10:51:19.630Z"
   },
   {
    "duration": 1032,
    "start_time": "2022-05-19T10:51:20.712Z"
   },
   {
    "duration": 30,
    "start_time": "2022-05-19T10:51:21.746Z"
   },
   {
    "duration": 5,
    "start_time": "2022-05-19T10:51:21.779Z"
   },
   {
    "duration": 20,
    "start_time": "2022-05-19T10:51:21.785Z"
   },
   {
    "duration": 25,
    "start_time": "2022-05-19T10:51:21.826Z"
   },
   {
    "duration": 106,
    "start_time": "2022-05-19T10:51:21.854Z"
   },
   {
    "duration": 11,
    "start_time": "2022-05-19T10:51:21.963Z"
   },
   {
    "duration": 29,
    "start_time": "2022-05-19T10:51:21.976Z"
   },
   {
    "duration": 119,
    "start_time": "2022-05-19T10:51:22.029Z"
   },
   {
    "duration": 0,
    "start_time": "2022-05-19T10:51:22.151Z"
   },
   {
    "duration": 10,
    "start_time": "2022-05-19T10:51:47.275Z"
   },
   {
    "duration": 87,
    "start_time": "2022-05-19T10:51:52.159Z"
   },
   {
    "duration": 221,
    "start_time": "2022-05-19T10:52:59.312Z"
   },
   {
    "duration": 177,
    "start_time": "2022-05-19T10:53:14.752Z"
   },
   {
    "duration": 55,
    "start_time": "2022-05-19T10:58:02.111Z"
   },
   {
    "duration": 9,
    "start_time": "2022-05-19T12:04:37.294Z"
   },
   {
    "duration": 5,
    "start_time": "2022-05-19T12:04:44.925Z"
   },
   {
    "duration": 7,
    "start_time": "2022-05-19T12:05:55.963Z"
   },
   {
    "duration": 22,
    "start_time": "2022-05-19T12:08:46.443Z"
   },
   {
    "duration": 19,
    "start_time": "2022-05-19T12:08:58.083Z"
   },
   {
    "duration": 26,
    "start_time": "2022-05-19T12:09:03.334Z"
   },
   {
    "duration": 24,
    "start_time": "2022-05-19T12:09:12.252Z"
   },
   {
    "duration": 16,
    "start_time": "2022-05-19T12:10:04.743Z"
   },
   {
    "duration": 17,
    "start_time": "2022-05-19T12:10:12.442Z"
   },
   {
    "duration": 1552,
    "start_time": "2022-05-19T12:11:35.510Z"
   },
   {
    "duration": 1597,
    "start_time": "2022-05-19T12:11:37.064Z"
   },
   {
    "duration": 31,
    "start_time": "2022-05-19T12:11:38.663Z"
   },
   {
    "duration": 15,
    "start_time": "2022-05-19T12:11:38.697Z"
   },
   {
    "duration": 26,
    "start_time": "2022-05-19T12:11:38.715Z"
   },
   {
    "duration": 24,
    "start_time": "2022-05-19T12:11:38.743Z"
   },
   {
    "duration": 106,
    "start_time": "2022-05-19T12:11:38.769Z"
   },
   {
    "duration": 10,
    "start_time": "2022-05-19T12:11:38.877Z"
   },
   {
    "duration": 54,
    "start_time": "2022-05-19T12:11:38.889Z"
   },
   {
    "duration": 10,
    "start_time": "2022-05-19T12:11:38.946Z"
   },
   {
    "duration": 94,
    "start_time": "2022-05-19T12:11:38.958Z"
   },
   {
    "duration": 177,
    "start_time": "2022-05-19T12:11:39.054Z"
   },
   {
    "duration": 147,
    "start_time": "2022-05-19T12:11:39.233Z"
   },
   {
    "duration": 200,
    "start_time": "2022-05-19T12:11:45.682Z"
   },
   {
    "duration": 260,
    "start_time": "2022-05-19T12:12:34.756Z"
   },
   {
    "duration": 169,
    "start_time": "2022-05-19T12:13:35.159Z"
   },
   {
    "duration": 165,
    "start_time": "2022-05-19T12:14:47.128Z"
   },
   {
    "duration": 183,
    "start_time": "2022-05-19T12:16:41.044Z"
   },
   {
    "duration": 174,
    "start_time": "2022-05-19T12:16:47.351Z"
   },
   {
    "duration": 192,
    "start_time": "2022-05-19T12:17:25.606Z"
   },
   {
    "duration": 221,
    "start_time": "2022-05-19T12:17:51.991Z"
   },
   {
    "duration": 221,
    "start_time": "2022-05-19T12:19:45.011Z"
   },
   {
    "duration": 234,
    "start_time": "2022-05-19T12:20:23.114Z"
   },
   {
    "duration": 172,
    "start_time": "2022-05-19T12:20:27.561Z"
   },
   {
    "duration": 205,
    "start_time": "2022-05-19T12:22:02.895Z"
   },
   {
    "duration": 184,
    "start_time": "2022-05-19T12:22:11.617Z"
   },
   {
    "duration": 178,
    "start_time": "2022-05-19T12:22:52.681Z"
   },
   {
    "duration": 165,
    "start_time": "2022-05-19T12:24:06.716Z"
   },
   {
    "duration": 135,
    "start_time": "2022-05-19T12:24:29.828Z"
   },
   {
    "duration": 328,
    "start_time": "2022-05-19T12:24:41.237Z"
   },
   {
    "duration": 156,
    "start_time": "2022-05-19T12:25:19.972Z"
   },
   {
    "duration": 199,
    "start_time": "2022-05-19T12:26:10.698Z"
   },
   {
    "duration": 151,
    "start_time": "2022-05-19T12:27:38.593Z"
   },
   {
    "duration": 192,
    "start_time": "2022-05-19T12:27:43.226Z"
   },
   {
    "duration": 142,
    "start_time": "2022-05-19T12:27:47.828Z"
   },
   {
    "duration": 148,
    "start_time": "2022-05-19T12:27:55.951Z"
   },
   {
    "duration": 158,
    "start_time": "2022-05-19T12:28:07.375Z"
   },
   {
    "duration": 160,
    "start_time": "2022-05-19T12:28:10.879Z"
   },
   {
    "duration": 150,
    "start_time": "2022-05-19T12:28:27.255Z"
   },
   {
    "duration": 161,
    "start_time": "2022-05-19T12:28:37.575Z"
   },
   {
    "duration": 193,
    "start_time": "2022-05-19T12:28:46.376Z"
   },
   {
    "duration": 148,
    "start_time": "2022-05-19T12:30:24.872Z"
   },
   {
    "duration": 152,
    "start_time": "2022-05-19T12:30:30.361Z"
   },
   {
    "duration": 163,
    "start_time": "2022-05-19T12:30:37.103Z"
   },
   {
    "duration": 197,
    "start_time": "2022-05-19T12:30:51.099Z"
   },
   {
    "duration": 194,
    "start_time": "2022-05-19T12:31:59.278Z"
   },
   {
    "duration": 235,
    "start_time": "2022-05-19T12:32:03.516Z"
   },
   {
    "duration": 183,
    "start_time": "2022-05-19T12:32:08.219Z"
   },
   {
    "duration": 190,
    "start_time": "2022-05-19T12:37:18.271Z"
   },
   {
    "duration": 184,
    "start_time": "2022-05-19T12:38:11.798Z"
   },
   {
    "duration": 193,
    "start_time": "2022-05-19T12:38:19.157Z"
   },
   {
    "duration": 197,
    "start_time": "2022-05-19T12:38:26.041Z"
   },
   {
    "duration": 179,
    "start_time": "2022-05-19T12:38:42.464Z"
   },
   {
    "duration": 193,
    "start_time": "2022-05-19T12:39:50.807Z"
   },
   {
    "duration": 403,
    "start_time": "2022-05-19T12:45:06.480Z"
   },
   {
    "duration": 215,
    "start_time": "2022-05-19T12:45:12.961Z"
   },
   {
    "duration": 197,
    "start_time": "2022-05-19T14:37:25.566Z"
   },
   {
    "duration": 175,
    "start_time": "2022-05-19T14:38:01.362Z"
   },
   {
    "duration": 195,
    "start_time": "2022-05-19T14:38:08.258Z"
   },
   {
    "duration": 260,
    "start_time": "2022-05-19T14:39:31.162Z"
   },
   {
    "duration": 195,
    "start_time": "2022-05-19T14:39:45.116Z"
   },
   {
    "duration": 194,
    "start_time": "2022-05-19T14:40:11.914Z"
   },
   {
    "duration": 208,
    "start_time": "2022-05-19T14:40:22.573Z"
   },
   {
    "duration": 204,
    "start_time": "2022-05-19T14:40:57.228Z"
   },
   {
    "duration": 185,
    "start_time": "2022-05-19T14:43:03.167Z"
   },
   {
    "duration": 249,
    "start_time": "2022-05-19T14:43:16.348Z"
   },
   {
    "duration": 189,
    "start_time": "2022-05-19T14:44:02.782Z"
   },
   {
    "duration": 252,
    "start_time": "2022-05-19T14:44:09.289Z"
   },
   {
    "duration": 195,
    "start_time": "2022-05-19T14:44:20.819Z"
   },
   {
    "duration": 180,
    "start_time": "2022-05-19T14:44:29.805Z"
   },
   {
    "duration": 231,
    "start_time": "2022-05-19T14:45:06.627Z"
   },
   {
    "duration": 242,
    "start_time": "2022-05-19T14:45:16.242Z"
   },
   {
    "duration": 190,
    "start_time": "2022-05-19T14:46:20.469Z"
   },
   {
    "duration": 221,
    "start_time": "2022-05-19T14:47:15.446Z"
   },
   {
    "duration": 259,
    "start_time": "2022-05-19T14:47:28.305Z"
   },
   {
    "duration": 238,
    "start_time": "2022-05-19T14:47:46.501Z"
   },
   {
    "duration": 250,
    "start_time": "2022-05-19T14:48:51.854Z"
   },
   {
    "duration": 265,
    "start_time": "2022-05-19T14:48:56.369Z"
   },
   {
    "duration": 491,
    "start_time": "2022-05-19T14:49:00.052Z"
   },
   {
    "duration": 261,
    "start_time": "2022-05-19T14:49:39.093Z"
   },
   {
    "duration": 253,
    "start_time": "2022-05-19T14:49:47.507Z"
   },
   {
    "duration": 262,
    "start_time": "2022-05-19T14:49:53.802Z"
   },
   {
    "duration": 243,
    "start_time": "2022-05-19T14:49:57.455Z"
   },
   {
    "duration": 274,
    "start_time": "2022-05-19T14:50:09.326Z"
   },
   {
    "duration": 35,
    "start_time": "2022-05-19T15:12:34.935Z"
   },
   {
    "duration": 522,
    "start_time": "2022-05-19T15:12:46.965Z"
   },
   {
    "duration": 7,
    "start_time": "2022-05-19T15:13:37.278Z"
   },
   {
    "duration": 35580,
    "start_time": "2022-05-19T15:18:24.913Z"
   },
   {
    "duration": 201,
    "start_time": "2022-05-19T15:20:12.664Z"
   },
   {
    "duration": 206,
    "start_time": "2022-05-19T15:20:22.184Z"
   },
   {
    "duration": 136,
    "start_time": "2022-05-19T15:20:55.159Z"
   },
   {
    "duration": 181,
    "start_time": "2022-05-19T15:21:22.879Z"
   },
   {
    "duration": 36869,
    "start_time": "2022-05-19T15:21:33.646Z"
   },
   {
    "duration": 37281,
    "start_time": "2022-05-19T15:22:39.356Z"
   },
   {
    "duration": 0,
    "start_time": "2022-05-19T15:25:08.564Z"
   },
   {
    "duration": 82148,
    "start_time": "2022-05-19T15:25:38.680Z"
   },
   {
    "duration": 286,
    "start_time": "2022-05-19T15:27:23.884Z"
   },
   {
    "duration": 245,
    "start_time": "2022-05-19T15:27:54.282Z"
   },
   {
    "duration": 236,
    "start_time": "2022-05-19T15:28:01.957Z"
   },
   {
    "duration": 270,
    "start_time": "2022-05-19T15:28:51.005Z"
   },
   {
    "duration": 219,
    "start_time": "2022-05-19T15:31:54.432Z"
   },
   {
    "duration": 234,
    "start_time": "2022-05-19T15:32:05.256Z"
   },
   {
    "duration": 256,
    "start_time": "2022-05-19T15:32:09.948Z"
   },
   {
    "duration": 244,
    "start_time": "2022-05-19T15:32:40.476Z"
   },
   {
    "duration": 4183,
    "start_time": "2022-05-19T15:33:29.736Z"
   },
   {
    "duration": 13,
    "start_time": "2022-05-19T15:46:19.067Z"
   },
   {
    "duration": 13,
    "start_time": "2022-05-19T15:46:55.155Z"
   },
   {
    "duration": 17,
    "start_time": "2022-05-19T15:47:27.716Z"
   },
   {
    "duration": 1220,
    "start_time": "2022-05-19T15:47:36.300Z"
   },
   {
    "duration": 766,
    "start_time": "2022-05-19T15:47:37.521Z"
   },
   {
    "duration": 39,
    "start_time": "2022-05-19T15:47:38.289Z"
   },
   {
    "duration": 8,
    "start_time": "2022-05-19T15:47:38.330Z"
   },
   {
    "duration": 21,
    "start_time": "2022-05-19T15:47:38.341Z"
   },
   {
    "duration": 23,
    "start_time": "2022-05-19T15:47:38.364Z"
   },
   {
    "duration": 107,
    "start_time": "2022-05-19T15:47:38.389Z"
   },
   {
    "duration": 31,
    "start_time": "2022-05-19T15:47:38.499Z"
   },
   {
    "duration": 23,
    "start_time": "2022-05-19T15:47:38.532Z"
   },
   {
    "duration": 10,
    "start_time": "2022-05-19T15:47:38.557Z"
   },
   {
    "duration": 85,
    "start_time": "2022-05-19T15:47:38.569Z"
   },
   {
    "duration": 171,
    "start_time": "2022-05-19T15:47:38.656Z"
   },
   {
    "duration": 293,
    "start_time": "2022-05-19T15:47:38.829Z"
   },
   {
    "duration": 287,
    "start_time": "2022-05-19T15:47:39.125Z"
   },
   {
    "duration": 297,
    "start_time": "2022-05-19T15:47:39.414Z"
   },
   {
    "duration": 28,
    "start_time": "2022-05-19T15:47:39.713Z"
   },
   {
    "duration": 16,
    "start_time": "2022-05-19T16:14:23.032Z"
   },
   {
    "duration": 1096,
    "start_time": "2022-05-19T16:17:21.849Z"
   },
   {
    "duration": 712,
    "start_time": "2022-05-19T16:17:22.948Z"
   },
   {
    "duration": 23,
    "start_time": "2022-05-19T16:17:23.662Z"
   },
   {
    "duration": 5,
    "start_time": "2022-05-19T16:17:23.688Z"
   },
   {
    "duration": 33,
    "start_time": "2022-05-19T16:17:23.694Z"
   },
   {
    "duration": 16,
    "start_time": "2022-05-19T16:17:23.728Z"
   },
   {
    "duration": 52,
    "start_time": "2022-05-19T16:17:23.746Z"
   },
   {
    "duration": 37,
    "start_time": "2022-05-19T16:17:23.800Z"
   },
   {
    "duration": 20,
    "start_time": "2022-05-19T16:17:23.839Z"
   },
   {
    "duration": 9,
    "start_time": "2022-05-19T16:17:23.862Z"
   },
   {
    "duration": 77,
    "start_time": "2022-05-19T16:17:23.873Z"
   },
   {
    "duration": 155,
    "start_time": "2022-05-19T16:17:23.952Z"
   },
   {
    "duration": 266,
    "start_time": "2022-05-19T16:17:24.109Z"
   },
   {
    "duration": 252,
    "start_time": "2022-05-19T16:17:24.377Z"
   },
   {
    "duration": 230,
    "start_time": "2022-05-19T16:17:24.631Z"
   },
   {
    "duration": 18,
    "start_time": "2022-05-19T16:17:24.863Z"
   },
   {
    "duration": 15,
    "start_time": "2022-05-19T16:17:24.883Z"
   },
   {
    "duration": 121,
    "start_time": "2022-05-19T16:17:24.900Z"
   },
   {
    "duration": 27,
    "start_time": "2022-05-19T16:19:19.776Z"
   },
   {
    "duration": 15,
    "start_time": "2022-05-19T16:19:48.837Z"
   },
   {
    "duration": 1165,
    "start_time": "2022-05-19T16:20:25.863Z"
   },
   {
    "duration": 675,
    "start_time": "2022-05-19T16:20:27.029Z"
   },
   {
    "duration": 37,
    "start_time": "2022-05-19T16:20:27.706Z"
   },
   {
    "duration": 19,
    "start_time": "2022-05-19T16:20:27.745Z"
   },
   {
    "duration": 19,
    "start_time": "2022-05-19T16:20:27.766Z"
   },
   {
    "duration": 29,
    "start_time": "2022-05-19T16:20:27.790Z"
   },
   {
    "duration": 64,
    "start_time": "2022-05-19T16:20:27.821Z"
   },
   {
    "duration": 12,
    "start_time": "2022-05-19T16:20:27.888Z"
   },
   {
    "duration": 42,
    "start_time": "2022-05-19T16:20:27.901Z"
   },
   {
    "duration": 25,
    "start_time": "2022-05-19T16:20:27.946Z"
   },
   {
    "duration": 62,
    "start_time": "2022-05-19T16:20:27.973Z"
   },
   {
    "duration": 161,
    "start_time": "2022-05-19T16:20:28.037Z"
   },
   {
    "duration": 275,
    "start_time": "2022-05-19T16:20:28.201Z"
   },
   {
    "duration": 249,
    "start_time": "2022-05-19T16:20:28.478Z"
   },
   {
    "duration": 210,
    "start_time": "2022-05-19T16:20:28.729Z"
   },
   {
    "duration": 19,
    "start_time": "2022-05-19T16:20:28.940Z"
   },
   {
    "duration": 17,
    "start_time": "2022-05-19T16:20:28.961Z"
   },
   {
    "duration": 131,
    "start_time": "2022-05-19T16:20:28.980Z"
   },
   {
    "duration": 97,
    "start_time": "2022-05-19T16:32:35.195Z"
   },
   {
    "duration": 26,
    "start_time": "2022-05-19T16:32:42.205Z"
   },
   {
    "duration": 67,
    "start_time": "2022-05-19T16:32:52.522Z"
   },
   {
    "duration": 22,
    "start_time": "2022-05-19T16:33:04.074Z"
   },
   {
    "duration": 5,
    "start_time": "2022-05-19T16:35:42.199Z"
   },
   {
    "duration": 48,
    "start_time": "2022-05-19T16:37:10.254Z"
   },
   {
    "duration": 12,
    "start_time": "2022-05-19T16:37:13.676Z"
   },
   {
    "duration": 49,
    "start_time": "2022-05-19T17:53:16.692Z"
   },
   {
    "duration": 5,
    "start_time": "2022-05-19T17:53:34.155Z"
   },
   {
    "duration": 4,
    "start_time": "2022-05-19T17:55:04.413Z"
   },
   {
    "duration": 452,
    "start_time": "2022-05-19T17:57:07.484Z"
   },
   {
    "duration": 527,
    "start_time": "2022-05-19T17:57:52.708Z"
   },
   {
    "duration": 7,
    "start_time": "2022-05-19T17:58:14.136Z"
   },
   {
    "duration": 28,
    "start_time": "2022-05-19T17:58:17.810Z"
   },
   {
    "duration": 11,
    "start_time": "2022-05-19T18:00:58.306Z"
   },
   {
    "duration": 12,
    "start_time": "2022-05-19T18:01:03.083Z"
   },
   {
    "duration": 12,
    "start_time": "2022-05-19T18:01:34.081Z"
   },
   {
    "duration": 12,
    "start_time": "2022-05-19T18:09:31.235Z"
   },
   {
    "duration": 1118,
    "start_time": "2022-05-19T18:10:21.023Z"
   },
   {
    "duration": 702,
    "start_time": "2022-05-19T18:10:22.144Z"
   },
   {
    "duration": 23,
    "start_time": "2022-05-19T18:10:22.850Z"
   },
   {
    "duration": 4,
    "start_time": "2022-05-19T18:10:22.875Z"
   },
   {
    "duration": 14,
    "start_time": "2022-05-19T18:10:22.880Z"
   },
   {
    "duration": 52,
    "start_time": "2022-05-19T18:10:22.896Z"
   },
   {
    "duration": 80,
    "start_time": "2022-05-19T18:10:22.950Z"
   },
   {
    "duration": 12,
    "start_time": "2022-05-19T18:10:23.032Z"
   },
   {
    "duration": 20,
    "start_time": "2022-05-19T18:10:23.047Z"
   },
   {
    "duration": 25,
    "start_time": "2022-05-19T18:10:23.068Z"
   },
   {
    "duration": 38,
    "start_time": "2022-05-19T18:10:23.127Z"
   },
   {
    "duration": 155,
    "start_time": "2022-05-19T18:10:23.167Z"
   },
   {
    "duration": 268,
    "start_time": "2022-05-19T18:10:23.330Z"
   },
   {
    "duration": 284,
    "start_time": "2022-05-19T18:10:23.600Z"
   },
   {
    "duration": 231,
    "start_time": "2022-05-19T18:10:23.886Z"
   },
   {
    "duration": 17,
    "start_time": "2022-05-19T18:10:24.126Z"
   },
   {
    "duration": 5,
    "start_time": "2022-05-19T18:10:24.145Z"
   },
   {
    "duration": 17,
    "start_time": "2022-05-19T18:10:24.153Z"
   },
   {
    "duration": 27,
    "start_time": "2022-05-19T18:13:40.019Z"
   },
   {
    "duration": 3,
    "start_time": "2022-05-19T18:26:18.406Z"
   },
   {
    "duration": 110,
    "start_time": "2022-05-19T18:27:15.947Z"
   },
   {
    "duration": 13,
    "start_time": "2022-05-19T18:27:23.748Z"
   },
   {
    "duration": 13,
    "start_time": "2022-05-19T18:27:49.800Z"
   },
   {
    "duration": 10,
    "start_time": "2022-05-19T18:28:03.622Z"
   },
   {
    "duration": 3,
    "start_time": "2022-05-19T18:28:40.331Z"
   },
   {
    "duration": 5,
    "start_time": "2022-05-19T18:38:58.359Z"
   },
   {
    "duration": 12,
    "start_time": "2022-05-19T19:16:24.104Z"
   },
   {
    "duration": 1222,
    "start_time": "2022-05-19T19:16:29.968Z"
   },
   {
    "duration": 1088,
    "start_time": "2022-05-19T19:16:31.193Z"
   },
   {
    "duration": 33,
    "start_time": "2022-05-19T19:16:32.283Z"
   },
   {
    "duration": 21,
    "start_time": "2022-05-19T19:16:32.319Z"
   },
   {
    "duration": 49,
    "start_time": "2022-05-19T19:16:32.342Z"
   },
   {
    "duration": 16,
    "start_time": "2022-05-19T19:16:32.393Z"
   },
   {
    "duration": 93,
    "start_time": "2022-05-19T19:16:32.411Z"
   },
   {
    "duration": 14,
    "start_time": "2022-05-19T19:16:32.509Z"
   },
   {
    "duration": 57,
    "start_time": "2022-05-19T19:16:32.525Z"
   },
   {
    "duration": 33,
    "start_time": "2022-05-19T19:16:32.585Z"
   },
   {
    "duration": 60,
    "start_time": "2022-05-19T19:16:32.627Z"
   },
   {
    "duration": 200,
    "start_time": "2022-05-19T19:16:32.689Z"
   },
   {
    "duration": 267,
    "start_time": "2022-05-19T19:16:32.891Z"
   },
   {
    "duration": 317,
    "start_time": "2022-05-19T19:16:33.160Z"
   },
   {
    "duration": 272,
    "start_time": "2022-05-19T19:16:33.479Z"
   },
   {
    "duration": 42,
    "start_time": "2022-05-19T19:16:33.753Z"
   },
   {
    "duration": 33,
    "start_time": "2022-05-19T19:16:33.797Z"
   },
   {
    "duration": 108,
    "start_time": "2022-05-19T19:16:33.832Z"
   },
   {
    "duration": 172,
    "start_time": "2022-05-19T19:16:33.950Z"
   },
   {
    "duration": 11,
    "start_time": "2022-05-19T19:16:59.544Z"
   },
   {
    "duration": 14,
    "start_time": "2022-05-19T19:17:38.045Z"
   },
   {
    "duration": 40,
    "start_time": "2022-05-19T19:22:34.044Z"
   },
   {
    "duration": 7,
    "start_time": "2022-05-19T19:22:37.609Z"
   },
   {
    "duration": 30,
    "start_time": "2022-05-19T19:26:11.814Z"
   },
   {
    "duration": 26,
    "start_time": "2022-05-19T19:26:16.050Z"
   },
   {
    "duration": 933501,
    "start_time": "2022-05-19T19:26:40.115Z"
   },
   {
    "duration": 201889,
    "start_time": "2022-05-19T19:42:54.052Z"
   },
   {
    "duration": 7,
    "start_time": "2022-05-19T19:54:45.128Z"
   },
   {
    "duration": 13,
    "start_time": "2022-05-19T20:03:22.959Z"
   },
   {
    "duration": 14,
    "start_time": "2022-05-19T20:03:40.604Z"
   },
   {
    "duration": 11,
    "start_time": "2022-05-19T20:03:48.378Z"
   },
   {
    "duration": 5,
    "start_time": "2022-05-19T20:04:26.863Z"
   },
   {
    "duration": 6,
    "start_time": "2022-05-19T20:13:13.984Z"
   },
   {
    "duration": 10,
    "start_time": "2022-05-19T20:13:24.043Z"
   },
   {
    "duration": 0,
    "start_time": "2022-05-19T20:13:24.055Z"
   },
   {
    "duration": 1,
    "start_time": "2022-05-19T20:13:24.056Z"
   },
   {
    "duration": 0,
    "start_time": "2022-05-19T20:13:24.058Z"
   },
   {
    "duration": 0,
    "start_time": "2022-05-19T20:13:24.060Z"
   },
   {
    "duration": 52,
    "start_time": "2022-05-19T20:13:24.068Z"
   },
   {
    "duration": 0,
    "start_time": "2022-05-19T20:13:24.129Z"
   },
   {
    "duration": 0,
    "start_time": "2022-05-19T20:13:24.130Z"
   },
   {
    "duration": 0,
    "start_time": "2022-05-19T20:13:24.131Z"
   },
   {
    "duration": 0,
    "start_time": "2022-05-19T20:13:24.132Z"
   },
   {
    "duration": 0,
    "start_time": "2022-05-19T20:13:24.134Z"
   },
   {
    "duration": 0,
    "start_time": "2022-05-19T20:13:24.135Z"
   },
   {
    "duration": 0,
    "start_time": "2022-05-19T20:13:24.136Z"
   },
   {
    "duration": 0,
    "start_time": "2022-05-19T20:13:24.138Z"
   },
   {
    "duration": 0,
    "start_time": "2022-05-19T20:13:24.139Z"
   },
   {
    "duration": 0,
    "start_time": "2022-05-19T20:13:24.140Z"
   },
   {
    "duration": 0,
    "start_time": "2022-05-19T20:13:24.142Z"
   },
   {
    "duration": 0,
    "start_time": "2022-05-19T20:13:24.143Z"
   },
   {
    "duration": 0,
    "start_time": "2022-05-19T20:13:24.144Z"
   },
   {
    "duration": 0,
    "start_time": "2022-05-19T20:13:24.146Z"
   },
   {
    "duration": 11,
    "start_time": "2022-05-19T20:14:24.009Z"
   },
   {
    "duration": 0,
    "start_time": "2022-05-19T20:14:24.022Z"
   },
   {
    "duration": 0,
    "start_time": "2022-05-19T20:14:24.023Z"
   },
   {
    "duration": 0,
    "start_time": "2022-05-19T20:14:24.024Z"
   },
   {
    "duration": 0,
    "start_time": "2022-05-19T20:14:24.026Z"
   },
   {
    "duration": 0,
    "start_time": "2022-05-19T20:14:24.027Z"
   },
   {
    "duration": 0,
    "start_time": "2022-05-19T20:14:24.027Z"
   },
   {
    "duration": 77,
    "start_time": "2022-05-19T20:14:24.028Z"
   },
   {
    "duration": 0,
    "start_time": "2022-05-19T20:14:24.108Z"
   },
   {
    "duration": 0,
    "start_time": "2022-05-19T20:14:24.109Z"
   },
   {
    "duration": 0,
    "start_time": "2022-05-19T20:14:24.110Z"
   },
   {
    "duration": 0,
    "start_time": "2022-05-19T20:14:24.112Z"
   },
   {
    "duration": 0,
    "start_time": "2022-05-19T20:14:24.113Z"
   },
   {
    "duration": 0,
    "start_time": "2022-05-19T20:14:24.133Z"
   },
   {
    "duration": 0,
    "start_time": "2022-05-19T20:14:24.134Z"
   },
   {
    "duration": 0,
    "start_time": "2022-05-19T20:14:24.134Z"
   },
   {
    "duration": 0,
    "start_time": "2022-05-19T20:14:24.136Z"
   },
   {
    "duration": 0,
    "start_time": "2022-05-19T20:14:24.137Z"
   },
   {
    "duration": 0,
    "start_time": "2022-05-19T20:14:24.138Z"
   },
   {
    "duration": 4,
    "start_time": "2022-05-19T20:14:48.461Z"
   },
   {
    "duration": 10,
    "start_time": "2022-05-19T20:14:54.774Z"
   },
   {
    "duration": 13,
    "start_time": "2022-05-19T20:15:07.381Z"
   },
   {
    "duration": 0,
    "start_time": "2022-05-19T20:15:07.396Z"
   },
   {
    "duration": 0,
    "start_time": "2022-05-19T20:15:07.403Z"
   },
   {
    "duration": 0,
    "start_time": "2022-05-19T20:15:07.405Z"
   },
   {
    "duration": 0,
    "start_time": "2022-05-19T20:15:07.406Z"
   },
   {
    "duration": 0,
    "start_time": "2022-05-19T20:15:07.408Z"
   },
   {
    "duration": 125,
    "start_time": "2022-05-19T20:15:07.411Z"
   },
   {
    "duration": 0,
    "start_time": "2022-05-19T20:15:07.540Z"
   },
   {
    "duration": 0,
    "start_time": "2022-05-19T20:15:07.541Z"
   },
   {
    "duration": 0,
    "start_time": "2022-05-19T20:15:07.545Z"
   },
   {
    "duration": 0,
    "start_time": "2022-05-19T20:15:07.547Z"
   },
   {
    "duration": 0,
    "start_time": "2022-05-19T20:15:07.548Z"
   },
   {
    "duration": 0,
    "start_time": "2022-05-19T20:15:07.550Z"
   },
   {
    "duration": 0,
    "start_time": "2022-05-19T20:15:07.551Z"
   },
   {
    "duration": 0,
    "start_time": "2022-05-19T20:15:07.553Z"
   },
   {
    "duration": 0,
    "start_time": "2022-05-19T20:15:07.554Z"
   },
   {
    "duration": 0,
    "start_time": "2022-05-19T20:15:07.556Z"
   },
   {
    "duration": 0,
    "start_time": "2022-05-19T20:15:07.558Z"
   },
   {
    "duration": 0,
    "start_time": "2022-05-19T20:15:07.559Z"
   },
   {
    "duration": 10,
    "start_time": "2022-05-19T20:15:17.078Z"
   },
   {
    "duration": 9,
    "start_time": "2022-05-19T20:15:42.102Z"
   },
   {
    "duration": 0,
    "start_time": "2022-05-19T20:15:42.113Z"
   },
   {
    "duration": 1,
    "start_time": "2022-05-19T20:15:42.114Z"
   },
   {
    "duration": 0,
    "start_time": "2022-05-19T20:15:42.116Z"
   },
   {
    "duration": 0,
    "start_time": "2022-05-19T20:15:42.117Z"
   },
   {
    "duration": 0,
    "start_time": "2022-05-19T20:15:42.118Z"
   },
   {
    "duration": 0,
    "start_time": "2022-05-19T20:15:42.119Z"
   },
   {
    "duration": 0,
    "start_time": "2022-05-19T20:15:42.121Z"
   },
   {
    "duration": 0,
    "start_time": "2022-05-19T20:15:42.122Z"
   },
   {
    "duration": 0,
    "start_time": "2022-05-19T20:15:42.123Z"
   },
   {
    "duration": 90,
    "start_time": "2022-05-19T20:15:42.126Z"
   },
   {
    "duration": 0,
    "start_time": "2022-05-19T20:15:42.217Z"
   },
   {
    "duration": 1,
    "start_time": "2022-05-19T20:15:42.218Z"
   },
   {
    "duration": 0,
    "start_time": "2022-05-19T20:15:42.220Z"
   },
   {
    "duration": 0,
    "start_time": "2022-05-19T20:15:42.221Z"
   },
   {
    "duration": 0,
    "start_time": "2022-05-19T20:15:42.222Z"
   },
   {
    "duration": 0,
    "start_time": "2022-05-19T20:15:42.223Z"
   },
   {
    "duration": 0,
    "start_time": "2022-05-19T20:15:42.224Z"
   },
   {
    "duration": 0,
    "start_time": "2022-05-19T20:15:42.225Z"
   },
   {
    "duration": 7,
    "start_time": "2022-05-19T20:16:19.026Z"
   },
   {
    "duration": 1554,
    "start_time": "2022-05-19T20:16:26.416Z"
   },
   {
    "duration": 1529,
    "start_time": "2022-05-19T20:16:27.973Z"
   },
   {
    "duration": 38,
    "start_time": "2022-05-19T20:16:29.504Z"
   },
   {
    "duration": 6,
    "start_time": "2022-05-19T20:16:29.544Z"
   },
   {
    "duration": 17,
    "start_time": "2022-05-19T20:16:29.552Z"
   },
   {
    "duration": 15,
    "start_time": "2022-05-19T20:16:29.571Z"
   },
   {
    "duration": 76,
    "start_time": "2022-05-19T20:16:29.588Z"
   },
   {
    "duration": 9,
    "start_time": "2022-05-19T20:16:29.666Z"
   },
   {
    "duration": 18,
    "start_time": "2022-05-19T20:16:29.676Z"
   },
   {
    "duration": 50,
    "start_time": "2022-05-19T20:16:29.697Z"
   },
   {
    "duration": 48,
    "start_time": "2022-05-19T20:16:29.750Z"
   },
   {
    "duration": 158,
    "start_time": "2022-05-19T20:16:29.800Z"
   },
   {
    "duration": 201,
    "start_time": "2022-05-19T20:16:29.960Z"
   },
   {
    "duration": 243,
    "start_time": "2022-05-19T20:16:30.162Z"
   },
   {
    "duration": 216,
    "start_time": "2022-05-19T20:16:30.407Z"
   },
   {
    "duration": 24,
    "start_time": "2022-05-19T20:16:30.628Z"
   },
   {
    "duration": 23,
    "start_time": "2022-05-19T20:16:30.654Z"
   },
   {
    "duration": 11,
    "start_time": "2022-05-19T20:16:30.679Z"
   },
   {
    "duration": 207060,
    "start_time": "2022-05-19T20:16:30.692Z"
   },
   {
    "duration": 101,
    "start_time": "2022-05-19T20:22:23.062Z"
   },
   {
    "duration": 216053,
    "start_time": "2022-05-19T20:22:50.677Z"
   },
   {
    "duration": 225649,
    "start_time": "2022-05-19T20:27:31.144Z"
   },
   {
    "duration": 7,
    "start_time": "2022-05-19T20:35:52.118Z"
   },
   {
    "duration": 1178,
    "start_time": "2022-05-19T20:36:03.643Z"
   },
   {
    "duration": 778,
    "start_time": "2022-05-19T20:36:04.826Z"
   },
   {
    "duration": 30,
    "start_time": "2022-05-19T20:36:05.606Z"
   },
   {
    "duration": 24,
    "start_time": "2022-05-19T20:36:05.639Z"
   },
   {
    "duration": 37,
    "start_time": "2022-05-19T20:36:05.666Z"
   },
   {
    "duration": 27,
    "start_time": "2022-05-19T20:36:05.705Z"
   },
   {
    "duration": 65,
    "start_time": "2022-05-19T20:36:05.734Z"
   },
   {
    "duration": 10,
    "start_time": "2022-05-19T20:36:05.800Z"
   },
   {
    "duration": 49,
    "start_time": "2022-05-19T20:36:05.811Z"
   },
   {
    "duration": 25,
    "start_time": "2022-05-19T20:36:05.862Z"
   },
   {
    "duration": 63,
    "start_time": "2022-05-19T20:36:05.888Z"
   },
   {
    "duration": 170,
    "start_time": "2022-05-19T20:36:05.953Z"
   },
   {
    "duration": 295,
    "start_time": "2022-05-19T20:36:06.128Z"
   },
   {
    "duration": 284,
    "start_time": "2022-05-19T20:36:06.425Z"
   },
   {
    "duration": 236,
    "start_time": "2022-05-19T20:36:06.711Z"
   },
   {
    "duration": 20,
    "start_time": "2022-05-19T20:36:06.948Z"
   },
   {
    "duration": 58,
    "start_time": "2022-05-19T20:36:06.970Z"
   },
   {
    "duration": 3,
    "start_time": "2022-05-19T20:36:07.030Z"
   },
   {
    "duration": 11,
    "start_time": "2022-05-19T20:36:07.035Z"
   },
   {
    "duration": 7,
    "start_time": "2022-05-19T20:36:31.902Z"
   },
   {
    "duration": 6,
    "start_time": "2022-05-19T20:36:36.593Z"
   },
   {
    "duration": 244,
    "start_time": "2022-05-19T20:37:17.217Z"
   },
   {
    "duration": 196963,
    "start_time": "2022-05-19T20:37:33.338Z"
   },
   {
    "duration": 10,
    "start_time": "2022-05-19T20:42:14.547Z"
   },
   {
    "duration": 10,
    "start_time": "2022-05-19T20:42:32.727Z"
   },
   {
    "duration": 10,
    "start_time": "2022-05-19T20:42:38.176Z"
   },
   {
    "duration": 4,
    "start_time": "2022-05-19T20:42:47.046Z"
   },
   {
    "duration": 200237,
    "start_time": "2022-05-19T20:43:49.835Z"
   },
   {
    "duration": 200233,
    "start_time": "2022-05-19T20:47:37.584Z"
   },
   {
    "duration": 14,
    "start_time": "2022-05-19T20:50:57.821Z"
   },
   {
    "duration": 12,
    "start_time": "2022-05-19T20:52:34.815Z"
   },
   {
    "duration": 13,
    "start_time": "2022-05-19T20:53:06.688Z"
   },
   {
    "duration": 4,
    "start_time": "2022-05-19T20:53:45.840Z"
   },
   {
    "duration": 9,
    "start_time": "2022-05-19T20:53:50.462Z"
   },
   {
    "duration": 5,
    "start_time": "2022-05-19T20:53:56.113Z"
   },
   {
    "duration": 6,
    "start_time": "2022-05-19T20:58:24.625Z"
   },
   {
    "duration": 57807,
    "start_time": "2022-05-19T20:58:50.719Z"
   },
   {
    "duration": 30634,
    "start_time": "2022-05-19T21:01:13.034Z"
   },
   {
    "duration": 77,
    "start_time": "2022-05-19T21:02:38.210Z"
   },
   {
    "duration": 1323,
    "start_time": "2022-05-19T21:02:45.006Z"
   },
   {
    "duration": 869,
    "start_time": "2022-05-19T21:02:46.334Z"
   },
   {
    "duration": 36,
    "start_time": "2022-05-19T21:02:47.205Z"
   },
   {
    "duration": 7,
    "start_time": "2022-05-19T21:02:47.244Z"
   },
   {
    "duration": 39,
    "start_time": "2022-05-19T21:02:47.254Z"
   },
   {
    "duration": 23,
    "start_time": "2022-05-19T21:02:47.295Z"
   },
   {
    "duration": 88,
    "start_time": "2022-05-19T21:02:47.320Z"
   },
   {
    "duration": 13,
    "start_time": "2022-05-19T21:02:47.426Z"
   },
   {
    "duration": 25,
    "start_time": "2022-05-19T21:02:47.442Z"
   },
   {
    "duration": 25,
    "start_time": "2022-05-19T21:02:47.470Z"
   },
   {
    "duration": 53,
    "start_time": "2022-05-19T21:02:47.527Z"
   },
   {
    "duration": 167,
    "start_time": "2022-05-19T21:02:47.583Z"
   },
   {
    "duration": 194,
    "start_time": "2022-05-19T21:02:47.751Z"
   },
   {
    "duration": 262,
    "start_time": "2022-05-19T21:02:47.948Z"
   },
   {
    "duration": 215,
    "start_time": "2022-05-19T21:02:48.212Z"
   },
   {
    "duration": 23,
    "start_time": "2022-05-19T21:02:48.430Z"
   },
   {
    "duration": 32,
    "start_time": "2022-05-19T21:02:48.455Z"
   },
   {
    "duration": 40,
    "start_time": "2022-05-19T21:02:48.489Z"
   },
   {
    "duration": 88,
    "start_time": "2022-05-19T21:06:04.641Z"
   },
   {
    "duration": 210594,
    "start_time": "2022-05-19T21:06:04.733Z"
   },
   {
    "duration": 6285,
    "start_time": "2022-05-19T21:16:47.630Z"
   },
   {
    "duration": 6587,
    "start_time": "2022-05-19T21:17:06.635Z"
   },
   {
    "duration": 6384,
    "start_time": "2022-05-19T21:17:17.660Z"
   },
   {
    "duration": 6521,
    "start_time": "2022-05-19T21:17:34.315Z"
   },
   {
    "duration": 10346,
    "start_time": "2022-05-19T21:17:52.049Z"
   },
   {
    "duration": 4,
    "start_time": "2022-05-19T21:21:13.218Z"
   },
   {
    "duration": 10301,
    "start_time": "2022-05-19T21:21:30.716Z"
   },
   {
    "duration": 64,
    "start_time": "2022-05-20T18:51:43.224Z"
   },
   {
    "duration": 1426,
    "start_time": "2022-05-20T18:51:48.985Z"
   },
   {
    "duration": 3253,
    "start_time": "2022-05-20T18:51:50.414Z"
   },
   {
    "duration": 25,
    "start_time": "2022-05-20T18:51:53.671Z"
   },
   {
    "duration": 4,
    "start_time": "2022-05-20T18:51:53.698Z"
   },
   {
    "duration": 17,
    "start_time": "2022-05-20T18:51:53.703Z"
   },
   {
    "duration": 23,
    "start_time": "2022-05-20T18:51:53.721Z"
   },
   {
    "duration": 103,
    "start_time": "2022-05-20T18:51:53.747Z"
   },
   {
    "duration": 10,
    "start_time": "2022-05-20T18:51:53.851Z"
   },
   {
    "duration": 21,
    "start_time": "2022-05-20T18:51:53.885Z"
   },
   {
    "duration": 24,
    "start_time": "2022-05-20T18:51:53.908Z"
   },
   {
    "duration": 67,
    "start_time": "2022-05-20T18:51:53.934Z"
   },
   {
    "duration": 165,
    "start_time": "2022-05-20T18:51:54.003Z"
   },
   {
    "duration": 213,
    "start_time": "2022-05-20T18:51:54.170Z"
   },
   {
    "duration": 253,
    "start_time": "2022-05-20T18:51:54.385Z"
   },
   {
    "duration": 213,
    "start_time": "2022-05-20T18:51:54.640Z"
   },
   {
    "duration": 31,
    "start_time": "2022-05-20T18:51:54.854Z"
   },
   {
    "duration": 24,
    "start_time": "2022-05-20T18:51:54.887Z"
   },
   {
    "duration": 3,
    "start_time": "2022-05-20T18:51:54.913Z"
   },
   {
    "duration": 146,
    "start_time": "2022-05-20T18:51:54.918Z"
   },
   {
    "duration": 0,
    "start_time": "2022-05-20T18:51:55.066Z"
   },
   {
    "duration": 13367,
    "start_time": "2022-05-20T18:52:42.754Z"
   },
   {
    "duration": 0,
    "start_time": "2022-05-20T18:52:56.122Z"
   },
   {
    "duration": 207150,
    "start_time": "2022-05-20T18:53:12.442Z"
   },
   {
    "duration": 14755,
    "start_time": "2022-05-20T18:57:39.851Z"
   },
   {
    "duration": 20,
    "start_time": "2022-05-20T18:58:02.180Z"
   },
   {
    "duration": 7069,
    "start_time": "2022-05-20T19:03:41.002Z"
   },
   {
    "duration": 206377,
    "start_time": "2022-05-20T19:07:08.609Z"
   },
   {
    "duration": 536676,
    "start_time": "2022-05-20T19:13:48.217Z"
   },
   {
    "duration": 536473,
    "start_time": "2022-05-20T19:26:41.110Z"
   },
   {
    "duration": 10529,
    "start_time": "2022-05-20T19:39:37.790Z"
   },
   {
    "duration": 41285,
    "start_time": "2022-05-20T19:39:58.082Z"
   },
   {
    "duration": 546162,
    "start_time": "2022-05-20T19:40:40.924Z"
   },
   {
    "duration": 45,
    "start_time": "2022-05-20T20:04:40.388Z"
   },
   {
    "duration": 29,
    "start_time": "2022-05-20T20:04:59.479Z"
   },
   {
    "duration": 24,
    "start_time": "2022-05-20T20:07:19.156Z"
   },
   {
    "duration": 162,
    "start_time": "2022-05-20T20:09:35.268Z"
   },
   {
    "duration": 170,
    "start_time": "2022-05-20T20:16:38.042Z"
   },
   {
    "duration": 186,
    "start_time": "2022-05-20T20:17:01.767Z"
   },
   {
    "duration": 174,
    "start_time": "2022-05-20T20:17:47.733Z"
   },
   {
    "duration": 171,
    "start_time": "2022-05-20T20:19:01.753Z"
   },
   {
    "duration": 169,
    "start_time": "2022-05-20T20:19:19.655Z"
   },
   {
    "duration": 968,
    "start_time": "2022-05-20T20:19:28.891Z"
   },
   {
    "duration": 921,
    "start_time": "2022-05-20T20:19:50.665Z"
   },
   {
    "duration": 976,
    "start_time": "2022-05-20T20:19:56.736Z"
   },
   {
    "duration": 42,
    "start_time": "2022-05-20T20:28:55.750Z"
   },
   {
    "duration": 17,
    "start_time": "2022-05-20T20:29:12.509Z"
   },
   {
    "duration": 18527,
    "start_time": "2022-05-20T20:29:22.916Z"
   },
   {
    "duration": 44667,
    "start_time": "2022-05-20T20:30:08.625Z"
   },
   {
    "duration": 6,
    "start_time": "2022-05-20T20:31:54.694Z"
   },
   {
    "duration": 24,
    "start_time": "2022-05-20T20:33:08.280Z"
   },
   {
    "duration": 89383,
    "start_time": "2022-05-20T20:34:36.409Z"
   },
   {
    "duration": 11,
    "start_time": "2022-05-20T20:36:40.313Z"
   },
   {
    "duration": 4,
    "start_time": "2022-05-20T20:36:51.430Z"
   },
   {
    "duration": 89167,
    "start_time": "2022-05-20T20:39:05.619Z"
   },
   {
    "duration": 5,
    "start_time": "2022-05-20T20:40:39.098Z"
   },
   {
    "duration": 271545,
    "start_time": "2022-05-20T20:42:44.657Z"
   },
   {
    "duration": 4,
    "start_time": "2022-05-20T20:47:38.284Z"
   },
   {
    "duration": 119505,
    "start_time": "2022-05-20T20:48:17.785Z"
   },
   {
    "duration": 4,
    "start_time": "2022-05-20T20:50:21.907Z"
   },
   {
    "duration": 519,
    "start_time": "2022-05-20T21:05:59.264Z"
   },
   {
    "duration": 352,
    "start_time": "2022-05-20T21:06:02.838Z"
   },
   {
    "duration": 368,
    "start_time": "2022-05-20T21:09:53.119Z"
   },
   {
    "duration": 5,
    "start_time": "2022-05-20T21:09:58.450Z"
   },
   {
    "duration": 398,
    "start_time": "2022-05-20T21:10:06.287Z"
   },
   {
    "duration": 1101,
    "start_time": "2022-05-20T21:29:08.834Z"
   },
   {
    "duration": 787,
    "start_time": "2022-05-20T21:29:09.938Z"
   },
   {
    "duration": 21,
    "start_time": "2022-05-20T21:29:10.726Z"
   },
   {
    "duration": 30,
    "start_time": "2022-05-20T21:29:10.748Z"
   },
   {
    "duration": 47,
    "start_time": "2022-05-20T21:29:10.780Z"
   },
   {
    "duration": 43,
    "start_time": "2022-05-20T21:29:10.829Z"
   },
   {
    "duration": 77,
    "start_time": "2022-05-20T21:29:10.874Z"
   },
   {
    "duration": 14,
    "start_time": "2022-05-20T21:29:10.952Z"
   },
   {
    "duration": 39,
    "start_time": "2022-05-20T21:29:10.967Z"
   },
   {
    "duration": 15,
    "start_time": "2022-05-20T21:29:11.008Z"
   },
   {
    "duration": 0,
    "start_time": "2022-05-20T21:29:11.025Z"
   },
   {
    "duration": 0,
    "start_time": "2022-05-20T21:29:11.026Z"
   },
   {
    "duration": 0,
    "start_time": "2022-05-20T21:29:11.027Z"
   },
   {
    "duration": 0,
    "start_time": "2022-05-20T21:29:11.028Z"
   },
   {
    "duration": 0,
    "start_time": "2022-05-20T21:29:11.029Z"
   },
   {
    "duration": 0,
    "start_time": "2022-05-20T21:29:11.030Z"
   },
   {
    "duration": 0,
    "start_time": "2022-05-20T21:29:11.031Z"
   },
   {
    "duration": 0,
    "start_time": "2022-05-20T21:29:11.032Z"
   },
   {
    "duration": 0,
    "start_time": "2022-05-20T21:29:11.033Z"
   },
   {
    "duration": 0,
    "start_time": "2022-05-20T21:29:11.034Z"
   },
   {
    "duration": 0,
    "start_time": "2022-05-20T21:29:11.035Z"
   },
   {
    "duration": 0,
    "start_time": "2022-05-20T21:29:11.036Z"
   },
   {
    "duration": 1128,
    "start_time": "2022-05-20T21:30:04.001Z"
   },
   {
    "duration": 774,
    "start_time": "2022-05-20T21:30:05.132Z"
   },
   {
    "duration": 22,
    "start_time": "2022-05-20T21:30:05.908Z"
   },
   {
    "duration": 5,
    "start_time": "2022-05-20T21:30:05.932Z"
   },
   {
    "duration": 15,
    "start_time": "2022-05-20T21:30:05.939Z"
   },
   {
    "duration": 37,
    "start_time": "2022-05-20T21:30:05.956Z"
   },
   {
    "duration": 52,
    "start_time": "2022-05-20T21:30:05.995Z"
   },
   {
    "duration": 10,
    "start_time": "2022-05-20T21:30:06.048Z"
   },
   {
    "duration": 19,
    "start_time": "2022-05-20T21:30:06.083Z"
   },
   {
    "duration": 24,
    "start_time": "2022-05-20T21:30:06.105Z"
   },
   {
    "duration": 62,
    "start_time": "2022-05-20T21:30:06.131Z"
   },
   {
    "duration": 149,
    "start_time": "2022-05-20T21:30:06.194Z"
   },
   {
    "duration": 184,
    "start_time": "2022-05-20T21:30:06.345Z"
   },
   {
    "duration": 253,
    "start_time": "2022-05-20T21:30:06.531Z"
   },
   {
    "duration": 226,
    "start_time": "2022-05-20T21:30:06.786Z"
   },
   {
    "duration": 18,
    "start_time": "2022-05-20T21:30:07.014Z"
   },
   {
    "duration": 51,
    "start_time": "2022-05-20T21:30:07.034Z"
   },
   {
    "duration": 3,
    "start_time": "2022-05-20T21:30:07.087Z"
   },
   {
    "duration": 271257,
    "start_time": "2022-05-20T21:30:07.092Z"
   },
   {
    "duration": 0,
    "start_time": "2022-05-20T21:34:38.351Z"
   },
   {
    "duration": 0,
    "start_time": "2022-05-20T21:34:38.352Z"
   },
   {
    "duration": 0,
    "start_time": "2022-05-20T21:34:38.353Z"
   },
   {
    "duration": 0,
    "start_time": "2022-05-20T21:34:38.354Z"
   },
   {
    "duration": 1119,
    "start_time": "2022-05-20T21:34:42.316Z"
   },
   {
    "duration": 783,
    "start_time": "2022-05-20T21:34:43.438Z"
   },
   {
    "duration": 24,
    "start_time": "2022-05-20T21:34:44.222Z"
   },
   {
    "duration": 4,
    "start_time": "2022-05-20T21:34:44.248Z"
   },
   {
    "duration": 33,
    "start_time": "2022-05-20T21:34:44.253Z"
   },
   {
    "duration": 16,
    "start_time": "2022-05-20T21:34:44.288Z"
   },
   {
    "duration": 79,
    "start_time": "2022-05-20T21:34:44.305Z"
   },
   {
    "duration": 9,
    "start_time": "2022-05-20T21:34:44.385Z"
   },
   {
    "duration": 24,
    "start_time": "2022-05-20T21:34:44.396Z"
   },
   {
    "duration": 26,
    "start_time": "2022-05-20T21:34:44.423Z"
   },
   {
    "duration": 68,
    "start_time": "2022-05-20T21:34:44.451Z"
   },
   {
    "duration": 5,
    "start_time": "2022-05-20T21:34:44.521Z"
   },
   {
    "duration": 0,
    "start_time": "2022-05-20T21:34:44.527Z"
   },
   {
    "duration": 0,
    "start_time": "2022-05-20T21:34:44.529Z"
   },
   {
    "duration": 0,
    "start_time": "2022-05-20T21:34:44.530Z"
   },
   {
    "duration": 0,
    "start_time": "2022-05-20T21:34:44.534Z"
   },
   {
    "duration": 0,
    "start_time": "2022-05-20T21:34:44.535Z"
   },
   {
    "duration": 0,
    "start_time": "2022-05-20T21:34:44.536Z"
   },
   {
    "duration": 0,
    "start_time": "2022-05-20T21:34:44.537Z"
   },
   {
    "duration": 0,
    "start_time": "2022-05-20T21:34:44.538Z"
   },
   {
    "duration": 1,
    "start_time": "2022-05-20T21:34:44.539Z"
   },
   {
    "duration": 0,
    "start_time": "2022-05-20T21:34:44.541Z"
   },
   {
    "duration": 146,
    "start_time": "2022-05-20T21:35:11.638Z"
   },
   {
    "duration": 137,
    "start_time": "2022-05-20T21:35:18.368Z"
   },
   {
    "duration": 1207,
    "start_time": "2022-05-20T21:35:30.228Z"
   },
   {
    "duration": 857,
    "start_time": "2022-05-20T21:35:31.438Z"
   },
   {
    "duration": 23,
    "start_time": "2022-05-20T21:35:32.297Z"
   },
   {
    "duration": 4,
    "start_time": "2022-05-20T21:35:32.322Z"
   },
   {
    "duration": 18,
    "start_time": "2022-05-20T21:35:32.327Z"
   },
   {
    "duration": 40,
    "start_time": "2022-05-20T21:35:32.347Z"
   },
   {
    "duration": 53,
    "start_time": "2022-05-20T21:35:32.388Z"
   },
   {
    "duration": 9,
    "start_time": "2022-05-20T21:35:32.443Z"
   },
   {
    "duration": 44,
    "start_time": "2022-05-20T21:35:32.454Z"
   },
   {
    "duration": 25,
    "start_time": "2022-05-20T21:35:32.500Z"
   },
   {
    "duration": 57,
    "start_time": "2022-05-20T21:35:32.527Z"
   },
   {
    "duration": 146,
    "start_time": "2022-05-20T21:35:32.586Z"
   },
   {
    "duration": 204,
    "start_time": "2022-05-20T21:35:32.733Z"
   },
   {
    "duration": 249,
    "start_time": "2022-05-20T21:35:32.939Z"
   },
   {
    "duration": 336,
    "start_time": "2022-05-20T21:35:33.189Z"
   },
   {
    "duration": 59,
    "start_time": "2022-05-20T21:35:33.526Z"
   },
   {
    "duration": 22,
    "start_time": "2022-05-20T21:35:33.586Z"
   },
   {
    "duration": 3,
    "start_time": "2022-05-20T21:35:33.610Z"
   },
   {
    "duration": 543970,
    "start_time": "2022-05-20T21:35:33.614Z"
   },
   {
    "duration": 119598,
    "start_time": "2022-05-20T21:44:37.587Z"
   },
   {
    "duration": 96,
    "start_time": "2022-05-20T21:46:37.188Z"
   },
   {
    "duration": 405,
    "start_time": "2022-05-20T21:46:37.286Z"
   },
   {
    "duration": 89824,
    "start_time": "2022-05-20T21:59:41.260Z"
   },
   {
    "duration": 5,
    "start_time": "2022-05-20T22:01:17.379Z"
   },
   {
    "duration": 5,
    "start_time": "2022-05-20T22:09:17.368Z"
   },
   {
    "duration": 1117,
    "start_time": "2022-05-20T22:11:15.716Z"
   },
   {
    "duration": 797,
    "start_time": "2022-05-20T22:11:16.836Z"
   },
   {
    "duration": 21,
    "start_time": "2022-05-20T22:11:17.634Z"
   },
   {
    "duration": 4,
    "start_time": "2022-05-20T22:11:17.657Z"
   },
   {
    "duration": 31,
    "start_time": "2022-05-20T22:11:17.662Z"
   },
   {
    "duration": 18,
    "start_time": "2022-05-20T22:11:17.695Z"
   },
   {
    "duration": 75,
    "start_time": "2022-05-20T22:11:17.715Z"
   },
   {
    "duration": 10,
    "start_time": "2022-05-20T22:11:17.791Z"
   },
   {
    "duration": 18,
    "start_time": "2022-05-20T22:11:17.803Z"
   },
   {
    "duration": 62,
    "start_time": "2022-05-20T22:11:17.823Z"
   },
   {
    "duration": 42,
    "start_time": "2022-05-20T22:11:17.887Z"
   },
   {
    "duration": 160,
    "start_time": "2022-05-20T22:11:17.931Z"
   },
   {
    "duration": 192,
    "start_time": "2022-05-20T22:11:18.093Z"
   },
   {
    "duration": 240,
    "start_time": "2022-05-20T22:11:18.287Z"
   },
   {
    "duration": 216,
    "start_time": "2022-05-20T22:11:18.528Z"
   },
   {
    "duration": 14,
    "start_time": "2022-05-20T22:11:18.746Z"
   },
   {
    "duration": 38,
    "start_time": "2022-05-20T22:11:18.761Z"
   },
   {
    "duration": 3,
    "start_time": "2022-05-20T22:11:18.800Z"
   },
   {
    "duration": 531586,
    "start_time": "2022-05-20T22:11:18.805Z"
   },
   {
    "duration": 89691,
    "start_time": "2022-05-20T22:20:10.393Z"
   },
   {
    "duration": 98,
    "start_time": "2022-05-20T22:21:40.086Z"
   },
   {
    "duration": 403,
    "start_time": "2022-05-20T22:21:40.185Z"
   },
   {
    "duration": 1379,
    "start_time": "2022-05-22T04:57:04.683Z"
   },
   {
    "duration": 1615,
    "start_time": "2022-05-22T04:57:06.066Z"
   },
   {
    "duration": 36,
    "start_time": "2022-05-22T04:57:07.683Z"
   },
   {
    "duration": 9,
    "start_time": "2022-05-22T04:57:07.722Z"
   },
   {
    "duration": 19,
    "start_time": "2022-05-22T04:57:07.732Z"
   },
   {
    "duration": 26,
    "start_time": "2022-05-22T04:57:07.764Z"
   },
   {
    "duration": 88,
    "start_time": "2022-05-22T04:57:07.792Z"
   },
   {
    "duration": 11,
    "start_time": "2022-05-22T04:57:07.882Z"
   },
   {
    "duration": 24,
    "start_time": "2022-05-22T04:57:07.895Z"
   },
   {
    "duration": 58,
    "start_time": "2022-05-22T04:57:07.923Z"
   },
   {
    "duration": 40,
    "start_time": "2022-05-22T04:57:07.983Z"
   },
   {
    "duration": 173,
    "start_time": "2022-05-22T04:57:08.024Z"
   },
   {
    "duration": 238,
    "start_time": "2022-05-22T04:57:08.199Z"
   },
   {
    "duration": 276,
    "start_time": "2022-05-22T04:57:08.439Z"
   },
   {
    "duration": 267,
    "start_time": "2022-05-22T04:57:08.716Z"
   },
   {
    "duration": 21,
    "start_time": "2022-05-22T04:57:08.985Z"
   },
   {
    "duration": 16,
    "start_time": "2022-05-22T04:57:09.008Z"
   },
   {
    "duration": 0,
    "start_time": "2022-05-22T04:57:09.026Z"
   },
   {
    "duration": 0,
    "start_time": "2022-05-22T04:57:09.028Z"
   },
   {
    "duration": 0,
    "start_time": "2022-05-22T04:57:09.030Z"
   },
   {
    "duration": 0,
    "start_time": "2022-05-22T04:57:09.032Z"
   },
   {
    "duration": 0,
    "start_time": "2022-05-22T04:57:09.065Z"
   },
   {
    "duration": 1381,
    "start_time": "2022-05-22T04:58:52.514Z"
   },
   {
    "duration": 772,
    "start_time": "2022-05-22T04:58:53.898Z"
   },
   {
    "duration": 25,
    "start_time": "2022-05-22T04:58:54.673Z"
   },
   {
    "duration": 5,
    "start_time": "2022-05-22T04:58:54.700Z"
   },
   {
    "duration": 14,
    "start_time": "2022-05-22T04:58:54.707Z"
   },
   {
    "duration": 48,
    "start_time": "2022-05-22T04:58:54.724Z"
   },
   {
    "duration": 58,
    "start_time": "2022-05-22T04:58:54.773Z"
   },
   {
    "duration": 37,
    "start_time": "2022-05-22T04:58:54.833Z"
   },
   {
    "duration": 26,
    "start_time": "2022-05-22T04:58:54.872Z"
   },
   {
    "duration": 31,
    "start_time": "2022-05-22T04:58:54.900Z"
   },
   {
    "duration": 68,
    "start_time": "2022-05-22T04:58:54.932Z"
   },
   {
    "duration": 167,
    "start_time": "2022-05-22T04:58:55.002Z"
   },
   {
    "duration": 212,
    "start_time": "2022-05-22T04:58:55.171Z"
   },
   {
    "duration": 276,
    "start_time": "2022-05-22T04:58:55.387Z"
   },
   {
    "duration": 238,
    "start_time": "2022-05-22T04:58:55.665Z"
   },
   {
    "duration": 14,
    "start_time": "2022-05-22T04:58:55.905Z"
   },
   {
    "duration": 11,
    "start_time": "2022-05-22T04:58:55.921Z"
   },
   {
    "duration": 1,
    "start_time": "2022-05-22T04:58:55.933Z"
   },
   {
    "duration": 0,
    "start_time": "2022-05-22T04:58:55.935Z"
   },
   {
    "duration": 0,
    "start_time": "2022-05-22T04:58:55.936Z"
   },
   {
    "duration": 0,
    "start_time": "2022-05-22T04:58:55.937Z"
   },
   {
    "duration": 0,
    "start_time": "2022-05-22T04:58:55.964Z"
   },
   {
    "duration": 25,
    "start_time": "2022-05-22T05:00:47.003Z"
   },
   {
    "duration": 1137,
    "start_time": "2022-05-22T05:00:57.390Z"
   },
   {
    "duration": 821,
    "start_time": "2022-05-22T05:00:58.530Z"
   },
   {
    "duration": 32,
    "start_time": "2022-05-22T05:00:59.353Z"
   },
   {
    "duration": 3,
    "start_time": "2022-05-22T05:00:59.387Z"
   },
   {
    "duration": 22,
    "start_time": "2022-05-22T05:00:59.392Z"
   },
   {
    "duration": 21,
    "start_time": "2022-05-22T05:00:59.416Z"
   },
   {
    "duration": 72,
    "start_time": "2022-05-22T05:00:59.438Z"
   },
   {
    "duration": 10,
    "start_time": "2022-05-22T05:00:59.511Z"
   },
   {
    "duration": 42,
    "start_time": "2022-05-22T05:00:59.523Z"
   },
   {
    "duration": 24,
    "start_time": "2022-05-22T05:00:59.567Z"
   },
   {
    "duration": 40,
    "start_time": "2022-05-22T05:00:59.593Z"
   },
   {
    "duration": 184,
    "start_time": "2022-05-22T05:00:59.635Z"
   },
   {
    "duration": 215,
    "start_time": "2022-05-22T05:00:59.821Z"
   },
   {
    "duration": 289,
    "start_time": "2022-05-22T05:01:00.038Z"
   },
   {
    "duration": 242,
    "start_time": "2022-05-22T05:01:00.329Z"
   },
   {
    "duration": 19,
    "start_time": "2022-05-22T05:01:00.573Z"
   },
   {
    "duration": 25,
    "start_time": "2022-05-22T05:01:00.594Z"
   },
   {
    "duration": 44,
    "start_time": "2022-05-22T05:01:00.621Z"
   },
   {
    "duration": 644820,
    "start_time": "2022-05-22T05:01:00.667Z"
   },
   {
    "duration": 111195,
    "start_time": "2022-05-22T05:11:45.496Z"
   },
   {
    "duration": 8,
    "start_time": "2022-05-22T05:13:36.766Z"
   },
   {
    "duration": 504,
    "start_time": "2022-05-22T05:13:36.776Z"
   },
   {
    "duration": 12,
    "start_time": "2022-05-22T05:19:19.311Z"
   },
   {
    "duration": 16,
    "start_time": "2022-05-22T05:19:48.880Z"
   },
   {
    "duration": 1179,
    "start_time": "2022-05-22T05:21:20.882Z"
   },
   {
    "duration": 770,
    "start_time": "2022-05-22T05:21:22.064Z"
   },
   {
    "duration": 29,
    "start_time": "2022-05-22T05:21:22.836Z"
   },
   {
    "duration": 4,
    "start_time": "2022-05-22T05:21:22.867Z"
   },
   {
    "duration": 18,
    "start_time": "2022-05-22T05:21:22.872Z"
   },
   {
    "duration": 19,
    "start_time": "2022-05-22T05:21:22.892Z"
   },
   {
    "duration": 85,
    "start_time": "2022-05-22T05:21:22.912Z"
   },
   {
    "duration": 9,
    "start_time": "2022-05-22T05:21:22.999Z"
   },
   {
    "duration": 24,
    "start_time": "2022-05-22T05:21:23.010Z"
   },
   {
    "duration": 3,
    "start_time": "2022-05-22T05:21:23.036Z"
   },
   {
    "duration": 157,
    "start_time": "2022-05-22T05:21:23.064Z"
   },
   {
    "duration": 0,
    "start_time": "2022-05-22T05:21:23.223Z"
   },
   {
    "duration": 0,
    "start_time": "2022-05-22T05:21:23.225Z"
   },
   {
    "duration": 0,
    "start_time": "2022-05-22T05:21:23.226Z"
   },
   {
    "duration": 0,
    "start_time": "2022-05-22T05:21:23.228Z"
   },
   {
    "duration": 0,
    "start_time": "2022-05-22T05:21:23.229Z"
   },
   {
    "duration": 0,
    "start_time": "2022-05-22T05:21:23.231Z"
   },
   {
    "duration": 0,
    "start_time": "2022-05-22T05:21:23.232Z"
   },
   {
    "duration": 0,
    "start_time": "2022-05-22T05:21:23.234Z"
   },
   {
    "duration": 0,
    "start_time": "2022-05-22T05:21:23.235Z"
   },
   {
    "duration": 0,
    "start_time": "2022-05-22T05:21:23.236Z"
   },
   {
    "duration": 0,
    "start_time": "2022-05-22T05:21:23.238Z"
   },
   {
    "duration": 0,
    "start_time": "2022-05-22T05:21:23.239Z"
   },
   {
    "duration": 40,
    "start_time": "2022-05-22T05:30:45.004Z"
   },
   {
    "duration": 34,
    "start_time": "2022-05-22T05:32:52.988Z"
   },
   {
    "duration": 417,
    "start_time": "2022-05-22T05:34:00.570Z"
   },
   {
    "duration": 397,
    "start_time": "2022-05-22T05:34:16.800Z"
   },
   {
    "duration": 321,
    "start_time": "2022-05-22T05:34:27.210Z"
   },
   {
    "duration": 24,
    "start_time": "2022-05-22T05:35:05.447Z"
   },
   {
    "duration": 31,
    "start_time": "2022-05-22T05:35:10.986Z"
   },
   {
    "duration": 21,
    "start_time": "2022-05-22T05:35:30.718Z"
   },
   {
    "duration": 1216,
    "start_time": "2022-05-22T05:35:47.157Z"
   },
   {
    "duration": 759,
    "start_time": "2022-05-22T05:35:48.376Z"
   },
   {
    "duration": 0,
    "start_time": "2022-05-22T05:35:49.138Z"
   },
   {
    "duration": 0,
    "start_time": "2022-05-22T05:35:49.140Z"
   },
   {
    "duration": 0,
    "start_time": "2022-05-22T05:35:49.141Z"
   },
   {
    "duration": 0,
    "start_time": "2022-05-22T05:35:49.143Z"
   },
   {
    "duration": 0,
    "start_time": "2022-05-22T05:35:49.144Z"
   },
   {
    "duration": 0,
    "start_time": "2022-05-22T05:35:49.146Z"
   },
   {
    "duration": 0,
    "start_time": "2022-05-22T05:35:49.148Z"
   },
   {
    "duration": 0,
    "start_time": "2022-05-22T05:35:49.149Z"
   },
   {
    "duration": 0,
    "start_time": "2022-05-22T05:35:49.165Z"
   },
   {
    "duration": 0,
    "start_time": "2022-05-22T05:35:49.166Z"
   },
   {
    "duration": 0,
    "start_time": "2022-05-22T05:35:49.167Z"
   },
   {
    "duration": 0,
    "start_time": "2022-05-22T05:35:49.169Z"
   },
   {
    "duration": 0,
    "start_time": "2022-05-22T05:35:49.170Z"
   },
   {
    "duration": 0,
    "start_time": "2022-05-22T05:35:49.171Z"
   },
   {
    "duration": 0,
    "start_time": "2022-05-22T05:35:49.172Z"
   },
   {
    "duration": 0,
    "start_time": "2022-05-22T05:35:49.173Z"
   },
   {
    "duration": 0,
    "start_time": "2022-05-22T05:35:49.175Z"
   },
   {
    "duration": 0,
    "start_time": "2022-05-22T05:35:49.176Z"
   },
   {
    "duration": 0,
    "start_time": "2022-05-22T05:35:49.177Z"
   },
   {
    "duration": 0,
    "start_time": "2022-05-22T05:35:49.178Z"
   },
   {
    "duration": 0,
    "start_time": "2022-05-22T05:35:49.180Z"
   },
   {
    "duration": 11,
    "start_time": "2022-05-22T05:36:05.761Z"
   },
   {
    "duration": 0,
    "start_time": "2022-05-22T05:36:05.774Z"
   },
   {
    "duration": 0,
    "start_time": "2022-05-22T05:36:05.775Z"
   },
   {
    "duration": 0,
    "start_time": "2022-05-22T05:36:05.775Z"
   },
   {
    "duration": 0,
    "start_time": "2022-05-22T05:36:05.777Z"
   },
   {
    "duration": 0,
    "start_time": "2022-05-22T05:36:05.778Z"
   },
   {
    "duration": 0,
    "start_time": "2022-05-22T05:36:05.780Z"
   },
   {
    "duration": 0,
    "start_time": "2022-05-22T05:36:05.781Z"
   },
   {
    "duration": 0,
    "start_time": "2022-05-22T05:36:05.783Z"
   },
   {
    "duration": 0,
    "start_time": "2022-05-22T05:36:05.784Z"
   },
   {
    "duration": 0,
    "start_time": "2022-05-22T05:36:05.785Z"
   },
   {
    "duration": 1,
    "start_time": "2022-05-22T05:36:05.786Z"
   },
   {
    "duration": 18,
    "start_time": "2022-05-22T05:36:05.789Z"
   },
   {
    "duration": 0,
    "start_time": "2022-05-22T05:36:05.808Z"
   },
   {
    "duration": 0,
    "start_time": "2022-05-22T05:36:05.865Z"
   },
   {
    "duration": 4,
    "start_time": "2022-05-22T05:36:13.089Z"
   },
   {
    "duration": 716,
    "start_time": "2022-05-22T05:36:13.095Z"
   },
   {
    "duration": 24,
    "start_time": "2022-05-22T05:36:13.812Z"
   },
   {
    "duration": 4,
    "start_time": "2022-05-22T05:36:13.838Z"
   },
   {
    "duration": 33,
    "start_time": "2022-05-22T05:36:13.844Z"
   },
   {
    "duration": 17,
    "start_time": "2022-05-22T05:36:13.878Z"
   },
   {
    "duration": 83,
    "start_time": "2022-05-22T05:36:13.896Z"
   },
   {
    "duration": 11,
    "start_time": "2022-05-22T05:36:13.980Z"
   },
   {
    "duration": 1176,
    "start_time": "2022-05-22T05:36:22.558Z"
   },
   {
    "duration": 778,
    "start_time": "2022-05-22T05:36:23.737Z"
   },
   {
    "duration": 23,
    "start_time": "2022-05-22T05:36:24.516Z"
   },
   {
    "duration": 4,
    "start_time": "2022-05-22T05:36:24.541Z"
   },
   {
    "duration": 14,
    "start_time": "2022-05-22T05:36:24.564Z"
   },
   {
    "duration": 19,
    "start_time": "2022-05-22T05:36:24.580Z"
   },
   {
    "duration": 75,
    "start_time": "2022-05-22T05:36:24.601Z"
   },
   {
    "duration": 10,
    "start_time": "2022-05-22T05:36:24.678Z"
   },
   {
    "duration": 144,
    "start_time": "2022-05-22T05:36:24.689Z"
   },
   {
    "duration": 0,
    "start_time": "2022-05-22T05:36:24.835Z"
   },
   {
    "duration": 0,
    "start_time": "2022-05-22T05:36:24.836Z"
   },
   {
    "duration": 0,
    "start_time": "2022-05-22T05:36:24.837Z"
   },
   {
    "duration": 0,
    "start_time": "2022-05-22T05:36:24.838Z"
   },
   {
    "duration": 0,
    "start_time": "2022-05-22T05:36:24.839Z"
   },
   {
    "duration": 0,
    "start_time": "2022-05-22T05:36:24.840Z"
   },
   {
    "duration": 0,
    "start_time": "2022-05-22T05:36:24.841Z"
   },
   {
    "duration": 0,
    "start_time": "2022-05-22T05:36:24.842Z"
   },
   {
    "duration": 0,
    "start_time": "2022-05-22T05:36:24.844Z"
   },
   {
    "duration": 0,
    "start_time": "2022-05-22T05:36:24.844Z"
   },
   {
    "duration": 0,
    "start_time": "2022-05-22T05:36:24.845Z"
   },
   {
    "duration": 0,
    "start_time": "2022-05-22T05:36:24.846Z"
   },
   {
    "duration": 0,
    "start_time": "2022-05-22T05:36:24.847Z"
   },
   {
    "duration": 0,
    "start_time": "2022-05-22T05:36:24.847Z"
   },
   {
    "duration": 34,
    "start_time": "2022-05-22T05:36:50.616Z"
   },
   {
    "duration": 31,
    "start_time": "2022-05-22T05:37:06.027Z"
   },
   {
    "duration": 318,
    "start_time": "2022-05-22T05:37:36.419Z"
   },
   {
    "duration": 370,
    "start_time": "2022-05-22T05:37:49.518Z"
   },
   {
    "duration": 402,
    "start_time": "2022-05-22T05:38:11.968Z"
   },
   {
    "duration": 335,
    "start_time": "2022-05-22T05:38:17.259Z"
   },
   {
    "duration": 35,
    "start_time": "2022-05-22T05:38:43.047Z"
   },
   {
    "duration": 25,
    "start_time": "2022-05-22T05:38:57.016Z"
   },
   {
    "duration": 31,
    "start_time": "2022-05-22T05:39:08.371Z"
   },
   {
    "duration": 33,
    "start_time": "2022-05-22T05:39:25.884Z"
   },
   {
    "duration": 18,
    "start_time": "2022-05-22T05:39:37.761Z"
   },
   {
    "duration": 18,
    "start_time": "2022-05-22T05:39:42.686Z"
   },
   {
    "duration": 37,
    "start_time": "2022-05-22T05:39:45.551Z"
   },
   {
    "duration": 33,
    "start_time": "2022-05-22T05:40:11.916Z"
   },
   {
    "duration": 30,
    "start_time": "2022-05-22T05:40:25.087Z"
   },
   {
    "duration": 39,
    "start_time": "2022-05-22T05:41:17.905Z"
   },
   {
    "duration": 40,
    "start_time": "2022-05-22T05:43:23.280Z"
   },
   {
    "duration": 1241,
    "start_time": "2022-05-22T05:43:28.915Z"
   },
   {
    "duration": 846,
    "start_time": "2022-05-22T05:43:30.160Z"
   },
   {
    "duration": 33,
    "start_time": "2022-05-22T05:43:31.008Z"
   },
   {
    "duration": 22,
    "start_time": "2022-05-22T05:43:31.044Z"
   },
   {
    "duration": 20,
    "start_time": "2022-05-22T05:43:31.067Z"
   },
   {
    "duration": 17,
    "start_time": "2022-05-22T05:43:31.089Z"
   },
   {
    "duration": 84,
    "start_time": "2022-05-22T05:43:31.108Z"
   },
   {
    "duration": 23,
    "start_time": "2022-05-22T05:43:31.194Z"
   },
   {
    "duration": 56,
    "start_time": "2022-05-22T05:43:31.218Z"
   },
   {
    "duration": 3,
    "start_time": "2022-05-22T05:43:31.278Z"
   },
   {
    "duration": 176,
    "start_time": "2022-05-22T05:43:31.283Z"
   },
   {
    "duration": 0,
    "start_time": "2022-05-22T05:43:31.461Z"
   },
   {
    "duration": 0,
    "start_time": "2022-05-22T05:43:31.464Z"
   },
   {
    "duration": 0,
    "start_time": "2022-05-22T05:43:31.466Z"
   },
   {
    "duration": 0,
    "start_time": "2022-05-22T05:43:31.467Z"
   },
   {
    "duration": 0,
    "start_time": "2022-05-22T05:43:31.468Z"
   },
   {
    "duration": 0,
    "start_time": "2022-05-22T05:43:31.469Z"
   },
   {
    "duration": 0,
    "start_time": "2022-05-22T05:43:31.470Z"
   },
   {
    "duration": 0,
    "start_time": "2022-05-22T05:43:31.471Z"
   },
   {
    "duration": 0,
    "start_time": "2022-05-22T05:43:31.473Z"
   },
   {
    "duration": 0,
    "start_time": "2022-05-22T05:43:31.474Z"
   },
   {
    "duration": 0,
    "start_time": "2022-05-22T05:43:31.475Z"
   },
   {
    "duration": 0,
    "start_time": "2022-05-22T05:43:31.476Z"
   },
   {
    "duration": 36,
    "start_time": "2022-05-22T05:45:34.049Z"
   },
   {
    "duration": 1198,
    "start_time": "2022-05-22T05:48:02.952Z"
   },
   {
    "duration": 813,
    "start_time": "2022-05-22T05:48:04.153Z"
   },
   {
    "duration": 29,
    "start_time": "2022-05-22T05:48:04.968Z"
   },
   {
    "duration": 4,
    "start_time": "2022-05-22T05:48:04.999Z"
   },
   {
    "duration": 21,
    "start_time": "2022-05-22T05:48:05.006Z"
   },
   {
    "duration": 49,
    "start_time": "2022-05-22T05:48:05.029Z"
   },
   {
    "duration": 60,
    "start_time": "2022-05-22T05:48:05.080Z"
   },
   {
    "duration": 29,
    "start_time": "2022-05-22T05:48:05.142Z"
   },
   {
    "duration": 28,
    "start_time": "2022-05-22T05:48:05.173Z"
   },
   {
    "duration": 65,
    "start_time": "2022-05-22T05:48:05.203Z"
   },
   {
    "duration": 32,
    "start_time": "2022-05-22T05:48:05.270Z"
   },
   {
    "duration": 118,
    "start_time": "2022-05-22T05:48:05.304Z"
   },
   {
    "duration": 207,
    "start_time": "2022-05-22T05:48:05.424Z"
   },
   {
    "duration": 279,
    "start_time": "2022-05-22T05:48:05.634Z"
   },
   {
    "duration": 246,
    "start_time": "2022-05-22T05:48:05.915Z"
   },
   {
    "duration": 159,
    "start_time": "2022-05-22T05:48:06.165Z"
   },
   {
    "duration": 0,
    "start_time": "2022-05-22T05:48:06.326Z"
   },
   {
    "duration": 0,
    "start_time": "2022-05-22T05:48:06.328Z"
   },
   {
    "duration": 0,
    "start_time": "2022-05-22T05:48:06.329Z"
   },
   {
    "duration": 0,
    "start_time": "2022-05-22T05:48:06.330Z"
   },
   {
    "duration": 0,
    "start_time": "2022-05-22T05:48:06.331Z"
   },
   {
    "duration": 0,
    "start_time": "2022-05-22T05:48:06.332Z"
   },
   {
    "duration": 15,
    "start_time": "2022-05-22T05:53:27.103Z"
   },
   {
    "duration": 47,
    "start_time": "2022-05-22T05:57:55.769Z"
   },
   {
    "duration": 69,
    "start_time": "2022-05-22T05:58:02.421Z"
   },
   {
    "duration": 53,
    "start_time": "2022-05-22T05:58:09.596Z"
   },
   {
    "duration": 57,
    "start_time": "2022-05-22T05:59:03.618Z"
   },
   {
    "duration": 21,
    "start_time": "2022-05-22T05:59:33.804Z"
   },
   {
    "duration": 1276,
    "start_time": "2022-05-22T06:00:02.478Z"
   },
   {
    "duration": 837,
    "start_time": "2022-05-22T06:00:03.758Z"
   },
   {
    "duration": 24,
    "start_time": "2022-05-22T06:00:04.600Z"
   },
   {
    "duration": 5,
    "start_time": "2022-05-22T06:00:04.626Z"
   },
   {
    "duration": 48,
    "start_time": "2022-05-22T06:00:04.633Z"
   },
   {
    "duration": 22,
    "start_time": "2022-05-22T06:00:04.683Z"
   },
   {
    "duration": 79,
    "start_time": "2022-05-22T06:00:04.706Z"
   },
   {
    "duration": 10,
    "start_time": "2022-05-22T06:00:04.787Z"
   },
   {
    "duration": 27,
    "start_time": "2022-05-22T06:00:04.800Z"
   },
   {
    "duration": 67,
    "start_time": "2022-05-22T06:00:04.829Z"
   },
   {
    "duration": 33,
    "start_time": "2022-05-22T06:00:04.897Z"
   },
   {
    "duration": 139,
    "start_time": "2022-05-22T06:00:04.931Z"
   },
   {
    "duration": 251,
    "start_time": "2022-05-22T06:00:05.072Z"
   },
   {
    "duration": 291,
    "start_time": "2022-05-22T06:00:05.325Z"
   },
   {
    "duration": 242,
    "start_time": "2022-05-22T06:00:05.618Z"
   },
   {
    "duration": 162,
    "start_time": "2022-05-22T06:00:05.862Z"
   },
   {
    "duration": 0,
    "start_time": "2022-05-22T06:00:06.026Z"
   },
   {
    "duration": 0,
    "start_time": "2022-05-22T06:00:06.028Z"
   },
   {
    "duration": 0,
    "start_time": "2022-05-22T06:00:06.030Z"
   },
   {
    "duration": 0,
    "start_time": "2022-05-22T06:00:06.031Z"
   },
   {
    "duration": 0,
    "start_time": "2022-05-22T06:00:06.033Z"
   },
   {
    "duration": 0,
    "start_time": "2022-05-22T06:00:06.034Z"
   },
   {
    "duration": 0,
    "start_time": "2022-05-22T06:00:06.036Z"
   },
   {
    "duration": 25,
    "start_time": "2022-05-22T06:02:58.200Z"
   },
   {
    "duration": 24,
    "start_time": "2022-05-22T06:03:07.771Z"
   },
   {
    "duration": 3,
    "start_time": "2022-05-22T06:03:07.796Z"
   },
   {
    "duration": 433966,
    "start_time": "2022-05-22T06:03:07.801Z"
   },
   {
    "duration": 77704,
    "start_time": "2022-05-22T06:10:21.770Z"
   },
   {
    "duration": 7,
    "start_time": "2022-05-22T06:11:39.566Z"
   },
   {
    "duration": 6797,
    "start_time": "2022-05-22T06:11:39.575Z"
   },
   {
    "duration": 6809,
    "start_time": "2022-05-22T06:14:51.446Z"
   },
   {
    "duration": 6708,
    "start_time": "2022-05-22T06:15:35.841Z"
   },
   {
    "duration": 6990,
    "start_time": "2022-05-22T06:17:48.992Z"
   },
   {
    "duration": 7131,
    "start_time": "2022-05-22T06:18:41.856Z"
   },
   {
    "duration": 7036,
    "start_time": "2022-05-22T06:19:05.656Z"
   },
   {
    "duration": 7345,
    "start_time": "2022-05-22T06:19:29.778Z"
   },
   {
    "duration": 6955,
    "start_time": "2022-05-22T06:19:53.386Z"
   },
   {
    "duration": 6,
    "start_time": "2022-05-22T06:20:21.916Z"
   },
   {
    "duration": 7151,
    "start_time": "2022-05-22T06:23:24.351Z"
   },
   {
    "duration": 32,
    "start_time": "2022-05-22T06:24:38.330Z"
   },
   {
    "duration": 6797,
    "start_time": "2022-05-22T06:25:05.610Z"
   },
   {
    "duration": 4,
    "start_time": "2022-05-22T06:26:24.559Z"
   },
   {
    "duration": 6760,
    "start_time": "2022-05-22T06:26:38.324Z"
   },
   {
    "duration": 4,
    "start_time": "2022-05-22T06:28:30.317Z"
   },
   {
    "duration": 6987,
    "start_time": "2022-05-22T06:28:36.992Z"
   },
   {
    "duration": 4,
    "start_time": "2022-05-22T06:29:58.445Z"
   },
   {
    "duration": 6934,
    "start_time": "2022-05-22T06:30:03.844Z"
   },
   {
    "duration": 4,
    "start_time": "2022-05-22T06:30:37.745Z"
   },
   {
    "duration": 6795,
    "start_time": "2022-05-22T06:30:44.733Z"
   },
   {
    "duration": 6858,
    "start_time": "2022-05-22T06:33:26.006Z"
   },
   {
    "duration": 7313,
    "start_time": "2022-05-22T06:53:22.510Z"
   },
   {
    "duration": 7488,
    "start_time": "2022-05-22T06:54:10.222Z"
   },
   {
    "duration": 49,
    "start_time": "2022-05-22T06:55:45.263Z"
   },
   {
    "duration": 4,
    "start_time": "2022-05-22T06:56:21.856Z"
   },
   {
    "duration": 7436,
    "start_time": "2022-05-22T06:56:28.241Z"
   },
   {
    "duration": 4,
    "start_time": "2022-05-22T06:57:51.843Z"
   },
   {
    "duration": 4,
    "start_time": "2022-05-22T06:58:00.233Z"
   },
   {
    "duration": 7100,
    "start_time": "2022-05-22T06:58:05.589Z"
   },
   {
    "duration": 3,
    "start_time": "2022-05-22T07:00:48.783Z"
   },
   {
    "duration": 7107,
    "start_time": "2022-05-22T07:00:56.022Z"
   },
   {
    "duration": 4,
    "start_time": "2022-05-22T07:02:21.314Z"
   },
   {
    "duration": 7041,
    "start_time": "2022-05-22T07:02:29.078Z"
   },
   {
    "duration": 32930,
    "start_time": "2022-05-22T07:04:51.560Z"
   },
   {
    "duration": 85,
    "start_time": "2022-05-22T07:05:24.492Z"
   },
   {
    "duration": 4223,
    "start_time": "2022-05-22T07:05:40.636Z"
   },
   {
    "duration": 1283,
    "start_time": "2022-05-22T07:06:08.076Z"
   },
   {
    "duration": 843,
    "start_time": "2022-05-22T07:06:09.364Z"
   },
   {
    "duration": 25,
    "start_time": "2022-05-22T07:06:10.209Z"
   },
   {
    "duration": 4,
    "start_time": "2022-05-22T07:06:10.236Z"
   },
   {
    "duration": 20,
    "start_time": "2022-05-22T07:06:10.264Z"
   },
   {
    "duration": 18,
    "start_time": "2022-05-22T07:06:10.286Z"
   },
   {
    "duration": 85,
    "start_time": "2022-05-22T07:06:10.306Z"
   },
   {
    "duration": 10,
    "start_time": "2022-05-22T07:06:10.392Z"
   },
   {
    "duration": 25,
    "start_time": "2022-05-22T07:06:10.404Z"
   },
   {
    "duration": 61,
    "start_time": "2022-05-22T07:06:10.431Z"
   },
   {
    "duration": 29,
    "start_time": "2022-05-22T07:06:10.494Z"
   },
   {
    "duration": 153,
    "start_time": "2022-05-22T07:06:10.524Z"
   },
   {
    "duration": 243,
    "start_time": "2022-05-22T07:06:10.680Z"
   },
   {
    "duration": 744,
    "start_time": "2022-05-22T07:06:10.926Z"
   },
   {
    "duration": 533,
    "start_time": "2022-05-22T07:06:11.675Z"
   },
   {
    "duration": 394,
    "start_time": "2022-05-22T07:06:12.210Z"
   },
   {
    "duration": 0,
    "start_time": "2022-05-22T07:06:12.606Z"
   },
   {
    "duration": 0,
    "start_time": "2022-05-22T07:06:12.608Z"
   },
   {
    "duration": 0,
    "start_time": "2022-05-22T07:06:12.610Z"
   },
   {
    "duration": 0,
    "start_time": "2022-05-22T07:06:12.612Z"
   },
   {
    "duration": 0,
    "start_time": "2022-05-22T07:06:12.613Z"
   },
   {
    "duration": 0,
    "start_time": "2022-05-22T07:06:12.615Z"
   },
   {
    "duration": 0,
    "start_time": "2022-05-22T07:06:12.616Z"
   },
   {
    "duration": 298,
    "start_time": "2022-05-22T07:12:59.622Z"
   },
   {
    "duration": 10,
    "start_time": "2022-05-22T07:46:32.631Z"
   },
   {
    "duration": 7,
    "start_time": "2022-05-22T07:47:27.850Z"
   },
   {
    "duration": 7,
    "start_time": "2022-05-22T07:47:47.721Z"
   },
   {
    "duration": 5,
    "start_time": "2022-05-22T07:55:34.202Z"
   },
   {
    "duration": 22,
    "start_time": "2022-05-22T07:57:12.662Z"
   },
   {
    "duration": 14,
    "start_time": "2022-05-22T07:57:32.256Z"
   },
   {
    "duration": 16,
    "start_time": "2022-05-22T07:57:43.236Z"
   },
   {
    "duration": 16,
    "start_time": "2022-05-22T07:59:42.682Z"
   },
   {
    "duration": 7,
    "start_time": "2022-05-22T08:00:08.301Z"
   },
   {
    "duration": 63,
    "start_time": "2022-05-22T08:04:15.761Z"
   },
   {
    "duration": 66,
    "start_time": "2022-05-22T08:05:13.265Z"
   },
   {
    "duration": 39,
    "start_time": "2022-05-22T08:05:40.615Z"
   },
   {
    "duration": 58,
    "start_time": "2022-05-22T08:06:29.888Z"
   },
   {
    "duration": 5,
    "start_time": "2022-05-22T08:06:41.054Z"
   },
   {
    "duration": 20,
    "start_time": "2022-05-22T08:19:26.125Z"
   },
   {
    "duration": 244,
    "start_time": "2022-05-22T08:21:31.086Z"
   },
   {
    "duration": 332,
    "start_time": "2022-05-22T08:21:58.828Z"
   },
   {
    "duration": 268,
    "start_time": "2022-05-22T08:22:53.280Z"
   },
   {
    "duration": 3,
    "start_time": "2022-05-22T08:33:54.251Z"
   },
   {
    "duration": 1280,
    "start_time": "2022-05-22T08:40:36.210Z"
   },
   {
    "duration": 902,
    "start_time": "2022-05-22T08:40:37.494Z"
   },
   {
    "duration": 25,
    "start_time": "2022-05-22T08:40:38.398Z"
   },
   {
    "duration": 4,
    "start_time": "2022-05-22T08:40:38.424Z"
   },
   {
    "duration": 40,
    "start_time": "2022-05-22T08:40:38.430Z"
   },
   {
    "duration": 23,
    "start_time": "2022-05-22T08:40:38.472Z"
   },
   {
    "duration": 87,
    "start_time": "2022-05-22T08:40:38.497Z"
   },
   {
    "duration": 17,
    "start_time": "2022-05-22T08:40:38.586Z"
   },
   {
    "duration": 29,
    "start_time": "2022-05-22T08:40:38.604Z"
   },
   {
    "duration": 66,
    "start_time": "2022-05-22T08:40:38.635Z"
   },
   {
    "duration": 31,
    "start_time": "2022-05-22T08:40:38.702Z"
   },
   {
    "duration": 157,
    "start_time": "2022-05-22T08:40:38.736Z"
   },
   {
    "duration": 260,
    "start_time": "2022-05-22T08:40:38.896Z"
   },
   {
    "duration": 361,
    "start_time": "2022-05-22T08:40:39.164Z"
   },
   {
    "duration": 5,
    "start_time": "2022-05-22T08:40:39.527Z"
   },
   {
    "duration": 8,
    "start_time": "2022-05-22T08:40:39.534Z"
   },
   {
    "duration": 285,
    "start_time": "2022-05-22T08:40:39.544Z"
   },
   {
    "duration": 2,
    "start_time": "2022-05-22T08:40:39.831Z"
   },
   {
    "duration": 16,
    "start_time": "2022-05-22T08:40:39.835Z"
   },
   {
    "duration": 26,
    "start_time": "2022-05-22T08:40:39.866Z"
   },
   {
    "duration": 19,
    "start_time": "2022-05-22T08:40:39.895Z"
   },
   {
    "duration": 175282,
    "start_time": "2022-05-22T08:40:39.916Z"
   },
   {
    "duration": 0,
    "start_time": "2022-05-22T08:43:35.200Z"
   },
   {
    "duration": 0,
    "start_time": "2022-05-22T08:43:35.202Z"
   },
   {
    "duration": 0,
    "start_time": "2022-05-22T08:43:35.204Z"
   },
   {
    "duration": 0,
    "start_time": "2022-05-22T08:43:35.205Z"
   },
   {
    "duration": 1378,
    "start_time": "2022-05-22T08:43:42.346Z"
   },
   {
    "duration": 933,
    "start_time": "2022-05-22T08:43:43.727Z"
   },
   {
    "duration": 42,
    "start_time": "2022-05-22T08:43:44.662Z"
   },
   {
    "duration": 5,
    "start_time": "2022-05-22T08:43:44.706Z"
   },
   {
    "duration": 15,
    "start_time": "2022-05-22T08:43:44.714Z"
   },
   {
    "duration": 52,
    "start_time": "2022-05-22T08:43:44.731Z"
   },
   {
    "duration": 70,
    "start_time": "2022-05-22T08:43:44.786Z"
   },
   {
    "duration": 25,
    "start_time": "2022-05-22T08:43:44.858Z"
   },
   {
    "duration": 43,
    "start_time": "2022-05-22T08:43:44.887Z"
   },
   {
    "duration": 70,
    "start_time": "2022-05-22T08:43:44.932Z"
   },
   {
    "duration": 41,
    "start_time": "2022-05-22T08:43:45.004Z"
   },
   {
    "duration": 158,
    "start_time": "2022-05-22T08:43:45.046Z"
   },
   {
    "duration": 247,
    "start_time": "2022-05-22T08:43:45.206Z"
   },
   {
    "duration": 358,
    "start_time": "2022-05-22T08:43:45.457Z"
   },
   {
    "duration": 5,
    "start_time": "2022-05-22T08:43:45.817Z"
   },
   {
    "duration": 6,
    "start_time": "2022-05-22T08:43:45.824Z"
   },
   {
    "duration": 297,
    "start_time": "2022-05-22T08:43:45.832Z"
   },
   {
    "duration": 3,
    "start_time": "2022-05-22T08:43:46.131Z"
   },
   {
    "duration": 24,
    "start_time": "2022-05-22T08:43:46.136Z"
   },
   {
    "duration": 41,
    "start_time": "2022-05-22T08:43:46.161Z"
   },
   {
    "duration": 6,
    "start_time": "2022-05-22T08:43:46.203Z"
   },
   {
    "duration": 305705,
    "start_time": "2022-05-22T08:43:46.210Z"
   },
   {
    "duration": 0,
    "start_time": "2022-05-22T08:48:51.917Z"
   },
   {
    "duration": 0,
    "start_time": "2022-05-22T08:48:51.919Z"
   },
   {
    "duration": 0,
    "start_time": "2022-05-22T08:48:51.920Z"
   },
   {
    "duration": 17,
    "start_time": "2022-05-22T08:48:55.701Z"
   },
   {
    "duration": 480245,
    "start_time": "2022-05-22T08:49:33.632Z"
   },
   {
    "duration": 431507,
    "start_time": "2022-05-22T08:58:05.193Z"
   },
   {
    "duration": 0,
    "start_time": "2022-05-22T09:05:16.702Z"
   },
   {
    "duration": 12,
    "start_time": "2022-05-22T09:05:30.843Z"
   },
   {
    "duration": 34484,
    "start_time": "2022-05-22T09:05:40.294Z"
   },
   {
    "duration": 11,
    "start_time": "2022-05-22T09:06:14.787Z"
   },
   {
    "duration": 4755,
    "start_time": "2022-05-22T09:06:14.801Z"
   },
   {
    "duration": 4597,
    "start_time": "2022-05-22T09:06:50.012Z"
   },
   {
    "duration": 4521,
    "start_time": "2022-05-22T09:07:03.664Z"
   },
   {
    "duration": 4463,
    "start_time": "2022-05-22T09:07:28.271Z"
   },
   {
    "duration": 4986,
    "start_time": "2022-05-22T09:07:44.643Z"
   },
   {
    "duration": 4556,
    "start_time": "2022-05-22T09:08:05.587Z"
   },
   {
    "duration": 4338,
    "start_time": "2022-05-22T09:08:53.794Z"
   },
   {
    "duration": 69,
    "start_time": "2022-05-22T09:09:07.150Z"
   },
   {
    "duration": 4717,
    "start_time": "2022-05-22T09:09:13.020Z"
   },
   {
    "duration": 21,
    "start_time": "2022-05-22T09:12:44.260Z"
   },
   {
    "duration": 6,
    "start_time": "2022-05-22T09:13:43.822Z"
   },
   {
    "duration": 10,
    "start_time": "2022-05-22T09:13:50.166Z"
   },
   {
    "duration": 4619,
    "start_time": "2022-05-22T09:13:55.182Z"
   },
   {
    "duration": 4525,
    "start_time": "2022-05-22T09:15:35.013Z"
   },
   {
    "duration": 4592,
    "start_time": "2022-05-22T09:17:03.363Z"
   },
   {
    "duration": 1344,
    "start_time": "2022-05-22T14:20:36.370Z"
   },
   {
    "duration": 1585,
    "start_time": "2022-05-22T14:20:37.717Z"
   },
   {
    "duration": 26,
    "start_time": "2022-05-22T14:20:39.305Z"
   },
   {
    "duration": 3,
    "start_time": "2022-05-22T14:20:39.333Z"
   },
   {
    "duration": 16,
    "start_time": "2022-05-22T14:20:39.338Z"
   },
   {
    "duration": 15,
    "start_time": "2022-05-22T14:20:39.355Z"
   },
   {
    "duration": 69,
    "start_time": "2022-05-22T14:20:39.371Z"
   },
   {
    "duration": 8,
    "start_time": "2022-05-22T14:20:39.442Z"
   },
   {
    "duration": 25,
    "start_time": "2022-05-22T14:20:39.452Z"
   },
   {
    "duration": 65,
    "start_time": "2022-05-22T14:20:39.479Z"
   },
   {
    "duration": 31,
    "start_time": "2022-05-22T14:20:39.545Z"
   },
   {
    "duration": 121,
    "start_time": "2022-05-22T14:20:39.578Z"
   },
   {
    "duration": 198,
    "start_time": "2022-05-22T14:20:39.701Z"
   },
   {
    "duration": 273,
    "start_time": "2022-05-22T14:20:39.901Z"
   },
   {
    "duration": 5,
    "start_time": "2022-05-22T14:20:40.176Z"
   },
   {
    "duration": 8,
    "start_time": "2022-05-22T14:20:40.182Z"
   },
   {
    "duration": 225,
    "start_time": "2022-05-22T14:20:40.191Z"
   },
   {
    "duration": 5,
    "start_time": "2022-05-22T14:20:40.418Z"
   },
   {
    "duration": 15,
    "start_time": "2022-05-22T14:20:40.424Z"
   },
   {
    "duration": 20,
    "start_time": "2022-05-22T14:20:40.441Z"
   },
   {
    "duration": 4,
    "start_time": "2022-05-22T14:20:40.462Z"
   },
   {
    "duration": 81162,
    "start_time": "2022-05-22T14:20:40.467Z"
   },
   {
    "duration": 0,
    "start_time": "2022-05-22T14:22:01.631Z"
   },
   {
    "duration": 0,
    "start_time": "2022-05-22T14:22:01.633Z"
   },
   {
    "duration": 0,
    "start_time": "2022-05-22T14:22:01.635Z"
   },
   {
    "duration": 4,
    "start_time": "2022-05-22T14:39:28.771Z"
   },
   {
    "duration": 416761,
    "start_time": "2022-05-22T14:39:33.477Z"
   },
   {
    "duration": 418405,
    "start_time": "2022-05-22T14:47:01.427Z"
   },
   {
    "duration": 4,
    "start_time": "2022-05-22T15:04:30.340Z"
   },
   {
    "duration": 60703,
    "start_time": "2022-05-22T15:08:42.527Z"
   },
   {
    "duration": 94,
    "start_time": "2022-05-22T15:09:43.233Z"
   },
   {
    "duration": 11149,
    "start_time": "2022-05-22T15:09:43.330Z"
   },
   {
    "duration": 39,
    "start_time": "2022-05-22T15:14:54.752Z"
   },
   {
    "duration": 10802,
    "start_time": "2022-05-22T15:15:34.430Z"
   },
   {
    "duration": 1182,
    "start_time": "2022-05-22T15:16:05.315Z"
   },
   {
    "duration": 724,
    "start_time": "2022-05-22T15:16:06.499Z"
   },
   {
    "duration": 22,
    "start_time": "2022-05-22T15:16:07.224Z"
   },
   {
    "duration": 4,
    "start_time": "2022-05-22T15:16:07.248Z"
   },
   {
    "duration": 16,
    "start_time": "2022-05-22T15:16:07.254Z"
   },
   {
    "duration": 18,
    "start_time": "2022-05-22T15:16:07.272Z"
   },
   {
    "duration": 62,
    "start_time": "2022-05-22T15:16:07.324Z"
   },
   {
    "duration": 36,
    "start_time": "2022-05-22T15:16:07.388Z"
   },
   {
    "duration": 24,
    "start_time": "2022-05-22T15:16:07.425Z"
   },
   {
    "duration": 34,
    "start_time": "2022-05-22T15:16:07.451Z"
   },
   {
    "duration": 58,
    "start_time": "2022-05-22T15:16:07.487Z"
   },
   {
    "duration": 101,
    "start_time": "2022-05-22T15:16:07.547Z"
   },
   {
    "duration": 199,
    "start_time": "2022-05-22T15:16:07.651Z"
   },
   {
    "duration": 280,
    "start_time": "2022-05-22T15:16:07.851Z"
   },
   {
    "duration": 5,
    "start_time": "2022-05-22T15:16:08.133Z"
   },
   {
    "duration": 8,
    "start_time": "2022-05-22T15:16:08.139Z"
   },
   {
    "duration": 222,
    "start_time": "2022-05-22T15:16:08.148Z"
   },
   {
    "duration": 2,
    "start_time": "2022-05-22T15:16:08.371Z"
   },
   {
    "duration": 55,
    "start_time": "2022-05-22T15:16:08.375Z"
   },
   {
    "duration": 3,
    "start_time": "2022-05-22T15:16:08.431Z"
   },
   {
    "duration": 427187,
    "start_time": "2022-05-22T15:16:08.436Z"
   },
   {
    "duration": 215,
    "start_time": "2022-05-22T15:23:15.630Z"
   },
   {
    "duration": 0,
    "start_time": "2022-05-22T15:23:15.847Z"
   },
   {
    "duration": 0,
    "start_time": "2022-05-22T15:23:15.849Z"
   },
   {
    "duration": 15,
    "start_time": "2022-05-22T15:26:35.372Z"
   },
   {
    "duration": 24,
    "start_time": "2022-05-22T15:28:14.930Z"
   },
   {
    "duration": 45882,
    "start_time": "2022-05-22T15:28:51.663Z"
   },
   {
    "duration": 16,
    "start_time": "2022-05-22T15:29:37.632Z"
   },
   {
    "duration": 8051,
    "start_time": "2022-05-22T15:29:37.727Z"
   },
   {
    "duration": 58,
    "start_time": "2022-05-22T15:32:00.355Z"
   },
   {
    "duration": 53,
    "start_time": "2022-05-22T15:32:03.728Z"
   },
   {
    "duration": 8006,
    "start_time": "2022-05-22T15:32:09.553Z"
   },
   {
    "duration": 1314,
    "start_time": "2022-05-22T15:52:20.945Z"
   },
   {
    "duration": 965,
    "start_time": "2022-05-22T15:52:22.262Z"
   },
   {
    "duration": 30,
    "start_time": "2022-05-22T15:52:23.229Z"
   },
   {
    "duration": 4,
    "start_time": "2022-05-22T15:52:23.261Z"
   },
   {
    "duration": 21,
    "start_time": "2022-05-22T15:52:23.267Z"
   },
   {
    "duration": 46,
    "start_time": "2022-05-22T15:52:23.290Z"
   },
   {
    "duration": 67,
    "start_time": "2022-05-22T15:52:23.338Z"
   },
   {
    "duration": 28,
    "start_time": "2022-05-22T15:52:23.407Z"
   },
   {
    "duration": 44,
    "start_time": "2022-05-22T15:52:23.437Z"
   },
   {
    "duration": 62,
    "start_time": "2022-05-22T15:52:23.483Z"
   },
   {
    "duration": 35,
    "start_time": "2022-05-22T15:52:23.547Z"
   },
   {
    "duration": 144,
    "start_time": "2022-05-22T15:52:23.584Z"
   },
   {
    "duration": 246,
    "start_time": "2022-05-22T15:52:23.730Z"
   },
   {
    "duration": 317,
    "start_time": "2022-05-22T15:52:23.979Z"
   },
   {
    "duration": 5,
    "start_time": "2022-05-22T15:52:24.298Z"
   },
   {
    "duration": 22,
    "start_time": "2022-05-22T15:52:24.304Z"
   },
   {
    "duration": 262,
    "start_time": "2022-05-22T15:52:24.327Z"
   },
   {
    "duration": 3,
    "start_time": "2022-05-22T15:52:24.591Z"
   },
   {
    "duration": 72,
    "start_time": "2022-05-22T15:52:24.596Z"
   },
   {
    "duration": 4,
    "start_time": "2022-05-22T15:52:24.669Z"
   },
   {
    "duration": 457957,
    "start_time": "2022-05-22T15:52:24.675Z"
   },
   {
    "duration": 48703,
    "start_time": "2022-05-22T16:00:02.722Z"
   },
   {
    "duration": 17,
    "start_time": "2022-05-22T16:00:51.432Z"
   },
   {
    "duration": 8583,
    "start_time": "2022-05-22T16:00:51.525Z"
   },
   {
    "duration": 47613,
    "start_time": "2022-05-22T16:01:00.111Z"
   },
   {
    "duration": 7,
    "start_time": "2022-05-22T16:01:47.727Z"
   },
   {
    "duration": 8564,
    "start_time": "2022-05-22T16:01:47.738Z"
   }
  ],
  "kernelspec": {
   "display_name": "Python 3 (ipykernel)",
   "language": "python",
   "name": "python3"
  },
  "language_info": {
   "codemirror_mode": {
    "name": "ipython",
    "version": 3
   },
   "file_extension": ".py",
   "mimetype": "text/x-python",
   "name": "python",
   "nbconvert_exporter": "python",
   "pygments_lexer": "ipython3",
   "version": "3.9.5"
  },
  "toc": {
   "base_numbering": 1,
   "nav_menu": {},
   "number_sections": true,
   "sideBar": true,
   "skip_h1_title": true,
   "title_cell": "Содержание",
   "title_sidebar": "Содержание",
   "toc_cell": true,
   "toc_position": {
    "height": "calc(100% - 180px)",
    "left": "10px",
    "top": "150px",
    "width": "409.045px"
   },
   "toc_section_display": true,
   "toc_window_display": true
  }
 },
 "nbformat": 4,
 "nbformat_minor": 2
}
