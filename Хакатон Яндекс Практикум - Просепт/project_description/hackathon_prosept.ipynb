{
 "cells": [
  {
   "cell_type": "markdown",
   "id": "6d7d28f2",
   "metadata": {
    "id": "6d7d28f2",
    "toc": true
   },
   "source": [
    "<h1>Table of Contents<span class=\"tocSkip\"></span></h1>\n",
    "<div class=\"toc\"><ul class=\"toc-item\"><li><span><a href=\"#План-работы:\" data-toc-modified-id=\"План-работы:-1\"><span class=\"toc-item-num\">1&nbsp;&nbsp;</span>План работы:</a></span></li><li><span><a href=\"#Загрузка-и-изучение-данных\" data-toc-modified-id=\"Загрузка-и-изучение-данных-2\"><span class=\"toc-item-num\">2&nbsp;&nbsp;</span>Загрузка и изучение данных</a></span><ul class=\"toc-item\"><li><span><a href=\"#Импорт-библиотек\" data-toc-modified-id=\"Импорт-библиотек-2.1\"><span class=\"toc-item-num\">2.1&nbsp;&nbsp;</span>Импорт библиотек</a></span></li><li><span><a href=\"#Загрузка-данных\" data-toc-modified-id=\"Загрузка-данных-2.2\"><span class=\"toc-item-num\">2.2&nbsp;&nbsp;</span>Загрузка данных</a></span></li><li><span><a href=\"#Анализ-данных\" data-toc-modified-id=\"Анализ-данных-2.3\"><span class=\"toc-item-num\">2.3&nbsp;&nbsp;</span>Анализ данных</a></span><ul class=\"toc-item\"><li><span><a href=\"#dealer\" data-toc-modified-id=\"dealer-2.3.1\"><span class=\"toc-item-num\">2.3.1&nbsp;&nbsp;</span>dealer</a></span></li><li><span><a href=\"#dealer_price\" data-toc-modified-id=\"dealer_price-2.3.2\"><span class=\"toc-item-num\">2.3.2&nbsp;&nbsp;</span>dealer_price</a></span></li><li><span><a href=\"#product_dealer_key\" data-toc-modified-id=\"product_dealer_key-2.3.3\"><span class=\"toc-item-num\">2.3.3&nbsp;&nbsp;</span>product_dealer_key</a></span></li><li><span><a href=\"#product\" data-toc-modified-id=\"product-2.3.4\"><span class=\"toc-item-num\">2.3.4&nbsp;&nbsp;</span>product</a></span></li></ul></li><li><span><a href=\"#Предобработка\" data-toc-modified-id=\"Предобработка-2.4\"><span class=\"toc-item-num\">2.4&nbsp;&nbsp;</span>Предобработка</a></span><ul class=\"toc-item\"><li><span><a href=\"#dealer_price\" data-toc-modified-id=\"dealer_price-2.4.1\"><span class=\"toc-item-num\">2.4.1&nbsp;&nbsp;</span>dealer_price</a></span></li><li><span><a href=\"#product\" data-toc-modified-id=\"product-2.4.2\"><span class=\"toc-item-num\">2.4.2&nbsp;&nbsp;</span>product</a></span></li></ul></li></ul></li><li><span><a href=\"#Объединение-таблиц\" data-toc-modified-id=\"Объединение-таблиц-3\"><span class=\"toc-item-num\">3&nbsp;&nbsp;</span>Объединение таблиц</a></span></li><li><span><a href=\"#Создание-таргета-и-фича-инжиниринг\" data-toc-modified-id=\"Создание-таргета-и-фича-инжиниринг-4\"><span class=\"toc-item-num\">4&nbsp;&nbsp;</span>Создание таргета и фича-инжиниринг</a></span><ul class=\"toc-item\"><li><span><a href=\"#Создание-таргета\" data-toc-modified-id=\"Создание-таргета-4.1\"><span class=\"toc-item-num\">4.1&nbsp;&nbsp;</span>Создание таргета</a></span></li><li><span><a href=\"#Фича-инжиниринг\" data-toc-modified-id=\"Фича-инжиниринг-4.2\"><span class=\"toc-item-num\">4.2&nbsp;&nbsp;</span>Фича-инжиниринг</a></span></li><li><span><a href=\"#Эмбеддинг\" data-toc-modified-id=\"Эмбеддинг-4.3\"><span class=\"toc-item-num\">4.3&nbsp;&nbsp;</span>Эмбеддинг</a></span></li></ul></li><li><span><a href=\"#Создание-выборок-и-обучение-модели\" data-toc-modified-id=\"Создание-выборок-и-обучение-модели-5\"><span class=\"toc-item-num\">5&nbsp;&nbsp;</span>Создание выборок и обучение модели</a></span><ul class=\"toc-item\"><li><span><a href=\"#Создание-выборок\" data-toc-modified-id=\"Создание-выборок-5.1\"><span class=\"toc-item-num\">5.1&nbsp;&nbsp;</span>Создание выборок</a></span></li><li><span><a href=\"#Обучение-модели\" data-toc-modified-id=\"Обучение-модели-5.2\"><span class=\"toc-item-num\">5.2&nbsp;&nbsp;</span>Обучение модели</a></span></li></ul></li><li><span><a href=\"#Тестирование-модели\" data-toc-modified-id=\"Тестирование-модели-6\"><span class=\"toc-item-num\">6&nbsp;&nbsp;</span>Тестирование модели</a></span></li><li><span><a href=\"#Вывод\" data-toc-modified-id=\"Вывод-7\"><span class=\"toc-item-num\">7&nbsp;&nbsp;</span>Вывод</a></span></li><li><span><a href=\"#Выгрузка-модели\" data-toc-modified-id=\"Выгрузка-модели-8\"><span class=\"toc-item-num\">8&nbsp;&nbsp;</span>Выгрузка модели</a></span></li></ul></div>"
   ]
  },
  {
   "cell_type": "markdown",
   "id": "dd726adb",
   "metadata": {
    "id": "dd726adb"
   },
   "source": [
    "# **Описание проекта. Матчинг карточек товара.**\n",
    "**Заказчик**\n",
    "\n",
    "ООО «ПРОСЕПТ» — российская производственная компания, специализирующаяся на выпуске профессиональной химии. В своей работе используют опыт ведущих мировых производителей и сырье крупнейших химических концернов. Производство и логистический центр расположены в непосредственной близости от Санкт-Петербурга, откуда продукция компании поставляется во все регионы России.\n",
    "\n",
    "Сайт: https://prosept.ru/\n",
    "\n",
    "**Описание проекта**\n",
    "\n",
    "Заказчик производит несколько сотен различных товаров бытовой и промышленной химии, а затем продаёт эти товары через дилеров. Дилеры, в свою очередь, занимаются розничной продажей товаров в крупных сетях магазинов и на онлайн площадках.\n",
    "Для оценки ситуации,  управления ценами и  бизнесом в целом, заказчик периодически собирает информацию о том, как дилеры продают их товар. Для этого они парсят сайты дилеров, а затем сопоставляют товары и цены.\n",
    "Зачастую описание товаров на сайтах дилеров отличаются от того описания, что даёт заказчик. Например, могут добавляться новый слова (“универсальный”, “эффективный”), объём (0.6 л -> 600 мл). Поэтому сопоставление товаров дилеров с товарами производителя делается вручную.\n",
    "\n",
    "**Цель этого проекта** - разработка решения, которое отчасти автоматизирует процесс сопоставления товаров. Основная идея - предлагать несколько товаров заказчика, которые с наибольшей вероятностью соответствуют размечаемому товару дилера.\n",
    "Предлагается реализовать это решение, как онлайн сервис, открываемый в веб-браузере. Выбор наиболее вероятных подсказок делается методами машинного обучения\n",
    "\n",
    "**Предоставление вариантов соответствия**:\n",
    "Система должна использовать рекомендательную модель, созданную ML специалистами, для предоставления наиболее вероятных вариантов соответствия товара.\n",
    "Для каждого товара система должна предложить несколько (настраиваемое количество) вариантов соответствия.\n",
    "\n",
    "**Описание данных**\n",
    "Заказчик предоставил несколько таблиц (дамп БД), содержащих необходимые данные:\n",
    "\n",
    "1.\t*marketing_dealer* - список дилеров;\n",
    "\n",
    "\n",
    "2.\t*marketing_dealerprice* - результат работы парсера площадок дилеров:\n",
    "  - product_key - уникальный номер позиции;\n",
    "  - price - цена;\n",
    "  - product_url - адрес страницы, откуда собраны данные;\n",
    "  - product_name - заголовок продаваемого товара;\n",
    "  - date - дата получения информации;\n",
    "  - dealer_id - идентификатор дилера (внешний ключ к marketing_dealer)\n",
    "  \n",
    "  \n",
    "3.\t*marketing_product* - список товаров, которые производит и распространяет заказчик;\n",
    "  - article - артикул товара;\n",
    "  - ean_13 - код товара (см. EAN 13)\n",
    "  - name - название товара;\n",
    "  - cost - стоимость;\n",
    "  - min_recommended_price - рекомендованная минимальная цена;\n",
    "  - recommended_price - рекомендованная цена;\n",
    "  - category_id - категория товара;\n",
    "  - ozon_name - названиет товара на Озоне;\n",
    "  - name_1c - название товара в 1C;\n",
    "  - Wb_name - название товара на Wildberries;\n",
    "  - ozon_article - описание для Озон;\n",
    "  - wb_article - артикул для Wildberries;\n",
    "  - ym_article - артикул для Яндекс.Маркета;\n",
    "\n",
    "\n",
    "4.\t*marketing_productdealerkey* - таблица матчинга товаров заказчика и товаров дилеров\n",
    "  - key - внешний ключ к marketing_dealerprice\n",
    "  - product_id - внешний ключ к marketing_product\n",
    "  - dealer_id - внешний ключ к marketing_dealer"
   ]
  },
  {
   "cell_type": "markdown",
   "id": "7d101083",
   "metadata": {
    "id": "7d101083"
   },
   "source": [
    "## План работы:\n",
    "1. Загрузка и изучение данных, выявление особенностей, которые можно обернуть в признаки для обучения;  \n",
    "2. Предобработка данных, пропусков и дубликатов;\n",
    "3. Создание и выбор признаков;\n",
    "4. Разделение данных на выборки для обучения и тестирования;\n",
    "5. Обучение и выбор модели с лучшей оценкой;\n",
    "6. Тестирование модели, в том числе визуальное;\n",
    "7. Передача модели в backend, упаковка и написание py-скриптов."
   ]
  },
  {
   "cell_type": "markdown",
   "id": "a0f019e5",
   "metadata": {
    "id": "a0f019e5"
   },
   "source": [
    "## Загрузка и изучение данных  \n",
    "Загружаем исходные данные (БД заказчика)., но для начала импортируем нужные нам библиотеки"
   ]
  },
  {
   "cell_type": "markdown",
   "id": "028684ed",
   "metadata": {
    "id": "028684ed"
   },
   "source": [
    "### Импорт библиотек"
   ]
  },
  {
   "cell_type": "code",
   "execution_count": 1,
   "id": "cf8865f9",
   "metadata": {
    "id": "cf8865f9"
   },
   "outputs": [],
   "source": [
    "!pip install fuzzywuzzy -q\n",
    "!pip install python-Levenshtein -q\n",
    "!pip install shap -q"
   ]
  },
  {
   "cell_type": "code",
   "execution_count": 2,
   "id": "a675b0bb",
   "metadata": {
    "id": "a675b0bb"
   },
   "outputs": [],
   "source": [
    "import re\n",
    "import time\n",
    "\n",
    "import numpy as np\n",
    "import pandas as pd\n",
    "import matplotlib.pyplot as plt\n",
    "import pickle\n",
    "import seaborn as sns\n",
    "import shap\n",
    "import torch\n",
    "import warnings\n",
    "\n",
    "from fuzzywuzzy import fuzz\n",
    "from lightgbm import LGBMClassifier\n",
    "from sklearn.model_selection import GridSearchCV, train_test_split\n",
    "from sklearn.metrics import precision_score, confusion_matrix, ConfusionMatrixDisplay\n",
    "from transformers import AutoTokenizer, AutoModel, logging\n",
    "\n",
    "\n",
    "\n",
    "logging.set_verbosity_error()\n",
    "warnings.filterwarnings(\"ignore\")\n",
    "\n",
    "\n",
    "RANDOM_STATE=12345"
   ]
  },
  {
   "cell_type": "markdown",
   "id": "58e1d1a3",
   "metadata": {
    "id": "58e1d1a3"
   },
   "source": [
    "Теперь загрузим данные из файлов.\n",
    "### Загрузка данных"
   ]
  },
  {
   "cell_type": "code",
   "execution_count": 3,
   "id": "47f2ebdb",
   "metadata": {
    "id": "47f2ebdb"
   },
   "outputs": [],
   "source": [
    "try:\n",
    "    dealer = pd.read_csv(\"marketing_dealer.csv\", sep=\";\", index_col=\"id\")\n",
    "    dealer_price = pd.read_csv(\"marketing_dealerprice.csv\", sep=\";\", index_col=\"id\")\n",
    "    product = pd.read_csv(\"marketing_product.csv\", sep=\";\", index_col=\"id\")\n",
    "    product_dealer_key = pd.read_csv(\"marketing_productdealerkey.csv\", sep=\";\", index_col=\"id\")\n",
    "    product.drop([\"Unnamed: 0\"], axis=1, inplace=True)\n",
    "except:\n",
    "    dealer = pd.read_csv(\"C:\\\\data\\\\marketing_dealer.csv\", sep=\";\", index_col=\"id\")\n",
    "    dealer_price = pd.read_csv(\"C:\\\\data\\\\marketing_dealerprice.csv\", sep=\";\", index_col=\"id\")\n",
    "    product = pd.read_csv(\"C:\\\\data\\\\marketing_product.csv\", sep=\";\", index_col=\"id\")\n",
    "    product_dealer_key = pd.read_csv(\"C:\\\\data\\\\marketing_productdealerkey.csv\", sep=\";\", index_col=\"id\")\n",
    "    product.drop([\"Unnamed: 0\"], axis=1, inplace=True)"
   ]
  },
  {
   "cell_type": "markdown",
   "id": "EUpKnCeM5XDG",
   "metadata": {
    "id": "EUpKnCeM5XDG"
   },
   "source": [
    "для удобства отсортируем, только что созданные датасеты  по возрастанию индексов"
   ]
  },
  {
   "cell_type": "code",
   "execution_count": 4,
   "id": "0f1bf21f",
   "metadata": {
    "id": "0f1bf21f"
   },
   "outputs": [],
   "source": [
    "dealer.sort_index(inplace=True)\n",
    "dealer_price.sort_index(inplace=True)\n",
    "product.sort_index(inplace=True)\n",
    "product_dealer_key.sort_index(inplace=True)"
   ]
  },
  {
   "cell_type": "markdown",
   "id": "54e3adcc",
   "metadata": {
    "id": "54e3adcc"
   },
   "source": [
    "### Анализ данных"
   ]
  },
  {
   "cell_type": "markdown",
   "id": "1WVUeSzH5sxW",
   "metadata": {
    "id": "1WVUeSzH5sxW"
   },
   "source": [
    "Проведем осмотр полученных данных. Для этого напишем функцию\n",
    "information  , которая будет выводить первичную информацию по каждому переданному в нее датафрейм:  \n",
    "1) выведем первые 5 строк  \n",
    "2) выведем общую информацию по датафрейму  \n",
    "3) посчитаем количество явных дубликатов  \n",
    "4) количество пропусков  "
   ]
  },
  {
   "cell_type": "code",
   "execution_count": 5,
   "id": "c87ccd26",
   "metadata": {
    "id": "c87ccd26"
   },
   "outputs": [],
   "source": [
    "def information (name, df):\n",
    "    \"\"\"\n",
    "    Функция для первичного обзора датафрейма.\n",
    "    \"\"\"\n",
    "    print(\"-\" * 40, \"view dataframe\", name, \"-\" * 40)\n",
    "    display(df.head())\n",
    "    print(\"\\n\")\n",
    "    df.info()\n",
    "    print(\"\\n\", \"Количество явных дубликатов:\", df.duplicated().sum(), \", пропусков:\", df.isna().sum().sum())"
   ]
  },
  {
   "cell_type": "markdown",
   "id": "08j8RmzTeEuT",
   "metadata": {
    "id": "08j8RmzTeEuT"
   },
   "source": [
    "Почередно пропустим все датасеты через только что написанную функцию и проведем первоначальный анализ"
   ]
  },
  {
   "cell_type": "markdown",
   "id": "ed1f726b",
   "metadata": {
    "id": "ed1f726b"
   },
   "source": [
    "#### dealer\n",
    "Список дилеров"
   ]
  },
  {
   "cell_type": "code",
   "execution_count": 6,
   "id": "36761b18",
   "metadata": {
    "colab": {
     "base_uri": "https://localhost:8080/",
     "height": 463
    },
    "id": "36761b18",
    "outputId": "5e1d3807-b602-44ee-8495-29a6a314b8e8"
   },
   "outputs": [
    {
     "name": "stdout",
     "output_type": "stream",
     "text": [
      "---------------------------------------- view dataframe dealer ----------------------------------------\n"
     ]
    },
    {
     "data": {
      "text/html": [
       "<div>\n",
       "<style scoped>\n",
       "    .dataframe tbody tr th:only-of-type {\n",
       "        vertical-align: middle;\n",
       "    }\n",
       "\n",
       "    .dataframe tbody tr th {\n",
       "        vertical-align: top;\n",
       "    }\n",
       "\n",
       "    .dataframe thead th {\n",
       "        text-align: right;\n",
       "    }\n",
       "</style>\n",
       "<table border=\"1\" class=\"dataframe\">\n",
       "  <thead>\n",
       "    <tr style=\"text-align: right;\">\n",
       "      <th></th>\n",
       "      <th>name</th>\n",
       "    </tr>\n",
       "    <tr>\n",
       "      <th>id</th>\n",
       "      <th></th>\n",
       "    </tr>\n",
       "  </thead>\n",
       "  <tbody>\n",
       "    <tr>\n",
       "      <th>1</th>\n",
       "      <td>Moi_vibor_WB</td>\n",
       "    </tr>\n",
       "    <tr>\n",
       "      <th>2</th>\n",
       "      <td>Akson</td>\n",
       "    </tr>\n",
       "    <tr>\n",
       "      <th>3</th>\n",
       "      <td>Bafus</td>\n",
       "    </tr>\n",
       "    <tr>\n",
       "      <th>4</th>\n",
       "      <td>Baucenter</td>\n",
       "    </tr>\n",
       "    <tr>\n",
       "      <th>5</th>\n",
       "      <td>Castorama</td>\n",
       "    </tr>\n",
       "  </tbody>\n",
       "</table>\n",
       "</div>"
      ],
      "text/plain": [
       "            name\n",
       "id              \n",
       "1   Moi_vibor_WB\n",
       "2          Akson\n",
       "3          Bafus\n",
       "4      Baucenter\n",
       "5      Castorama"
      ]
     },
     "metadata": {},
     "output_type": "display_data"
    },
    {
     "name": "stdout",
     "output_type": "stream",
     "text": [
      "\n",
      "\n",
      "<class 'pandas.core.frame.DataFrame'>\n",
      "Int64Index: 18 entries, 1 to 18\n",
      "Data columns (total 1 columns):\n",
      " #   Column  Non-Null Count  Dtype \n",
      "---  ------  --------------  ----- \n",
      " 0   name    18 non-null     object\n",
      "dtypes: object(1)\n",
      "memory usage: 288.0+ bytes\n",
      "\n",
      " Количество явных дубликатов: 0 , пропусков: 0\n"
     ]
    }
   ],
   "source": [
    "information(\"dealer\", dealer)"
   ]
  },
  {
   "cell_type": "code",
   "execution_count": 7,
   "id": "d245713b",
   "metadata": {
    "colab": {
     "base_uri": "https://localhost:8080/",
     "height": 645
    },
    "id": "d245713b",
    "outputId": "c3dd8b2e-c0b1-4468-f237-6de0250ec41c"
   },
   "outputs": [
    {
     "data": {
      "text/html": [
       "<div>\n",
       "<style scoped>\n",
       "    .dataframe tbody tr th:only-of-type {\n",
       "        vertical-align: middle;\n",
       "    }\n",
       "\n",
       "    .dataframe tbody tr th {\n",
       "        vertical-align: top;\n",
       "    }\n",
       "\n",
       "    .dataframe thead th {\n",
       "        text-align: right;\n",
       "    }\n",
       "</style>\n",
       "<table border=\"1\" class=\"dataframe\">\n",
       "  <thead>\n",
       "    <tr style=\"text-align: right;\">\n",
       "      <th></th>\n",
       "      <th>name</th>\n",
       "    </tr>\n",
       "    <tr>\n",
       "      <th>id</th>\n",
       "      <th></th>\n",
       "    </tr>\n",
       "  </thead>\n",
       "  <tbody>\n",
       "    <tr>\n",
       "      <th>1</th>\n",
       "      <td>Moi_vibor_WB</td>\n",
       "    </tr>\n",
       "    <tr>\n",
       "      <th>2</th>\n",
       "      <td>Akson</td>\n",
       "    </tr>\n",
       "    <tr>\n",
       "      <th>3</th>\n",
       "      <td>Bafus</td>\n",
       "    </tr>\n",
       "    <tr>\n",
       "      <th>4</th>\n",
       "      <td>Baucenter</td>\n",
       "    </tr>\n",
       "    <tr>\n",
       "      <th>5</th>\n",
       "      <td>Castorama</td>\n",
       "    </tr>\n",
       "    <tr>\n",
       "      <th>6</th>\n",
       "      <td>Cubatora</td>\n",
       "    </tr>\n",
       "    <tr>\n",
       "      <th>7</th>\n",
       "      <td>Komus</td>\n",
       "    </tr>\n",
       "    <tr>\n",
       "      <th>8</th>\n",
       "      <td>Leroy_Merlin</td>\n",
       "    </tr>\n",
       "    <tr>\n",
       "      <th>9</th>\n",
       "      <td>Megastroy</td>\n",
       "    </tr>\n",
       "    <tr>\n",
       "      <th>10</th>\n",
       "      <td>OnlineTrade</td>\n",
       "    </tr>\n",
       "    <tr>\n",
       "      <th>11</th>\n",
       "      <td>Petrovich</td>\n",
       "    </tr>\n",
       "    <tr>\n",
       "      <th>12</th>\n",
       "      <td>sdvor</td>\n",
       "    </tr>\n",
       "    <tr>\n",
       "      <th>13</th>\n",
       "      <td>simaLand</td>\n",
       "    </tr>\n",
       "    <tr>\n",
       "      <th>14</th>\n",
       "      <td>VegosM</td>\n",
       "    </tr>\n",
       "    <tr>\n",
       "      <th>15</th>\n",
       "      <td>Vse_instrumeni</td>\n",
       "    </tr>\n",
       "    <tr>\n",
       "      <th>16</th>\n",
       "      <td>Vimos</td>\n",
       "    </tr>\n",
       "    <tr>\n",
       "      <th>17</th>\n",
       "      <td>Unicleaner_OZON</td>\n",
       "    </tr>\n",
       "    <tr>\n",
       "      <th>18</th>\n",
       "      <td>Мasterstroy_spb_OZON\\r\\n</td>\n",
       "    </tr>\n",
       "  </tbody>\n",
       "</table>\n",
       "</div>"
      ],
      "text/plain": [
       "                        name\n",
       "id                          \n",
       "1               Moi_vibor_WB\n",
       "2                      Akson\n",
       "3                      Bafus\n",
       "4                  Baucenter\n",
       "5                  Castorama\n",
       "6                   Cubatora\n",
       "7                      Komus\n",
       "8               Leroy_Merlin\n",
       "9                  Megastroy\n",
       "10               OnlineTrade\n",
       "11                 Petrovich\n",
       "12                     sdvor\n",
       "13                  simaLand\n",
       "14                    VegosM\n",
       "15            Vse_instrumeni\n",
       "16                     Vimos\n",
       "17           Unicleaner_OZON\n",
       "18  Мasterstroy_spb_OZON\\r\\n"
      ]
     },
     "execution_count": 7,
     "metadata": {},
     "output_type": "execute_result"
    }
   ],
   "source": [
    "dealer"
   ]
  },
  {
   "cell_type": "markdown",
   "id": "ac88f690",
   "metadata": {
    "id": "ac88f690"
   },
   "source": [
    "Всего 18 дилеров, дубликатов нет. Немного некорректная запись 18 дилера.\n",
    "Можно устранить, но в нашей задаче наименования дилеро вряд ли понадобятся, поэтому оставим как есть."
   ]
  },
  {
   "cell_type": "markdown",
   "id": "a66d27c3",
   "metadata": {
    "id": "a66d27c3"
   },
   "source": [
    "#### dealer_price\n",
    "Информация полученная от парсера по дилерам:"
   ]
  },
  {
   "cell_type": "code",
   "execution_count": 8,
   "id": "f7384741",
   "metadata": {
    "colab": {
     "base_uri": "https://localhost:8080/",
     "height": 550
    },
    "id": "f7384741",
    "outputId": "87f678ff-83f9-497a-b484-21feaa4783a8"
   },
   "outputs": [
    {
     "name": "stdout",
     "output_type": "stream",
     "text": [
      "---------------------------------------- view dataframe dealer_price ----------------------------------------\n"
     ]
    },
    {
     "data": {
      "text/html": [
       "<div>\n",
       "<style scoped>\n",
       "    .dataframe tbody tr th:only-of-type {\n",
       "        vertical-align: middle;\n",
       "    }\n",
       "\n",
       "    .dataframe tbody tr th {\n",
       "        vertical-align: top;\n",
       "    }\n",
       "\n",
       "    .dataframe thead th {\n",
       "        text-align: right;\n",
       "    }\n",
       "</style>\n",
       "<table border=\"1\" class=\"dataframe\">\n",
       "  <thead>\n",
       "    <tr style=\"text-align: right;\">\n",
       "      <th></th>\n",
       "      <th>product_key</th>\n",
       "      <th>price</th>\n",
       "      <th>product_url</th>\n",
       "      <th>product_name</th>\n",
       "      <th>date</th>\n",
       "      <th>dealer_id</th>\n",
       "    </tr>\n",
       "    <tr>\n",
       "      <th>id</th>\n",
       "      <th></th>\n",
       "      <th></th>\n",
       "      <th></th>\n",
       "      <th></th>\n",
       "      <th></th>\n",
       "      <th></th>\n",
       "    </tr>\n",
       "  </thead>\n",
       "  <tbody>\n",
       "    <tr>\n",
       "      <th>2</th>\n",
       "      <td>546227</td>\n",
       "      <td>233.0</td>\n",
       "      <td>https://akson.ru//p/sredstvo_universalnoe_pros...</td>\n",
       "      <td>Средство универсальное Prosept Universal Spray...</td>\n",
       "      <td>2023-07-11</td>\n",
       "      <td>2</td>\n",
       "    </tr>\n",
       "    <tr>\n",
       "      <th>3</th>\n",
       "      <td>546408</td>\n",
       "      <td>175.0</td>\n",
       "      <td>https://akson.ru//p/kontsentrat_prosept_multip...</td>\n",
       "      <td>Концентрат Prosept Multipower для мытья полов,...</td>\n",
       "      <td>2023-07-11</td>\n",
       "      <td>2</td>\n",
       "    </tr>\n",
       "    <tr>\n",
       "      <th>4</th>\n",
       "      <td>546234</td>\n",
       "      <td>285.0</td>\n",
       "      <td>https://akson.ru//p/sredstvo_dlya_chistki_lyus...</td>\n",
       "      <td>Средство для чистки люстр Prosept Universal An...</td>\n",
       "      <td>2023-07-11</td>\n",
       "      <td>2</td>\n",
       "    </tr>\n",
       "    <tr>\n",
       "      <th>5</th>\n",
       "      <td>651258</td>\n",
       "      <td>362.0</td>\n",
       "      <td>https://akson.ru//p/udalitel_rzhavchiny_prosep...</td>\n",
       "      <td>Удалитель ржавчины PROSEPT RUST REMOVER 0,5л 0...</td>\n",
       "      <td>2023-07-11</td>\n",
       "      <td>2</td>\n",
       "    </tr>\n",
       "    <tr>\n",
       "      <th>6</th>\n",
       "      <td>546355</td>\n",
       "      <td>205.0</td>\n",
       "      <td>https://akson.ru//p/sredstvo_moyushchee_dlya_b...</td>\n",
       "      <td>Средство моющее для бани и сауны Prosept Multi...</td>\n",
       "      <td>2023-07-11</td>\n",
       "      <td>2</td>\n",
       "    </tr>\n",
       "  </tbody>\n",
       "</table>\n",
       "</div>"
      ],
      "text/plain": [
       "   product_key  price                                        product_url  \\\n",
       "id                                                                         \n",
       "2       546227  233.0  https://akson.ru//p/sredstvo_universalnoe_pros...   \n",
       "3       546408  175.0  https://akson.ru//p/kontsentrat_prosept_multip...   \n",
       "4       546234  285.0  https://akson.ru//p/sredstvo_dlya_chistki_lyus...   \n",
       "5       651258  362.0  https://akson.ru//p/udalitel_rzhavchiny_prosep...   \n",
       "6       546355  205.0  https://akson.ru//p/sredstvo_moyushchee_dlya_b...   \n",
       "\n",
       "                                         product_name        date  dealer_id  \n",
       "id                                                                            \n",
       "2   Средство универсальное Prosept Universal Spray...  2023-07-11          2  \n",
       "3   Концентрат Prosept Multipower для мытья полов,...  2023-07-11          2  \n",
       "4   Средство для чистки люстр Prosept Universal An...  2023-07-11          2  \n",
       "5   Удалитель ржавчины PROSEPT RUST REMOVER 0,5л 0...  2023-07-11          2  \n",
       "6   Средство моющее для бани и сауны Prosept Multi...  2023-07-11          2  "
      ]
     },
     "metadata": {},
     "output_type": "display_data"
    },
    {
     "name": "stdout",
     "output_type": "stream",
     "text": [
      "\n",
      "\n",
      "<class 'pandas.core.frame.DataFrame'>\n",
      "Int64Index: 20416 entries, 2 to 20570\n",
      "Data columns (total 6 columns):\n",
      " #   Column        Non-Null Count  Dtype  \n",
      "---  ------        --------------  -----  \n",
      " 0   product_key   20416 non-null  object \n",
      " 1   price         20416 non-null  float64\n",
      " 2   product_url   20182 non-null  object \n",
      " 3   product_name  20416 non-null  object \n",
      " 4   date          20416 non-null  object \n",
      " 5   dealer_id     20416 non-null  int64  \n",
      "dtypes: float64(1), int64(1), object(4)\n",
      "memory usage: 1.1+ MB\n",
      "\n",
      " Количество явных дубликатов: 726 , пропусков: 234\n"
     ]
    }
   ],
   "source": [
    "information (\"dealer_price\", dealer_price)"
   ]
  },
  {
   "cell_type": "markdown",
   "id": "a096b483",
   "metadata": {
    "id": "a096b483"
   },
   "source": [
    "Есть пропуски в колонке с адресами страниц, с которых были собраны данные -  посмотрим на них подробнее: выведем количество уникальных значений для каждой из колонок датасета для строк,в которых есть пропуски по колонке product_url."
   ]
  },
  {
   "cell_type": "code",
   "execution_count": 9,
   "id": "52fbba2a",
   "metadata": {
    "colab": {
     "base_uri": "https://localhost:8080/"
    },
    "id": "52fbba2a",
    "outputId": "94178706-c4e6-4039-b9da-c29d6afe88e1"
   },
   "outputs": [
    {
     "name": "stdout",
     "output_type": "stream",
     "text": [
      "Уникальных значений в product_key :  25\n",
      "Уникальных значений в price :  31\n",
      "Уникальных значений в product_url :  1\n",
      "Уникальных значений в product_name :  25\n",
      "Уникальных значений в date :  10\n",
      "Уникальных значений в dealer_id :  1\n"
     ]
    }
   ],
   "source": [
    "dealer_price_null = dealer_price[dealer_price[\"product_url\"].isnull()]\n",
    "\n",
    "for column in dealer_price_null.columns:\n",
    "    print(\"Уникальных значений в\", column, \": \", len(dealer_price_null[column].unique()))"
   ]
  },
  {
   "cell_type": "markdown",
   "id": "0ajb9HsY7kmc",
   "metadata": {
    "id": "0ajb9HsY7kmc"
   },
   "source": [
    "Можно заметить что в колонке delaer_id  только одно уникальное значение  - выведем его."
   ]
  },
  {
   "cell_type": "code",
   "execution_count": 10,
   "id": "ed475927",
   "metadata": {
    "colab": {
     "base_uri": "https://localhost:8080/"
    },
    "id": "ed475927",
    "outputId": "2cebf37d-e480-4859-e295-4f7ce713a13e"
   },
   "outputs": [
    {
     "data": {
      "text/plain": [
       "array([7], dtype=int64)"
      ]
     },
     "execution_count": 10,
     "metadata": {},
     "output_type": "execute_result"
    }
   ],
   "source": [
    "dealer_price_null[\"dealer_id\"].unique()"
   ]
  },
  {
   "cell_type": "markdown",
   "id": "3EKeVtuw8WTu",
   "metadata": {
    "id": "3EKeVtuw8WTu"
   },
   "source": [
    "Посмотрим количество уникальных артикулов товаров по данному дилеру"
   ]
  },
  {
   "cell_type": "code",
   "execution_count": 11,
   "id": "3e57dd02",
   "metadata": {
    "colab": {
     "base_uri": "https://localhost:8080/"
    },
    "id": "3e57dd02",
    "outputId": "26a64a87-4cf2-4cee-df66-1861750f520a"
   },
   "outputs": [
    {
     "data": {
      "text/plain": [
       "array(['1462334', '1462339', '1462335', '1462338', '1462343', '1462336',\n",
       "       '1462351', '1462349', '1462341', '1565307', '1462353', '1462345',\n",
       "       '1462342', '1462350', '1565306', '1462347', '1565304', '1462346',\n",
       "       '1462352', '1462337', '1462354', '1462344', '1462333', '1462348',\n",
       "       '1462340'], dtype=object)"
      ]
     },
     "execution_count": 11,
     "metadata": {},
     "output_type": "execute_result"
    }
   ],
   "source": [
    "dealer_price.loc[dealer_price[\"dealer_id\"] == 7][\"product_key\"].unique()"
   ]
  },
  {
   "cell_type": "markdown",
   "id": "_6EESE7V8zzO",
   "metadata": {
    "id": "_6EESE7V8zzO"
   },
   "source": [
    "Проверим даты . Возможно у этого дилера были проблемы в конкретный день."
   ]
  },
  {
   "cell_type": "code",
   "execution_count": 12,
   "id": "fc0e93d4",
   "metadata": {
    "colab": {
     "base_uri": "https://localhost:8080/"
    },
    "id": "fc0e93d4",
    "outputId": "35b146c1-e3d9-4395-9f72-4eae07116f70"
   },
   "outputs": [
    {
     "data": {
      "text/plain": [
       "array(['2023-07-11', '2023-07-12', '2023-07-13', '2023-07-14',\n",
       "       '2023-07-17', '2023-07-18', '2023-07-24', '2023-07-25',\n",
       "       '2023-07-26', '2023-07-31'], dtype=object)"
      ]
     },
     "execution_count": 12,
     "metadata": {},
     "output_type": "execute_result"
    }
   ],
   "source": [
    "dealer_price_null.loc[dealer_price_null[\"dealer_id\"] == 7][\"date\"].unique()"
   ]
  },
  {
   "cell_type": "code",
   "execution_count": 13,
   "id": "b60b3ab6",
   "metadata": {
    "colab": {
     "base_uri": "https://localhost:8080/"
    },
    "id": "b60b3ab6",
    "outputId": "dbb6c08b-4153-44c7-a055-90adb8c9b178"
   },
   "outputs": [
    {
     "data": {
      "text/plain": [
       "array([nan], dtype=object)"
      ]
     },
     "execution_count": 13,
     "metadata": {},
     "output_type": "execute_result"
    }
   ],
   "source": [
    "dealer_price.loc[dealer_price[\"dealer_id\"] == 7][\"product_url\"].unique()"
   ]
  },
  {
   "cell_type": "markdown",
   "id": "88c717e2",
   "metadata": {
    "id": "88c717e2"
   },
   "source": [
    "**Вывод** С сайта дилера Komus почему-то не подтянулись ссылки на товар. Столбец для нашей задачи не подходит, поэтому можем его смело удалять.  \n",
    "\n",
    "Проверим распределение цены дилерских карточек"
   ]
  },
  {
   "cell_type": "code",
   "execution_count": 14,
   "id": "1962ee5c",
   "metadata": {
    "colab": {
     "base_uri": "https://localhost:8080/"
    },
    "id": "1962ee5c",
    "outputId": "527e3595-6f09-47a1-f8ce-dd238a08ecfe"
   },
   "outputs": [
    {
     "data": {
      "text/plain": [
       "max       34500.000\n",
       "min           0.000\n",
       "mean       1257.324\n",
       "median      613.000\n",
       "Name: price, dtype: float64"
      ]
     },
     "execution_count": 14,
     "metadata": {},
     "output_type": "execute_result"
    }
   ],
   "source": [
    "round(dealer_price[\"price\"].agg([\"max\", \"min\", \"mean\", \"median\"]), 3)"
   ]
  },
  {
   "cell_type": "code",
   "execution_count": 15,
   "id": "da0da8a4",
   "metadata": {
    "colab": {
     "base_uri": "https://localhost:8080/",
     "height": 334
    },
    "id": "da0da8a4",
    "outputId": "ed290578-e0c1-4d14-8a2c-06b12a041a33"
   },
   "outputs": [
    {
     "data": {
      "image/png": "[encoded data removed]",
      "text/plain": [
       "<Figure size 1000x300 with 1 Axes>"
      ]
     },
     "metadata": {},
     "output_type": "display_data"
    }
   ],
   "source": [
    "dealer_price[\"price\"].hist(figsize=(10, 3))\n",
    "plt.title(\"Цены дилеров\" + \"\\n\");"
   ]
  },
  {
   "cell_type": "markdown",
   "id": "zQLDB_Jsf9Mb",
   "metadata": {
    "id": "zQLDB_Jsf9Mb"
   },
   "source": [
    "Большинство товаров лежит в диапазоне до 3000 руб. Тем не менее есть подзорительный товар ценой в 34,5 тыс. руб.- выведем его название на экран:"
   ]
  },
  {
   "cell_type": "code",
   "execution_count": 16,
   "id": "5cd9a4f1",
   "metadata": {
    "colab": {
     "base_uri": "https://localhost:8080/"
    },
    "id": "5cd9a4f1",
    "outputId": "27dcd44b-6f54-41fe-d4e0-b100d33d7cf2"
   },
   "outputs": [
    {
     "data": {
      "text/plain": [
       "array(['Просепт 46 антисептик транспортный для пиломатериалов (200 кг)'],\n",
       "      dtype=object)"
      ]
     },
     "execution_count": 16,
     "metadata": {},
     "output_type": "execute_result"
    }
   ],
   "source": [
    "dealer_price.loc[dealer_price[\"price\"] == 34500][\"product_name\"].unique()"
   ]
  },
  {
   "cell_type": "markdown",
   "id": "SDWiSFyMhhZQ",
   "metadata": {
    "id": "SDWiSFyMhhZQ"
   },
   "source": [
    "Как видно - это вполне нормальный товар. Вероятно стандартная 200 кг бочка - поэтому стоиомость 34.5 тыс. руб за нее вполне возможна.  \n",
    "Таким же образом проверим товар стоимостью более 10 тыс руб и на всякий случай посмотрим что находится в дипазоне до одной тысячи :"
   ]
  },
  {
   "cell_type": "code",
   "execution_count": 17,
   "id": "5qUmhdoehbNw",
   "metadata": {
    "colab": {
     "base_uri": "https://localhost:8080/"
    },
    "id": "5qUmhdoehbNw",
    "outputId": "bc863688-66ed-462f-916f-14727ed1d8da"
   },
   "outputs": [
    {
     "data": {
      "text/plain": [
       "array(['Просепт Bio антисептик для влажной древесины концентрат (30 л)',\n",
       "       'Просепт Exterior антисептик для внутренних работ (30 л)',\n",
       "       'Просепт Ultra антисептик невымываемый для ответственных конструкций (20 л) зеленый оттенок',\n",
       "       'Просепт Ultra антисептик невымываемый для ответственных конструкций (20 л) коричневый оттенок',\n",
       "       'Просепт Ultra антисептик невымываемый для ответственных конструкций (30 л) зеленый оттенок',\n",
       "       'Просепт Ultra антисептик невымываемый для ответственных конструкций (30 л) коричневый оттенок',\n",
       "       'Просепт Universal антисептик универсальный для наружных и внутренних работ (30 л)',\n",
       "       'Просепт Огнебио Prof 1 огнебиозащита для древесины (65 л) бесцветная',\n",
       "       'Просепт Огнебио Prof 1 огнебиозащита для древесины (65 л) красная',\n",
       "       'Огнебиозащита для древесины PROSEPT ОГНЕБИО PROF 1, 1 группа 65 л 007-65',\n",
       "       'Антисептик PROSEPT ULTRA невымываемый, коричневый, концентрат 1:10, 30 л 061-30',\n",
       "       'Просепт 42 антисептик для консервации круглого неокоренного леса (220 кг)',\n",
       "       'Просепт 46 антисептик транспортный для пиломатериалов (200 кг)',\n",
       "       'Просепт огнебиозащита для древесины I группа (65 кг) красная',\n",
       "       'Просепт Bath Krot Bio биосредство для жироуловителей и систем водоочистки (20 л)',\n",
       "       'Антисептик PROSEPT ULTRA невымываемый, концентрат 1:10, 20 л 061-20'],\n",
       "      dtype=object)"
      ]
     },
     "execution_count": 17,
     "metadata": {},
     "output_type": "execute_result"
    }
   ],
   "source": [
    "dealer_price.loc[dealer_price[\"price\"] >= 10000][\"product_name\"].unique()"
   ]
  },
  {
   "cell_type": "code",
   "execution_count": 18,
   "id": "630a135b",
   "metadata": {
    "colab": {
     "base_uri": "https://localhost:8080/"
    },
    "id": "630a135b",
    "outputId": "27f7ecad-1c44-4d7d-bb77-94bf08de9926"
   },
   "outputs": [
    {
     "data": {
      "text/plain": [
       "array(['Средство для удаления клейкой ленты, клея, наклеек PROSEPT Duty Universal аэрозоль 0.4 л 123-04',\n",
       "       'Жидкое гель-мыло эконом-класса Diona Citrus E',\n",
       "       'СредстводляудаленияклеяProseptDutyUniversal400мл',\n",
       "       'Средство для удаления клея Prosept Duty Universal 400 мл',\n",
       "       'Антисептик для бань и саун PROSEPT ECO SAUNA 5 л 016-5'],\n",
       "      dtype=object)"
      ]
     },
     "execution_count": 18,
     "metadata": {},
     "output_type": "execute_result"
    }
   ],
   "source": [
    "dealer_price.loc[dealer_price[\"price\"] == 500][\"product_name\"].unique()"
   ]
  },
  {
   "cell_type": "markdown",
   "id": "2bTKEyseiPW2",
   "metadata": {
    "id": "2bTKEyseiPW2"
   },
   "source": [
    "Антисептик для бань 5 литров за 500 руб - нечто подозрительное,скорее всего ошибка. Можно сообщить производителю о ней."
   ]
  },
  {
   "cell_type": "code",
   "execution_count": 19,
   "id": "9ba99ff0",
   "metadata": {
    "colab": {
     "base_uri": "https://localhost:8080/"
    },
    "id": "9ba99ff0",
    "outputId": "1b7f50ee-150a-4075-de02-f329c6c5bbd0"
   },
   "outputs": [
    {
     "data": {
      "text/plain": [
       "array(['Средство для прочистки труб и стоков Bath Prof концентрат',\n",
       "       'Антисептик невымываемый PROSEPT ECO ULTRA 10 л',\n",
       "       'Антисептик невымываемый PROSEPT ECO ULTRA коричневый 10 л',\n",
       "       'Средство для стирки спортивной одежды, обуви и пуховиков PROSEPT Crystal 3 л 290-3'],\n",
       "      dtype=object)"
      ]
     },
     "execution_count": 19,
     "metadata": {},
     "output_type": "execute_result"
    }
   ],
   "source": [
    "dealer_price.loc[dealer_price[\"price\"] == 1000][\"product_name\"].unique()"
   ]
  },
  {
   "cell_type": "code",
   "execution_count": 20,
   "id": "b8571cc9",
   "metadata": {
    "colab": {
     "base_uri": "https://localhost:8080/"
    },
    "id": "b8571cc9",
    "outputId": "9d7cef5e-73e6-4df5-d98e-8866ed279932"
   },
   "outputs": [
    {
     "data": {
      "text/plain": [
       "array(['Просепт герметик акриловый паропроницаемый (7 кг) сосна'],\n",
       "      dtype=object)"
      ]
     },
     "execution_count": 20,
     "metadata": {},
     "output_type": "execute_result"
    }
   ],
   "source": [
    "dealer_price.loc[dealer_price[\"price\"] == 0][\"product_name\"].unique()"
   ]
  },
  {
   "cell_type": "markdown",
   "id": "d607e41b",
   "metadata": {
    "id": "d607e41b"
   },
   "source": [
    "как видим по тексту у дилеров явно есть ошибки, 10 литровые антисептики за 1000 руб выглядят довольно подорительно.  \n",
    "А герметик 7 кг по цене 0 рублей, так вообще носенс. Возможно парсер подтянул товар, которого нет в наличии. Об этом стоит сообщить разработчикам, пусть проверят ( зачем тащить то чего нет в наличии).  \n",
    "  \n",
    "Для нашей задачи цена - это лишний признак, поскольку он будет создавать сложности в разспознавании одинаковых товаров, из в модели использовать не будем, а значит данные ошибки исправлять в контексте этой задачи нет необходимости.  \n",
    "  \n",
    "Далее проверим товары каких дилеров вообще попали в нашу выборку :\n"
   ]
  },
  {
   "cell_type": "code",
   "execution_count": 21,
   "id": "c2499f09",
   "metadata": {
    "colab": {
     "base_uri": "https://localhost:8080/"
    },
    "id": "c2499f09",
    "outputId": "4cb4f9ee-807c-4b04-a869-933ce0a94916"
   },
   "outputs": [
    {
     "data": {
      "text/plain": [
       "array([ 1,  2,  3,  4,  5,  6,  7,  8,  9, 10, 11, 12, 13, 14, 15, 16, 17,\n",
       "       18], dtype=int64)"
      ]
     },
     "execution_count": 21,
     "metadata": {},
     "output_type": "execute_result"
    }
   ],
   "source": [
    "np.sort(dealer_price[\"dealer_id\"].unique())"
   ]
  },
  {
   "cell_type": "markdown",
   "id": "zHo-C0P-j0_Z",
   "metadata": {
    "id": "zHo-C0P-j0_Z"
   },
   "source": [
    "Как видим все дилеры, из нашего списка любезно дали доступ для парсинга.  \n",
    "  \n",
    "Проверим даты:  "
   ]
  },
  {
   "cell_type": "code",
   "execution_count": 22,
   "id": "63e8963c",
   "metadata": {
    "colab": {
     "base_uri": "https://localhost:8080/"
    },
    "id": "63e8963c",
    "outputId": "8f64f586-6563-43b2-a6e0-ee1c32ed3ce4"
   },
   "outputs": [
    {
     "data": {
      "text/plain": [
       "array(['2023-07-11', '2023-07-12', '2023-07-13', '2023-07-14',\n",
       "       '2023-07-17', '2023-07-18', '2023-07-19', '2023-07-21',\n",
       "       '2023-07-24', '2023-07-25', '2023-07-26', '2023-07-27',\n",
       "       '2023-07-28', '2023-07-31'], dtype=object)"
      ]
     },
     "execution_count": 22,
     "metadata": {},
     "output_type": "execute_result"
    }
   ],
   "source": [
    "np.sort(dealer_price[\"date\"].unique())"
   ]
  },
  {
   "cell_type": "markdown",
   "id": "2a2cdded",
   "metadata": {
    "id": "2a2cdded"
   },
   "source": [
    "Нам предоставлены данные парсера за 2 недели. Посмотрим сколько строк собрал парсер в каждую дату."
   ]
  },
  {
   "cell_type": "code",
   "execution_count": 23,
   "id": "ec3d0ad0",
   "metadata": {
    "colab": {
     "base_uri": "https://localhost:8080/",
     "height": 520
    },
    "id": "ec3d0ad0",
    "outputId": "ed2c5742-7e93-4205-8fea-e55abd443d02"
   },
   "outputs": [
    {
     "data": {
      "text/html": [
       "<div>\n",
       "<style scoped>\n",
       "    .dataframe tbody tr th:only-of-type {\n",
       "        vertical-align: middle;\n",
       "    }\n",
       "\n",
       "    .dataframe tbody tr th {\n",
       "        vertical-align: top;\n",
       "    }\n",
       "\n",
       "    .dataframe thead th {\n",
       "        text-align: right;\n",
       "    }\n",
       "</style>\n",
       "<table border=\"1\" class=\"dataframe\">\n",
       "  <thead>\n",
       "    <tr style=\"text-align: right;\">\n",
       "      <th></th>\n",
       "      <th>product_key</th>\n",
       "    </tr>\n",
       "    <tr>\n",
       "      <th>date</th>\n",
       "      <th></th>\n",
       "    </tr>\n",
       "  </thead>\n",
       "  <tbody>\n",
       "    <tr>\n",
       "      <th>2023-07-11</th>\n",
       "      <td>1838</td>\n",
       "    </tr>\n",
       "    <tr>\n",
       "      <th>2023-07-12</th>\n",
       "      <td>1738</td>\n",
       "    </tr>\n",
       "    <tr>\n",
       "      <th>2023-07-13</th>\n",
       "      <td>1547</td>\n",
       "    </tr>\n",
       "    <tr>\n",
       "      <th>2023-07-14</th>\n",
       "      <td>1602</td>\n",
       "    </tr>\n",
       "    <tr>\n",
       "      <th>2023-07-17</th>\n",
       "      <td>1556</td>\n",
       "    </tr>\n",
       "    <tr>\n",
       "      <th>2023-07-18</th>\n",
       "      <td>1492</td>\n",
       "    </tr>\n",
       "    <tr>\n",
       "      <th>2023-07-19</th>\n",
       "      <td>1319</td>\n",
       "    </tr>\n",
       "    <tr>\n",
       "      <th>2023-07-21</th>\n",
       "      <td>1333</td>\n",
       "    </tr>\n",
       "    <tr>\n",
       "      <th>2023-07-24</th>\n",
       "      <td>1435</td>\n",
       "    </tr>\n",
       "    <tr>\n",
       "      <th>2023-07-25</th>\n",
       "      <td>1431</td>\n",
       "    </tr>\n",
       "    <tr>\n",
       "      <th>2023-07-26</th>\n",
       "      <td>1458</td>\n",
       "    </tr>\n",
       "    <tr>\n",
       "      <th>2023-07-27</th>\n",
       "      <td>332</td>\n",
       "    </tr>\n",
       "    <tr>\n",
       "      <th>2023-07-28</th>\n",
       "      <td>1565</td>\n",
       "    </tr>\n",
       "    <tr>\n",
       "      <th>2023-07-31</th>\n",
       "      <td>1770</td>\n",
       "    </tr>\n",
       "  </tbody>\n",
       "</table>\n",
       "</div>"
      ],
      "text/plain": [
       "            product_key\n",
       "date                   \n",
       "2023-07-11         1838\n",
       "2023-07-12         1738\n",
       "2023-07-13         1547\n",
       "2023-07-14         1602\n",
       "2023-07-17         1556\n",
       "2023-07-18         1492\n",
       "2023-07-19         1319\n",
       "2023-07-21         1333\n",
       "2023-07-24         1435\n",
       "2023-07-25         1431\n",
       "2023-07-26         1458\n",
       "2023-07-27          332\n",
       "2023-07-28         1565\n",
       "2023-07-31         1770"
      ]
     },
     "execution_count": 23,
     "metadata": {},
     "output_type": "execute_result"
    }
   ],
   "source": [
    "dealer_price[[\"product_key\", \"date\"]].groupby(\"date\").agg(\"count\")"
   ]
  },
  {
   "cell_type": "markdown",
   "id": "KN0EY_hGkpo9",
   "metadata": {
    "id": "KN0EY_hGkpo9"
   },
   "source": [
    "Почему-то просело 27.07.2023. Возможно парсер приостанавливали.  \n",
    "  \n",
    "На всякий случай проверим какие дилеры  в этот день \"отличились\""
   ]
  },
  {
   "cell_type": "code",
   "execution_count": 24,
   "id": "8393053d",
   "metadata": {
    "colab": {
     "base_uri": "https://localhost:8080/"
    },
    "id": "8393053d",
    "outputId": "4f0a8bad-1739-4e4a-8f90-4b99b6fe0493"
   },
   "outputs": [
    {
     "data": {
      "text/plain": [
       "array([17, 18, 10], dtype=int64)"
      ]
     },
     "execution_count": 24,
     "metadata": {},
     "output_type": "execute_result"
    }
   ],
   "source": [
    "dealer_price.loc[dealer_price[\"date\"] == \"2023-07-27\"][\"dealer_id\"].unique()"
   ]
  },
  {
   "cell_type": "code",
   "execution_count": 25,
   "id": "8b5cf19d",
   "metadata": {
    "colab": {
     "base_uri": "https://localhost:8080/"
    },
    "id": "8b5cf19d",
    "outputId": "8fad170c-92f6-4e03-b816-a6169c78ba71"
   },
   "outputs": [
    {
     "name": "stdout",
     "output_type": "stream",
     "text": [
      "2023-07-11 [ 1  2  3  4  5  6  7  8  9 10 11 12 13 14 15 16]\n",
      "2023-07-12 [ 1  2  3  4  5  6  7  8  9 10 11 12 13 14 15 16]\n",
      "2023-07-13 [ 1  2  3  4  5  6  7  8  9 10 11 12 13 14 15 16]\n",
      "2023-07-14 [ 1  2  3  4  5  6  7  8  9 10 11 12 13 14 15 16]\n",
      "2023-07-17 [ 1  2  3  4  5  6  7  8  9 10 11 12 13 14 15 16]\n",
      "2023-07-18 [ 2  3  4  5  6  7  8  9 10 11 12 13 14 15 16]\n",
      "2023-07-19 [ 1  2  3  4  5  6  9 10 11 12 14 15 16]\n",
      "2023-07-21 [ 1  2  3  4  5  6  9 11 12 13 14 15 16]\n",
      "2023-07-24 [ 1  2  3  4  5  6  7  9 10 11 12 13 14 15 16]\n",
      "2023-07-25 [ 1  2  3  4  5  6  7  9 10 11 12 13 14 15 16]\n",
      "2023-07-26 [ 1  2  3  4  5  6  7  9 10 11 12 13 14 15 16 17]\n",
      "2023-07-27 [10 17 18]\n",
      "2023-07-28 [ 1  3  4  5  9 10 11 12 13 14 15 16 17 18]\n",
      "2023-07-31 [ 1  2  3  4  5  6  7  8  9 10 11 12 13 14 15 16 17 18]\n"
     ]
    }
   ],
   "source": [
    "for dat in dealer_price[\"date\"].unique():\n",
    "    print(dat, np.sort(dealer_price.loc[dealer_price[\"date\"] == dat][\"dealer_id\"].unique()))"
   ]
  },
  {
   "cell_type": "markdown",
   "id": "9JRHTsP1k175",
   "metadata": {
    "id": "9JRHTsP1k175"
   },
   "source": [
    "по дилерам 17, 18 и 10 таки удалось собрать данные в этот черный день.  \n",
    "  \n",
    "Интересно сколько всего уникальных наменований получено от дилеров за эти 2 недели, а так же проверим на дубли:"
   ]
  },
  {
   "cell_type": "code",
   "execution_count": 26,
   "id": "22db60b0",
   "metadata": {
    "colab": {
     "base_uri": "https://localhost:8080/",
     "height": 88
    },
    "id": "22db60b0",
    "outputId": "a453761a-d80b-409f-99d3-7510dcc7c470"
   },
   "outputs": [
    {
     "data": {
      "text/plain": [
       "'Уникальных названий товаров дилеров Всего:'"
      ]
     },
     "metadata": {},
     "output_type": "display_data"
    },
    {
     "data": {
      "text/plain": [
       "1953"
      ]
     },
     "metadata": {},
     "output_type": "display_data"
    },
    {
     "data": {
      "text/plain": [
       "'Количество одинаковых товаров (по артикулам дилеров):'"
      ]
     },
     "metadata": {},
     "output_type": "display_data"
    },
    {
     "data": {
      "text/plain": [
       "18451"
      ]
     },
     "metadata": {},
     "output_type": "display_data"
    }
   ],
   "source": [
    "display(\"Уникальных названий товаров дилеров Всего:\",len(dealer_price[\"product_name\"].unique()))\n",
    "display(\"Количество одинаковых товаров (по артикулам дилеров):\", dealer_price[dealer_price[\"product_key\"].duplicated()].shape[0])"
   ]
  },
  {
   "cell_type": "markdown",
   "id": "GcsOp5VdnGKk",
   "metadata": {
    "id": "GcsOp5VdnGKk"
   },
   "source": [
    "Как видно в списке много уникальных названий, но повторяющихся товаров еще больше, что не удивительно, т.к. у нас данные за 2 недели.  \n",
    "  \n",
    "Посмотрим на уникальные названия товаров с 20 по 40-ую строку  "
   ]
  },
  {
   "cell_type": "code",
   "execution_count": 27,
   "id": "4f6aa6c5",
   "metadata": {
    "colab": {
     "base_uri": "https://localhost:8080/"
    },
    "id": "4f6aa6c5",
    "outputId": "66c02f16-7057-4a4d-9fa5-4e51c2c9093d"
   },
   "outputs": [
    {
     "data": {
      "text/plain": [
       "array(['Антисептик-грунт PROSEPT ОSB BASE для OSB 1л',\n",
       "       'Очиститель фасадов  PROSEPT Salt Cleaner, концентрат 1:2  5л',\n",
       "       'Средство для изделий из кожи Prosept Duty Leather очистка и уход, 400мл',\n",
       "       'Cпрей для очистки полков в банях и саунах Prosept Universal Wood 500мл',\n",
       "       'Антисептик PROSEPT Interior для внутренних работ , концентрат 1:10 5л',\n",
       "       'Антисептик PROSEPT Eco Ultra невымываемый, коричневый, готовый состав 10л',\n",
       "       'Антисептик PROSEPT Eco Interior для внутренних работ, готовый состав  5л',\n",
       "       'Масло для защиты полков Prosept Sauna Oil, 250мл  готовый состав',\n",
       "       'Антисептик PROSEPT Ultra невымываемый, коричневый, готовый состав 1 л',\n",
       "       'Шпаклевка для OSB-плит акриловая PROSEPT Proplast белая, 7 кг.',\n",
       "       'Пропитка-антисептик PROSEPT Eco Exterior трудновымываемая для наружных работ 5л',\n",
       "       'Отбеливатель для древесины PROSEPT ECO 50 готовый  состав / 1 кг',\n",
       "       'Антисептик-грунт PROSEPT ОSB BASE для OSB 5л',\n",
       "       'Очиститель эпоксидного налета PROSEPT EPOXY CLEANER, готовый состав / 0,5 л',\n",
       "       'Средство для чистки гриля и духовых шкафов Prosept Cooky Grill, 550мл концентрат',\n",
       "       'Спрей Prosept Cooky Spray для столешниц и раковин из искусственного камня и гранита, 500мл',\n",
       "       'Cредство для мытья стекол и зеркал с антистатическим эффектом Prosept Optic Shine, 500мл',\n",
       "       'Крем-мыло жидкое Prosept Diona Сitrus Е 5л с ароматом цитруса',\n",
       "       'Антисептик для бани и сауны 1:10 PROSEPT SAUNA 1л 004-1',\n",
       "       'Шампунь для сухой чистки ковров и текстильных изделий Prosept Carpet DryClean, концентрат 500мл'],\n",
       "      dtype=object)"
      ]
     },
     "execution_count": 27,
     "metadata": {},
     "output_type": "execute_result"
    }
   ],
   "source": [
    "dealer_price[\"product_name\"].unique()[20:40]"
   ]
  },
  {
   "cell_type": "markdown",
   "id": "SH-1GM07niBK",
   "metadata": {
    "id": "SH-1GM07niBK"
   },
   "source": [
    "Практически во всех названиях присутствует название бренда, что хорошо. Теперь проверим как много товаров не содержат столь важной информации :"
   ]
  },
  {
   "cell_type": "code",
   "execution_count": 28,
   "id": "fc7acc17",
   "metadata": {
    "colab": {
     "base_uri": "https://localhost:8080/"
    },
    "id": "fc7acc17",
    "outputId": "da96b392-f23f-4c98-a53c-ea139b15f32b"
   },
   "outputs": [
    {
     "data": {
      "text/plain": [
       "2670"
      ]
     },
     "execution_count": 28,
     "metadata": {},
     "output_type": "execute_result"
    }
   ],
   "source": [
    "not_prosept = []\n",
    "\n",
    "for row in dealer_price[\"product_name\"]:\n",
    "    if \"PROSEPT\" not in row and \"Prosept\" not in row and \"Просепт\" not in row and \"ПРОСЕПТ\" not in row:\n",
    "        not_prosept.append(row)\n",
    "\n",
    "len(not_prosept)"
   ]
  },
  {
   "cell_type": "markdown",
   "id": "cba74d68",
   "metadata": {
    "id": "cba74d68"
   },
   "source": [
    "Небольшое резюме:\n",
    "*   Нам предоставлены данные с парсера заказчика за 2 недели.\n",
    "*   Парсер не собирает данные url по дилеру Комус\n",
    "*   Дилеры примерно в 10% случаев не указывают бренд в названии товара, что снижает узнаваемость самого бренда, а так же снижает возможность найти товар ляльным покупателем.\n",
    "*   В наименовании указаны объем и меры.\n",
    "*   Данные по сути являются дубликатами(если исключить даты), поэтому отсортируем их по дате, оставим самые последние записи.\n",
    "*   Новый пункт\n",
    "  \n",
    "Уникальных товаров примерно 2000 (будет не очень большая обучающая выборка, это значит, что данные будут обрабатываться достаточно быстро).  \n",
    "   \n",
    "Столбец с пропусками product_url и столбец dealer_id, будет удален, т.к. скорее всего не понадобятся для нашей модели. Оставим признаки - product_key и product_name. product_key переименуем в key, для соединения таблиц.\n",
    "\n",
    "\n",
    "\n",
    "\n",
    "\n"
   ]
  },
  {
   "cell_type": "markdown",
   "id": "9fb7fe90",
   "metadata": {
    "id": "9fb7fe90"
   },
   "source": [
    "#### product_dealer_key  \n",
    "таблица соответсвий товаров производителя артикулам, которые указывают дилеры."
   ]
  },
  {
   "cell_type": "code",
   "execution_count": 29,
   "id": "857f41b7",
   "metadata": {
    "colab": {
     "base_uri": "https://localhost:8080/",
     "height": 498
    },
    "id": "857f41b7",
    "outputId": "e896ec37-20eb-4181-d871-f33396b6b126"
   },
   "outputs": [
    {
     "name": "stdout",
     "output_type": "stream",
     "text": [
      "---------------------------------------- view dataframe product_dealer_key ----------------------------------------\n"
     ]
    },
    {
     "data": {
      "text/html": [
       "<div>\n",
       "<style scoped>\n",
       "    .dataframe tbody tr th:only-of-type {\n",
       "        vertical-align: middle;\n",
       "    }\n",
       "\n",
       "    .dataframe tbody tr th {\n",
       "        vertical-align: top;\n",
       "    }\n",
       "\n",
       "    .dataframe thead th {\n",
       "        text-align: right;\n",
       "    }\n",
       "</style>\n",
       "<table border=\"1\" class=\"dataframe\">\n",
       "  <thead>\n",
       "    <tr style=\"text-align: right;\">\n",
       "      <th></th>\n",
       "      <th>key</th>\n",
       "      <th>dealer_id</th>\n",
       "      <th>product_id</th>\n",
       "    </tr>\n",
       "    <tr>\n",
       "      <th>id</th>\n",
       "      <th></th>\n",
       "      <th></th>\n",
       "      <th></th>\n",
       "    </tr>\n",
       "  </thead>\n",
       "  <tbody>\n",
       "    <tr>\n",
       "      <th>1</th>\n",
       "      <td>546227</td>\n",
       "      <td>2</td>\n",
       "      <td>12</td>\n",
       "    </tr>\n",
       "    <tr>\n",
       "      <th>2</th>\n",
       "      <td>651265</td>\n",
       "      <td>2</td>\n",
       "      <td>106</td>\n",
       "    </tr>\n",
       "    <tr>\n",
       "      <th>3</th>\n",
       "      <td>546257</td>\n",
       "      <td>2</td>\n",
       "      <td>200</td>\n",
       "    </tr>\n",
       "    <tr>\n",
       "      <th>4</th>\n",
       "      <td>546408</td>\n",
       "      <td>2</td>\n",
       "      <td>38</td>\n",
       "    </tr>\n",
       "    <tr>\n",
       "      <th>5</th>\n",
       "      <td>651258</td>\n",
       "      <td>2</td>\n",
       "      <td>403</td>\n",
       "    </tr>\n",
       "  </tbody>\n",
       "</table>\n",
       "</div>"
      ],
      "text/plain": [
       "       key  dealer_id  product_id\n",
       "id                               \n",
       "1   546227          2          12\n",
       "2   651265          2         106\n",
       "3   546257          2         200\n",
       "4   546408          2          38\n",
       "5   651258          2         403"
      ]
     },
     "metadata": {},
     "output_type": "display_data"
    },
    {
     "name": "stdout",
     "output_type": "stream",
     "text": [
      "\n",
      "\n",
      "<class 'pandas.core.frame.DataFrame'>\n",
      "Int64Index: 1700 entries, 1 to 2023\n",
      "Data columns (total 3 columns):\n",
      " #   Column      Non-Null Count  Dtype \n",
      "---  ------      --------------  ----- \n",
      " 0   key         1700 non-null   object\n",
      " 1   dealer_id   1700 non-null   int64 \n",
      " 2   product_id  1700 non-null   int64 \n",
      "dtypes: int64(2), object(1)\n",
      "memory usage: 53.1+ KB\n",
      "\n",
      " Количество явных дубликатов: 0 , пропусков: 0\n"
     ]
    }
   ],
   "source": [
    "information (\"product_dealer_key\", product_dealer_key)"
   ]
  },
  {
   "cell_type": "code",
   "execution_count": 30,
   "id": "0fdcbe87",
   "metadata": {
    "colab": {
     "base_uri": "https://localhost:8080/",
     "height": 300
    },
    "id": "0fdcbe87",
    "outputId": "f2a60e76-f82c-46bb-ea7f-e55a7577f7f7"
   },
   "outputs": [
    {
     "data": {
      "text/html": [
       "<div>\n",
       "<style scoped>\n",
       "    .dataframe tbody tr th:only-of-type {\n",
       "        vertical-align: middle;\n",
       "    }\n",
       "\n",
       "    .dataframe tbody tr th {\n",
       "        vertical-align: top;\n",
       "    }\n",
       "\n",
       "    .dataframe thead th {\n",
       "        text-align: right;\n",
       "    }\n",
       "</style>\n",
       "<table border=\"1\" class=\"dataframe\">\n",
       "  <thead>\n",
       "    <tr style=\"text-align: right;\">\n",
       "      <th></th>\n",
       "      <th>dealer_id</th>\n",
       "      <th>product_id</th>\n",
       "    </tr>\n",
       "  </thead>\n",
       "  <tbody>\n",
       "    <tr>\n",
       "      <th>count</th>\n",
       "      <td>1700.000000</td>\n",
       "      <td>1700.000000</td>\n",
       "    </tr>\n",
       "    <tr>\n",
       "      <th>mean</th>\n",
       "      <td>10.148824</td>\n",
       "      <td>223.564118</td>\n",
       "    </tr>\n",
       "    <tr>\n",
       "      <th>std</th>\n",
       "      <td>5.830717</td>\n",
       "      <td>132.341778</td>\n",
       "    </tr>\n",
       "    <tr>\n",
       "      <th>min</th>\n",
       "      <td>1.000000</td>\n",
       "      <td>1.000000</td>\n",
       "    </tr>\n",
       "    <tr>\n",
       "      <th>25%</th>\n",
       "      <td>3.000000</td>\n",
       "      <td>110.000000</td>\n",
       "    </tr>\n",
       "    <tr>\n",
       "      <th>50%</th>\n",
       "      <td>10.000000</td>\n",
       "      <td>239.500000</td>\n",
       "    </tr>\n",
       "    <tr>\n",
       "      <th>75%</th>\n",
       "      <td>15.000000</td>\n",
       "      <td>334.250000</td>\n",
       "    </tr>\n",
       "    <tr>\n",
       "      <th>max</th>\n",
       "      <td>18.000000</td>\n",
       "      <td>479.000000</td>\n",
       "    </tr>\n",
       "  </tbody>\n",
       "</table>\n",
       "</div>"
      ],
      "text/plain": [
       "         dealer_id   product_id\n",
       "count  1700.000000  1700.000000\n",
       "mean     10.148824   223.564118\n",
       "std       5.830717   132.341778\n",
       "min       1.000000     1.000000\n",
       "25%       3.000000   110.000000\n",
       "50%      10.000000   239.500000\n",
       "75%      15.000000   334.250000\n",
       "max      18.000000   479.000000"
      ]
     },
     "execution_count": 30,
     "metadata": {},
     "output_type": "execute_result"
    }
   ],
   "source": [
    "product_dealer_key.describe()"
   ]
  },
  {
   "cell_type": "markdown",
   "id": "f7ec74b6",
   "metadata": {
    "id": "f7ec74b6"
   },
   "source": [
    "С помощью этой таблицы можно получить хороший таргет положительного класса."
   ]
  },
  {
   "cell_type": "markdown",
   "id": "03217d64",
   "metadata": {
    "id": "03217d64"
   },
   "source": [
    "#### product  \n",
    "список товаров производителя из базы данных"
   ]
  },
  {
   "cell_type": "code",
   "execution_count": 31,
   "id": "4cd4ed2a",
   "metadata": {
    "colab": {
     "base_uri": "https://localhost:8080/",
     "height": 900
    },
    "id": "4cd4ed2a",
    "outputId": "a2464223-522d-4abe-a344-4b0dd3a108e2"
   },
   "outputs": [
    {
     "name": "stdout",
     "output_type": "stream",
     "text": [
      "---------------------------------------- view dataframe product ----------------------------------------\n"
     ]
    },
    {
     "data": {
      "text/html": [
       "<div>\n",
       "<style scoped>\n",
       "    .dataframe tbody tr th:only-of-type {\n",
       "        vertical-align: middle;\n",
       "    }\n",
       "\n",
       "    .dataframe tbody tr th {\n",
       "        vertical-align: top;\n",
       "    }\n",
       "\n",
       "    .dataframe thead th {\n",
       "        text-align: right;\n",
       "    }\n",
       "</style>\n",
       "<table border=\"1\" class=\"dataframe\">\n",
       "  <thead>\n",
       "    <tr style=\"text-align: right;\">\n",
       "      <th></th>\n",
       "      <th>article</th>\n",
       "      <th>ean_13</th>\n",
       "      <th>name</th>\n",
       "      <th>cost</th>\n",
       "      <th>recommended_price</th>\n",
       "      <th>category_id</th>\n",
       "      <th>ozon_name</th>\n",
       "      <th>name_1c</th>\n",
       "      <th>wb_name</th>\n",
       "      <th>ozon_article</th>\n",
       "      <th>wb_article</th>\n",
       "      <th>ym_article</th>\n",
       "      <th>wb_article_td</th>\n",
       "    </tr>\n",
       "    <tr>\n",
       "      <th>id</th>\n",
       "      <th></th>\n",
       "      <th></th>\n",
       "      <th></th>\n",
       "      <th></th>\n",
       "      <th></th>\n",
       "      <th></th>\n",
       "      <th></th>\n",
       "      <th></th>\n",
       "      <th></th>\n",
       "      <th></th>\n",
       "      <th></th>\n",
       "      <th></th>\n",
       "      <th></th>\n",
       "    </tr>\n",
       "  </thead>\n",
       "  <tbody>\n",
       "    <tr>\n",
       "      <th>1</th>\n",
       "      <td>123-02</td>\n",
       "      <td>4.610093e+12</td>\n",
       "      <td>Средство для удаления наклеек Duty Universal /...</td>\n",
       "      <td>189.00</td>\n",
       "      <td>443.0</td>\n",
       "      <td>43.0</td>\n",
       "      <td>Средство для удаления клейкой ленты, клея, нак...</td>\n",
       "      <td>Средство для удаления клейкой ленты, клея, нак...</td>\n",
       "      <td>Средство для удаления клейкой ленты, клея, нак...</td>\n",
       "      <td>445949007.0</td>\n",
       "      <td>149295509.0</td>\n",
       "      <td>123-02</td>\n",
       "      <td>NaN</td>\n",
       "    </tr>\n",
       "    <tr>\n",
       "      <th>2</th>\n",
       "      <td>242-6</td>\n",
       "      <td>4.610093e+12</td>\n",
       "      <td>Антигололед - 32 PROSEPTготовый состав / 6 кг</td>\n",
       "      <td>220.39</td>\n",
       "      <td>515.0</td>\n",
       "      <td>NaN</td>\n",
       "      <td>NaN</td>\n",
       "      <td>Антигололед - 32 PROSEPTготовый состав / 6 кг</td>\n",
       "      <td>NaN</td>\n",
       "      <td>NaN</td>\n",
       "      <td>NaN</td>\n",
       "      <td>NaN</td>\n",
       "      <td>NaN</td>\n",
       "    </tr>\n",
       "    <tr>\n",
       "      <th>3</th>\n",
       "      <td>242-12</td>\n",
       "      <td>NaN</td>\n",
       "      <td>Антигололед - 32 PROSEPTготовый состав / 12 кг</td>\n",
       "      <td>460.16</td>\n",
       "      <td>1075.0</td>\n",
       "      <td>NaN</td>\n",
       "      <td>NaN</td>\n",
       "      <td>Антигололед - 32 PROSEPTготовый состав / 12 кг</td>\n",
       "      <td>NaN</td>\n",
       "      <td>NaN</td>\n",
       "      <td>NaN</td>\n",
       "      <td>NaN</td>\n",
       "      <td>NaN</td>\n",
       "    </tr>\n",
       "    <tr>\n",
       "      <th>4</th>\n",
       "      <td>104-1</td>\n",
       "      <td>4.680008e+12</td>\n",
       "      <td>Универсальное моющее средствоUniversal Prof  к...</td>\n",
       "      <td>150.00</td>\n",
       "      <td>352.0</td>\n",
       "      <td>56.0</td>\n",
       "      <td>Профессиональное универсальное моющее средство...</td>\n",
       "      <td>Профессиональное универсальное моющее средство...</td>\n",
       "      <td>Профессиональное универсальное моющее средство...</td>\n",
       "      <td>449915357.0</td>\n",
       "      <td>149811058.0</td>\n",
       "      <td>104-1</td>\n",
       "      <td>NaN</td>\n",
       "    </tr>\n",
       "    <tr>\n",
       "      <th>5</th>\n",
       "      <td>104-5</td>\n",
       "      <td>4.680008e+12</td>\n",
       "      <td>Универсальное моющее средствоUniversal Prof  к...</td>\n",
       "      <td>601.76</td>\n",
       "      <td>1405.0</td>\n",
       "      <td>56.0</td>\n",
       "      <td>Профессиональное универсальное моющее средство...</td>\n",
       "      <td>Профессиональное универсальное моющее средство...</td>\n",
       "      <td>Профессиональное универсальное моющее средство...</td>\n",
       "      <td>449915356.0</td>\n",
       "      <td>149811051.0</td>\n",
       "      <td>104-5</td>\n",
       "      <td>NaN</td>\n",
       "    </tr>\n",
       "  </tbody>\n",
       "</table>\n",
       "</div>"
      ],
      "text/plain": [
       "   article        ean_13                                               name  \\\n",
       "id                                                                            \n",
       "1   123-02  4.610093e+12  Средство для удаления наклеек Duty Universal /...   \n",
       "2    242-6  4.610093e+12      Антигололед - 32 PROSEPTготовый состав / 6 кг   \n",
       "3   242-12           NaN     Антигололед - 32 PROSEPTготовый состав / 12 кг   \n",
       "4    104-1  4.680008e+12  Универсальное моющее средствоUniversal Prof  к...   \n",
       "5    104-5  4.680008e+12  Универсальное моющее средствоUniversal Prof  к...   \n",
       "\n",
       "      cost  recommended_price  category_id  \\\n",
       "id                                           \n",
       "1   189.00              443.0         43.0   \n",
       "2   220.39              515.0          NaN   \n",
       "3   460.16             1075.0          NaN   \n",
       "4   150.00              352.0         56.0   \n",
       "5   601.76             1405.0         56.0   \n",
       "\n",
       "                                            ozon_name  \\\n",
       "id                                                      \n",
       "1   Средство для удаления клейкой ленты, клея, нак...   \n",
       "2                                                 NaN   \n",
       "3                                                 NaN   \n",
       "4   Профессиональное универсальное моющее средство...   \n",
       "5   Профессиональное универсальное моющее средство...   \n",
       "\n",
       "                                              name_1c  \\\n",
       "id                                                      \n",
       "1   Средство для удаления клейкой ленты, клея, нак...   \n",
       "2       Антигололед - 32 PROSEPTготовый состав / 6 кг   \n",
       "3      Антигололед - 32 PROSEPTготовый состав / 12 кг   \n",
       "4   Профессиональное универсальное моющее средство...   \n",
       "5   Профессиональное универсальное моющее средство...   \n",
       "\n",
       "                                              wb_name  ozon_article  \\\n",
       "id                                                                    \n",
       "1   Средство для удаления клейкой ленты, клея, нак...   445949007.0   \n",
       "2                                                 NaN           NaN   \n",
       "3                                                 NaN           NaN   \n",
       "4   Профессиональное универсальное моющее средство...   449915357.0   \n",
       "5   Профессиональное универсальное моющее средство...   449915356.0   \n",
       "\n",
       "     wb_article ym_article wb_article_td  \n",
       "id                                        \n",
       "1   149295509.0     123-02           NaN  \n",
       "2           NaN        NaN           NaN  \n",
       "3           NaN        NaN           NaN  \n",
       "4   149811058.0      104-1           NaN  \n",
       "5   149811051.0      104-5           NaN  "
      ]
     },
     "metadata": {},
     "output_type": "display_data"
    },
    {
     "name": "stdout",
     "output_type": "stream",
     "text": [
      "\n",
      "\n",
      "<class 'pandas.core.frame.DataFrame'>\n",
      "Int64Index: 496 entries, 1 to 513\n",
      "Data columns (total 13 columns):\n",
      " #   Column             Non-Null Count  Dtype  \n",
      "---  ------             --------------  -----  \n",
      " 0   article            496 non-null    object \n",
      " 1   ean_13             464 non-null    float64\n",
      " 2   name               494 non-null    object \n",
      " 3   cost               491 non-null    float64\n",
      " 4   recommended_price  491 non-null    float64\n",
      " 5   category_id        447 non-null    float64\n",
      " 6   ozon_name          458 non-null    object \n",
      " 7   name_1c            485 non-null    object \n",
      " 8   wb_name            455 non-null    object \n",
      " 9   ozon_article       365 non-null    float64\n",
      " 10  wb_article         340 non-null    float64\n",
      " 11  ym_article         337 non-null    object \n",
      " 12  wb_article_td      32 non-null     object \n",
      "dtypes: float64(6), object(7)\n",
      "memory usage: 54.2+ KB\n",
      "\n",
      " Количество явных дубликатов: 0 , пропусков: 1093\n"
     ]
    }
   ],
   "source": [
    "information (\"product\", product)"
   ]
  },
  {
   "cell_type": "markdown",
   "id": "fddd66f0",
   "metadata": {
    "id": "fddd66f0"
   },
   "source": [
    "Рассмотрим пропуски в наименовании товара, потому что этот столбец будет нам важен для обучения."
   ]
  },
  {
   "cell_type": "code",
   "execution_count": 32,
   "id": "79c1b66e",
   "metadata": {
    "colab": {
     "base_uri": "https://localhost:8080/",
     "height": 181
    },
    "id": "79c1b66e",
    "outputId": "1c700d08-6f96-4e72-a864-785902113819"
   },
   "outputs": [
    {
     "data": {
      "text/html": [
       "<div>\n",
       "<style scoped>\n",
       "    .dataframe tbody tr th:only-of-type {\n",
       "        vertical-align: middle;\n",
       "    }\n",
       "\n",
       "    .dataframe tbody tr th {\n",
       "        vertical-align: top;\n",
       "    }\n",
       "\n",
       "    .dataframe thead th {\n",
       "        text-align: right;\n",
       "    }\n",
       "</style>\n",
       "<table border=\"1\" class=\"dataframe\">\n",
       "  <thead>\n",
       "    <tr style=\"text-align: right;\">\n",
       "      <th></th>\n",
       "      <th>article</th>\n",
       "      <th>ean_13</th>\n",
       "      <th>name</th>\n",
       "      <th>cost</th>\n",
       "      <th>recommended_price</th>\n",
       "      <th>category_id</th>\n",
       "      <th>ozon_name</th>\n",
       "      <th>name_1c</th>\n",
       "      <th>wb_name</th>\n",
       "      <th>ozon_article</th>\n",
       "      <th>wb_article</th>\n",
       "      <th>ym_article</th>\n",
       "      <th>wb_article_td</th>\n",
       "    </tr>\n",
       "    <tr>\n",
       "      <th>id</th>\n",
       "      <th></th>\n",
       "      <th></th>\n",
       "      <th></th>\n",
       "      <th></th>\n",
       "      <th></th>\n",
       "      <th></th>\n",
       "      <th></th>\n",
       "      <th></th>\n",
       "      <th></th>\n",
       "      <th></th>\n",
       "      <th></th>\n",
       "      <th></th>\n",
       "      <th></th>\n",
       "    </tr>\n",
       "  </thead>\n",
       "  <tbody>\n",
       "    <tr>\n",
       "      <th>503</th>\n",
       "      <td>0024-7 о</td>\n",
       "      <td>NaN</td>\n",
       "      <td>NaN</td>\n",
       "      <td>NaN</td>\n",
       "      <td>NaN</td>\n",
       "      <td>NaN</td>\n",
       "      <td>NaN</td>\n",
       "      <td>NaN</td>\n",
       "      <td>NaN</td>\n",
       "      <td>NaN</td>\n",
       "      <td>150126213.0</td>\n",
       "      <td>NaN</td>\n",
       "      <td>NaN</td>\n",
       "    </tr>\n",
       "    <tr>\n",
       "      <th>504</th>\n",
       "      <td>w022-05</td>\n",
       "      <td>NaN</td>\n",
       "      <td>NaN</td>\n",
       "      <td>NaN</td>\n",
       "      <td>NaN</td>\n",
       "      <td>NaN</td>\n",
       "      <td>NaN</td>\n",
       "      <td>NaN</td>\n",
       "      <td>NaN</td>\n",
       "      <td>NaN</td>\n",
       "      <td>NaN</td>\n",
       "      <td>NaN</td>\n",
       "      <td>NaN</td>\n",
       "    </tr>\n",
       "  </tbody>\n",
       "</table>\n",
       "</div>"
      ],
      "text/plain": [
       "      article  ean_13 name  cost  recommended_price  category_id ozon_name  \\\n",
       "id                                                                           \n",
       "503  0024-7 о     NaN  NaN   NaN                NaN          NaN       NaN   \n",
       "504   w022-05     NaN  NaN   NaN                NaN          NaN       NaN   \n",
       "\n",
       "    name_1c wb_name  ozon_article   wb_article ym_article wb_article_td  \n",
       "id                                                                       \n",
       "503     NaN     NaN           NaN  150126213.0        NaN           NaN  \n",
       "504     NaN     NaN           NaN          NaN        NaN           NaN  "
      ]
     },
     "execution_count": 32,
     "metadata": {},
     "output_type": "execute_result"
    }
   ],
   "source": [
    "product[product[\"name\"].isnull()]"
   ]
  },
  {
   "cell_type": "markdown",
   "id": "998f3166",
   "metadata": {
    "id": "998f3166"
   },
   "source": [
    "Заполним пропуски в name истинными значениями, если получится (по артикулу с ВБ, например) или заглушками."
   ]
  },
  {
   "cell_type": "code",
   "execution_count": 33,
   "id": "898b2813",
   "metadata": {
    "id": "898b2813"
   },
   "outputs": [],
   "source": [
    "product[\"name\"] = product[\"name\"].fillna(\"unknown\")"
   ]
  },
  {
   "cell_type": "code",
   "execution_count": 34,
   "id": "95ba02b5",
   "metadata": {
    "colab": {
     "base_uri": "https://localhost:8080/",
     "height": 268
    },
    "id": "95ba02b5",
    "outputId": "a6364281-81b4-4851-d502-6f106703b4e1"
   },
   "outputs": [
    {
     "data": {
      "text/html": [
       "<div>\n",
       "<style scoped>\n",
       "    .dataframe tbody tr th:only-of-type {\n",
       "        vertical-align: middle;\n",
       "    }\n",
       "\n",
       "    .dataframe tbody tr th {\n",
       "        vertical-align: top;\n",
       "    }\n",
       "\n",
       "    .dataframe thead th {\n",
       "        text-align: right;\n",
       "    }\n",
       "</style>\n",
       "<table border=\"1\" class=\"dataframe\">\n",
       "  <thead>\n",
       "    <tr style=\"text-align: right;\">\n",
       "      <th></th>\n",
       "      <th>article</th>\n",
       "      <th>ean_13</th>\n",
       "      <th>name</th>\n",
       "      <th>cost</th>\n",
       "      <th>recommended_price</th>\n",
       "      <th>category_id</th>\n",
       "      <th>ozon_name</th>\n",
       "      <th>name_1c</th>\n",
       "      <th>wb_name</th>\n",
       "      <th>ozon_article</th>\n",
       "      <th>wb_article</th>\n",
       "      <th>ym_article</th>\n",
       "      <th>wb_article_td</th>\n",
       "    </tr>\n",
       "    <tr>\n",
       "      <th>id</th>\n",
       "      <th></th>\n",
       "      <th></th>\n",
       "      <th></th>\n",
       "      <th></th>\n",
       "      <th></th>\n",
       "      <th></th>\n",
       "      <th></th>\n",
       "      <th></th>\n",
       "      <th></th>\n",
       "      <th></th>\n",
       "      <th></th>\n",
       "      <th></th>\n",
       "      <th></th>\n",
       "    </tr>\n",
       "  </thead>\n",
       "  <tbody>\n",
       "    <tr>\n",
       "      <th>375</th>\n",
       "      <td>0024-7о</td>\n",
       "      <td>4.680008e+12</td>\n",
       "      <td>Герметик акриловый цвет Орех, 7 кг</td>\n",
       "      <td>3149.0</td>\n",
       "      <td>5492.0</td>\n",
       "      <td>25.0</td>\n",
       "      <td>Герметик акриловый для швов для деревянных дом...</td>\n",
       "      <td>Герметик акриловый цвет Орех, 7 кг</td>\n",
       "      <td>Герметик акриловый для швов для деревянных дом...</td>\n",
       "      <td>189522863.0</td>\n",
       "      <td>150126213.0</td>\n",
       "      <td>0024-7-о</td>\n",
       "      <td>NaN</td>\n",
       "    </tr>\n",
       "    <tr>\n",
       "      <th>503</th>\n",
       "      <td>0024-7 о</td>\n",
       "      <td>NaN</td>\n",
       "      <td>unknown</td>\n",
       "      <td>NaN</td>\n",
       "      <td>NaN</td>\n",
       "      <td>NaN</td>\n",
       "      <td>NaN</td>\n",
       "      <td>NaN</td>\n",
       "      <td>NaN</td>\n",
       "      <td>NaN</td>\n",
       "      <td>150126213.0</td>\n",
       "      <td>NaN</td>\n",
       "      <td>NaN</td>\n",
       "    </tr>\n",
       "  </tbody>\n",
       "</table>\n",
       "</div>"
      ],
      "text/plain": [
       "      article        ean_13                                name    cost  \\\n",
       "id                                                                        \n",
       "375   0024-7о  4.680008e+12  Герметик акриловый цвет Орех, 7 кг  3149.0   \n",
       "503  0024-7 о           NaN                             unknown     NaN   \n",
       "\n",
       "     recommended_price  category_id  \\\n",
       "id                                    \n",
       "375             5492.0         25.0   \n",
       "503                NaN          NaN   \n",
       "\n",
       "                                             ozon_name  \\\n",
       "id                                                       \n",
       "375  Герметик акриловый для швов для деревянных дом...   \n",
       "503                                                NaN   \n",
       "\n",
       "                                name_1c  \\\n",
       "id                                        \n",
       "375  Герметик акриловый цвет Орех, 7 кг   \n",
       "503                                 NaN   \n",
       "\n",
       "                                               wb_name  ozon_article  \\\n",
       "id                                                                     \n",
       "375  Герметик акриловый для швов для деревянных дом...   189522863.0   \n",
       "503                                                NaN           NaN   \n",
       "\n",
       "      wb_article ym_article wb_article_td  \n",
       "id                                         \n",
       "375  150126213.0   0024-7-о           NaN  \n",
       "503  150126213.0        NaN           NaN  "
      ]
     },
     "execution_count": 34,
     "metadata": {},
     "output_type": "execute_result"
    }
   ],
   "source": [
    "product.loc[product[\"wb_article\"] == 150126213]"
   ]
  },
  {
   "cell_type": "code",
   "execution_count": 35,
   "id": "5eff5ea2",
   "metadata": {
    "colab": {
     "base_uri": "https://localhost:8080/",
     "height": 132
    },
    "id": "5eff5ea2",
    "outputId": "3cd4b51e-4438-4c90-fdcf-6619ecc660b6"
   },
   "outputs": [
    {
     "data": {
      "text/html": [
       "<div>\n",
       "<style scoped>\n",
       "    .dataframe tbody tr th:only-of-type {\n",
       "        vertical-align: middle;\n",
       "    }\n",
       "\n",
       "    .dataframe tbody tr th {\n",
       "        vertical-align: top;\n",
       "    }\n",
       "\n",
       "    .dataframe thead th {\n",
       "        text-align: right;\n",
       "    }\n",
       "</style>\n",
       "<table border=\"1\" class=\"dataframe\">\n",
       "  <thead>\n",
       "    <tr style=\"text-align: right;\">\n",
       "      <th></th>\n",
       "      <th>article</th>\n",
       "      <th>ean_13</th>\n",
       "      <th>name</th>\n",
       "      <th>cost</th>\n",
       "      <th>recommended_price</th>\n",
       "      <th>category_id</th>\n",
       "      <th>ozon_name</th>\n",
       "      <th>name_1c</th>\n",
       "      <th>wb_name</th>\n",
       "      <th>ozon_article</th>\n",
       "      <th>wb_article</th>\n",
       "      <th>ym_article</th>\n",
       "      <th>wb_article_td</th>\n",
       "    </tr>\n",
       "    <tr>\n",
       "      <th>id</th>\n",
       "      <th></th>\n",
       "      <th></th>\n",
       "      <th></th>\n",
       "      <th></th>\n",
       "      <th></th>\n",
       "      <th></th>\n",
       "      <th></th>\n",
       "      <th></th>\n",
       "      <th></th>\n",
       "      <th></th>\n",
       "      <th></th>\n",
       "      <th></th>\n",
       "      <th></th>\n",
       "    </tr>\n",
       "  </thead>\n",
       "  <tbody>\n",
       "    <tr>\n",
       "      <th>504</th>\n",
       "      <td>w022-05</td>\n",
       "      <td>NaN</td>\n",
       "      <td>unknown</td>\n",
       "      <td>NaN</td>\n",
       "      <td>NaN</td>\n",
       "      <td>NaN</td>\n",
       "      <td>NaN</td>\n",
       "      <td>NaN</td>\n",
       "      <td>NaN</td>\n",
       "      <td>NaN</td>\n",
       "      <td>NaN</td>\n",
       "      <td>NaN</td>\n",
       "      <td>NaN</td>\n",
       "    </tr>\n",
       "  </tbody>\n",
       "</table>\n",
       "</div>"
      ],
      "text/plain": [
       "     article  ean_13     name  cost  recommended_price  category_id ozon_name  \\\n",
       "id                                                                              \n",
       "504  w022-05     NaN  unknown   NaN                NaN          NaN       NaN   \n",
       "\n",
       "    name_1c wb_name  ozon_article  wb_article ym_article wb_article_td  \n",
       "id                                                                      \n",
       "504     NaN     NaN           NaN         NaN        NaN           NaN  "
      ]
     },
     "execution_count": 35,
     "metadata": {},
     "output_type": "execute_result"
    }
   ],
   "source": [
    "product.loc[product[\"article\"] == \"w022-05\"]"
   ]
  },
  {
   "cell_type": "markdown",
   "id": "3a6d91be",
   "metadata": {
    "id": "3a6d91be"
   },
   "source": [
    "В таблице есть пропуски, дубликатов нет. Рассмотрели пропуски в столбце name, потому что он будет использоваться для обучения модели. Остальные столбцы не стали заполнять, т.к. в нашей модели они использоваться не будут.  \n",
    "Сбросим индекс в признаки, чтобы заджоинить таблицы."
   ]
  },
  {
   "cell_type": "markdown",
   "id": "ea3dd927",
   "metadata": {
    "id": "ea3dd927"
   },
   "source": [
    "**Вывод:** Нам предоставлены 4 таблицы из БД заказчика, мы предполагаем, что для сопоставления товаров нам понадобятся наименования с парсера и из таблицы производителя, из наименований можно извлечь новые признаки, объем/вес товара и в чем он измеряется, сами наименования должны быть информативны для модели после предобработки."
   ]
  },
  {
   "cell_type": "markdown",
   "id": "84b8fe1b",
   "metadata": {
    "id": "84b8fe1b"
   },
   "source": [
    "### Предобработка  \n",
    "Для начала напишем функуцию обработки строковых данных, для разделения части слипшихся слов, а так же приведем весь текст к инжнему регистру"
   ]
  },
  {
   "cell_type": "code",
   "execution_count": 36,
   "id": "d022e355",
   "metadata": {
    "id": "d022e355"
   },
   "outputs": [],
   "source": [
    "def re_name(name):\n",
    "    \"\"\"\n",
    "    Функция предобработки текста.\n",
    "    Разделяет некоторые слитные слова.\n",
    "    мылоPROSEPT -> мыло PROSEPT.\n",
    "    Приводит буквы к нижнему регистру.\n",
    "    \"\"\"\n",
    "    try:\n",
    "        clean_text = re.sub(r\"(?<=[а-яa-z])(?=[A-Z])|(?=[а-я])(?<=[A-Za-z])|(?<=[a-z])(?=[0-9])\", \" \", name).lower()\n",
    "        return clean_text\n",
    "    except:\n",
    "        return name"
   ]
  },
  {
   "cell_type": "markdown",
   "id": "54b8972f",
   "metadata": {
    "id": "54b8972f"
   },
   "source": [
    "#### dealer_price  \n",
    "Отсортируем дилерские товары по дате, чтобы удалить дубликаты и оставить только последние(наиболее актуальные)"
   ]
  },
  {
   "cell_type": "code",
   "execution_count": 37,
   "id": "d657f7af",
   "metadata": {
    "id": "d657f7af"
   },
   "outputs": [],
   "source": [
    "dealer_price[\"date\"] = pd.to_datetime(dealer_price[\"date\"])\n",
    "dealer_price.sort_values(\"date\", ascending=False, inplace=True)"
   ]
  },
  {
   "cell_type": "code",
   "execution_count": 38,
   "id": "66c213c5",
   "metadata": {
    "colab": {
     "base_uri": "https://localhost:8080/",
     "height": 768
    },
    "id": "66c213c5",
    "outputId": "4b3113b2-94ed-49ac-c0b5-0174e669fd9d",
    "scrolled": false
   },
   "outputs": [
    {
     "data": {
      "text/html": [
       "<div>\n",
       "<style scoped>\n",
       "    .dataframe tbody tr th:only-of-type {\n",
       "        vertical-align: middle;\n",
       "    }\n",
       "\n",
       "    .dataframe tbody tr th {\n",
       "        vertical-align: top;\n",
       "    }\n",
       "\n",
       "    .dataframe thead th {\n",
       "        text-align: right;\n",
       "    }\n",
       "</style>\n",
       "<table border=\"1\" class=\"dataframe\">\n",
       "  <thead>\n",
       "    <tr style=\"text-align: right;\">\n",
       "      <th></th>\n",
       "      <th>product_key</th>\n",
       "      <th>price</th>\n",
       "      <th>product_url</th>\n",
       "      <th>product_name</th>\n",
       "      <th>date</th>\n",
       "      <th>dealer_id</th>\n",
       "    </tr>\n",
       "    <tr>\n",
       "      <th>id</th>\n",
       "      <th></th>\n",
       "      <th></th>\n",
       "      <th></th>\n",
       "      <th></th>\n",
       "      <th></th>\n",
       "      <th></th>\n",
       "    </tr>\n",
       "  </thead>\n",
       "  <tbody>\n",
       "    <tr>\n",
       "      <th>15476</th>\n",
       "      <td>382751</td>\n",
       "      <td>924.0</td>\n",
       "      <td>https://akson.ru//p/ognebiozaschita_prosept_pr...</td>\n",
       "      <td>Огнебиозащита PROSEPT prof 2 группа для наружн...</td>\n",
       "      <td>2023-07-26</td>\n",
       "      <td>2</td>\n",
       "    </tr>\n",
       "    <tr>\n",
       "      <th>20302</th>\n",
       "      <td>382751</td>\n",
       "      <td>924.0</td>\n",
       "      <td>https://akson.ru//p/ognebiozaschita_prosept_pr...</td>\n",
       "      <td>Огнебиозащита PROSEPT prof 2 группа для наружн...</td>\n",
       "      <td>2023-07-31</td>\n",
       "      <td>2</td>\n",
       "    </tr>\n",
       "    <tr>\n",
       "      <th>15490</th>\n",
       "      <td>382752</td>\n",
       "      <td>646.0</td>\n",
       "      <td>https://akson.ru//p/antiseptik_prosept_exterio...</td>\n",
       "      <td>Пропитка-антисептик PROSEPT Exterior трудновым...</td>\n",
       "      <td>2023-07-26</td>\n",
       "      <td>2</td>\n",
       "    </tr>\n",
       "    <tr>\n",
       "      <th>20318</th>\n",
       "      <td>382752</td>\n",
       "      <td>646.0</td>\n",
       "      <td>https://akson.ru//p/antiseptik_prosept_exterio...</td>\n",
       "      <td>Пропитка-антисептик PROSEPT Exterior трудновым...</td>\n",
       "      <td>2023-07-31</td>\n",
       "      <td>2</td>\n",
       "    </tr>\n",
       "    <tr>\n",
       "      <th>15491</th>\n",
       "      <td>382754</td>\n",
       "      <td>784.0</td>\n",
       "      <td>https://akson.ru//p/antiseptik_prosept_ultra_n...</td>\n",
       "      <td>Пропитка-антисептик PROSEPT Ultra невымываемая...</td>\n",
       "      <td>2023-07-26</td>\n",
       "      <td>2</td>\n",
       "    </tr>\n",
       "    <tr>\n",
       "      <th>...</th>\n",
       "      <td>...</td>\n",
       "      <td>...</td>\n",
       "      <td>...</td>\n",
       "      <td>...</td>\n",
       "      <td>...</td>\n",
       "      <td>...</td>\n",
       "    </tr>\n",
       "    <tr>\n",
       "      <th>11855</th>\n",
       "      <td>https://kub02.ru/catalog/prosept/ognebiozashch...</td>\n",
       "      <td>1763.0</td>\n",
       "      <td>https://kub02.ru/catalog/prosept/ognebiozashch...</td>\n",
       "      <td>Огнебиозащита для древесины PROSEPT, 1 группа ...</td>\n",
       "      <td>2023-07-21</td>\n",
       "      <td>6</td>\n",
       "    </tr>\n",
       "    <tr>\n",
       "      <th>13186</th>\n",
       "      <td>https://kub02.ru/catalog/prosept/ognebiozashch...</td>\n",
       "      <td>1763.0</td>\n",
       "      <td>https://kub02.ru/catalog/prosept/ognebiozashch...</td>\n",
       "      <td>Огнебиозащита для древесины PROSEPT, 1 группа ...</td>\n",
       "      <td>2023-07-24</td>\n",
       "      <td>6</td>\n",
       "    </tr>\n",
       "    <tr>\n",
       "      <th>14622</th>\n",
       "      <td>https://kub02.ru/catalog/prosept/ognebiozashch...</td>\n",
       "      <td>1763.0</td>\n",
       "      <td>https://kub02.ru/catalog/prosept/ognebiozashch...</td>\n",
       "      <td>Огнебиозащита для древесины PROSEPT, 1 группа ...</td>\n",
       "      <td>2023-07-25</td>\n",
       "      <td>6</td>\n",
       "    </tr>\n",
       "    <tr>\n",
       "      <th>16053</th>\n",
       "      <td>https://kub02.ru/catalog/prosept/ognebiozashch...</td>\n",
       "      <td>1763.0</td>\n",
       "      <td>https://kub02.ru/catalog/prosept/ognebiozashch...</td>\n",
       "      <td>Огнебиозащита для древесины PROSEPT, 1 группа ...</td>\n",
       "      <td>2023-07-26</td>\n",
       "      <td>6</td>\n",
       "    </tr>\n",
       "    <tr>\n",
       "      <th>19343</th>\n",
       "      <td>https://kub02.ru/catalog/prosept/ognebiozashch...</td>\n",
       "      <td>1763.0</td>\n",
       "      <td>https://kub02.ru/catalog/prosept/ognebiozashch...</td>\n",
       "      <td>Огнебиозащита для древесины PROSEPT, 1 группа ...</td>\n",
       "      <td>2023-07-31</td>\n",
       "      <td>6</td>\n",
       "    </tr>\n",
       "  </tbody>\n",
       "</table>\n",
       "<p>20363 rows × 6 columns</p>\n",
       "</div>"
      ],
      "text/plain": [
       "                                             product_key   price  \\\n",
       "id                                                                 \n",
       "15476                                             382751   924.0   \n",
       "20302                                             382751   924.0   \n",
       "15490                                             382752   646.0   \n",
       "20318                                             382752   646.0   \n",
       "15491                                             382754   784.0   \n",
       "...                                                  ...     ...   \n",
       "11855  https://kub02.ru/catalog/prosept/ognebiozashch...  1763.0   \n",
       "13186  https://kub02.ru/catalog/prosept/ognebiozashch...  1763.0   \n",
       "14622  https://kub02.ru/catalog/prosept/ognebiozashch...  1763.0   \n",
       "16053  https://kub02.ru/catalog/prosept/ognebiozashch...  1763.0   \n",
       "19343  https://kub02.ru/catalog/prosept/ognebiozashch...  1763.0   \n",
       "\n",
       "                                             product_url  \\\n",
       "id                                                         \n",
       "15476  https://akson.ru//p/ognebiozaschita_prosept_pr...   \n",
       "20302  https://akson.ru//p/ognebiozaschita_prosept_pr...   \n",
       "15490  https://akson.ru//p/antiseptik_prosept_exterio...   \n",
       "20318  https://akson.ru//p/antiseptik_prosept_exterio...   \n",
       "15491  https://akson.ru//p/antiseptik_prosept_ultra_n...   \n",
       "...                                                  ...   \n",
       "11855  https://kub02.ru/catalog/prosept/ognebiozashch...   \n",
       "13186  https://kub02.ru/catalog/prosept/ognebiozashch...   \n",
       "14622  https://kub02.ru/catalog/prosept/ognebiozashch...   \n",
       "16053  https://kub02.ru/catalog/prosept/ognebiozashch...   \n",
       "19343  https://kub02.ru/catalog/prosept/ognebiozashch...   \n",
       "\n",
       "                                            product_name       date  dealer_id  \n",
       "id                                                                              \n",
       "15476  Огнебиозащита PROSEPT prof 2 группа для наружн... 2023-07-26          2  \n",
       "20302  Огнебиозащита PROSEPT prof 2 группа для наружн... 2023-07-31          2  \n",
       "15490  Пропитка-антисептик PROSEPT Exterior трудновым... 2023-07-26          2  \n",
       "20318  Пропитка-антисептик PROSEPT Exterior трудновым... 2023-07-31          2  \n",
       "15491  Пропитка-антисептик PROSEPT Ultra невымываемая... 2023-07-26          2  \n",
       "...                                                  ...        ...        ...  \n",
       "11855  Огнебиозащита для древесины PROSEPT, 1 группа ... 2023-07-21          6  \n",
       "13186  Огнебиозащита для древесины PROSEPT, 1 группа ... 2023-07-24          6  \n",
       "14622  Огнебиозащита для древесины PROSEPT, 1 группа ... 2023-07-25          6  \n",
       "16053  Огнебиозащита для древесины PROSEPT, 1 группа ... 2023-07-26          6  \n",
       "19343  Огнебиозащита для древесины PROSEPT, 1 группа ... 2023-07-31          6  \n",
       "\n",
       "[20363 rows x 6 columns]"
      ]
     },
     "execution_count": 38,
     "metadata": {},
     "output_type": "execute_result"
    }
   ],
   "source": [
    "dealer_price[dealer_price[\"product_key\"].duplicated(keep=False)].sort_values([\"product_key\", \"date\"])"
   ]
  },
  {
   "cell_type": "code",
   "execution_count": 39,
   "id": "8cf6a034",
   "metadata": {
    "id": "8cf6a034"
   },
   "outputs": [],
   "source": [
    "dealer_price_new = (\n",
    "    dealer_price\n",
    "    .copy()\n",
    "    .sort_values([\"product_key\", \"date\"])\n",
    "    .drop([\"date\"], axis=1)\n",
    "    .drop_duplicates(keep=\"last\"))"
   ]
  },
  {
   "cell_type": "markdown",
   "id": "aYy4M5vBr8fD",
   "metadata": {
    "id": "aYy4M5vBr8fD"
   },
   "source": [
    "Проверим работу кода"
   ]
  },
  {
   "cell_type": "code",
   "execution_count": 40,
   "id": "98e4bb73",
   "metadata": {
    "colab": {
     "base_uri": "https://localhost:8080/",
     "height": 629
    },
    "id": "98e4bb73",
    "outputId": "ebcf2c5c-c8c4-410e-c62c-b737eded04e3"
   },
   "outputs": [
    {
     "data": {
      "text/html": [
       "<div>\n",
       "<style scoped>\n",
       "    .dataframe tbody tr th:only-of-type {\n",
       "        vertical-align: middle;\n",
       "    }\n",
       "\n",
       "    .dataframe tbody tr th {\n",
       "        vertical-align: top;\n",
       "    }\n",
       "\n",
       "    .dataframe thead th {\n",
       "        text-align: right;\n",
       "    }\n",
       "</style>\n",
       "<table border=\"1\" class=\"dataframe\">\n",
       "  <thead>\n",
       "    <tr style=\"text-align: right;\">\n",
       "      <th></th>\n",
       "      <th>product_key</th>\n",
       "      <th>price</th>\n",
       "      <th>product_url</th>\n",
       "      <th>product_name</th>\n",
       "      <th>dealer_id</th>\n",
       "    </tr>\n",
       "    <tr>\n",
       "      <th>id</th>\n",
       "      <th></th>\n",
       "      <th></th>\n",
       "      <th></th>\n",
       "      <th></th>\n",
       "      <th></th>\n",
       "    </tr>\n",
       "  </thead>\n",
       "  <tbody>\n",
       "    <tr>\n",
       "      <th>20284</th>\n",
       "      <td>382745</td>\n",
       "      <td>1771.0</td>\n",
       "      <td>https://akson.ru//p/ognebiozaschita_prosept_pr...</td>\n",
       "      <td>Огнебиозащита PROSEPT prof 1 группа для наружн...</td>\n",
       "      <td>2</td>\n",
       "    </tr>\n",
       "    <tr>\n",
       "      <th>20302</th>\n",
       "      <td>382751</td>\n",
       "      <td>924.0</td>\n",
       "      <td>https://akson.ru//p/ognebiozaschita_prosept_pr...</td>\n",
       "      <td>Огнебиозащита PROSEPT prof 2 группа для наружн...</td>\n",
       "      <td>2</td>\n",
       "    </tr>\n",
       "    <tr>\n",
       "      <th>20318</th>\n",
       "      <td>382752</td>\n",
       "      <td>646.0</td>\n",
       "      <td>https://akson.ru//p/antiseptik_prosept_exterio...</td>\n",
       "      <td>Пропитка-антисептик PROSEPT Exterior трудновым...</td>\n",
       "      <td>2</td>\n",
       "    </tr>\n",
       "    <tr>\n",
       "      <th>15492</th>\n",
       "      <td>382753</td>\n",
       "      <td>683.0</td>\n",
       "      <td>https://akson.ru//p/antiseptik_prosept_univers...</td>\n",
       "      <td>Пропитка-антисептик PROSEPT Universal универса...</td>\n",
       "      <td>2</td>\n",
       "    </tr>\n",
       "    <tr>\n",
       "      <th>20323</th>\n",
       "      <td>382754</td>\n",
       "      <td>784.0</td>\n",
       "      <td>https://akson.ru//p/antiseptik_prosept_ultra_n...</td>\n",
       "      <td>Пропитка-антисептик PROSEPT Ultra невымываемая...</td>\n",
       "      <td>2</td>\n",
       "    </tr>\n",
       "    <tr>\n",
       "      <th>...</th>\n",
       "      <td>...</td>\n",
       "      <td>...</td>\n",
       "      <td>...</td>\n",
       "      <td>...</td>\n",
       "      <td>...</td>\n",
       "    </tr>\n",
       "    <tr>\n",
       "      <th>19344</th>\n",
       "      <td>https://kub02.ru/catalog/prosept/antiseptik_un...</td>\n",
       "      <td>620.0</td>\n",
       "      <td>https://kub02.ru/catalog/prosept/antiseptik_un...</td>\n",
       "      <td>Антисептик универсальный против грибка и плесе...</td>\n",
       "      <td>6</td>\n",
       "    </tr>\n",
       "    <tr>\n",
       "      <th>19336</th>\n",
       "      <td>https://kub02.ru/catalog/prosept/lak_dlya_bani...</td>\n",
       "      <td>531.0</td>\n",
       "      <td>https://kub02.ru/catalog/prosept/lak_dlya_bani...</td>\n",
       "      <td>Лак для бани и сауны термостойкий, акриловый P...</td>\n",
       "      <td>6</td>\n",
       "    </tr>\n",
       "    <tr>\n",
       "      <th>19337</th>\n",
       "      <td>https://kub02.ru/catalog/prosept/maslo_dlya_za...</td>\n",
       "      <td>418.0</td>\n",
       "      <td>https://kub02.ru/catalog/prosept/maslo_dlya_za...</td>\n",
       "      <td>Масло для защиты полков PROSEPT SAUNA OIL, гот...</td>\n",
       "      <td>6</td>\n",
       "    </tr>\n",
       "    <tr>\n",
       "      <th>19343</th>\n",
       "      <td>https://kub02.ru/catalog/prosept/ognebiozashch...</td>\n",
       "      <td>1763.0</td>\n",
       "      <td>https://kub02.ru/catalog/prosept/ognebiozashch...</td>\n",
       "      <td>Огнебиозащита для древесины PROSEPT, 1 группа ...</td>\n",
       "      <td>6</td>\n",
       "    </tr>\n",
       "    <tr>\n",
       "      <th>19346</th>\n",
       "      <td>https://kub02.ru/catalog/prosept/ognebiozashch...</td>\n",
       "      <td>888.0</td>\n",
       "      <td>https://kub02.ru/catalog/prosept/ognebiozashch...</td>\n",
       "      <td>Огнебиозащита для древесины PROSEPT, 2 группа ...</td>\n",
       "      <td>6</td>\n",
       "    </tr>\n",
       "  </tbody>\n",
       "</table>\n",
       "<p>3024 rows × 5 columns</p>\n",
       "</div>"
      ],
      "text/plain": [
       "                                             product_key   price  \\\n",
       "id                                                                 \n",
       "20284                                             382745  1771.0   \n",
       "20302                                             382751   924.0   \n",
       "20318                                             382752   646.0   \n",
       "15492                                             382753   683.0   \n",
       "20323                                             382754   784.0   \n",
       "...                                                  ...     ...   \n",
       "19344  https://kub02.ru/catalog/prosept/antiseptik_un...   620.0   \n",
       "19336  https://kub02.ru/catalog/prosept/lak_dlya_bani...   531.0   \n",
       "19337  https://kub02.ru/catalog/prosept/maslo_dlya_za...   418.0   \n",
       "19343  https://kub02.ru/catalog/prosept/ognebiozashch...  1763.0   \n",
       "19346  https://kub02.ru/catalog/prosept/ognebiozashch...   888.0   \n",
       "\n",
       "                                             product_url  \\\n",
       "id                                                         \n",
       "20284  https://akson.ru//p/ognebiozaschita_prosept_pr...   \n",
       "20302  https://akson.ru//p/ognebiozaschita_prosept_pr...   \n",
       "20318  https://akson.ru//p/antiseptik_prosept_exterio...   \n",
       "15492  https://akson.ru//p/antiseptik_prosept_univers...   \n",
       "20323  https://akson.ru//p/antiseptik_prosept_ultra_n...   \n",
       "...                                                  ...   \n",
       "19344  https://kub02.ru/catalog/prosept/antiseptik_un...   \n",
       "19336  https://kub02.ru/catalog/prosept/lak_dlya_bani...   \n",
       "19337  https://kub02.ru/catalog/prosept/maslo_dlya_za...   \n",
       "19343  https://kub02.ru/catalog/prosept/ognebiozashch...   \n",
       "19346  https://kub02.ru/catalog/prosept/ognebiozashch...   \n",
       "\n",
       "                                            product_name  dealer_id  \n",
       "id                                                                   \n",
       "20284  Огнебиозащита PROSEPT prof 1 группа для наружн...          2  \n",
       "20302  Огнебиозащита PROSEPT prof 2 группа для наружн...          2  \n",
       "20318  Пропитка-антисептик PROSEPT Exterior трудновым...          2  \n",
       "15492  Пропитка-антисептик PROSEPT Universal универса...          2  \n",
       "20323  Пропитка-антисептик PROSEPT Ultra невымываемая...          2  \n",
       "...                                                  ...        ...  \n",
       "19344  Антисептик универсальный против грибка и плесе...          6  \n",
       "19336  Лак для бани и сауны термостойкий, акриловый P...          6  \n",
       "19337  Масло для защиты полков PROSEPT SAUNA OIL, гот...          6  \n",
       "19343  Огнебиозащита для древесины PROSEPT, 1 группа ...          6  \n",
       "19346  Огнебиозащита для древесины PROSEPT, 2 группа ...          6  \n",
       "\n",
       "[3024 rows x 5 columns]"
      ]
     },
     "execution_count": 40,
     "metadata": {},
     "output_type": "execute_result"
    }
   ],
   "source": [
    "dealer_price_new"
   ]
  },
  {
   "cell_type": "markdown",
   "id": "I5B-smhgsD-Z",
   "metadata": {
    "id": "I5B-smhgsD-Z"
   },
   "source": [
    "Удалим не нужные колонки, и переименуем product_key для последующего объединения и разлепим часть слов.\n",
    "\n"
   ]
  },
  {
   "cell_type": "code",
   "execution_count": 41,
   "id": "8120bd48",
   "metadata": {
    "colab": {
     "base_uri": "https://localhost:8080/",
     "height": 455
    },
    "id": "8120bd48",
    "outputId": "f4dea4ab-6db1-45fb-f841-1bd031747482"
   },
   "outputs": [
    {
     "data": {
      "text/html": [
       "<div>\n",
       "<style scoped>\n",
       "    .dataframe tbody tr th:only-of-type {\n",
       "        vertical-align: middle;\n",
       "    }\n",
       "\n",
       "    .dataframe tbody tr th {\n",
       "        vertical-align: top;\n",
       "    }\n",
       "\n",
       "    .dataframe thead th {\n",
       "        text-align: right;\n",
       "    }\n",
       "</style>\n",
       "<table border=\"1\" class=\"dataframe\">\n",
       "  <thead>\n",
       "    <tr style=\"text-align: right;\">\n",
       "      <th></th>\n",
       "      <th>key</th>\n",
       "      <th>product_name</th>\n",
       "    </tr>\n",
       "    <tr>\n",
       "      <th>id</th>\n",
       "      <th></th>\n",
       "      <th></th>\n",
       "    </tr>\n",
       "  </thead>\n",
       "  <tbody>\n",
       "    <tr>\n",
       "      <th>429</th>\n",
       "      <td>1001472268</td>\n",
       "      <td>средстводлямытьяполов prosept multipower 1л</td>\n",
       "    </tr>\n",
       "    <tr>\n",
       "      <th>433</th>\n",
       "      <td>1001472256</td>\n",
       "      <td>средстводляудаленияплесени prosept fungi clean...</td>\n",
       "    </tr>\n",
       "    <tr>\n",
       "      <th>452</th>\n",
       "      <td>1001472273</td>\n",
       "      <td>чистящеесредство prosept universal spray,0,5л</td>\n",
       "    </tr>\n",
       "    <tr>\n",
       "      <th>529</th>\n",
       "      <td>1001472253</td>\n",
       "      <td>средстводляудаленияклея prosept duty universal...</td>\n",
       "    </tr>\n",
       "    <tr>\n",
       "      <th>919</th>\n",
       "      <td>132643</td>\n",
       "      <td>средство для удаления цемента prosept cement c...</td>\n",
       "    </tr>\n",
       "    <tr>\n",
       "      <th>...</th>\n",
       "      <td>...</td>\n",
       "      <td>...</td>\n",
       "    </tr>\n",
       "    <tr>\n",
       "      <th>20566</th>\n",
       "      <td>534517451</td>\n",
       "      <td>огнебиозащита для древесины prosept 2 группа, ...</td>\n",
       "    </tr>\n",
       "    <tr>\n",
       "      <th>20567</th>\n",
       "      <td>530308963</td>\n",
       "      <td>антисептик многофункциональный фбс, гост 5 л</td>\n",
       "    </tr>\n",
       "    <tr>\n",
       "      <th>20568</th>\n",
       "      <td>531730388</td>\n",
       "      <td>средство для удаления ржавчины prosept, 1 шт</td>\n",
       "    </tr>\n",
       "    <tr>\n",
       "      <th>20569</th>\n",
       "      <td>1090913025</td>\n",
       "      <td>герметик акриловый межшовный для деревянных ко...</td>\n",
       "    </tr>\n",
       "    <tr>\n",
       "      <th>20570</th>\n",
       "      <td>1077090171</td>\n",
       "      <td>краска-грунт фасадная для плит osb proff 3 в 1...</td>\n",
       "    </tr>\n",
       "  </tbody>\n",
       "</table>\n",
       "<p>3024 rows × 2 columns</p>\n",
       "</div>"
      ],
      "text/plain": [
       "              key                                       product_name\n",
       "id                                                                  \n",
       "429    1001472268        средстводлямытьяполов prosept multipower 1л\n",
       "433    1001472256  средстводляудаленияплесени prosept fungi clean...\n",
       "452    1001472273      чистящеесредство prosept universal spray,0,5л\n",
       "529    1001472253  средстводляудаленияклея prosept duty universal...\n",
       "919        132643  средство для удаления цемента prosept cement c...\n",
       "...           ...                                                ...\n",
       "20566   534517451  огнебиозащита для древесины prosept 2 группа, ...\n",
       "20567   530308963       антисептик многофункциональный фбс, гост 5 л\n",
       "20568   531730388       средство для удаления ржавчины prosept, 1 шт\n",
       "20569  1090913025  герметик акриловый межшовный для деревянных ко...\n",
       "20570  1077090171  краска-грунт фасадная для плит osb proff 3 в 1...\n",
       "\n",
       "[3024 rows x 2 columns]"
      ]
     },
     "execution_count": 41,
     "metadata": {},
     "output_type": "execute_result"
    }
   ],
   "source": [
    "dealer_price_new.drop([\"product_url\", \"price\",\"dealer_id\"], axis=1, inplace=True)\n",
    "dealer_price_new.sort_index(inplace=True)\n",
    "dealer_price_new[\"product_name\"] = dealer_price_new[\"product_name\"].apply(re_name)\n",
    "dealer_price_new = dealer_price_new.rename(columns={\"product_key\": \"key\"})\n",
    "dealer_price_new"
   ]
  },
  {
   "cell_type": "code",
   "execution_count": 42,
   "id": "023122a2",
   "metadata": {
    "colab": {
     "base_uri": "https://localhost:8080/"
    },
    "id": "023122a2",
    "outputId": "248418e7-bd99-45f1-fb02-58e44d7a302d"
   },
   "outputs": [
    {
     "data": {
      "text/plain": [
       "969"
      ]
     },
     "execution_count": 42,
     "metadata": {},
     "output_type": "execute_result"
    }
   ],
   "source": [
    "dealer_price_new.duplicated().sum()"
   ]
  },
  {
   "cell_type": "markdown",
   "id": "wiZ6Q1F3sfV9",
   "metadata": {
    "id": "wiZ6Q1F3sfV9"
   },
   "source": [
    "Как видно после удаления неинформативных для сопоставления столбцов у нас образовалось еще 969 дубликатов. Удалим и их."
   ]
  },
  {
   "cell_type": "code",
   "execution_count": 43,
   "id": "aa3e686e",
   "metadata": {
    "colab": {
     "base_uri": "https://localhost:8080/",
     "height": 238
    },
    "id": "aa3e686e",
    "outputId": "607f13fa-55dd-4465-daa5-73f3ec99a280"
   },
   "outputs": [
    {
     "data": {
      "text/html": [
       "<div>\n",
       "<style scoped>\n",
       "    .dataframe tbody tr th:only-of-type {\n",
       "        vertical-align: middle;\n",
       "    }\n",
       "\n",
       "    .dataframe tbody tr th {\n",
       "        vertical-align: top;\n",
       "    }\n",
       "\n",
       "    .dataframe thead th {\n",
       "        text-align: right;\n",
       "    }\n",
       "</style>\n",
       "<table border=\"1\" class=\"dataframe\">\n",
       "  <thead>\n",
       "    <tr style=\"text-align: right;\">\n",
       "      <th></th>\n",
       "      <th>key</th>\n",
       "      <th>product_name</th>\n",
       "    </tr>\n",
       "    <tr>\n",
       "      <th>id</th>\n",
       "      <th></th>\n",
       "      <th></th>\n",
       "    </tr>\n",
       "  </thead>\n",
       "  <tbody>\n",
       "    <tr>\n",
       "      <th>429</th>\n",
       "      <td>1001472268</td>\n",
       "      <td>средстводлямытьяполов prosept multipower 1л</td>\n",
       "    </tr>\n",
       "    <tr>\n",
       "      <th>433</th>\n",
       "      <td>1001472256</td>\n",
       "      <td>средстводляудаленияплесени prosept fungi clean...</td>\n",
       "    </tr>\n",
       "    <tr>\n",
       "      <th>452</th>\n",
       "      <td>1001472273</td>\n",
       "      <td>чистящеесредство prosept universal spray,0,5л</td>\n",
       "    </tr>\n",
       "    <tr>\n",
       "      <th>529</th>\n",
       "      <td>1001472253</td>\n",
       "      <td>средстводляудаленияклея prosept duty universal...</td>\n",
       "    </tr>\n",
       "    <tr>\n",
       "      <th>919</th>\n",
       "      <td>132643</td>\n",
       "      <td>средство для удаления цемента prosept cement c...</td>\n",
       "    </tr>\n",
       "  </tbody>\n",
       "</table>\n",
       "</div>"
      ],
      "text/plain": [
       "            key                                       product_name\n",
       "id                                                                \n",
       "429  1001472268        средстводлямытьяполов prosept multipower 1л\n",
       "433  1001472256  средстводляудаленияплесени prosept fungi clean...\n",
       "452  1001472273      чистящеесредство prosept universal spray,0,5л\n",
       "529  1001472253  средстводляудаленияклея prosept duty universal...\n",
       "919      132643  средство для удаления цемента prosept cement c..."
      ]
     },
     "execution_count": 43,
     "metadata": {},
     "output_type": "execute_result"
    }
   ],
   "source": [
    "dealer_price_new = dealer_price_new.drop_duplicates()\n",
    "dealer_price_new[:5]"
   ]
  },
  {
   "cell_type": "code",
   "execution_count": 44,
   "id": "f33e1529",
   "metadata": {
    "colab": {
     "base_uri": "https://localhost:8080/"
    },
    "id": "f33e1529",
    "outputId": "4124a3d4-c3c2-44ff-93ec-15207f62fce4"
   },
   "outputs": [
    {
     "data": {
      "text/plain": [
       "2055"
      ]
     },
     "execution_count": 44,
     "metadata": {},
     "output_type": "execute_result"
    }
   ],
   "source": [
    "dealer_price_new.shape[0]"
   ]
  },
  {
   "cell_type": "code",
   "execution_count": 45,
   "id": "R4ldqN4UuWpv",
   "metadata": {
    "colab": {
     "base_uri": "https://localhost:8080/",
     "height": 455
    },
    "id": "R4ldqN4UuWpv",
    "outputId": "44730a1c-863c-4da3-b218-9ce1c6d44eed"
   },
   "outputs": [
    {
     "data": {
      "text/html": [
       "<div>\n",
       "<style scoped>\n",
       "    .dataframe tbody tr th:only-of-type {\n",
       "        vertical-align: middle;\n",
       "    }\n",
       "\n",
       "    .dataframe tbody tr th {\n",
       "        vertical-align: top;\n",
       "    }\n",
       "\n",
       "    .dataframe thead th {\n",
       "        text-align: right;\n",
       "    }\n",
       "</style>\n",
       "<table border=\"1\" class=\"dataframe\">\n",
       "  <thead>\n",
       "    <tr style=\"text-align: right;\">\n",
       "      <th></th>\n",
       "      <th>key</th>\n",
       "      <th>product_name</th>\n",
       "    </tr>\n",
       "    <tr>\n",
       "      <th>id</th>\n",
       "      <th></th>\n",
       "      <th></th>\n",
       "    </tr>\n",
       "  </thead>\n",
       "  <tbody>\n",
       "    <tr>\n",
       "      <th>429</th>\n",
       "      <td>1001472268</td>\n",
       "      <td>средстводлямытьяполов prosept multipower 1л</td>\n",
       "    </tr>\n",
       "    <tr>\n",
       "      <th>433</th>\n",
       "      <td>1001472256</td>\n",
       "      <td>средстводляудаленияплесени prosept fungi clean...</td>\n",
       "    </tr>\n",
       "    <tr>\n",
       "      <th>452</th>\n",
       "      <td>1001472273</td>\n",
       "      <td>чистящеесредство prosept universal spray,0,5л</td>\n",
       "    </tr>\n",
       "    <tr>\n",
       "      <th>529</th>\n",
       "      <td>1001472253</td>\n",
       "      <td>средстводляудаленияклея prosept duty universal...</td>\n",
       "    </tr>\n",
       "    <tr>\n",
       "      <th>919</th>\n",
       "      <td>132643</td>\n",
       "      <td>средство для удаления цемента prosept cement c...</td>\n",
       "    </tr>\n",
       "    <tr>\n",
       "      <th>...</th>\n",
       "      <td>...</td>\n",
       "      <td>...</td>\n",
       "    </tr>\n",
       "    <tr>\n",
       "      <th>20566</th>\n",
       "      <td>534517451</td>\n",
       "      <td>огнебиозащита для древесины prosept 2 группа, ...</td>\n",
       "    </tr>\n",
       "    <tr>\n",
       "      <th>20567</th>\n",
       "      <td>530308963</td>\n",
       "      <td>антисептик многофункциональный фбс, гост 5 л</td>\n",
       "    </tr>\n",
       "    <tr>\n",
       "      <th>20568</th>\n",
       "      <td>531730388</td>\n",
       "      <td>средство для удаления ржавчины prosept, 1 шт</td>\n",
       "    </tr>\n",
       "    <tr>\n",
       "      <th>20569</th>\n",
       "      <td>1090913025</td>\n",
       "      <td>герметик акриловый межшовный для деревянных ко...</td>\n",
       "    </tr>\n",
       "    <tr>\n",
       "      <th>20570</th>\n",
       "      <td>1077090171</td>\n",
       "      <td>краска-грунт фасадная для плит osb proff 3 в 1...</td>\n",
       "    </tr>\n",
       "  </tbody>\n",
       "</table>\n",
       "<p>2055 rows × 2 columns</p>\n",
       "</div>"
      ],
      "text/plain": [
       "              key                                       product_name\n",
       "id                                                                  \n",
       "429    1001472268        средстводлямытьяполов prosept multipower 1л\n",
       "433    1001472256  средстводляудаленияплесени prosept fungi clean...\n",
       "452    1001472273      чистящеесредство prosept universal spray,0,5л\n",
       "529    1001472253  средстводляудаленияклея prosept duty universal...\n",
       "919        132643  средство для удаления цемента prosept cement c...\n",
       "...           ...                                                ...\n",
       "20566   534517451  огнебиозащита для древесины prosept 2 группа, ...\n",
       "20567   530308963       антисептик многофункциональный фбс, гост 5 л\n",
       "20568   531730388       средство для удаления ржавчины prosept, 1 шт\n",
       "20569  1090913025  герметик акриловый межшовный для деревянных ко...\n",
       "20570  1077090171  краска-грунт фасадная для плит osb proff 3 в 1...\n",
       "\n",
       "[2055 rows x 2 columns]"
      ]
     },
     "execution_count": 45,
     "metadata": {},
     "output_type": "execute_result"
    }
   ],
   "source": [
    "dealer_price_new"
   ]
  },
  {
   "cell_type": "markdown",
   "id": "QnYVJbARsuts",
   "metadata": {
    "id": "QnYVJbARsuts"
   },
   "source": [
    "Мы получили 2055 уникальных товаров дилеров, с наименованиями."
   ]
  },
  {
   "cell_type": "markdown",
   "id": "55565787",
   "metadata": {
    "id": "55565787"
   },
   "source": [
    "#### product  \n",
    "Теперь обработаем список товаров произовдителя."
   ]
  },
  {
   "cell_type": "code",
   "execution_count": 46,
   "id": "8d8e143f",
   "metadata": {
    "colab": {
     "base_uri": "https://localhost:8080/",
     "height": 466
    },
    "id": "8d8e143f",
    "outputId": "680829e8-a652-4cc8-8650-157655bbb9af"
   },
   "outputs": [
    {
     "data": {
      "text/html": [
       "<div>\n",
       "<style scoped>\n",
       "    .dataframe tbody tr th:only-of-type {\n",
       "        vertical-align: middle;\n",
       "    }\n",
       "\n",
       "    .dataframe tbody tr th {\n",
       "        vertical-align: top;\n",
       "    }\n",
       "\n",
       "    .dataframe thead th {\n",
       "        text-align: right;\n",
       "    }\n",
       "</style>\n",
       "<table border=\"1\" class=\"dataframe\">\n",
       "  <thead>\n",
       "    <tr style=\"text-align: right;\">\n",
       "      <th></th>\n",
       "      <th>article</th>\n",
       "      <th>ean_13</th>\n",
       "      <th>name</th>\n",
       "      <th>cost</th>\n",
       "      <th>recommended_price</th>\n",
       "      <th>category_id</th>\n",
       "      <th>ozon_name</th>\n",
       "      <th>name_1c</th>\n",
       "      <th>wb_name</th>\n",
       "      <th>ozon_article</th>\n",
       "      <th>wb_article</th>\n",
       "      <th>ym_article</th>\n",
       "      <th>wb_article_td</th>\n",
       "    </tr>\n",
       "    <tr>\n",
       "      <th>id</th>\n",
       "      <th></th>\n",
       "      <th></th>\n",
       "      <th></th>\n",
       "      <th></th>\n",
       "      <th></th>\n",
       "      <th></th>\n",
       "      <th></th>\n",
       "      <th></th>\n",
       "      <th></th>\n",
       "      <th></th>\n",
       "      <th></th>\n",
       "      <th></th>\n",
       "      <th></th>\n",
       "    </tr>\n",
       "  </thead>\n",
       "  <tbody>\n",
       "    <tr>\n",
       "      <th>1</th>\n",
       "      <td>123-02</td>\n",
       "      <td>4.610093e+12</td>\n",
       "      <td>Средство для удаления наклеек Duty Universal /...</td>\n",
       "      <td>189.00</td>\n",
       "      <td>443.0</td>\n",
       "      <td>43.0</td>\n",
       "      <td>Средство для удаления клейкой ленты, клея, нак...</td>\n",
       "      <td>Средство для удаления клейкой ленты, клея, нак...</td>\n",
       "      <td>Средство для удаления клейкой ленты, клея, нак...</td>\n",
       "      <td>445949007.0</td>\n",
       "      <td>149295509.0</td>\n",
       "      <td>123-02</td>\n",
       "      <td>NaN</td>\n",
       "    </tr>\n",
       "    <tr>\n",
       "      <th>2</th>\n",
       "      <td>242-6</td>\n",
       "      <td>4.610093e+12</td>\n",
       "      <td>Антигололед - 32 PROSEPTготовый состав / 6 кг</td>\n",
       "      <td>220.39</td>\n",
       "      <td>515.0</td>\n",
       "      <td>NaN</td>\n",
       "      <td>NaN</td>\n",
       "      <td>Антигололед - 32 PROSEPTготовый состав / 6 кг</td>\n",
       "      <td>NaN</td>\n",
       "      <td>NaN</td>\n",
       "      <td>NaN</td>\n",
       "      <td>NaN</td>\n",
       "      <td>NaN</td>\n",
       "    </tr>\n",
       "    <tr>\n",
       "      <th>3</th>\n",
       "      <td>242-12</td>\n",
       "      <td>NaN</td>\n",
       "      <td>Антигололед - 32 PROSEPTготовый состав / 12 кг</td>\n",
       "      <td>460.16</td>\n",
       "      <td>1075.0</td>\n",
       "      <td>NaN</td>\n",
       "      <td>NaN</td>\n",
       "      <td>Антигололед - 32 PROSEPTготовый состав / 12 кг</td>\n",
       "      <td>NaN</td>\n",
       "      <td>NaN</td>\n",
       "      <td>NaN</td>\n",
       "      <td>NaN</td>\n",
       "      <td>NaN</td>\n",
       "    </tr>\n",
       "    <tr>\n",
       "      <th>4</th>\n",
       "      <td>104-1</td>\n",
       "      <td>4.680008e+12</td>\n",
       "      <td>Универсальное моющее средствоUniversal Prof  к...</td>\n",
       "      <td>150.00</td>\n",
       "      <td>352.0</td>\n",
       "      <td>56.0</td>\n",
       "      <td>Профессиональное универсальное моющее средство...</td>\n",
       "      <td>Профессиональное универсальное моющее средство...</td>\n",
       "      <td>Профессиональное универсальное моющее средство...</td>\n",
       "      <td>449915357.0</td>\n",
       "      <td>149811058.0</td>\n",
       "      <td>104-1</td>\n",
       "      <td>NaN</td>\n",
       "    </tr>\n",
       "    <tr>\n",
       "      <th>5</th>\n",
       "      <td>104-5</td>\n",
       "      <td>4.680008e+12</td>\n",
       "      <td>Универсальное моющее средствоUniversal Prof  к...</td>\n",
       "      <td>601.76</td>\n",
       "      <td>1405.0</td>\n",
       "      <td>56.0</td>\n",
       "      <td>Профессиональное универсальное моющее средство...</td>\n",
       "      <td>Профессиональное универсальное моющее средство...</td>\n",
       "      <td>Профессиональное универсальное моющее средство...</td>\n",
       "      <td>449915356.0</td>\n",
       "      <td>149811051.0</td>\n",
       "      <td>104-5</td>\n",
       "      <td>NaN</td>\n",
       "    </tr>\n",
       "  </tbody>\n",
       "</table>\n",
       "</div>"
      ],
      "text/plain": [
       "   article        ean_13                                               name  \\\n",
       "id                                                                            \n",
       "1   123-02  4.610093e+12  Средство для удаления наклеек Duty Universal /...   \n",
       "2    242-6  4.610093e+12      Антигололед - 32 PROSEPTготовый состав / 6 кг   \n",
       "3   242-12           NaN     Антигололед - 32 PROSEPTготовый состав / 12 кг   \n",
       "4    104-1  4.680008e+12  Универсальное моющее средствоUniversal Prof  к...   \n",
       "5    104-5  4.680008e+12  Универсальное моющее средствоUniversal Prof  к...   \n",
       "\n",
       "      cost  recommended_price  category_id  \\\n",
       "id                                           \n",
       "1   189.00              443.0         43.0   \n",
       "2   220.39              515.0          NaN   \n",
       "3   460.16             1075.0          NaN   \n",
       "4   150.00              352.0         56.0   \n",
       "5   601.76             1405.0         56.0   \n",
       "\n",
       "                                            ozon_name  \\\n",
       "id                                                      \n",
       "1   Средство для удаления клейкой ленты, клея, нак...   \n",
       "2                                                 NaN   \n",
       "3                                                 NaN   \n",
       "4   Профессиональное универсальное моющее средство...   \n",
       "5   Профессиональное универсальное моющее средство...   \n",
       "\n",
       "                                              name_1c  \\\n",
       "id                                                      \n",
       "1   Средство для удаления клейкой ленты, клея, нак...   \n",
       "2       Антигололед - 32 PROSEPTготовый состав / 6 кг   \n",
       "3      Антигололед - 32 PROSEPTготовый состав / 12 кг   \n",
       "4   Профессиональное универсальное моющее средство...   \n",
       "5   Профессиональное универсальное моющее средство...   \n",
       "\n",
       "                                              wb_name  ozon_article  \\\n",
       "id                                                                    \n",
       "1   Средство для удаления клейкой ленты, клея, нак...   445949007.0   \n",
       "2                                                 NaN           NaN   \n",
       "3                                                 NaN           NaN   \n",
       "4   Профессиональное универсальное моющее средство...   449915357.0   \n",
       "5   Профессиональное универсальное моющее средство...   449915356.0   \n",
       "\n",
       "     wb_article ym_article wb_article_td  \n",
       "id                                        \n",
       "1   149295509.0     123-02           NaN  \n",
       "2           NaN        NaN           NaN  \n",
       "3           NaN        NaN           NaN  \n",
       "4   149811058.0      104-1           NaN  \n",
       "5   149811051.0      104-5           NaN  "
      ]
     },
     "execution_count": 46,
     "metadata": {},
     "output_type": "execute_result"
    }
   ],
   "source": [
    "product.head()"
   ]
  },
  {
   "cell_type": "markdown",
   "id": "Zj9nODLj3awy",
   "metadata": {
    "id": "Zj9nODLj3awy"
   },
   "source": [
    "Для создания таргета мы будем использовать таблицу ручного сопоставления , поэтому на в списке товаров производителя нужно оставить только те товары которые есть в таблице матчинга. поэтмоу выведем максимальный, для последующего выделения нужных нам строк"
   ]
  },
  {
   "cell_type": "code",
   "execution_count": 47,
   "id": "054d82cf",
   "metadata": {
    "colab": {
     "base_uri": "https://localhost:8080/"
    },
    "id": "054d82cf",
    "outputId": "f79ebc81-36e8-41f3-b424-d2b55e7f7aae"
   },
   "outputs": [
    {
     "data": {
      "text/plain": [
       "479"
      ]
     },
     "execution_count": 47,
     "metadata": {},
     "output_type": "execute_result"
    }
   ],
   "source": [
    "product_dealer_key.max()[\"product_id\"]"
   ]
  },
  {
   "cell_type": "markdown",
   "id": "DIpExw1137Au",
   "metadata": {
    "id": "DIpExw1137Au"
   },
   "source": [
    "Оставляем только те строки, есть в таблице ручного сопоставления, В самой таблице оставляем только наименование товара"
   ]
  },
  {
   "cell_type": "code",
   "execution_count": 48,
   "id": "075c7349",
   "metadata": {
    "id": "075c7349"
   },
   "outputs": [],
   "source": [
    "product_new = product.copy().loc[:product_dealer_key.max()[\"product_id\"]][\"name\"]"
   ]
  },
  {
   "cell_type": "markdown",
   "id": "dhWn1yKX4LTX",
   "metadata": {
    "id": "dhWn1yKX4LTX"
   },
   "source": [
    "Пропустим наименования через функцию очистки текста."
   ]
  },
  {
   "cell_type": "code",
   "execution_count": 49,
   "id": "c3381fde",
   "metadata": {
    "id": "c3381fde"
   },
   "outputs": [],
   "source": [
    "product_new = product_new.apply(re_name)"
   ]
  },
  {
   "cell_type": "code",
   "execution_count": 50,
   "id": "0685d2b4",
   "metadata": {
    "colab": {
     "base_uri": "https://localhost:8080/"
    },
    "id": "0685d2b4",
    "outputId": "f50882b1-9a1d-4886-f902-0f80984df436"
   },
   "outputs": [
    {
     "data": {
      "text/plain": [
       "id\n",
       "1      средство для удаления наклеек duty universal /...\n",
       "2         антигололед - 32 prosept готовый состав / 6 кг\n",
       "3        антигололед - 32 prosept готовый состав / 12 кг\n",
       "4      универсальное моющее средство universal prof  ...\n",
       "5      универсальное моющее средство universal prof  ...\n",
       "                             ...                        \n",
       "472    огнебиозащита для древесины 2 группа, красный ...\n",
       "476    огнебиозащита для древесины 2 группа, бесцветн...\n",
       "477         набор для люстр anti-dust спрей, 0.5 л, 2 шт\n",
       "478         набор для люстр anti-dust спрей, 0.5 л, 3 шт\n",
       "479    prosept огнебиозащита для древесины с цветовой...\n",
       "Name: name, Length: 462, dtype: object"
      ]
     },
     "execution_count": 50,
     "metadata": {},
     "output_type": "execute_result"
    }
   ],
   "source": [
    "product_new"
   ]
  },
  {
   "cell_type": "markdown",
   "id": "CP83lrzj4mC3",
   "metadata": {
    "id": "CP83lrzj4mC3"
   },
   "source": [
    "Cбросим индексы, чтобы вывести id в стоблец и переименовать его в product_id для объединения."
   ]
  },
  {
   "cell_type": "code",
   "execution_count": 51,
   "id": "9d6a3613",
   "metadata": {
    "colab": {
     "base_uri": "https://localhost:8080/",
     "height": 424
    },
    "id": "9d6a3613",
    "outputId": "4d939bc3-56d5-4628-9187-010f91429d15"
   },
   "outputs": [
    {
     "data": {
      "text/html": [
       "<div>\n",
       "<style scoped>\n",
       "    .dataframe tbody tr th:only-of-type {\n",
       "        vertical-align: middle;\n",
       "    }\n",
       "\n",
       "    .dataframe tbody tr th {\n",
       "        vertical-align: top;\n",
       "    }\n",
       "\n",
       "    .dataframe thead th {\n",
       "        text-align: right;\n",
       "    }\n",
       "</style>\n",
       "<table border=\"1\" class=\"dataframe\">\n",
       "  <thead>\n",
       "    <tr style=\"text-align: right;\">\n",
       "      <th></th>\n",
       "      <th>product_id</th>\n",
       "      <th>name</th>\n",
       "    </tr>\n",
       "  </thead>\n",
       "  <tbody>\n",
       "    <tr>\n",
       "      <th>0</th>\n",
       "      <td>1</td>\n",
       "      <td>средство для удаления наклеек duty universal /...</td>\n",
       "    </tr>\n",
       "    <tr>\n",
       "      <th>1</th>\n",
       "      <td>2</td>\n",
       "      <td>антигололед - 32 prosept готовый состав / 6 кг</td>\n",
       "    </tr>\n",
       "    <tr>\n",
       "      <th>2</th>\n",
       "      <td>3</td>\n",
       "      <td>антигололед - 32 prosept готовый состав / 12 кг</td>\n",
       "    </tr>\n",
       "    <tr>\n",
       "      <th>3</th>\n",
       "      <td>4</td>\n",
       "      <td>универсальное моющее средство universal prof  ...</td>\n",
       "    </tr>\n",
       "    <tr>\n",
       "      <th>4</th>\n",
       "      <td>5</td>\n",
       "      <td>универсальное моющее средство universal prof  ...</td>\n",
       "    </tr>\n",
       "    <tr>\n",
       "      <th>...</th>\n",
       "      <td>...</td>\n",
       "      <td>...</td>\n",
       "    </tr>\n",
       "    <tr>\n",
       "      <th>457</th>\n",
       "      <td>472</td>\n",
       "      <td>огнебиозащита для древесины 2 группа, красный ...</td>\n",
       "    </tr>\n",
       "    <tr>\n",
       "      <th>458</th>\n",
       "      <td>476</td>\n",
       "      <td>огнебиозащита для древесины 2 группа, бесцветн...</td>\n",
       "    </tr>\n",
       "    <tr>\n",
       "      <th>459</th>\n",
       "      <td>477</td>\n",
       "      <td>набор для люстр anti-dust спрей, 0.5 л, 2 шт</td>\n",
       "    </tr>\n",
       "    <tr>\n",
       "      <th>460</th>\n",
       "      <td>478</td>\n",
       "      <td>набор для люстр anti-dust спрей, 0.5 л, 3 шт</td>\n",
       "    </tr>\n",
       "    <tr>\n",
       "      <th>461</th>\n",
       "      <td>479</td>\n",
       "      <td>prosept огнебиозащита для древесины с цветовой...</td>\n",
       "    </tr>\n",
       "  </tbody>\n",
       "</table>\n",
       "<p>462 rows × 2 columns</p>\n",
       "</div>"
      ],
      "text/plain": [
       "     product_id                                               name\n",
       "0             1  средство для удаления наклеек duty universal /...\n",
       "1             2     антигололед - 32 prosept готовый состав / 6 кг\n",
       "2             3    антигололед - 32 prosept готовый состав / 12 кг\n",
       "3             4  универсальное моющее средство universal prof  ...\n",
       "4             5  универсальное моющее средство universal prof  ...\n",
       "..          ...                                                ...\n",
       "457         472  огнебиозащита для древесины 2 группа, красный ...\n",
       "458         476  огнебиозащита для древесины 2 группа, бесцветн...\n",
       "459         477       набор для люстр anti-dust спрей, 0.5 л, 2 шт\n",
       "460         478       набор для люстр anti-dust спрей, 0.5 л, 3 шт\n",
       "461         479  prosept огнебиозащита для древесины с цветовой...\n",
       "\n",
       "[462 rows x 2 columns]"
      ]
     },
     "execution_count": 51,
     "metadata": {},
     "output_type": "execute_result"
    }
   ],
   "source": [
    "product_new = product_new.reset_index().rename(columns={\"id\": \"product_id\"})\n",
    "product_new"
   ]
  },
  {
   "cell_type": "markdown",
   "id": "cc9372aa",
   "metadata": {
    "id": "cc9372aa"
   },
   "source": [
    "**Вывод:** Мы получили списки уникальных товаров заказчика и дилеров с ключами для соединения таблиц. Разделили слитные слова в наименованиях, привели их к нижнему регистру."
   ]
  },
  {
   "cell_type": "markdown",
   "id": "a2a05b0d",
   "metadata": {
    "id": "a2a05b0d"
   },
   "source": [
    "## Объединение таблиц  \n",
    "Сначала убеждаемся что в колнке, по которой будем объединять только строковые данные.\n",
    "\n",
    "Потом присоединяем к списку товаров дилера таблицу ручного сопоставления, а уже к полученой таблице присоединяем таблицу товаров производителя"
   ]
  },
  {
   "cell_type": "code",
   "execution_count": 52,
   "id": "ae99f160",
   "metadata": {
    "id": "ae99f160"
   },
   "outputs": [],
   "source": [
    "product_dealer_key[\"key\"] = product_dealer_key.key.astype(str)\n",
    "dealer_price_new[\"key\"] = dealer_price_new.key.astype(str)"
   ]
  },
  {
   "cell_type": "code",
   "execution_count": 53,
   "id": "d8a4902d",
   "metadata": {
    "id": "d8a4902d"
   },
   "outputs": [],
   "source": [
    "df = product_dealer_key.merge(dealer_price_new, on=\"key\", how=\"right\")\n",
    "df = df.merge(product_new, on=\"product_id\", how=\"left\")"
   ]
  },
  {
   "cell_type": "code",
   "execution_count": 54,
   "id": "bfbb8fd9",
   "metadata": {
    "colab": {
     "base_uri": "https://localhost:8080/",
     "height": 424
    },
    "id": "bfbb8fd9",
    "outputId": "df755c70-f253-418b-ca0a-487ae15c284c"
   },
   "outputs": [
    {
     "data": {
      "text/html": [
       "<div>\n",
       "<style scoped>\n",
       "    .dataframe tbody tr th:only-of-type {\n",
       "        vertical-align: middle;\n",
       "    }\n",
       "\n",
       "    .dataframe tbody tr th {\n",
       "        vertical-align: top;\n",
       "    }\n",
       "\n",
       "    .dataframe thead th {\n",
       "        text-align: right;\n",
       "    }\n",
       "</style>\n",
       "<table border=\"1\" class=\"dataframe\">\n",
       "  <thead>\n",
       "    <tr style=\"text-align: right;\">\n",
       "      <th></th>\n",
       "      <th>key</th>\n",
       "      <th>dealer_id</th>\n",
       "      <th>product_id</th>\n",
       "      <th>product_name</th>\n",
       "      <th>name</th>\n",
       "    </tr>\n",
       "  </thead>\n",
       "  <tbody>\n",
       "    <tr>\n",
       "      <th>0</th>\n",
       "      <td>1001472268</td>\n",
       "      <td>5.0</td>\n",
       "      <td>38.0</td>\n",
       "      <td>средстводлямытьяполов prosept multipower 1л</td>\n",
       "      <td>концентрат для мытья полов multipower с аромат...</td>\n",
       "    </tr>\n",
       "    <tr>\n",
       "      <th>1</th>\n",
       "      <td>1001472256</td>\n",
       "      <td>5.0</td>\n",
       "      <td>390.0</td>\n",
       "      <td>средстводляудаленияплесени prosept fungi clean...</td>\n",
       "      <td>удалитель плесени fungi clean готовый состав /...</td>\n",
       "    </tr>\n",
       "    <tr>\n",
       "      <th>2</th>\n",
       "      <td>1001472273</td>\n",
       "      <td>5.0</td>\n",
       "      <td>12.0</td>\n",
       "      <td>чистящеесредство prosept universal spray,0,5л</td>\n",
       "      <td>универсальное моющее и чистящее средство unive...</td>\n",
       "    </tr>\n",
       "    <tr>\n",
       "      <th>3</th>\n",
       "      <td>1001472253</td>\n",
       "      <td>5.0</td>\n",
       "      <td>128.0</td>\n",
       "      <td>средстводляудаленияклея prosept duty universal...</td>\n",
       "      <td>средство для удаления клейкой ленты, клея, нак...</td>\n",
       "    </tr>\n",
       "    <tr>\n",
       "      <th>4</th>\n",
       "      <td>132643</td>\n",
       "      <td>12.0</td>\n",
       "      <td>400.0</td>\n",
       "      <td>средство для удаления цемента prosept cement c...</td>\n",
       "      <td>удалитель цемента cement cleaner готовый соста...</td>\n",
       "    </tr>\n",
       "    <tr>\n",
       "      <th>...</th>\n",
       "      <td>...</td>\n",
       "      <td>...</td>\n",
       "      <td>...</td>\n",
       "      <td>...</td>\n",
       "      <td>...</td>\n",
       "    </tr>\n",
       "    <tr>\n",
       "      <th>2050</th>\n",
       "      <td>534517451</td>\n",
       "      <td>18.0</td>\n",
       "      <td>452.0</td>\n",
       "      <td>огнебиозащита для древесины prosept 2 группа, ...</td>\n",
       "      <td>огнебиозащита для древесины 2 группа, красный ...</td>\n",
       "    </tr>\n",
       "    <tr>\n",
       "      <th>2051</th>\n",
       "      <td>530308963</td>\n",
       "      <td>18.0</td>\n",
       "      <td>416.0</td>\n",
       "      <td>антисептик многофункциональный фбс, гост 5 л</td>\n",
       "      <td>антисептик многофункциональный фбс, гост / 5 л</td>\n",
       "    </tr>\n",
       "    <tr>\n",
       "      <th>2052</th>\n",
       "      <td>531730388</td>\n",
       "      <td>18.0</td>\n",
       "      <td>405.0</td>\n",
       "      <td>средство для удаления ржавчины prosept, 1 шт</td>\n",
       "      <td>удалитель ржавчины rust remover концентрат  1:...</td>\n",
       "    </tr>\n",
       "    <tr>\n",
       "      <th>2053</th>\n",
       "      <td>1090913025</td>\n",
       "      <td>NaN</td>\n",
       "      <td>NaN</td>\n",
       "      <td>герметик акриловый межшовный для деревянных ко...</td>\n",
       "      <td>NaN</td>\n",
       "    </tr>\n",
       "    <tr>\n",
       "      <th>2054</th>\n",
       "      <td>1077090171</td>\n",
       "      <td>NaN</td>\n",
       "      <td>NaN</td>\n",
       "      <td>краска-грунт фасадная для плит osb proff 3 в 1...</td>\n",
       "      <td>NaN</td>\n",
       "    </tr>\n",
       "  </tbody>\n",
       "</table>\n",
       "<p>2055 rows × 5 columns</p>\n",
       "</div>"
      ],
      "text/plain": [
       "             key  dealer_id  product_id  \\\n",
       "0     1001472268        5.0        38.0   \n",
       "1     1001472256        5.0       390.0   \n",
       "2     1001472273        5.0        12.0   \n",
       "3     1001472253        5.0       128.0   \n",
       "4         132643       12.0       400.0   \n",
       "...          ...        ...         ...   \n",
       "2050   534517451       18.0       452.0   \n",
       "2051   530308963       18.0       416.0   \n",
       "2052   531730388       18.0       405.0   \n",
       "2053  1090913025        NaN         NaN   \n",
       "2054  1077090171        NaN         NaN   \n",
       "\n",
       "                                           product_name  \\\n",
       "0           средстводлямытьяполов prosept multipower 1л   \n",
       "1     средстводляудаленияплесени prosept fungi clean...   \n",
       "2         чистящеесредство prosept universal spray,0,5л   \n",
       "3     средстводляудаленияклея prosept duty universal...   \n",
       "4     средство для удаления цемента prosept cement c...   \n",
       "...                                                 ...   \n",
       "2050  огнебиозащита для древесины prosept 2 группа, ...   \n",
       "2051       антисептик многофункциональный фбс, гост 5 л   \n",
       "2052       средство для удаления ржавчины prosept, 1 шт   \n",
       "2053  герметик акриловый межшовный для деревянных ко...   \n",
       "2054  краска-грунт фасадная для плит osb proff 3 в 1...   \n",
       "\n",
       "                                                   name  \n",
       "0     концентрат для мытья полов multipower с аромат...  \n",
       "1     удалитель плесени fungi clean готовый состав /...  \n",
       "2     универсальное моющее и чистящее средство unive...  \n",
       "3     средство для удаления клейкой ленты, клея, нак...  \n",
       "4     удалитель цемента cement cleaner готовый соста...  \n",
       "...                                                 ...  \n",
       "2050  огнебиозащита для древесины 2 группа, красный ...  \n",
       "2051     антисептик многофункциональный фбс, гост / 5 л  \n",
       "2052  удалитель ржавчины rust remover концентрат  1:...  \n",
       "2053                                                NaN  \n",
       "2054                                                NaN  \n",
       "\n",
       "[2055 rows x 5 columns]"
      ]
     },
     "execution_count": 54,
     "metadata": {},
     "output_type": "execute_result"
    }
   ],
   "source": [
    "df"
   ]
  },
  {
   "cell_type": "code",
   "execution_count": 55,
   "id": "7c2e1417",
   "metadata": {
    "colab": {
     "base_uri": "https://localhost:8080/"
    },
    "id": "7c2e1417",
    "outputId": "47f1035f-25e8-4068-a039-e33d883f0168"
   },
   "outputs": [
    {
     "data": {
      "text/plain": [
       "key               0\n",
       "dealer_id       364\n",
       "product_id      364\n",
       "product_name      0\n",
       "name            364\n",
       "dtype: int64"
      ]
     },
     "execution_count": 55,
     "metadata": {},
     "output_type": "execute_result"
    }
   ],
   "source": [
    "df.isna().sum()"
   ]
  },
  {
   "cell_type": "markdown",
   "id": "b1cb2607",
   "metadata": {
    "id": "b1cb2607"
   },
   "source": [
    "**Вывод:** Мы рассмотрели и предобработали 4 таблицы из БД заказчика. В таблице `marketing_dealer` данные корректны.\n",
    "\n",
    "`dealer_price` содержала 20 416 строк, есть пропуски в `product_url`, есть дубликаты (парсился несколько раз один и тот же продукт, но в разные дни), оставлены признаки - `product_key` (для соединения таблиц) и `product_name`. `product_key` переименован в `key`. После удаления дубликатов осталось 2 055 строк,\n",
    "\n",
    "`product_dealer_key` имеет 1 700 строк, дубликатов нет, на основе этой таблицы будет создан таргет - все связи из таблицы имеют таргет 1, строки без пары будут иметь 0.\n",
    "\n",
    "`product` содержит 496 строк, но есть пропуски в индексе - максимальный 513. Пропуски во многих признаках есть пропуски. Оставлен признак - `name`.\n",
    "\n",
    "Таблицы `product`, `product_dealer_key` и `dealer_price` были объединены в одну для создания таргета. Все сопоставленные пары это мэтч (таргет 1). Пропусков получилось 364 - это таргет 0."
   ]
  },
  {
   "cell_type": "markdown",
   "id": "c5562f0b",
   "metadata": {
    "id": "c5562f0b"
   },
   "source": [
    "## Создание таргета и фича-инжиниринг  \n",
    "Как уже было сказано в качестве целевого признака мы используем уже сопоставленные товары.\n"
   ]
  },
  {
   "cell_type": "markdown",
   "id": "b3bd05a2",
   "metadata": {
    "id": "b3bd05a2"
   },
   "source": [
    "### Создание таргета"
   ]
  },
  {
   "cell_type": "markdown",
   "id": "ee7e3b97",
   "metadata": {
    "id": "ee7e3b97"
   },
   "source": [
    "После соединения таблиц появились пропуски. Там, где пропусков значение целевого признака будет равно 1, где пропуски есть - 0. Пропуски заполняем случайными данными из уже имеющегося датасета(объединенного)."
   ]
  },
  {
   "cell_type": "code",
   "execution_count": 56,
   "id": "8617fa47",
   "metadata": {
    "colab": {
     "base_uri": "https://localhost:8080/"
    },
    "id": "8617fa47",
    "outputId": "e0ab56a3-7f12-4f32-f6f3-c277f3cca98c"
   },
   "outputs": [
    {
     "data": {
      "text/plain": [
       "key               0\n",
       "dealer_id       364\n",
       "product_id      364\n",
       "product_name      0\n",
       "name            364\n",
       "match             0\n",
       "dtype: int64"
      ]
     },
     "execution_count": 56,
     "metadata": {},
     "output_type": "execute_result"
    }
   ],
   "source": [
    "df.loc[df[\"product_id\"].isnull() == False,\"match\"] = 1\n",
    "df.loc[df[\"product_id\"].isnull() == True,\"match\"] = 0\n",
    "df.isna().sum()"
   ]
  },
  {
   "cell_type": "markdown",
   "id": "Z9YDYsMu6t0O",
   "metadata": {
    "id": "Z9YDYsMu6t0O"
   },
   "source": [
    "Выделяем список товаров с целевым признаком равным 0, для добавления в него случайных данных"
   ]
  },
  {
   "cell_type": "code",
   "execution_count": 57,
   "id": "915a8524",
   "metadata": {
    "colab": {
     "base_uri": "https://localhost:8080/",
     "height": 424
    },
    "id": "915a8524",
    "outputId": "ab4c93dc-4861-46d8-a1f8-02116682651f"
   },
   "outputs": [
    {
     "data": {
      "text/html": [
       "<div>\n",
       "<style scoped>\n",
       "    .dataframe tbody tr th:only-of-type {\n",
       "        vertical-align: middle;\n",
       "    }\n",
       "\n",
       "    .dataframe tbody tr th {\n",
       "        vertical-align: top;\n",
       "    }\n",
       "\n",
       "    .dataframe thead th {\n",
       "        text-align: right;\n",
       "    }\n",
       "</style>\n",
       "<table border=\"1\" class=\"dataframe\">\n",
       "  <thead>\n",
       "    <tr style=\"text-align: right;\">\n",
       "      <th></th>\n",
       "      <th>key</th>\n",
       "      <th>dealer_id</th>\n",
       "      <th>product_id</th>\n",
       "      <th>product_name</th>\n",
       "      <th>name</th>\n",
       "      <th>match</th>\n",
       "    </tr>\n",
       "  </thead>\n",
       "  <tbody>\n",
       "    <tr>\n",
       "      <th>44</th>\n",
       "      <td>90162708</td>\n",
       "      <td>13.0</td>\n",
       "      <td>46.0</td>\n",
       "      <td>спрей prosept cooky spray для столешниц и рако...</td>\n",
       "      <td>средство для уборки и дезинфекции санитарных к...</td>\n",
       "      <td>0.0</td>\n",
       "    </tr>\n",
       "    <tr>\n",
       "      <th>79</th>\n",
       "      <td>1001472231</td>\n",
       "      <td>15.0</td>\n",
       "      <td>172.0</td>\n",
       "      <td>огнебиозащитадлядревесины proseptогнебиоprofii...</td>\n",
       "      <td>жидкое гель-мыло с перламутром. без цвета, без...</td>\n",
       "      <td>0.0</td>\n",
       "    </tr>\n",
       "    <tr>\n",
       "      <th>132</th>\n",
       "      <td>44182839</td>\n",
       "      <td>12.0</td>\n",
       "      <td>401.0</td>\n",
       "      <td>чистящее средство universal hard спрей для очи...</td>\n",
       "      <td>удалитель цемента cement cleaner концентрат 1:...</td>\n",
       "      <td>0.0</td>\n",
       "    </tr>\n",
       "    <tr>\n",
       "      <th>137</th>\n",
       "      <td>33373363</td>\n",
       "      <td>3.0</td>\n",
       "      <td>105.0</td>\n",
       "      <td>средство для удаления ржавчины bath acid с аро...</td>\n",
       "      <td>ополаскиватель для посудомоечных машин всех ти...</td>\n",
       "      <td>0.0</td>\n",
       "    </tr>\n",
       "    <tr>\n",
       "      <th>141</th>\n",
       "      <td>44056895</td>\n",
       "      <td>3.0</td>\n",
       "      <td>161.0</td>\n",
       "      <td>средство для мытья полов multipower \"после дож...</td>\n",
       "      <td>жидкое моющее средство для стирки шерсти, шелк...</td>\n",
       "      <td>0.0</td>\n",
       "    </tr>\n",
       "    <tr>\n",
       "      <th>...</th>\n",
       "      <td>...</td>\n",
       "      <td>...</td>\n",
       "      <td>...</td>\n",
       "      <td>...</td>\n",
       "      <td>...</td>\n",
       "      <td>...</td>\n",
       "    </tr>\n",
       "    <tr>\n",
       "      <th>2036</th>\n",
       "      <td>530170161</td>\n",
       "      <td>15.0</td>\n",
       "      <td>247.0</td>\n",
       "      <td>строительный антисептик  prosept 5.6 кг</td>\n",
       "      <td>антисептик невымываемый prosept ultra концентр...</td>\n",
       "      <td>0.0</td>\n",
       "    </tr>\n",
       "    <tr>\n",
       "      <th>2040</th>\n",
       "      <td>528911039</td>\n",
       "      <td>10.0</td>\n",
       "      <td>138.0</td>\n",
       "      <td>герметик акриловый межшовный для деревянных ко...</td>\n",
       "      <td>кондиционер для белья без красителей и аромати...</td>\n",
       "      <td>0.0</td>\n",
       "    </tr>\n",
       "    <tr>\n",
       "      <th>2049</th>\n",
       "      <td>685030286</td>\n",
       "      <td>16.0</td>\n",
       "      <td>282.0</td>\n",
       "      <td>жидкое гель-мыло prosept эконом-класса, без кр...</td>\n",
       "      <td>антисептик  eco universal  / 10 л</td>\n",
       "      <td>0.0</td>\n",
       "    </tr>\n",
       "    <tr>\n",
       "      <th>2053</th>\n",
       "      <td>1090913025</td>\n",
       "      <td>3.0</td>\n",
       "      <td>258.0</td>\n",
       "      <td>герметик акриловый межшовный для деревянных ко...</td>\n",
       "      <td>антисептик для внутренних работ prosept interi...</td>\n",
       "      <td>0.0</td>\n",
       "    </tr>\n",
       "    <tr>\n",
       "      <th>2054</th>\n",
       "      <td>1077090171</td>\n",
       "      <td>17.0</td>\n",
       "      <td>223.0</td>\n",
       "      <td>краска-грунт фасадная для плит osb proff 3 в 1...</td>\n",
       "      <td>герметик акриловый цвет белый, 3 кг</td>\n",
       "      <td>0.0</td>\n",
       "    </tr>\n",
       "  </tbody>\n",
       "</table>\n",
       "<p>364 rows × 6 columns</p>\n",
       "</div>"
      ],
      "text/plain": [
       "             key  dealer_id  product_id  \\\n",
       "44      90162708       13.0        46.0   \n",
       "79    1001472231       15.0       172.0   \n",
       "132     44182839       12.0       401.0   \n",
       "137     33373363        3.0       105.0   \n",
       "141     44056895        3.0       161.0   \n",
       "...          ...        ...         ...   \n",
       "2036   530170161       15.0       247.0   \n",
       "2040   528911039       10.0       138.0   \n",
       "2049   685030286       16.0       282.0   \n",
       "2053  1090913025        3.0       258.0   \n",
       "2054  1077090171       17.0       223.0   \n",
       "\n",
       "                                           product_name  \\\n",
       "44    спрей prosept cooky spray для столешниц и рако...   \n",
       "79    огнебиозащитадлядревесины proseptогнебиоprofii...   \n",
       "132   чистящее средство universal hard спрей для очи...   \n",
       "137   средство для удаления ржавчины bath acid с аро...   \n",
       "141   средство для мытья полов multipower \"после дож...   \n",
       "...                                                 ...   \n",
       "2036            строительный антисептик  prosept 5.6 кг   \n",
       "2040  герметик акриловый межшовный для деревянных ко...   \n",
       "2049  жидкое гель-мыло prosept эконом-класса, без кр...   \n",
       "2053  герметик акриловый межшовный для деревянных ко...   \n",
       "2054  краска-грунт фасадная для плит osb proff 3 в 1...   \n",
       "\n",
       "                                                   name  match  \n",
       "44    средство для уборки и дезинфекции санитарных к...    0.0  \n",
       "79    жидкое гель-мыло с перламутром. без цвета, без...    0.0  \n",
       "132   удалитель цемента cement cleaner концентрат 1:...    0.0  \n",
       "137   ополаскиватель для посудомоечных машин всех ти...    0.0  \n",
       "141   жидкое моющее средство для стирки шерсти, шелк...    0.0  \n",
       "...                                                 ...    ...  \n",
       "2036  антисептик невымываемый prosept ultra концентр...    0.0  \n",
       "2040  кондиционер для белья без красителей и аромати...    0.0  \n",
       "2049                  антисептик  eco universal  / 10 л    0.0  \n",
       "2053  антисептик для внутренних работ prosept interi...    0.0  \n",
       "2054                герметик акриловый цвет белый, 3 кг    0.0  \n",
       "\n",
       "[364 rows x 6 columns]"
      ]
     },
     "execution_count": 57,
     "metadata": {},
     "output_type": "execute_result"
    }
   ],
   "source": [
    "#выделяем класс 0\n",
    "temp = df[df[\"match\"] == 0]\n",
    "#выделяем случайные данные для класса 0\n",
    "temp1 = df[df[\"match\"] == 1].sample(n=len(temp),random_state=RANDOM_STATE)\n",
    "#добавляем данные заказчика в таблицу с 0 классом\n",
    "for i in [\"dealer_id\", \"product_id\", \"name\"]:\n",
    "    temp[i] = list(temp1[i])\n",
    "temp"
   ]
  },
  {
   "cell_type": "markdown",
   "id": "AtiVljrL62fq",
   "metadata": {
    "id": "AtiVljrL62fq"
   },
   "source": [
    "Объединяем датасеты с положительными и отрицательными классами"
   ]
  },
  {
   "cell_type": "code",
   "execution_count": 58,
   "id": "62306671",
   "metadata": {
    "id": "62306671"
   },
   "outputs": [],
   "source": [
    "dataframe_final = pd.concat([temp,(df.loc[df[\"match\"] == 1])], ignore_index=True).drop([\"key\"], axis=1)"
   ]
  },
  {
   "cell_type": "markdown",
   "id": "62YeMMWV7G52",
   "metadata": {
    "id": "62YeMMWV7G52"
   },
   "source": [
    "перевеодим числовые данные в  тип int"
   ]
  },
  {
   "cell_type": "code",
   "execution_count": 59,
   "id": "c2ccb7cd",
   "metadata": {
    "colab": {
     "base_uri": "https://localhost:8080/"
    },
    "id": "c2ccb7cd",
    "outputId": "fdc2b7ec-d02d-4cab-fdef-02d3defc97dd"
   },
   "outputs": [
    {
     "name": "stdout",
     "output_type": "stream",
     "text": [
      "<class 'pandas.core.frame.DataFrame'>\n",
      "RangeIndex: 2055 entries, 0 to 2054\n",
      "Data columns (total 5 columns):\n",
      " #   Column        Non-Null Count  Dtype  \n",
      "---  ------        --------------  -----  \n",
      " 0   dealer_id     2055 non-null   float64\n",
      " 1   product_id    2055 non-null   int32  \n",
      " 2   product_name  2055 non-null   object \n",
      " 3   name          2055 non-null   object \n",
      " 4   match         2055 non-null   int32  \n",
      "dtypes: float64(1), int32(2), object(2)\n",
      "memory usage: 64.3+ KB\n"
     ]
    }
   ],
   "source": [
    "for i in [\"product_id\", \"match\"]:\n",
    "    dataframe_final[i] = dataframe_final[i].astype(int)\n",
    "dataframe_final.info()"
   ]
  },
  {
   "cell_type": "code",
   "execution_count": 60,
   "id": "2fd73983",
   "metadata": {
    "colab": {
     "base_uri": "https://localhost:8080/",
     "height": 424
    },
    "id": "2fd73983",
    "outputId": "2f57e38b-baa7-42e4-83e0-69cfb49d1e70"
   },
   "outputs": [
    {
     "data": {
      "text/html": [
       "<div>\n",
       "<style scoped>\n",
       "    .dataframe tbody tr th:only-of-type {\n",
       "        vertical-align: middle;\n",
       "    }\n",
       "\n",
       "    .dataframe tbody tr th {\n",
       "        vertical-align: top;\n",
       "    }\n",
       "\n",
       "    .dataframe thead th {\n",
       "        text-align: right;\n",
       "    }\n",
       "</style>\n",
       "<table border=\"1\" class=\"dataframe\">\n",
       "  <thead>\n",
       "    <tr style=\"text-align: right;\">\n",
       "      <th></th>\n",
       "      <th>dealer_id</th>\n",
       "      <th>product_id</th>\n",
       "      <th>product_name</th>\n",
       "      <th>name</th>\n",
       "      <th>match</th>\n",
       "    </tr>\n",
       "  </thead>\n",
       "  <tbody>\n",
       "    <tr>\n",
       "      <th>0</th>\n",
       "      <td>13.0</td>\n",
       "      <td>46</td>\n",
       "      <td>спрей prosept cooky spray для столешниц и рако...</td>\n",
       "      <td>средство для уборки и дезинфекции санитарных к...</td>\n",
       "      <td>0</td>\n",
       "    </tr>\n",
       "    <tr>\n",
       "      <th>1</th>\n",
       "      <td>15.0</td>\n",
       "      <td>172</td>\n",
       "      <td>огнебиозащитадлядревесины proseptогнебиоprofii...</td>\n",
       "      <td>жидкое гель-мыло с перламутром. без цвета, без...</td>\n",
       "      <td>0</td>\n",
       "    </tr>\n",
       "    <tr>\n",
       "      <th>2</th>\n",
       "      <td>12.0</td>\n",
       "      <td>401</td>\n",
       "      <td>чистящее средство universal hard спрей для очи...</td>\n",
       "      <td>удалитель цемента cement cleaner концентрат 1:...</td>\n",
       "      <td>0</td>\n",
       "    </tr>\n",
       "    <tr>\n",
       "      <th>3</th>\n",
       "      <td>3.0</td>\n",
       "      <td>105</td>\n",
       "      <td>средство для удаления ржавчины bath acid с аро...</td>\n",
       "      <td>ополаскиватель для посудомоечных машин всех ти...</td>\n",
       "      <td>0</td>\n",
       "    </tr>\n",
       "    <tr>\n",
       "      <th>4</th>\n",
       "      <td>3.0</td>\n",
       "      <td>161</td>\n",
       "      <td>средство для мытья полов multipower \"после дож...</td>\n",
       "      <td>жидкое моющее средство для стирки шерсти, шелк...</td>\n",
       "      <td>0</td>\n",
       "    </tr>\n",
       "    <tr>\n",
       "      <th>...</th>\n",
       "      <td>...</td>\n",
       "      <td>...</td>\n",
       "      <td>...</td>\n",
       "      <td>...</td>\n",
       "      <td>...</td>\n",
       "    </tr>\n",
       "    <tr>\n",
       "      <th>2050</th>\n",
       "      <td>18.0</td>\n",
       "      <td>258</td>\n",
       "      <td>строительный антисептик  prosept антисептик дл...</td>\n",
       "      <td>антисептик для внутренних работ prosept interi...</td>\n",
       "      <td>1</td>\n",
       "    </tr>\n",
       "    <tr>\n",
       "      <th>2051</th>\n",
       "      <td>18.0</td>\n",
       "      <td>299</td>\n",
       "      <td>огнебиозащита профессиональная для древесины p...</td>\n",
       "      <td>огнебиозащита огнебио prof 2 группа, красный г...</td>\n",
       "      <td>1</td>\n",
       "    </tr>\n",
       "    <tr>\n",
       "      <th>2052</th>\n",
       "      <td>18.0</td>\n",
       "      <td>452</td>\n",
       "      <td>огнебиозащита для древесины prosept 2 группа, ...</td>\n",
       "      <td>огнебиозащита для древесины 2 группа, красный ...</td>\n",
       "      <td>1</td>\n",
       "    </tr>\n",
       "    <tr>\n",
       "      <th>2053</th>\n",
       "      <td>18.0</td>\n",
       "      <td>416</td>\n",
       "      <td>антисептик многофункциональный фбс, гост 5 л</td>\n",
       "      <td>антисептик многофункциональный фбс, гост / 5 л</td>\n",
       "      <td>1</td>\n",
       "    </tr>\n",
       "    <tr>\n",
       "      <th>2054</th>\n",
       "      <td>18.0</td>\n",
       "      <td>405</td>\n",
       "      <td>средство для удаления ржавчины prosept, 1 шт</td>\n",
       "      <td>удалитель ржавчины rust remover концентрат  1:...</td>\n",
       "      <td>1</td>\n",
       "    </tr>\n",
       "  </tbody>\n",
       "</table>\n",
       "<p>2055 rows × 5 columns</p>\n",
       "</div>"
      ],
      "text/plain": [
       "      dealer_id  product_id  \\\n",
       "0          13.0          46   \n",
       "1          15.0         172   \n",
       "2          12.0         401   \n",
       "3           3.0         105   \n",
       "4           3.0         161   \n",
       "...         ...         ...   \n",
       "2050       18.0         258   \n",
       "2051       18.0         299   \n",
       "2052       18.0         452   \n",
       "2053       18.0         416   \n",
       "2054       18.0         405   \n",
       "\n",
       "                                           product_name  \\\n",
       "0     спрей prosept cooky spray для столешниц и рако...   \n",
       "1     огнебиозащитадлядревесины proseptогнебиоprofii...   \n",
       "2     чистящее средство universal hard спрей для очи...   \n",
       "3     средство для удаления ржавчины bath acid с аро...   \n",
       "4     средство для мытья полов multipower \"после дож...   \n",
       "...                                                 ...   \n",
       "2050  строительный антисептик  prosept антисептик дл...   \n",
       "2051  огнебиозащита профессиональная для древесины p...   \n",
       "2052  огнебиозащита для древесины prosept 2 группа, ...   \n",
       "2053       антисептик многофункциональный фбс, гост 5 л   \n",
       "2054       средство для удаления ржавчины prosept, 1 шт   \n",
       "\n",
       "                                                   name  match  \n",
       "0     средство для уборки и дезинфекции санитарных к...      0  \n",
       "1     жидкое гель-мыло с перламутром. без цвета, без...      0  \n",
       "2     удалитель цемента cement cleaner концентрат 1:...      0  \n",
       "3     ополаскиватель для посудомоечных машин всех ти...      0  \n",
       "4     жидкое моющее средство для стирки шерсти, шелк...      0  \n",
       "...                                                 ...    ...  \n",
       "2050  антисептик для внутренних работ prosept interi...      1  \n",
       "2051  огнебиозащита огнебио prof 2 группа, красный г...      1  \n",
       "2052  огнебиозащита для древесины 2 группа, красный ...      1  \n",
       "2053     антисептик многофункциональный фбс, гост / 5 л      1  \n",
       "2054  удалитель ржавчины rust remover концентрат  1:...      1  \n",
       "\n",
       "[2055 rows x 5 columns]"
      ]
     },
     "execution_count": 60,
     "metadata": {},
     "output_type": "execute_result"
    }
   ],
   "source": [
    "dataframe_final"
   ]
  },
  {
   "cell_type": "markdown",
   "id": "aee3887c",
   "metadata": {
    "id": "aee3887c"
   },
   "source": [
    "**Вывод:** С помощью сопоставления таблиц со списком товаров заказчика и спаршеннных данных, мы получили размеченную выборку из наименований товаров у дилера и заказчика, таблица состоит из 2 055 строк, негативные сопоставления были подобраны случайным образом для товаров, которым не нашлись пары, из товаров, для которых пары нашлись."
   ]
  },
  {
   "cell_type": "markdown",
   "id": "ad147550",
   "metadata": {
    "id": "ad147550"
   },
   "source": [
    "### Фича-инжиниринг  \n",
    "После объединения в итоговый датасет можно приступать к созданию признаков. мы будем использовать:\n",
    "\n",
    "1.   Эмбеддинги( а точнее их скалярное произведение)\n",
    "2.   расстояение Левенштейна\n",
    "3.   объем товара.\n",
    "  \n",
    "Для выделения метрики объема товара напишем функцию обработки текста add_metering\n",
    "\n",
    "\n",
    "\n",
    "\n"
   ]
  },
  {
   "cell_type": "code",
   "execution_count": 61,
   "id": "14ce9b2e",
   "metadata": {
    "id": "14ce9b2e"
   },
   "outputs": [],
   "source": [
    "def add_metering(text):\n",
    "    \"\"\"\n",
    "    Выделение метрики измерения и количества из названия\n",
    "    \"\"\"\n",
    "    try:\n",
    "        return re.search(r'(\\d{1,}(?:[\\.,]\\d+)?\\s?(л|мл|кг|г))\\b', text)[0]\n",
    "    except:\n",
    "        return 0"
   ]
  },
  {
   "cell_type": "code",
   "execution_count": 62,
   "id": "012d7b8b",
   "metadata": {
    "id": "012d7b8b"
   },
   "outputs": [],
   "source": [
    "dataframe_final[\"product_mera\"] = dataframe_final[\"product_name\"].apply(add_metering)"
   ]
  },
  {
   "cell_type": "code",
   "execution_count": 63,
   "id": "9eaa9dc2",
   "metadata": {
    "id": "9eaa9dc2"
   },
   "outputs": [],
   "source": [
    "dataframe_final[\"mera\"] = dataframe_final[\"name\"].apply(add_metering)"
   ]
  },
  {
   "cell_type": "code",
   "execution_count": 64,
   "id": "1de22a6c",
   "metadata": {
    "colab": {
     "base_uri": "https://localhost:8080/",
     "height": 147
    },
    "id": "1de22a6c",
    "outputId": "cd6c3fc8-6413-4d7b-ead8-5ca87601e58e"
   },
   "outputs": [
    {
     "data": {
      "text/html": [
       "<div>\n",
       "<style scoped>\n",
       "    .dataframe tbody tr th:only-of-type {\n",
       "        vertical-align: middle;\n",
       "    }\n",
       "\n",
       "    .dataframe tbody tr th {\n",
       "        vertical-align: top;\n",
       "    }\n",
       "\n",
       "    .dataframe thead th {\n",
       "        text-align: right;\n",
       "    }\n",
       "</style>\n",
       "<table border=\"1\" class=\"dataframe\">\n",
       "  <thead>\n",
       "    <tr style=\"text-align: right;\">\n",
       "      <th></th>\n",
       "      <th>dealer_id</th>\n",
       "      <th>product_id</th>\n",
       "      <th>product_name</th>\n",
       "      <th>name</th>\n",
       "      <th>match</th>\n",
       "      <th>product_mera</th>\n",
       "      <th>mera</th>\n",
       "    </tr>\n",
       "  </thead>\n",
       "  <tbody>\n",
       "    <tr>\n",
       "      <th>0</th>\n",
       "      <td>13.0</td>\n",
       "      <td>46</td>\n",
       "      <td>спрей prosept cooky spray для столешниц и рако...</td>\n",
       "      <td>средство для уборки и дезинфекции санитарных к...</td>\n",
       "      <td>0</td>\n",
       "      <td>500 мл</td>\n",
       "      <td>0,75 л</td>\n",
       "    </tr>\n",
       "    <tr>\n",
       "      <th>1</th>\n",
       "      <td>15.0</td>\n",
       "      <td>172</td>\n",
       "      <td>огнебиозащитадлядревесины proseptогнебиоprofii...</td>\n",
       "      <td>жидкое гель-мыло с перламутром. без цвета, без...</td>\n",
       "      <td>0</td>\n",
       "      <td>10л</td>\n",
       "      <td>5 л</td>\n",
       "    </tr>\n",
       "  </tbody>\n",
       "</table>\n",
       "</div>"
      ],
      "text/plain": [
       "   dealer_id  product_id                                       product_name  \\\n",
       "0       13.0          46  спрей prosept cooky spray для столешниц и рако...   \n",
       "1       15.0         172  огнебиозащитадлядревесины proseptогнебиоprofii...   \n",
       "\n",
       "                                                name  match product_mera  \\\n",
       "0  средство для уборки и дезинфекции санитарных к...      0       500 мл   \n",
       "1  жидкое гель-мыло с перламутром. без цвета, без...      0          10л   \n",
       "\n",
       "     mera  \n",
       "0  0,75 л  \n",
       "1     5 л  "
      ]
     },
     "execution_count": 64,
     "metadata": {},
     "output_type": "execute_result"
    }
   ],
   "source": [
    "dataframe_final[:2]"
   ]
  },
  {
   "cell_type": "code",
   "execution_count": 65,
   "id": "5c600c74",
   "metadata": {
    "colab": {
     "base_uri": "https://localhost:8080/"
    },
    "id": "5c600c74",
    "outputId": "3a659049-bd1a-4f06-aef5-f7fabbbf4262"
   },
   "outputs": [
    {
     "data": {
      "text/plain": [
       "array(['500 мл', '10л', 0, '14 кг', '10 кг', '5 л', '5л', '30 л',\n",
       "       '800 мл', '1 л', '5 кг', '0.6 л', '0,6 л', '3 кг', '1,3 кг',\n",
       "       '1,4 кг', '210 мл', '1л', '1.4 кг', '2,5 кг', '0,5 л', '10 л',\n",
       "       '7 кг', '7кг', '1 кг', '14кг', '0.25л', '1кг', '1.3 кг', '20 кг',\n",
       "       '500мл', '0,75л', '750 мл', '600мл', '12 кг', '20л', '3 л',\n",
       "       '220 кг', '33 кг', '200 кг', '30 кг', '2.7 л', '400 мл', '15 кг',\n",
       "       '600 г', '20 л', '65 кг', '200 мл', '2 л', '0,5л', '0.6л',\n",
       "       '2.5 кг', '0.75л', '3л', '0.75 л', '12кг', '1,5кг', '250мл',\n",
       "       '400мл', '550мл', '0.8л', '1,0 л', '0,4л', '0,8 л', '16 кг',\n",
       "       '5.6 кг', '0,6 кг', '0.5 л', '0.55 л', '50,5л', '50,10л', '11,5л',\n",
       "       '11,10л', '2л', '750мл', '50,1л', '10,10л', '0,4кг', '0,25л',\n",
       "       '0,9л', '5,5л', '0,8л', '550 мл', '0,75 л', '0,25 л', '1,5 кг',\n",
       "       '0,4 л', '0.4 л', '65 л', '30л', '2,7л', '6 кг', '9л', '0.9л',\n",
       "       '2.7л', '0.5л', '5кг', '1.5 кг', '0,9 л', '65л', '250 мл', '1.0 л',\n",
       "       '3кг', '15кг', '210мл', '16кг', '9.9 кг', '5.3 кг', '1,1 кг',\n",
       "       '19,9 кг', '9 л', '900 мл', '100 мл', '50 мл', '400 г', '0,4 кг',\n",
       "       '400г', '0.4л', '0.8 л', '1.3кг', '15 мл', '0.25 л', '0.9 л',\n",
       "       '0.90 л', '1.1 кг', '5,6 кг'], dtype=object)"
      ]
     },
     "execution_count": 65,
     "metadata": {},
     "output_type": "execute_result"
    }
   ],
   "source": [
    "dataframe_final[\"product_mera\"].unique()"
   ]
  },
  {
   "cell_type": "code",
   "execution_count": 66,
   "id": "70d04ba2",
   "metadata": {
    "colab": {
     "base_uri": "https://localhost:8080/"
    },
    "id": "70d04ba2",
    "outputId": "6c712d3d-b88f-4c11-e864-df82b092257a"
   },
   "outputs": [
    {
     "data": {
      "text/plain": [
       "array(['0,75 л', '5 л', '1 л', '0,8 л', '3 л', '0,5 л', '10 кг', '210мл',\n",
       "       '5 кг', '0,5л', '2 л', '10 л', '20 л', '3 кг', '12 кг', '0,4 л',\n",
       "       '0,9 л', '15 кг', '30 л', '1 кг', '2,7 л', '0,25 л', '1,4 кг',\n",
       "       '65 л', '6 кг', '20л', '600мл', '0,55 л', '400мл', '9 л', '7 кг',\n",
       "       '0,6 л', '600 мл', '1,3 кг', '16 кг', '14 кг', '0,9л', '1,5 кг',\n",
       "       '65 кг', '30л', '20 кг', '0.9 л', '0,1 л', '0,05 л', '2,5 кг'],\n",
       "      dtype=object)"
      ]
     },
     "execution_count": 66,
     "metadata": {},
     "output_type": "execute_result"
    }
   ],
   "source": [
    "dataframe_final[\"mera\"].unique()"
   ]
  },
  {
   "cell_type": "markdown",
   "id": "KIHT2SQa8exJ",
   "metadata": {
    "id": "KIHT2SQa8exJ"
   },
   "source": [
    "Когда все меры найдены, разделим символьные значения с числовыми. Т.е. было в одном столбце 10 л, а стент 10 в одном столбце и л во втором. Для этого написали функции find_letters и find_numbers"
   ]
  },
  {
   "cell_type": "markdown",
   "id": "TSwuufsG9DJs",
   "metadata": {
    "id": "TSwuufsG9DJs"
   },
   "source": [
    "**Выделяем меру объема / веса в отдельный столбец **"
   ]
  },
  {
   "cell_type": "code",
   "execution_count": 67,
   "id": "fb6df59e",
   "metadata": {
    "id": "fb6df59e"
   },
   "outputs": [],
   "source": [
    "def find_letters(text):\n",
    "    \"\"\"\n",
    "    Выделение метрики измерения после обработки текста функцией add_metering\n",
    "    \"\"\"\n",
    "    try:\n",
    "        return \" \".join(re.findall(r'[A-Za-zА-Яа-я]+', text))\n",
    "    except:\n",
    "        return \"not\""
   ]
  },
  {
   "cell_type": "code",
   "execution_count": 68,
   "id": "3bc1c930",
   "metadata": {
    "id": "3bc1c930"
   },
   "outputs": [],
   "source": [
    "dataframe_final[\"product_mera_let\"] = dataframe_final[\"product_mera\"].apply(find_letters)"
   ]
  },
  {
   "cell_type": "code",
   "execution_count": 69,
   "id": "ace15d43",
   "metadata": {
    "id": "ace15d43"
   },
   "outputs": [],
   "source": [
    "dataframe_final[\"mera_let\"] = dataframe_final[\"mera\"].apply(find_letters)"
   ]
  },
  {
   "cell_type": "code",
   "execution_count": 70,
   "id": "b3e73e83",
   "metadata": {
    "colab": {
     "base_uri": "https://localhost:8080/",
     "height": 164
    },
    "id": "b3e73e83",
    "outputId": "37de4fd9-90e9-4f4a-c93b-fa2ddb7c19a0"
   },
   "outputs": [
    {
     "data": {
      "text/html": [
       "<div>\n",
       "<style scoped>\n",
       "    .dataframe tbody tr th:only-of-type {\n",
       "        vertical-align: middle;\n",
       "    }\n",
       "\n",
       "    .dataframe tbody tr th {\n",
       "        vertical-align: top;\n",
       "    }\n",
       "\n",
       "    .dataframe thead th {\n",
       "        text-align: right;\n",
       "    }\n",
       "</style>\n",
       "<table border=\"1\" class=\"dataframe\">\n",
       "  <thead>\n",
       "    <tr style=\"text-align: right;\">\n",
       "      <th></th>\n",
       "      <th>dealer_id</th>\n",
       "      <th>product_id</th>\n",
       "      <th>product_name</th>\n",
       "      <th>name</th>\n",
       "      <th>match</th>\n",
       "      <th>product_mera</th>\n",
       "      <th>mera</th>\n",
       "      <th>product_mera_let</th>\n",
       "      <th>mera_let</th>\n",
       "    </tr>\n",
       "  </thead>\n",
       "  <tbody>\n",
       "    <tr>\n",
       "      <th>0</th>\n",
       "      <td>13.0</td>\n",
       "      <td>46</td>\n",
       "      <td>спрей prosept cooky spray для столешниц и рако...</td>\n",
       "      <td>средство для уборки и дезинфекции санитарных к...</td>\n",
       "      <td>0</td>\n",
       "      <td>500 мл</td>\n",
       "      <td>0,75 л</td>\n",
       "      <td>мл</td>\n",
       "      <td>л</td>\n",
       "    </tr>\n",
       "    <tr>\n",
       "      <th>1</th>\n",
       "      <td>15.0</td>\n",
       "      <td>172</td>\n",
       "      <td>огнебиозащитадлядревесины proseptогнебиоprofii...</td>\n",
       "      <td>жидкое гель-мыло с перламутром. без цвета, без...</td>\n",
       "      <td>0</td>\n",
       "      <td>10л</td>\n",
       "      <td>5 л</td>\n",
       "      <td>л</td>\n",
       "      <td>л</td>\n",
       "    </tr>\n",
       "  </tbody>\n",
       "</table>\n",
       "</div>"
      ],
      "text/plain": [
       "   dealer_id  product_id                                       product_name  \\\n",
       "0       13.0          46  спрей prosept cooky spray для столешниц и рако...   \n",
       "1       15.0         172  огнебиозащитадлядревесины proseptогнебиоprofii...   \n",
       "\n",
       "                                                name  match product_mera  \\\n",
       "0  средство для уборки и дезинфекции санитарных к...      0       500 мл   \n",
       "1  жидкое гель-мыло с перламутром. без цвета, без...      0          10л   \n",
       "\n",
       "     mera product_mera_let mera_let  \n",
       "0  0,75 л               мл        л  \n",
       "1     5 л                л        л  "
      ]
     },
     "execution_count": 70,
     "metadata": {},
     "output_type": "execute_result"
    }
   ],
   "source": [
    "dataframe_final[:2]"
   ]
  },
  {
   "cell_type": "code",
   "execution_count": 71,
   "id": "d0698318",
   "metadata": {
    "colab": {
     "base_uri": "https://localhost:8080/"
    },
    "id": "d0698318",
    "outputId": "1166df74-7aa6-43f4-d480-6d7e10641c10"
   },
   "outputs": [
    {
     "data": {
      "text/plain": [
       "array(['мл', 'л', 'not', 'кг', 'г'], dtype=object)"
      ]
     },
     "execution_count": 71,
     "metadata": {},
     "output_type": "execute_result"
    }
   ],
   "source": [
    "dataframe_final[\"product_mera_let\"].unique()"
   ]
  },
  {
   "cell_type": "code",
   "execution_count": 72,
   "id": "7903fac6",
   "metadata": {
    "colab": {
     "base_uri": "https://localhost:8080/"
    },
    "id": "7903fac6",
    "outputId": "ae269072-8f6c-4dbc-fb1c-e4246ea2d991"
   },
   "outputs": [
    {
     "data": {
      "text/plain": [
       "array(['л', 'кг', 'мл'], dtype=object)"
      ]
     },
     "execution_count": 72,
     "metadata": {},
     "output_type": "execute_result"
    }
   ],
   "source": [
    "dataframe_final[\"mera_let\"].unique()"
   ]
  },
  {
   "cell_type": "markdown",
   "id": "Kltxh2Na9Qr4",
   "metadata": {
    "id": "Kltxh2Na9Qr4"
   },
   "source": [
    "**Выделяем значение объема / веса в отдельный столбец **"
   ]
  },
  {
   "cell_type": "code",
   "execution_count": 73,
   "id": "4686c631",
   "metadata": {
    "id": "4686c631"
   },
   "outputs": [],
   "source": [
    "def find_numbers(text):\n",
    "    \"\"\"\n",
    "    Выделение числа после обработки текста функцией add_metering\n",
    "    \"\"\"\n",
    "    try:\n",
    "        numbers = \" \".join(re.findall(r'[-+]?(\\d+[\\.,]\\d+|\\d+)', text))\n",
    "        return numbers.replace(\",\", \".\")\n",
    "    except:\n",
    "        return 0"
   ]
  },
  {
   "cell_type": "code",
   "execution_count": 74,
   "id": "a270161b",
   "metadata": {
    "id": "a270161b"
   },
   "outputs": [],
   "source": [
    "dataframe_final[\"product_mera_num\"] = dataframe_final[\"product_mera\"].apply(find_numbers)"
   ]
  },
  {
   "cell_type": "code",
   "execution_count": 75,
   "id": "56ae9528",
   "metadata": {
    "id": "56ae9528"
   },
   "outputs": [],
   "source": [
    "dataframe_final[\"mera_num\"] = dataframe_final[\"mera\"].apply(find_numbers)"
   ]
  },
  {
   "cell_type": "code",
   "execution_count": 76,
   "id": "bc0a4821",
   "metadata": {
    "colab": {
     "base_uri": "https://localhost:8080/",
     "height": 271
    },
    "id": "bc0a4821",
    "outputId": "d3276952-4882-4eb5-b259-834f98340834"
   },
   "outputs": [
    {
     "data": {
      "text/html": [
       "<div>\n",
       "<style scoped>\n",
       "    .dataframe tbody tr th:only-of-type {\n",
       "        vertical-align: middle;\n",
       "    }\n",
       "\n",
       "    .dataframe tbody tr th {\n",
       "        vertical-align: top;\n",
       "    }\n",
       "\n",
       "    .dataframe thead th {\n",
       "        text-align: right;\n",
       "    }\n",
       "</style>\n",
       "<table border=\"1\" class=\"dataframe\">\n",
       "  <thead>\n",
       "    <tr style=\"text-align: right;\">\n",
       "      <th></th>\n",
       "      <th>dealer_id</th>\n",
       "      <th>product_id</th>\n",
       "      <th>product_name</th>\n",
       "      <th>name</th>\n",
       "      <th>match</th>\n",
       "      <th>product_mera</th>\n",
       "      <th>mera</th>\n",
       "      <th>product_mera_let</th>\n",
       "      <th>mera_let</th>\n",
       "      <th>product_mera_num</th>\n",
       "      <th>mera_num</th>\n",
       "    </tr>\n",
       "  </thead>\n",
       "  <tbody>\n",
       "    <tr>\n",
       "      <th>0</th>\n",
       "      <td>13.0</td>\n",
       "      <td>46</td>\n",
       "      <td>спрей prosept cooky spray для столешниц и рако...</td>\n",
       "      <td>средство для уборки и дезинфекции санитарных к...</td>\n",
       "      <td>0</td>\n",
       "      <td>500 мл</td>\n",
       "      <td>0,75 л</td>\n",
       "      <td>мл</td>\n",
       "      <td>л</td>\n",
       "      <td>500</td>\n",
       "      <td>0.75</td>\n",
       "    </tr>\n",
       "    <tr>\n",
       "      <th>1</th>\n",
       "      <td>15.0</td>\n",
       "      <td>172</td>\n",
       "      <td>огнебиозащитадлядревесины proseptогнебиоprofii...</td>\n",
       "      <td>жидкое гель-мыло с перламутром. без цвета, без...</td>\n",
       "      <td>0</td>\n",
       "      <td>10л</td>\n",
       "      <td>5 л</td>\n",
       "      <td>л</td>\n",
       "      <td>л</td>\n",
       "      <td>10</td>\n",
       "      <td>5</td>\n",
       "    </tr>\n",
       "  </tbody>\n",
       "</table>\n",
       "</div>"
      ],
      "text/plain": [
       "   dealer_id  product_id                                       product_name  \\\n",
       "0       13.0          46  спрей prosept cooky spray для столешниц и рако...   \n",
       "1       15.0         172  огнебиозащитадлядревесины proseptогнебиоprofii...   \n",
       "\n",
       "                                                name  match product_mera  \\\n",
       "0  средство для уборки и дезинфекции санитарных к...      0       500 мл   \n",
       "1  жидкое гель-мыло с перламутром. без цвета, без...      0          10л   \n",
       "\n",
       "     mera product_mera_let mera_let product_mera_num mera_num  \n",
       "0  0,75 л               мл        л              500     0.75  \n",
       "1     5 л                л        л               10        5  "
      ]
     },
     "execution_count": 76,
     "metadata": {},
     "output_type": "execute_result"
    }
   ],
   "source": [
    "dataframe_final[:2]"
   ]
  },
  {
   "cell_type": "code",
   "execution_count": 77,
   "id": "53349543",
   "metadata": {
    "colab": {
     "base_uri": "https://localhost:8080/"
    },
    "id": "53349543",
    "outputId": "5f1ea6e1-184b-4549-f98b-37980266abe3"
   },
   "outputs": [
    {
     "data": {
      "text/plain": [
       "array(['500', '10', 0, '14', '5', '30', '800', '1', '0.6', '3', '1.3',\n",
       "       '1.4', '210', '2.5', '0.5', '7', '0.25', '20', '0.75', '750',\n",
       "       '600', '12', '220', '33', '200', '2.7', '400', '15', '65', '2',\n",
       "       '1.5', '250', '550', '0.8', '1.0', '0.4', '16', '5.6', '0.55',\n",
       "       '50.5', '50.10', '11.5', '11.10', '50.1', '10.10', '0.9', '5.5',\n",
       "       '6', '9', '9.9', '5.3', '1.1', '19.9', '900', '100', '50', '0.90'],\n",
       "      dtype=object)"
      ]
     },
     "execution_count": 77,
     "metadata": {},
     "output_type": "execute_result"
    }
   ],
   "source": [
    "dataframe_final[\"product_mera_num\"].unique()"
   ]
  },
  {
   "cell_type": "code",
   "execution_count": 78,
   "id": "74653a04",
   "metadata": {
    "colab": {
     "base_uri": "https://localhost:8080/"
    },
    "id": "74653a04",
    "outputId": "401b9763-5e4c-47f5-ed45-abbd8bbca61a"
   },
   "outputs": [
    {
     "data": {
      "text/plain": [
       "array(['0.75', '5', '1', '0.8', '3', '0.5', '10', '210', '2', '20', '12',\n",
       "       '0.4', '0.9', '15', '30', '2.7', '0.25', '1.4', '65', '6', '600',\n",
       "       '0.55', '400', '9', '7', '0.6', '1.3', '16', '14', '1.5', '0.1',\n",
       "       '0.05', '2.5'], dtype=object)"
      ]
     },
     "execution_count": 78,
     "metadata": {},
     "output_type": "execute_result"
    }
   ],
   "source": [
    "dataframe_final[\"mera_num\"].unique()"
   ]
  },
  {
   "cell_type": "code",
   "execution_count": 79,
   "id": "36101305",
   "metadata": {
    "id": "36101305"
   },
   "outputs": [],
   "source": [
    "dataframe_final = dataframe_final.drop([\"product_mera\", \"mera\"], axis=1)"
   ]
  },
  {
   "cell_type": "code",
   "execution_count": 80,
   "id": "0c09846d",
   "metadata": {
    "colab": {
     "base_uri": "https://localhost:8080/",
     "height": 182
    },
    "id": "0c09846d",
    "outputId": "5a4214f3-01fd-4533-b21e-aa1a676c6071"
   },
   "outputs": [
    {
     "data": {
      "text/html": [
       "<div>\n",
       "<style scoped>\n",
       "    .dataframe tbody tr th:only-of-type {\n",
       "        vertical-align: middle;\n",
       "    }\n",
       "\n",
       "    .dataframe tbody tr th {\n",
       "        vertical-align: top;\n",
       "    }\n",
       "\n",
       "    .dataframe thead th {\n",
       "        text-align: right;\n",
       "    }\n",
       "</style>\n",
       "<table border=\"1\" class=\"dataframe\">\n",
       "  <thead>\n",
       "    <tr style=\"text-align: right;\">\n",
       "      <th></th>\n",
       "      <th>dealer_id</th>\n",
       "      <th>product_id</th>\n",
       "      <th>product_name</th>\n",
       "      <th>name</th>\n",
       "      <th>match</th>\n",
       "      <th>product_mera_let</th>\n",
       "      <th>mera_let</th>\n",
       "      <th>product_mera_num</th>\n",
       "      <th>mera_num</th>\n",
       "    </tr>\n",
       "  </thead>\n",
       "  <tbody>\n",
       "    <tr>\n",
       "      <th>0</th>\n",
       "      <td>13.0</td>\n",
       "      <td>46</td>\n",
       "      <td>спрей prosept cooky spray для столешниц и рако...</td>\n",
       "      <td>средство для уборки и дезинфекции санитарных к...</td>\n",
       "      <td>0</td>\n",
       "      <td>мл</td>\n",
       "      <td>л</td>\n",
       "      <td>500</td>\n",
       "      <td>0.75</td>\n",
       "    </tr>\n",
       "    <tr>\n",
       "      <th>1</th>\n",
       "      <td>15.0</td>\n",
       "      <td>172</td>\n",
       "      <td>огнебиозащитадлядревесины proseptогнебиоprofii...</td>\n",
       "      <td>жидкое гель-мыло с перламутром. без цвета, без...</td>\n",
       "      <td>0</td>\n",
       "      <td>л</td>\n",
       "      <td>л</td>\n",
       "      <td>10</td>\n",
       "      <td>5</td>\n",
       "    </tr>\n",
       "  </tbody>\n",
       "</table>\n",
       "</div>"
      ],
      "text/plain": [
       "   dealer_id  product_id                                       product_name  \\\n",
       "0       13.0          46  спрей prosept cooky spray для столешниц и рако...   \n",
       "1       15.0         172  огнебиозащитадлядревесины proseptогнебиоprofii...   \n",
       "\n",
       "                                                name  match product_mera_let  \\\n",
       "0  средство для уборки и дезинфекции санитарных к...      0               мл   \n",
       "1  жидкое гель-мыло с перламутром. без цвета, без...      0                л   \n",
       "\n",
       "  mera_let product_mera_num mera_num  \n",
       "0        л              500     0.75  \n",
       "1        л               10        5  "
      ]
     },
     "execution_count": 80,
     "metadata": {},
     "output_type": "execute_result"
    }
   ],
   "source": [
    "dataframe_final[:2]"
   ]
  },
  {
   "cell_type": "markdown",
   "id": "bgA1WQgF9aRg",
   "metadata": {
    "id": "bgA1WQgF9aRg"
   },
   "source": [
    "Получили желаемый результат, теперь необходимо числовые значения привести к одному порядку. Все приведем  к кг и литрам"
   ]
  },
  {
   "cell_type": "code",
   "execution_count": 81,
   "id": "1c924dc3",
   "metadata": {
    "colab": {
     "base_uri": "https://localhost:8080/"
    },
    "id": "1c924dc3",
    "outputId": "98f68d55-33b5-4ccf-c1a8-25ec79121a89"
   },
   "outputs": [
    {
     "name": "stdout",
     "output_type": "stream",
     "text": [
      "<class 'pandas.core.frame.DataFrame'>\n",
      "RangeIndex: 2055 entries, 0 to 2054\n",
      "Data columns (total 9 columns):\n",
      " #   Column            Non-Null Count  Dtype  \n",
      "---  ------            --------------  -----  \n",
      " 0   dealer_id         2055 non-null   float64\n",
      " 1   product_id        2055 non-null   int32  \n",
      " 2   product_name      2055 non-null   object \n",
      " 3   name              2055 non-null   object \n",
      " 4   match             2055 non-null   int32  \n",
      " 5   product_mera_let  2055 non-null   object \n",
      " 6   mera_let          2055 non-null   object \n",
      " 7   product_mera_num  2055 non-null   object \n",
      " 8   mera_num          2055 non-null   object \n",
      "dtypes: float64(1), int32(2), object(6)\n",
      "memory usage: 128.6+ KB\n"
     ]
    }
   ],
   "source": [
    "dataframe_final.info()"
   ]
  },
  {
   "cell_type": "code",
   "execution_count": 82,
   "id": "8d837313",
   "metadata": {
    "id": "8d837313"
   },
   "outputs": [],
   "source": [
    "dataframe_final[\"product_mera_num\"] = dataframe_final[\"product_mera_num\"].astype(float)\n",
    "dataframe_final[\"mera_num\"] = dataframe_final[\"mera_num\"].astype(float)"
   ]
  },
  {
   "cell_type": "code",
   "execution_count": 83,
   "id": "590c2cb6",
   "metadata": {
    "colab": {
     "base_uri": "https://localhost:8080/",
     "height": 754
    },
    "id": "590c2cb6",
    "outputId": "9f93928f-c253-42c2-a7cd-cec7f20fd44f"
   },
   "outputs": [
    {
     "data": {
      "text/html": [
       "<div>\n",
       "<style scoped>\n",
       "    .dataframe tbody tr th:only-of-type {\n",
       "        vertical-align: middle;\n",
       "    }\n",
       "\n",
       "    .dataframe tbody tr th {\n",
       "        vertical-align: top;\n",
       "    }\n",
       "\n",
       "    .dataframe thead th {\n",
       "        text-align: right;\n",
       "    }\n",
       "</style>\n",
       "<table border=\"1\" class=\"dataframe\">\n",
       "  <thead>\n",
       "    <tr style=\"text-align: right;\">\n",
       "      <th></th>\n",
       "      <th>dealer_id</th>\n",
       "      <th>product_id</th>\n",
       "      <th>product_name</th>\n",
       "      <th>name</th>\n",
       "      <th>match</th>\n",
       "      <th>product_mera_let</th>\n",
       "      <th>mera_let</th>\n",
       "      <th>product_mera_num</th>\n",
       "      <th>mera_num</th>\n",
       "    </tr>\n",
       "  </thead>\n",
       "  <tbody>\n",
       "    <tr>\n",
       "      <th>0</th>\n",
       "      <td>13.0</td>\n",
       "      <td>46</td>\n",
       "      <td>спрей prosept cooky spray для столешниц и рако...</td>\n",
       "      <td>средство для уборки и дезинфекции санитарных к...</td>\n",
       "      <td>0</td>\n",
       "      <td>мл</td>\n",
       "      <td>л</td>\n",
       "      <td>500.0</td>\n",
       "      <td>0.75</td>\n",
       "    </tr>\n",
       "    <tr>\n",
       "      <th>1</th>\n",
       "      <td>15.0</td>\n",
       "      <td>172</td>\n",
       "      <td>огнебиозащитадлядревесины proseptогнебиоprofii...</td>\n",
       "      <td>жидкое гель-мыло с перламутром. без цвета, без...</td>\n",
       "      <td>0</td>\n",
       "      <td>л</td>\n",
       "      <td>л</td>\n",
       "      <td>10.0</td>\n",
       "      <td>5.00</td>\n",
       "    </tr>\n",
       "    <tr>\n",
       "      <th>2</th>\n",
       "      <td>12.0</td>\n",
       "      <td>401</td>\n",
       "      <td>чистящее средство universal hard спрей для очи...</td>\n",
       "      <td>удалитель цемента cement cleaner концентрат 1:...</td>\n",
       "      <td>0</td>\n",
       "      <td>not</td>\n",
       "      <td>л</td>\n",
       "      <td>0.0</td>\n",
       "      <td>1.00</td>\n",
       "    </tr>\n",
       "    <tr>\n",
       "      <th>3</th>\n",
       "      <td>3.0</td>\n",
       "      <td>105</td>\n",
       "      <td>средство для удаления ржавчины bath acid с аро...</td>\n",
       "      <td>ополаскиватель для посудомоечных машин всех ти...</td>\n",
       "      <td>0</td>\n",
       "      <td>not</td>\n",
       "      <td>л</td>\n",
       "      <td>0.0</td>\n",
       "      <td>0.80</td>\n",
       "    </tr>\n",
       "    <tr>\n",
       "      <th>4</th>\n",
       "      <td>3.0</td>\n",
       "      <td>161</td>\n",
       "      <td>средство для мытья полов multipower \"после дож...</td>\n",
       "      <td>жидкое моющее средство для стирки шерсти, шелк...</td>\n",
       "      <td>0</td>\n",
       "      <td>not</td>\n",
       "      <td>л</td>\n",
       "      <td>0.0</td>\n",
       "      <td>3.00</td>\n",
       "    </tr>\n",
       "    <tr>\n",
       "      <th>...</th>\n",
       "      <td>...</td>\n",
       "      <td>...</td>\n",
       "      <td>...</td>\n",
       "      <td>...</td>\n",
       "      <td>...</td>\n",
       "      <td>...</td>\n",
       "      <td>...</td>\n",
       "      <td>...</td>\n",
       "      <td>...</td>\n",
       "    </tr>\n",
       "    <tr>\n",
       "      <th>2050</th>\n",
       "      <td>18.0</td>\n",
       "      <td>258</td>\n",
       "      <td>строительный антисептик  prosept антисептик дл...</td>\n",
       "      <td>антисептик для внутренних работ prosept interi...</td>\n",
       "      <td>1</td>\n",
       "      <td>л</td>\n",
       "      <td>л</td>\n",
       "      <td>5.0</td>\n",
       "      <td>5.00</td>\n",
       "    </tr>\n",
       "    <tr>\n",
       "      <th>2051</th>\n",
       "      <td>18.0</td>\n",
       "      <td>299</td>\n",
       "      <td>огнебиозащита профессиональная для древесины p...</td>\n",
       "      <td>огнебиозащита огнебио prof 2 группа, красный г...</td>\n",
       "      <td>1</td>\n",
       "      <td>л</td>\n",
       "      <td>л</td>\n",
       "      <td>20.0</td>\n",
       "      <td>20.00</td>\n",
       "    </tr>\n",
       "    <tr>\n",
       "      <th>2052</th>\n",
       "      <td>18.0</td>\n",
       "      <td>452</td>\n",
       "      <td>огнебиозащита для древесины prosept 2 группа, ...</td>\n",
       "      <td>огнебиозащита для древесины 2 группа, красный ...</td>\n",
       "      <td>1</td>\n",
       "      <td>л</td>\n",
       "      <td>кг</td>\n",
       "      <td>10.0</td>\n",
       "      <td>10.00</td>\n",
       "    </tr>\n",
       "    <tr>\n",
       "      <th>2053</th>\n",
       "      <td>18.0</td>\n",
       "      <td>416</td>\n",
       "      <td>антисептик многофункциональный фбс, гост 5 л</td>\n",
       "      <td>антисептик многофункциональный фбс, гост / 5 л</td>\n",
       "      <td>1</td>\n",
       "      <td>л</td>\n",
       "      <td>л</td>\n",
       "      <td>5.0</td>\n",
       "      <td>5.00</td>\n",
       "    </tr>\n",
       "    <tr>\n",
       "      <th>2054</th>\n",
       "      <td>18.0</td>\n",
       "      <td>405</td>\n",
       "      <td>средство для удаления ржавчины prosept, 1 шт</td>\n",
       "      <td>удалитель ржавчины rust remover концентрат  1:...</td>\n",
       "      <td>1</td>\n",
       "      <td>not</td>\n",
       "      <td>л</td>\n",
       "      <td>0.0</td>\n",
       "      <td>5.00</td>\n",
       "    </tr>\n",
       "  </tbody>\n",
       "</table>\n",
       "<p>2055 rows × 9 columns</p>\n",
       "</div>"
      ],
      "text/plain": [
       "      dealer_id  product_id  \\\n",
       "0          13.0          46   \n",
       "1          15.0         172   \n",
       "2          12.0         401   \n",
       "3           3.0         105   \n",
       "4           3.0         161   \n",
       "...         ...         ...   \n",
       "2050       18.0         258   \n",
       "2051       18.0         299   \n",
       "2052       18.0         452   \n",
       "2053       18.0         416   \n",
       "2054       18.0         405   \n",
       "\n",
       "                                           product_name  \\\n",
       "0     спрей prosept cooky spray для столешниц и рако...   \n",
       "1     огнебиозащитадлядревесины proseptогнебиоprofii...   \n",
       "2     чистящее средство universal hard спрей для очи...   \n",
       "3     средство для удаления ржавчины bath acid с аро...   \n",
       "4     средство для мытья полов multipower \"после дож...   \n",
       "...                                                 ...   \n",
       "2050  строительный антисептик  prosept антисептик дл...   \n",
       "2051  огнебиозащита профессиональная для древесины p...   \n",
       "2052  огнебиозащита для древесины prosept 2 группа, ...   \n",
       "2053       антисептик многофункциональный фбс, гост 5 л   \n",
       "2054       средство для удаления ржавчины prosept, 1 шт   \n",
       "\n",
       "                                                   name  match  \\\n",
       "0     средство для уборки и дезинфекции санитарных к...      0   \n",
       "1     жидкое гель-мыло с перламутром. без цвета, без...      0   \n",
       "2     удалитель цемента cement cleaner концентрат 1:...      0   \n",
       "3     ополаскиватель для посудомоечных машин всех ти...      0   \n",
       "4     жидкое моющее средство для стирки шерсти, шелк...      0   \n",
       "...                                                 ...    ...   \n",
       "2050  антисептик для внутренних работ prosept interi...      1   \n",
       "2051  огнебиозащита огнебио prof 2 группа, красный г...      1   \n",
       "2052  огнебиозащита для древесины 2 группа, красный ...      1   \n",
       "2053     антисептик многофункциональный фбс, гост / 5 л      1   \n",
       "2054  удалитель ржавчины rust remover концентрат  1:...      1   \n",
       "\n",
       "     product_mera_let mera_let  product_mera_num  mera_num  \n",
       "0                  мл        л             500.0      0.75  \n",
       "1                   л        л              10.0      5.00  \n",
       "2                 not        л               0.0      1.00  \n",
       "3                 not        л               0.0      0.80  \n",
       "4                 not        л               0.0      3.00  \n",
       "...               ...      ...               ...       ...  \n",
       "2050                л        л               5.0      5.00  \n",
       "2051                л        л              20.0     20.00  \n",
       "2052                л       кг              10.0     10.00  \n",
       "2053                л        л               5.0      5.00  \n",
       "2054              not        л               0.0      5.00  \n",
       "\n",
       "[2055 rows x 9 columns]"
      ]
     },
     "execution_count": 83,
     "metadata": {},
     "output_type": "execute_result"
    }
   ],
   "source": [
    "dataframe_final"
   ]
  },
  {
   "cell_type": "code",
   "execution_count": 84,
   "id": "6518cf0d",
   "metadata": {
    "id": "6518cf0d"
   },
   "outputs": [],
   "source": [
    "def convert_to_kg(product_mera_let, mera_let):\n",
    "    \"\"\"\n",
    "    граммы в кг, мл в литры\n",
    "    \"\"\"\n",
    "    return product_mera_let == \"г\" and mera_let == \"кг\" or product_mera_let == \"мл\" and mera_let == \"л\"\n",
    "\n",
    "def convert_to_g(product_mera_let, mera_let):\n",
    "    \"\"\"\n",
    "    кг в граммы, литры в мл\n",
    "    \"\"\"\n",
    "    return product_mera_let == \"кг\" and mera_let == \"г\" or product_mera_let == \"л\" and mera_let == \"мл\""
   ]
  },
  {
   "cell_type": "code",
   "execution_count": 85,
   "id": "958c3136",
   "metadata": {
    "id": "958c3136"
   },
   "outputs": [],
   "source": [
    "to_kg = dataframe_final.apply(lambda x: convert_to_kg(x[\"product_mera_let\"], x[\"mera_let\"]), axis=1)"
   ]
  },
  {
   "cell_type": "code",
   "execution_count": 86,
   "id": "c05f1ff3",
   "metadata": {
    "id": "c05f1ff3"
   },
   "outputs": [],
   "source": [
    "dataframe_final.loc[to_kg, \"product_mera_num\"] /= 1000"
   ]
  },
  {
   "cell_type": "code",
   "execution_count": 87,
   "id": "5fe82fa7",
   "metadata": {
    "colab": {
     "base_uri": "https://localhost:8080/",
     "height": 182
    },
    "id": "5fe82fa7",
    "outputId": "a70750c7-4487-45ba-c684-d185db6842f2"
   },
   "outputs": [
    {
     "data": {
      "text/html": [
       "<div>\n",
       "<style scoped>\n",
       "    .dataframe tbody tr th:only-of-type {\n",
       "        vertical-align: middle;\n",
       "    }\n",
       "\n",
       "    .dataframe tbody tr th {\n",
       "        vertical-align: top;\n",
       "    }\n",
       "\n",
       "    .dataframe thead th {\n",
       "        text-align: right;\n",
       "    }\n",
       "</style>\n",
       "<table border=\"1\" class=\"dataframe\">\n",
       "  <thead>\n",
       "    <tr style=\"text-align: right;\">\n",
       "      <th></th>\n",
       "      <th>dealer_id</th>\n",
       "      <th>product_id</th>\n",
       "      <th>product_name</th>\n",
       "      <th>name</th>\n",
       "      <th>match</th>\n",
       "      <th>product_mera_let</th>\n",
       "      <th>mera_let</th>\n",
       "      <th>product_mera_num</th>\n",
       "      <th>mera_num</th>\n",
       "    </tr>\n",
       "  </thead>\n",
       "  <tbody>\n",
       "    <tr>\n",
       "      <th>0</th>\n",
       "      <td>13.0</td>\n",
       "      <td>46</td>\n",
       "      <td>спрей prosept cooky spray для столешниц и рако...</td>\n",
       "      <td>средство для уборки и дезинфекции санитарных к...</td>\n",
       "      <td>0</td>\n",
       "      <td>мл</td>\n",
       "      <td>л</td>\n",
       "      <td>0.5</td>\n",
       "      <td>0.75</td>\n",
       "    </tr>\n",
       "    <tr>\n",
       "      <th>1</th>\n",
       "      <td>15.0</td>\n",
       "      <td>172</td>\n",
       "      <td>огнебиозащитадлядревесины proseptогнебиоprofii...</td>\n",
       "      <td>жидкое гель-мыло с перламутром. без цвета, без...</td>\n",
       "      <td>0</td>\n",
       "      <td>л</td>\n",
       "      <td>л</td>\n",
       "      <td>10.0</td>\n",
       "      <td>5.00</td>\n",
       "    </tr>\n",
       "  </tbody>\n",
       "</table>\n",
       "</div>"
      ],
      "text/plain": [
       "   dealer_id  product_id                                       product_name  \\\n",
       "0       13.0          46  спрей prosept cooky spray для столешниц и рако...   \n",
       "1       15.0         172  огнебиозащитадлядревесины proseptогнебиоprofii...   \n",
       "\n",
       "                                                name  match product_mera_let  \\\n",
       "0  средство для уборки и дезинфекции санитарных к...      0               мл   \n",
       "1  жидкое гель-мыло с перламутром. без цвета, без...      0                л   \n",
       "\n",
       "  mera_let  product_mera_num  mera_num  \n",
       "0        л               0.5      0.75  \n",
       "1        л              10.0      5.00  "
      ]
     },
     "execution_count": 87,
     "metadata": {},
     "output_type": "execute_result"
    }
   ],
   "source": [
    "dataframe_final[:2]"
   ]
  },
  {
   "cell_type": "code",
   "execution_count": 88,
   "id": "5574202c",
   "metadata": {
    "id": "5574202c"
   },
   "outputs": [],
   "source": [
    "to_g = dataframe_final.apply(lambda x: convert_to_g(x[\"product_mera_let\"], x[\"mera_let\"]), axis=1)"
   ]
  },
  {
   "cell_type": "code",
   "execution_count": 89,
   "id": "b2d27ad7",
   "metadata": {
    "id": "b2d27ad7"
   },
   "outputs": [],
   "source": [
    "dataframe_final.loc[to_g, \"product_mera_num\"] *= 1000"
   ]
  },
  {
   "cell_type": "code",
   "execution_count": 90,
   "id": "db4748cb",
   "metadata": {
    "colab": {
     "base_uri": "https://localhost:8080/",
     "height": 182
    },
    "id": "db4748cb",
    "outputId": "0debb94c-2437-491a-a55e-733ac765b2a9"
   },
   "outputs": [
    {
     "data": {
      "text/html": [
       "<div>\n",
       "<style scoped>\n",
       "    .dataframe tbody tr th:only-of-type {\n",
       "        vertical-align: middle;\n",
       "    }\n",
       "\n",
       "    .dataframe tbody tr th {\n",
       "        vertical-align: top;\n",
       "    }\n",
       "\n",
       "    .dataframe thead th {\n",
       "        text-align: right;\n",
       "    }\n",
       "</style>\n",
       "<table border=\"1\" class=\"dataframe\">\n",
       "  <thead>\n",
       "    <tr style=\"text-align: right;\">\n",
       "      <th></th>\n",
       "      <th>dealer_id</th>\n",
       "      <th>product_id</th>\n",
       "      <th>product_name</th>\n",
       "      <th>name</th>\n",
       "      <th>match</th>\n",
       "      <th>product_mera_let</th>\n",
       "      <th>mera_let</th>\n",
       "      <th>product_mera_num</th>\n",
       "      <th>mera_num</th>\n",
       "    </tr>\n",
       "  </thead>\n",
       "  <tbody>\n",
       "    <tr>\n",
       "      <th>0</th>\n",
       "      <td>13.0</td>\n",
       "      <td>46</td>\n",
       "      <td>спрей prosept cooky spray для столешниц и рако...</td>\n",
       "      <td>средство для уборки и дезинфекции санитарных к...</td>\n",
       "      <td>0</td>\n",
       "      <td>мл</td>\n",
       "      <td>л</td>\n",
       "      <td>0.5</td>\n",
       "      <td>0.75</td>\n",
       "    </tr>\n",
       "    <tr>\n",
       "      <th>1</th>\n",
       "      <td>15.0</td>\n",
       "      <td>172</td>\n",
       "      <td>огнебиозащитадлядревесины proseptогнебиоprofii...</td>\n",
       "      <td>жидкое гель-мыло с перламутром. без цвета, без...</td>\n",
       "      <td>0</td>\n",
       "      <td>л</td>\n",
       "      <td>л</td>\n",
       "      <td>10.0</td>\n",
       "      <td>5.00</td>\n",
       "    </tr>\n",
       "  </tbody>\n",
       "</table>\n",
       "</div>"
      ],
      "text/plain": [
       "   dealer_id  product_id                                       product_name  \\\n",
       "0       13.0          46  спрей prosept cooky spray для столешниц и рако...   \n",
       "1       15.0         172  огнебиозащитадлядревесины proseptогнебиоprofii...   \n",
       "\n",
       "                                                name  match product_mera_let  \\\n",
       "0  средство для уборки и дезинфекции санитарных к...      0               мл   \n",
       "1  жидкое гель-мыло с перламутром. без цвета, без...      0                л   \n",
       "\n",
       "  mera_let  product_mera_num  mera_num  \n",
       "0        л               0.5      0.75  \n",
       "1        л              10.0      5.00  "
      ]
     },
     "execution_count": 90,
     "metadata": {},
     "output_type": "execute_result"
    }
   ],
   "source": [
    "dataframe_final[:2]"
   ]
  },
  {
   "cell_type": "code",
   "execution_count": 91,
   "id": "5950fa01",
   "metadata": {
    "id": "5950fa01"
   },
   "outputs": [],
   "source": [
    "dataframe_final[\"let\"] = dataframe_final.product_mera_let == dataframe_final.mera_let"
   ]
  },
  {
   "cell_type": "code",
   "execution_count": 92,
   "id": "69eeae29",
   "metadata": {
    "id": "69eeae29"
   },
   "outputs": [],
   "source": [
    "dataframe_final.loc[to_kg, \"let\"] = True\n",
    "dataframe_final.loc[to_g, \"let\"] = True\n",
    "dataframe_final[\"let\"] = dataframe_final[\"let\"].astype(int)"
   ]
  },
  {
   "cell_type": "code",
   "execution_count": 93,
   "id": "2757a837",
   "metadata": {
    "colab": {
     "base_uri": "https://localhost:8080/",
     "height": 182
    },
    "id": "2757a837",
    "outputId": "2883a48f-d5f3-4f47-9807-f869390e8683"
   },
   "outputs": [
    {
     "data": {
      "text/html": [
       "<div>\n",
       "<style scoped>\n",
       "    .dataframe tbody tr th:only-of-type {\n",
       "        vertical-align: middle;\n",
       "    }\n",
       "\n",
       "    .dataframe tbody tr th {\n",
       "        vertical-align: top;\n",
       "    }\n",
       "\n",
       "    .dataframe thead th {\n",
       "        text-align: right;\n",
       "    }\n",
       "</style>\n",
       "<table border=\"1\" class=\"dataframe\">\n",
       "  <thead>\n",
       "    <tr style=\"text-align: right;\">\n",
       "      <th></th>\n",
       "      <th>dealer_id</th>\n",
       "      <th>product_id</th>\n",
       "      <th>product_name</th>\n",
       "      <th>name</th>\n",
       "      <th>match</th>\n",
       "      <th>product_mera_let</th>\n",
       "      <th>mera_let</th>\n",
       "      <th>product_mera_num</th>\n",
       "      <th>mera_num</th>\n",
       "      <th>let</th>\n",
       "    </tr>\n",
       "  </thead>\n",
       "  <tbody>\n",
       "    <tr>\n",
       "      <th>0</th>\n",
       "      <td>13.0</td>\n",
       "      <td>46</td>\n",
       "      <td>спрей prosept cooky spray для столешниц и рако...</td>\n",
       "      <td>средство для уборки и дезинфекции санитарных к...</td>\n",
       "      <td>0</td>\n",
       "      <td>мл</td>\n",
       "      <td>л</td>\n",
       "      <td>0.5</td>\n",
       "      <td>0.75</td>\n",
       "      <td>1</td>\n",
       "    </tr>\n",
       "    <tr>\n",
       "      <th>1</th>\n",
       "      <td>15.0</td>\n",
       "      <td>172</td>\n",
       "      <td>огнебиозащитадлядревесины proseptогнебиоprofii...</td>\n",
       "      <td>жидкое гель-мыло с перламутром. без цвета, без...</td>\n",
       "      <td>0</td>\n",
       "      <td>л</td>\n",
       "      <td>л</td>\n",
       "      <td>10.0</td>\n",
       "      <td>5.00</td>\n",
       "      <td>1</td>\n",
       "    </tr>\n",
       "  </tbody>\n",
       "</table>\n",
       "</div>"
      ],
      "text/plain": [
       "   dealer_id  product_id                                       product_name  \\\n",
       "0       13.0          46  спрей prosept cooky spray для столешниц и рако...   \n",
       "1       15.0         172  огнебиозащитадлядревесины proseptогнебиоprofii...   \n",
       "\n",
       "                                                name  match product_mera_let  \\\n",
       "0  средство для уборки и дезинфекции санитарных к...      0               мл   \n",
       "1  жидкое гель-мыло с перламутром. без цвета, без...      0                л   \n",
       "\n",
       "  mera_let  product_mera_num  mera_num  let  \n",
       "0        л               0.5      0.75    1  \n",
       "1        л              10.0      5.00    1  "
      ]
     },
     "execution_count": 93,
     "metadata": {},
     "output_type": "execute_result"
    }
   ],
   "source": [
    "dataframe_final[:2]"
   ]
  },
  {
   "cell_type": "markdown",
   "id": "_6L5WNDU-Fkv",
   "metadata": {
    "id": "_6L5WNDU-Fkv"
   },
   "source": [
    "Чтобы снизить корреляцию наших новых признаков с наименованием, удалим меры из названий товаров."
   ]
  },
  {
   "cell_type": "code",
   "execution_count": 94,
   "id": "c64668a9",
   "metadata": {
    "id": "c64668a9"
   },
   "outputs": [],
   "source": [
    "def replace_kg_and_g(text):\n",
    "    \"\"\"\n",
    "    Удаление метрики измерения и количества из названия\n",
    "    \"\"\"\n",
    "    try:\n",
    "        return re.sub(r'(\\d{1,}(?:[\\.,]\\d+)?\\s?(л|мл|кг|г))\\b', '', text).rstrip(' ,/')\n",
    "    except:\n",
    "        return text"
   ]
  },
  {
   "cell_type": "code",
   "execution_count": 95,
   "id": "cc6a30f6",
   "metadata": {
    "id": "cc6a30f6"
   },
   "outputs": [],
   "source": [
    "dataframe_final[\"product_name\"] = dataframe_final[\"product_name\"].apply(replace_kg_and_g)"
   ]
  },
  {
   "cell_type": "code",
   "execution_count": 96,
   "id": "c0f75d3c",
   "metadata": {
    "id": "c0f75d3c"
   },
   "outputs": [],
   "source": [
    "dataframe_final[\"name\"] = dataframe_final[\"name\"].apply(replace_kg_and_g)"
   ]
  },
  {
   "cell_type": "code",
   "execution_count": 97,
   "id": "e854e8a9",
   "metadata": {
    "colab": {
     "base_uri": "https://localhost:8080/",
     "height": 791
    },
    "id": "e854e8a9",
    "outputId": "ef7de61c-23a1-4413-fe0a-0393e4f78ee1"
   },
   "outputs": [
    {
     "data": {
      "text/html": [
       "<div>\n",
       "<style scoped>\n",
       "    .dataframe tbody tr th:only-of-type {\n",
       "        vertical-align: middle;\n",
       "    }\n",
       "\n",
       "    .dataframe tbody tr th {\n",
       "        vertical-align: top;\n",
       "    }\n",
       "\n",
       "    .dataframe thead th {\n",
       "        text-align: right;\n",
       "    }\n",
       "</style>\n",
       "<table border=\"1\" class=\"dataframe\">\n",
       "  <thead>\n",
       "    <tr style=\"text-align: right;\">\n",
       "      <th></th>\n",
       "      <th>dealer_id</th>\n",
       "      <th>product_id</th>\n",
       "      <th>product_name</th>\n",
       "      <th>name</th>\n",
       "      <th>match</th>\n",
       "      <th>product_mera_let</th>\n",
       "      <th>mera_let</th>\n",
       "      <th>product_mera_num</th>\n",
       "      <th>mera_num</th>\n",
       "      <th>let</th>\n",
       "    </tr>\n",
       "  </thead>\n",
       "  <tbody>\n",
       "    <tr>\n",
       "      <th>0</th>\n",
       "      <td>13.0</td>\n",
       "      <td>46</td>\n",
       "      <td>спрей prosept cooky spray для столешниц и рако...</td>\n",
       "      <td>средство для уборки и дезинфекции санитарных к...</td>\n",
       "      <td>0</td>\n",
       "      <td>мл</td>\n",
       "      <td>л</td>\n",
       "      <td>0.5</td>\n",
       "      <td>0.75</td>\n",
       "      <td>1</td>\n",
       "    </tr>\n",
       "    <tr>\n",
       "      <th>1</th>\n",
       "      <td>15.0</td>\n",
       "      <td>172</td>\n",
       "      <td>огнебиозащитадлядревесины proseptогнебиоprofii...</td>\n",
       "      <td>жидкое гель-мыло с перламутром. без цвета, без...</td>\n",
       "      <td>0</td>\n",
       "      <td>л</td>\n",
       "      <td>л</td>\n",
       "      <td>10.0</td>\n",
       "      <td>5.00</td>\n",
       "      <td>1</td>\n",
       "    </tr>\n",
       "    <tr>\n",
       "      <th>2</th>\n",
       "      <td>12.0</td>\n",
       "      <td>401</td>\n",
       "      <td>чистящее средство universal hard спрей для очи...</td>\n",
       "      <td>удалитель цемента cement cleaner концентрат 1:2</td>\n",
       "      <td>0</td>\n",
       "      <td>not</td>\n",
       "      <td>л</td>\n",
       "      <td>0.0</td>\n",
       "      <td>1.00</td>\n",
       "      <td>0</td>\n",
       "    </tr>\n",
       "    <tr>\n",
       "      <th>3</th>\n",
       "      <td>3.0</td>\n",
       "      <td>105</td>\n",
       "      <td>средство для удаления ржавчины bath acid с аро...</td>\n",
       "      <td>ополаскиватель для посудомоечных машин всех ти...</td>\n",
       "      <td>0</td>\n",
       "      <td>not</td>\n",
       "      <td>л</td>\n",
       "      <td>0.0</td>\n",
       "      <td>0.80</td>\n",
       "      <td>0</td>\n",
       "    </tr>\n",
       "    <tr>\n",
       "      <th>4</th>\n",
       "      <td>3.0</td>\n",
       "      <td>161</td>\n",
       "      <td>средство для мытья полов multipower \"после дож...</td>\n",
       "      <td>жидкое моющее средство для стирки шерсти, шелк...</td>\n",
       "      <td>0</td>\n",
       "      <td>not</td>\n",
       "      <td>л</td>\n",
       "      <td>0.0</td>\n",
       "      <td>3.00</td>\n",
       "      <td>0</td>\n",
       "    </tr>\n",
       "    <tr>\n",
       "      <th>...</th>\n",
       "      <td>...</td>\n",
       "      <td>...</td>\n",
       "      <td>...</td>\n",
       "      <td>...</td>\n",
       "      <td>...</td>\n",
       "      <td>...</td>\n",
       "      <td>...</td>\n",
       "      <td>...</td>\n",
       "      <td>...</td>\n",
       "      <td>...</td>\n",
       "    </tr>\n",
       "    <tr>\n",
       "      <th>2050</th>\n",
       "      <td>18.0</td>\n",
       "      <td>258</td>\n",
       "      <td>строительный антисептик  prosept антисептик дл...</td>\n",
       "      <td>антисептик для внутренних работ prosept interi...</td>\n",
       "      <td>1</td>\n",
       "      <td>л</td>\n",
       "      <td>л</td>\n",
       "      <td>5.0</td>\n",
       "      <td>5.00</td>\n",
       "      <td>1</td>\n",
       "    </tr>\n",
       "    <tr>\n",
       "      <th>2051</th>\n",
       "      <td>18.0</td>\n",
       "      <td>299</td>\n",
       "      <td>огнебиозащита профессиональная для древесины p...</td>\n",
       "      <td>огнебиозащита огнебио prof 2 группа, красный г...</td>\n",
       "      <td>1</td>\n",
       "      <td>л</td>\n",
       "      <td>л</td>\n",
       "      <td>20.0</td>\n",
       "      <td>20.00</td>\n",
       "      <td>1</td>\n",
       "    </tr>\n",
       "    <tr>\n",
       "      <th>2052</th>\n",
       "      <td>18.0</td>\n",
       "      <td>452</td>\n",
       "      <td>огнебиозащита для древесины prosept 2 группа, ...</td>\n",
       "      <td>огнебиозащита для древесины 2 группа, красный ...</td>\n",
       "      <td>1</td>\n",
       "      <td>л</td>\n",
       "      <td>кг</td>\n",
       "      <td>10.0</td>\n",
       "      <td>10.00</td>\n",
       "      <td>0</td>\n",
       "    </tr>\n",
       "    <tr>\n",
       "      <th>2053</th>\n",
       "      <td>18.0</td>\n",
       "      <td>416</td>\n",
       "      <td>антисептик многофункциональный фбс, гост</td>\n",
       "      <td>антисептик многофункциональный фбс, гост</td>\n",
       "      <td>1</td>\n",
       "      <td>л</td>\n",
       "      <td>л</td>\n",
       "      <td>5.0</td>\n",
       "      <td>5.00</td>\n",
       "      <td>1</td>\n",
       "    </tr>\n",
       "    <tr>\n",
       "      <th>2054</th>\n",
       "      <td>18.0</td>\n",
       "      <td>405</td>\n",
       "      <td>средство для удаления ржавчины prosept, 1 шт</td>\n",
       "      <td>удалитель ржавчины rust remover концентрат  1:2</td>\n",
       "      <td>1</td>\n",
       "      <td>not</td>\n",
       "      <td>л</td>\n",
       "      <td>0.0</td>\n",
       "      <td>5.00</td>\n",
       "      <td>0</td>\n",
       "    </tr>\n",
       "  </tbody>\n",
       "</table>\n",
       "<p>2055 rows × 10 columns</p>\n",
       "</div>"
      ],
      "text/plain": [
       "      dealer_id  product_id  \\\n",
       "0          13.0          46   \n",
       "1          15.0         172   \n",
       "2          12.0         401   \n",
       "3           3.0         105   \n",
       "4           3.0         161   \n",
       "...         ...         ...   \n",
       "2050       18.0         258   \n",
       "2051       18.0         299   \n",
       "2052       18.0         452   \n",
       "2053       18.0         416   \n",
       "2054       18.0         405   \n",
       "\n",
       "                                           product_name  \\\n",
       "0     спрей prosept cooky spray для столешниц и рако...   \n",
       "1     огнебиозащитадлядревесины proseptогнебиоprofii...   \n",
       "2     чистящее средство universal hard спрей для очи...   \n",
       "3     средство для удаления ржавчины bath acid с аро...   \n",
       "4     средство для мытья полов multipower \"после дож...   \n",
       "...                                                 ...   \n",
       "2050  строительный антисептик  prosept антисептик дл...   \n",
       "2051  огнебиозащита профессиональная для древесины p...   \n",
       "2052  огнебиозащита для древесины prosept 2 группа, ...   \n",
       "2053           антисептик многофункциональный фбс, гост   \n",
       "2054       средство для удаления ржавчины prosept, 1 шт   \n",
       "\n",
       "                                                   name  match  \\\n",
       "0     средство для уборки и дезинфекции санитарных к...      0   \n",
       "1     жидкое гель-мыло с перламутром. без цвета, без...      0   \n",
       "2       удалитель цемента cement cleaner концентрат 1:2      0   \n",
       "3     ополаскиватель для посудомоечных машин всех ти...      0   \n",
       "4     жидкое моющее средство для стирки шерсти, шелк...      0   \n",
       "...                                                 ...    ...   \n",
       "2050  антисептик для внутренних работ prosept interi...      1   \n",
       "2051  огнебиозащита огнебио prof 2 группа, красный г...      1   \n",
       "2052  огнебиозащита для древесины 2 группа, красный ...      1   \n",
       "2053           антисептик многофункциональный фбс, гост      1   \n",
       "2054    удалитель ржавчины rust remover концентрат  1:2      1   \n",
       "\n",
       "     product_mera_let mera_let  product_mera_num  mera_num  let  \n",
       "0                  мл        л               0.5      0.75    1  \n",
       "1                   л        л              10.0      5.00    1  \n",
       "2                 not        л               0.0      1.00    0  \n",
       "3                 not        л               0.0      0.80    0  \n",
       "4                 not        л               0.0      3.00    0  \n",
       "...               ...      ...               ...       ...  ...  \n",
       "2050                л        л               5.0      5.00    1  \n",
       "2051                л        л              20.0     20.00    1  \n",
       "2052                л       кг              10.0     10.00    0  \n",
       "2053                л        л               5.0      5.00    1  \n",
       "2054              not        л               0.0      5.00    0  \n",
       "\n",
       "[2055 rows x 10 columns]"
      ]
     },
     "execution_count": 97,
     "metadata": {},
     "output_type": "execute_result"
    }
   ],
   "source": [
    "dataframe_final"
   ]
  },
  {
   "cell_type": "markdown",
   "id": "W3HZKuCp-Tkj",
   "metadata": {
    "id": "W3HZKuCp-Tkj"
   },
   "source": [
    "Готово мы выделили наши первые признаки. Вес и объем товаров.  \n",
    "  \n",
    "Теперь добавим рассотяние левенштейна с помощью библиотеки fuzzywuzzy"
   ]
  },
  {
   "cell_type": "markdown",
   "id": "d61523a1",
   "metadata": {
    "id": "d61523a1"
   },
   "source": [
    "Добавление расстояния Левенштейна."
   ]
  },
  {
   "cell_type": "code",
   "execution_count": 98,
   "id": "d90d4276",
   "metadata": {
    "id": "d90d4276"
   },
   "outputs": [],
   "source": [
    "def fuzzywuzzy_name(dataframe):\n",
    "    \"\"\"\n",
    "    Функция для расчета расстояния Левенштейна\n",
    "    \"\"\"\n",
    "    return fuzz.token_set_ratio(dataframe[\"product_name\"], dataframe[\"name\"])"
   ]
  },
  {
   "cell_type": "code",
   "execution_count": 99,
   "id": "31cdf013",
   "metadata": {
    "id": "31cdf013"
   },
   "outputs": [],
   "source": [
    "dataframe_final[\"fuzz\"] = dataframe_final.apply(fuzzywuzzy_name, axis=1)"
   ]
  },
  {
   "cell_type": "code",
   "execution_count": 100,
   "id": "6f0edec3",
   "metadata": {
    "colab": {
     "base_uri": "https://localhost:8080/",
     "height": 791
    },
    "id": "6f0edec3",
    "outputId": "d003760c-8a9f-4c3a-b360-ca96dd28af23"
   },
   "outputs": [
    {
     "data": {
      "text/html": [
       "<div>\n",
       "<style scoped>\n",
       "    .dataframe tbody tr th:only-of-type {\n",
       "        vertical-align: middle;\n",
       "    }\n",
       "\n",
       "    .dataframe tbody tr th {\n",
       "        vertical-align: top;\n",
       "    }\n",
       "\n",
       "    .dataframe thead th {\n",
       "        text-align: right;\n",
       "    }\n",
       "</style>\n",
       "<table border=\"1\" class=\"dataframe\">\n",
       "  <thead>\n",
       "    <tr style=\"text-align: right;\">\n",
       "      <th></th>\n",
       "      <th>dealer_id</th>\n",
       "      <th>product_id</th>\n",
       "      <th>product_name</th>\n",
       "      <th>name</th>\n",
       "      <th>match</th>\n",
       "      <th>product_mera_let</th>\n",
       "      <th>mera_let</th>\n",
       "      <th>product_mera_num</th>\n",
       "      <th>mera_num</th>\n",
       "      <th>let</th>\n",
       "      <th>fuzz</th>\n",
       "    </tr>\n",
       "  </thead>\n",
       "  <tbody>\n",
       "    <tr>\n",
       "      <th>0</th>\n",
       "      <td>13.0</td>\n",
       "      <td>46</td>\n",
       "      <td>спрей prosept cooky spray для столешниц и рако...</td>\n",
       "      <td>средство для уборки и дезинфекции санитарных к...</td>\n",
       "      <td>0</td>\n",
       "      <td>мл</td>\n",
       "      <td>л</td>\n",
       "      <td>0.5</td>\n",
       "      <td>0.75</td>\n",
       "      <td>1</td>\n",
       "      <td>39</td>\n",
       "    </tr>\n",
       "    <tr>\n",
       "      <th>1</th>\n",
       "      <td>15.0</td>\n",
       "      <td>172</td>\n",
       "      <td>огнебиозащитадлядревесины proseptогнебиоprofii...</td>\n",
       "      <td>жидкое гель-мыло с перламутром. без цвета, без...</td>\n",
       "      <td>0</td>\n",
       "      <td>л</td>\n",
       "      <td>л</td>\n",
       "      <td>10.0</td>\n",
       "      <td>5.00</td>\n",
       "      <td>1</td>\n",
       "      <td>25</td>\n",
       "    </tr>\n",
       "    <tr>\n",
       "      <th>2</th>\n",
       "      <td>12.0</td>\n",
       "      <td>401</td>\n",
       "      <td>чистящее средство universal hard спрей для очи...</td>\n",
       "      <td>удалитель цемента cement cleaner концентрат 1:2</td>\n",
       "      <td>0</td>\n",
       "      <td>not</td>\n",
       "      <td>л</td>\n",
       "      <td>0.0</td>\n",
       "      <td>1.00</td>\n",
       "      <td>0</td>\n",
       "      <td>30</td>\n",
       "    </tr>\n",
       "    <tr>\n",
       "      <th>3</th>\n",
       "      <td>3.0</td>\n",
       "      <td>105</td>\n",
       "      <td>средство для удаления ржавчины bath acid с аро...</td>\n",
       "      <td>ополаскиватель для посудомоечных машин всех ти...</td>\n",
       "      <td>0</td>\n",
       "      <td>not</td>\n",
       "      <td>л</td>\n",
       "      <td>0.0</td>\n",
       "      <td>0.80</td>\n",
       "      <td>0</td>\n",
       "      <td>39</td>\n",
       "    </tr>\n",
       "    <tr>\n",
       "      <th>4</th>\n",
       "      <td>3.0</td>\n",
       "      <td>161</td>\n",
       "      <td>средство для мытья полов multipower \"после дож...</td>\n",
       "      <td>жидкое моющее средство для стирки шерсти, шелк...</td>\n",
       "      <td>0</td>\n",
       "      <td>not</td>\n",
       "      <td>л</td>\n",
       "      <td>0.0</td>\n",
       "      <td>3.00</td>\n",
       "      <td>0</td>\n",
       "      <td>41</td>\n",
       "    </tr>\n",
       "    <tr>\n",
       "      <th>...</th>\n",
       "      <td>...</td>\n",
       "      <td>...</td>\n",
       "      <td>...</td>\n",
       "      <td>...</td>\n",
       "      <td>...</td>\n",
       "      <td>...</td>\n",
       "      <td>...</td>\n",
       "      <td>...</td>\n",
       "      <td>...</td>\n",
       "      <td>...</td>\n",
       "      <td>...</td>\n",
       "    </tr>\n",
       "    <tr>\n",
       "      <th>2050</th>\n",
       "      <td>18.0</td>\n",
       "      <td>258</td>\n",
       "      <td>строительный антисептик  prosept антисептик дл...</td>\n",
       "      <td>антисептик для внутренних работ prosept interi...</td>\n",
       "      <td>1</td>\n",
       "      <td>л</td>\n",
       "      <td>л</td>\n",
       "      <td>5.0</td>\n",
       "      <td>5.00</td>\n",
       "      <td>1</td>\n",
       "      <td>100</td>\n",
       "    </tr>\n",
       "    <tr>\n",
       "      <th>2051</th>\n",
       "      <td>18.0</td>\n",
       "      <td>299</td>\n",
       "      <td>огнебиозащита профессиональная для древесины p...</td>\n",
       "      <td>огнебиозащита огнебио prof 2 группа, красный г...</td>\n",
       "      <td>1</td>\n",
       "      <td>л</td>\n",
       "      <td>л</td>\n",
       "      <td>20.0</td>\n",
       "      <td>20.00</td>\n",
       "      <td>1</td>\n",
       "      <td>100</td>\n",
       "    </tr>\n",
       "    <tr>\n",
       "      <th>2052</th>\n",
       "      <td>18.0</td>\n",
       "      <td>452</td>\n",
       "      <td>огнебиозащита для древесины prosept 2 группа, ...</td>\n",
       "      <td>огнебиозащита для древесины 2 группа, красный ...</td>\n",
       "      <td>1</td>\n",
       "      <td>л</td>\n",
       "      <td>кг</td>\n",
       "      <td>10.0</td>\n",
       "      <td>10.00</td>\n",
       "      <td>0</td>\n",
       "      <td>100</td>\n",
       "    </tr>\n",
       "    <tr>\n",
       "      <th>2053</th>\n",
       "      <td>18.0</td>\n",
       "      <td>416</td>\n",
       "      <td>антисептик многофункциональный фбс, гост</td>\n",
       "      <td>антисептик многофункциональный фбс, гост</td>\n",
       "      <td>1</td>\n",
       "      <td>л</td>\n",
       "      <td>л</td>\n",
       "      <td>5.0</td>\n",
       "      <td>5.00</td>\n",
       "      <td>1</td>\n",
       "      <td>100</td>\n",
       "    </tr>\n",
       "    <tr>\n",
       "      <th>2054</th>\n",
       "      <td>18.0</td>\n",
       "      <td>405</td>\n",
       "      <td>средство для удаления ржавчины prosept, 1 шт</td>\n",
       "      <td>удалитель ржавчины rust remover концентрат  1:2</td>\n",
       "      <td>1</td>\n",
       "      <td>not</td>\n",
       "      <td>л</td>\n",
       "      <td>0.0</td>\n",
       "      <td>5.00</td>\n",
       "      <td>0</td>\n",
       "      <td>56</td>\n",
       "    </tr>\n",
       "  </tbody>\n",
       "</table>\n",
       "<p>2055 rows × 11 columns</p>\n",
       "</div>"
      ],
      "text/plain": [
       "      dealer_id  product_id  \\\n",
       "0          13.0          46   \n",
       "1          15.0         172   \n",
       "2          12.0         401   \n",
       "3           3.0         105   \n",
       "4           3.0         161   \n",
       "...         ...         ...   \n",
       "2050       18.0         258   \n",
       "2051       18.0         299   \n",
       "2052       18.0         452   \n",
       "2053       18.0         416   \n",
       "2054       18.0         405   \n",
       "\n",
       "                                           product_name  \\\n",
       "0     спрей prosept cooky spray для столешниц и рако...   \n",
       "1     огнебиозащитадлядревесины proseptогнебиоprofii...   \n",
       "2     чистящее средство universal hard спрей для очи...   \n",
       "3     средство для удаления ржавчины bath acid с аро...   \n",
       "4     средство для мытья полов multipower \"после дож...   \n",
       "...                                                 ...   \n",
       "2050  строительный антисептик  prosept антисептик дл...   \n",
       "2051  огнебиозащита профессиональная для древесины p...   \n",
       "2052  огнебиозащита для древесины prosept 2 группа, ...   \n",
       "2053           антисептик многофункциональный фбс, гост   \n",
       "2054       средство для удаления ржавчины prosept, 1 шт   \n",
       "\n",
       "                                                   name  match  \\\n",
       "0     средство для уборки и дезинфекции санитарных к...      0   \n",
       "1     жидкое гель-мыло с перламутром. без цвета, без...      0   \n",
       "2       удалитель цемента cement cleaner концентрат 1:2      0   \n",
       "3     ополаскиватель для посудомоечных машин всех ти...      0   \n",
       "4     жидкое моющее средство для стирки шерсти, шелк...      0   \n",
       "...                                                 ...    ...   \n",
       "2050  антисептик для внутренних работ prosept interi...      1   \n",
       "2051  огнебиозащита огнебио prof 2 группа, красный г...      1   \n",
       "2052  огнебиозащита для древесины 2 группа, красный ...      1   \n",
       "2053           антисептик многофункциональный фбс, гост      1   \n",
       "2054    удалитель ржавчины rust remover концентрат  1:2      1   \n",
       "\n",
       "     product_mera_let mera_let  product_mera_num  mera_num  let  fuzz  \n",
       "0                  мл        л               0.5      0.75    1    39  \n",
       "1                   л        л              10.0      5.00    1    25  \n",
       "2                 not        л               0.0      1.00    0    30  \n",
       "3                 not        л               0.0      0.80    0    39  \n",
       "4                 not        л               0.0      3.00    0    41  \n",
       "...               ...      ...               ...       ...  ...   ...  \n",
       "2050                л        л               5.0      5.00    1   100  \n",
       "2051                л        л              20.0     20.00    1   100  \n",
       "2052                л       кг              10.0     10.00    0   100  \n",
       "2053                л        л               5.0      5.00    1   100  \n",
       "2054              not        л               0.0      5.00    0    56  \n",
       "\n",
       "[2055 rows x 11 columns]"
      ]
     },
     "execution_count": 100,
     "metadata": {},
     "output_type": "execute_result"
    }
   ],
   "source": [
    "dataframe_final"
   ]
  },
  {
   "cell_type": "markdown",
   "id": "7ffe657a",
   "metadata": {
    "id": "7ffe657a"
   },
   "source": [
    "**Вывод:** Путем обработки названий товаров были созданы 4 новые фичи для модели. Из наименований вынесли меру измерения и количество товара (например, 500 мл). Затем разнесли эти данные, количество из наименования товара дилеров и производителя было конвертировано в соответствии с указанной мерой, добавлены признаки `product_mera_num` и `mera_num`. Если метрика совпадала у двух товаров, то есть был указан объем или вес, новому признаку `let` присвоено значение 1, иначе 0. Удалили метрики измерения и количество из названий. Добавили метрику сходства между наименованиями товаров - расстояние Левенштейна `fuzz`."
   ]
  },
  {
   "cell_type": "markdown",
   "id": "3971adee",
   "metadata": {
    "id": "3971adee"
   },
   "source": [
    "### Эмбеддинг"
   ]
  },
  {
   "cell_type": "markdown",
   "id": "ffb7afed",
   "metadata": {
    "id": "ffb7afed"
   },
   "source": [
    "Создадим еще один признак из наименований товаров. Будем использовать предобученный токенизатор и модель - RuBERT tiny. Он значительно быстрее других BERT'ов, понимающих русский язык. Полученные эмбэндинги усилим скалярным произведением, результатом будет одно число, а не вектор. Скалярное произведение оценивает, насколько вектора сонаправлены."
   ]
  },
  {
   "cell_type": "code",
   "execution_count": 101,
   "id": "cf4898d8",
   "metadata": {
    "id": "cf4898d8"
   },
   "outputs": [],
   "source": [
    "#загружаем токенизатор и модель\n",
    "tokenizer = AutoTokenizer.from_pretrained(\"cointegrated/rubert-tiny\")\n",
    "model = AutoModel.from_pretrained(\"cointegrated/rubert-tiny\")"
   ]
  },
  {
   "cell_type": "code",
   "execution_count": 102,
   "id": "077db0e7",
   "metadata": {
    "id": "077db0e7"
   },
   "outputs": [],
   "source": [
    "def get_embeddings(df, column, tokenizer, model):\n",
    "    \"\"\"\n",
    "    Функция для создания эмбендингов.\n",
    "    Принимает на вход датафрейм, имя столбца как строка,\n",
    "    токенизатор и модель должны быть предварительно обучены.\n",
    "    Возвращает массив numpy.\n",
    "    \"\"\"\n",
    "    start_time = time.time()\n",
    "\n",
    "    tokenized = df[column].apply(lambda x: tokenizer.encode(x, add_special_tokens=True))\n",
    "    max_len = max(map(len, tokenized.values))\n",
    "\n",
    "    padded = np.array([i + [0]*(max_len-len(i)) for i in tokenized.values])\n",
    "    attention_mask = np.where(padded != 0, 1, 0)\n",
    "    input_ids = torch.tensor(padded)\n",
    "    attention_mask = torch.tensor(attention_mask)\n",
    "\n",
    "    with torch.no_grad():\n",
    "        last_hidden_states = model(input_ids, attention_mask=attention_mask)\n",
    "    vector_name = last_hidden_states[0][:, 0, :].numpy()\n",
    "\n",
    "    end_time = time.time()\n",
    "\n",
    "    print(f\"Время создания эмбендингов: {round(end_time - start_time)} сек.\")\n",
    "\n",
    "    return vector_name"
   ]
  },
  {
   "cell_type": "code",
   "execution_count": 103,
   "id": "72d8ab89",
   "metadata": {
    "colab": {
     "base_uri": "https://localhost:8080/"
    },
    "id": "72d8ab89",
    "outputId": "3c157936-5722-4d4e-f36d-1db6bf7a8c9a"
   },
   "outputs": [
    {
     "name": "stdout",
     "output_type": "stream",
     "text": [
      "Время создания эмбендингов: 35 сек.\n"
     ]
    }
   ],
   "source": [
    "vector_name = get_embeddings(dataframe_final, \"name\", tokenizer, model)"
   ]
  },
  {
   "cell_type": "code",
   "execution_count": 104,
   "id": "3c009d67",
   "metadata": {
    "colab": {
     "base_uri": "https://localhost:8080/"
    },
    "id": "3c009d67",
    "outputId": "6fee2a34-12f2-4a4e-cc44-c145214e350d"
   },
   "outputs": [
    {
     "name": "stdout",
     "output_type": "stream",
     "text": [
      "Время создания эмбендингов: 29 сек.\n"
     ]
    }
   ],
   "source": [
    "vector_product_name = get_embeddings(dataframe_final, \"product_name\", tokenizer, model)"
   ]
  },
  {
   "cell_type": "markdown",
   "id": "Bnq2tL65-70s",
   "metadata": {
    "id": "Bnq2tL65-70s"
   },
   "source": [
    "Проверяем размерность векторов для произведения"
   ]
  },
  {
   "cell_type": "code",
   "execution_count": 105,
   "id": "967d2fd0",
   "metadata": {
    "colab": {
     "base_uri": "https://localhost:8080/"
    },
    "id": "967d2fd0",
    "outputId": "30aeb71b-0b78-4568-f4d3-357c3a36a3d5"
   },
   "outputs": [
    {
     "data": {
      "text/plain": [
       "2055"
      ]
     },
     "execution_count": 105,
     "metadata": {},
     "output_type": "execute_result"
    }
   ],
   "source": [
    "vector_name.shape[0]"
   ]
  },
  {
   "cell_type": "code",
   "execution_count": 106,
   "id": "08c2aa78",
   "metadata": {
    "colab": {
     "base_uri": "https://localhost:8080/"
    },
    "id": "08c2aa78",
    "outputId": "a4c0cc2d-1dae-4236-8f6e-942950f403d8"
   },
   "outputs": [
    {
     "data": {
      "text/plain": [
       "2055"
      ]
     },
     "execution_count": 106,
     "metadata": {},
     "output_type": "execute_result"
    }
   ],
   "source": [
    "vector_product_name.shape[0]"
   ]
  },
  {
   "cell_type": "markdown",
   "id": "xnYowKWZ_AfT",
   "metadata": {
    "id": "xnYowKWZ_AfT"
   },
   "source": [
    "Проводим cкалярное произведение эмбеддингов"
   ]
  },
  {
   "cell_type": "code",
   "execution_count": 107,
   "id": "bb96b95c",
   "metadata": {
    "id": "bb96b95c"
   },
   "outputs": [],
   "source": [
    "scalar = list()\n",
    "for i in range(vector_name.shape[0]):\n",
    "    scalar.append(np.dot(vector_product_name[i], vector_name[i]))"
   ]
  },
  {
   "cell_type": "code",
   "execution_count": 108,
   "id": "f5c00a18",
   "metadata": {
    "colab": {
     "base_uri": "https://localhost:8080/",
     "height": 424
    },
    "id": "f5c00a18",
    "outputId": "0cfb1efa-99f7-4f44-b41c-6dbbcd9bdad8"
   },
   "outputs": [
    {
     "data": {
      "text/html": [
       "<div>\n",
       "<style scoped>\n",
       "    .dataframe tbody tr th:only-of-type {\n",
       "        vertical-align: middle;\n",
       "    }\n",
       "\n",
       "    .dataframe tbody tr th {\n",
       "        vertical-align: top;\n",
       "    }\n",
       "\n",
       "    .dataframe thead th {\n",
       "        text-align: right;\n",
       "    }\n",
       "</style>\n",
       "<table border=\"1\" class=\"dataframe\">\n",
       "  <thead>\n",
       "    <tr style=\"text-align: right;\">\n",
       "      <th></th>\n",
       "      <th>0</th>\n",
       "    </tr>\n",
       "  </thead>\n",
       "  <tbody>\n",
       "    <tr>\n",
       "      <th>0</th>\n",
       "      <td>76.407890</td>\n",
       "    </tr>\n",
       "    <tr>\n",
       "      <th>1</th>\n",
       "      <td>53.821838</td>\n",
       "    </tr>\n",
       "    <tr>\n",
       "      <th>2</th>\n",
       "      <td>66.701706</td>\n",
       "    </tr>\n",
       "    <tr>\n",
       "      <th>3</th>\n",
       "      <td>75.943352</td>\n",
       "    </tr>\n",
       "    <tr>\n",
       "      <th>4</th>\n",
       "      <td>57.891113</td>\n",
       "    </tr>\n",
       "    <tr>\n",
       "      <th>...</th>\n",
       "      <td>...</td>\n",
       "    </tr>\n",
       "    <tr>\n",
       "      <th>2050</th>\n",
       "      <td>87.594940</td>\n",
       "    </tr>\n",
       "    <tr>\n",
       "      <th>2051</th>\n",
       "      <td>95.876472</td>\n",
       "    </tr>\n",
       "    <tr>\n",
       "      <th>2052</th>\n",
       "      <td>99.045204</td>\n",
       "    </tr>\n",
       "    <tr>\n",
       "      <th>2053</th>\n",
       "      <td>94.880928</td>\n",
       "    </tr>\n",
       "    <tr>\n",
       "      <th>2054</th>\n",
       "      <td>89.019394</td>\n",
       "    </tr>\n",
       "  </tbody>\n",
       "</table>\n",
       "<p>2055 rows × 1 columns</p>\n",
       "</div>"
      ],
      "text/plain": [
       "              0\n",
       "0     76.407890\n",
       "1     53.821838\n",
       "2     66.701706\n",
       "3     75.943352\n",
       "4     57.891113\n",
       "...         ...\n",
       "2050  87.594940\n",
       "2051  95.876472\n",
       "2052  99.045204\n",
       "2053  94.880928\n",
       "2054  89.019394\n",
       "\n",
       "[2055 rows x 1 columns]"
      ]
     },
     "execution_count": 108,
     "metadata": {},
     "output_type": "execute_result"
    }
   ],
   "source": [
    "pd.DataFrame(scalar)"
   ]
  },
  {
   "cell_type": "markdown",
   "id": "gQBl0uoW_JDR",
   "metadata": {
    "id": "gQBl0uoW_JDR"
   },
   "source": [
    "ТЕперь добавим скалярное произведение наших векторов наших наименований в общий датасет"
   ]
  },
  {
   "cell_type": "code",
   "execution_count": 109,
   "id": "315b2fb8",
   "metadata": {
    "colab": {
     "base_uri": "https://localhost:8080/",
     "height": 791
    },
    "id": "315b2fb8",
    "outputId": "2413db52-1255-43a0-d68f-47a30bc20382"
   },
   "outputs": [
    {
     "data": {
      "text/html": [
       "<div>\n",
       "<style scoped>\n",
       "    .dataframe tbody tr th:only-of-type {\n",
       "        vertical-align: middle;\n",
       "    }\n",
       "\n",
       "    .dataframe tbody tr th {\n",
       "        vertical-align: top;\n",
       "    }\n",
       "\n",
       "    .dataframe thead th {\n",
       "        text-align: right;\n",
       "    }\n",
       "</style>\n",
       "<table border=\"1\" class=\"dataframe\">\n",
       "  <thead>\n",
       "    <tr style=\"text-align: right;\">\n",
       "      <th></th>\n",
       "      <th>scalar</th>\n",
       "      <th>dealer_id</th>\n",
       "      <th>product_id</th>\n",
       "      <th>product_name</th>\n",
       "      <th>name</th>\n",
       "      <th>match</th>\n",
       "      <th>product_mera_let</th>\n",
       "      <th>mera_let</th>\n",
       "      <th>product_mera_num</th>\n",
       "      <th>mera_num</th>\n",
       "      <th>let</th>\n",
       "      <th>fuzz</th>\n",
       "    </tr>\n",
       "  </thead>\n",
       "  <tbody>\n",
       "    <tr>\n",
       "      <th>0</th>\n",
       "      <td>76.407890</td>\n",
       "      <td>13.0</td>\n",
       "      <td>46</td>\n",
       "      <td>спрей prosept cooky spray для столешниц и рако...</td>\n",
       "      <td>средство для уборки и дезинфекции санитарных к...</td>\n",
       "      <td>0</td>\n",
       "      <td>мл</td>\n",
       "      <td>л</td>\n",
       "      <td>0.5</td>\n",
       "      <td>0.75</td>\n",
       "      <td>1</td>\n",
       "      <td>39</td>\n",
       "    </tr>\n",
       "    <tr>\n",
       "      <th>1</th>\n",
       "      <td>53.821838</td>\n",
       "      <td>15.0</td>\n",
       "      <td>172</td>\n",
       "      <td>огнебиозащитадлядревесины proseptогнебиоprofii...</td>\n",
       "      <td>жидкое гель-мыло с перламутром. без цвета, без...</td>\n",
       "      <td>0</td>\n",
       "      <td>л</td>\n",
       "      <td>л</td>\n",
       "      <td>10.0</td>\n",
       "      <td>5.00</td>\n",
       "      <td>1</td>\n",
       "      <td>25</td>\n",
       "    </tr>\n",
       "    <tr>\n",
       "      <th>2</th>\n",
       "      <td>66.701706</td>\n",
       "      <td>12.0</td>\n",
       "      <td>401</td>\n",
       "      <td>чистящее средство universal hard спрей для очи...</td>\n",
       "      <td>удалитель цемента cement cleaner концентрат 1:2</td>\n",
       "      <td>0</td>\n",
       "      <td>not</td>\n",
       "      <td>л</td>\n",
       "      <td>0.0</td>\n",
       "      <td>1.00</td>\n",
       "      <td>0</td>\n",
       "      <td>30</td>\n",
       "    </tr>\n",
       "    <tr>\n",
       "      <th>3</th>\n",
       "      <td>75.943352</td>\n",
       "      <td>3.0</td>\n",
       "      <td>105</td>\n",
       "      <td>средство для удаления ржавчины bath acid с аро...</td>\n",
       "      <td>ополаскиватель для посудомоечных машин всех ти...</td>\n",
       "      <td>0</td>\n",
       "      <td>not</td>\n",
       "      <td>л</td>\n",
       "      <td>0.0</td>\n",
       "      <td>0.80</td>\n",
       "      <td>0</td>\n",
       "      <td>39</td>\n",
       "    </tr>\n",
       "    <tr>\n",
       "      <th>4</th>\n",
       "      <td>57.891113</td>\n",
       "      <td>3.0</td>\n",
       "      <td>161</td>\n",
       "      <td>средство для мытья полов multipower \"после дож...</td>\n",
       "      <td>жидкое моющее средство для стирки шерсти, шелк...</td>\n",
       "      <td>0</td>\n",
       "      <td>not</td>\n",
       "      <td>л</td>\n",
       "      <td>0.0</td>\n",
       "      <td>3.00</td>\n",
       "      <td>0</td>\n",
       "      <td>41</td>\n",
       "    </tr>\n",
       "    <tr>\n",
       "      <th>...</th>\n",
       "      <td>...</td>\n",
       "      <td>...</td>\n",
       "      <td>...</td>\n",
       "      <td>...</td>\n",
       "      <td>...</td>\n",
       "      <td>...</td>\n",
       "      <td>...</td>\n",
       "      <td>...</td>\n",
       "      <td>...</td>\n",
       "      <td>...</td>\n",
       "      <td>...</td>\n",
       "      <td>...</td>\n",
       "    </tr>\n",
       "    <tr>\n",
       "      <th>2050</th>\n",
       "      <td>87.594940</td>\n",
       "      <td>18.0</td>\n",
       "      <td>258</td>\n",
       "      <td>строительный антисептик  prosept антисептик дл...</td>\n",
       "      <td>антисептик для внутренних работ prosept interi...</td>\n",
       "      <td>1</td>\n",
       "      <td>л</td>\n",
       "      <td>л</td>\n",
       "      <td>5.0</td>\n",
       "      <td>5.00</td>\n",
       "      <td>1</td>\n",
       "      <td>100</td>\n",
       "    </tr>\n",
       "    <tr>\n",
       "      <th>2051</th>\n",
       "      <td>95.876472</td>\n",
       "      <td>18.0</td>\n",
       "      <td>299</td>\n",
       "      <td>огнебиозащита профессиональная для древесины p...</td>\n",
       "      <td>огнебиозащита огнебио prof 2 группа, красный г...</td>\n",
       "      <td>1</td>\n",
       "      <td>л</td>\n",
       "      <td>л</td>\n",
       "      <td>20.0</td>\n",
       "      <td>20.00</td>\n",
       "      <td>1</td>\n",
       "      <td>100</td>\n",
       "    </tr>\n",
       "    <tr>\n",
       "      <th>2052</th>\n",
       "      <td>99.045204</td>\n",
       "      <td>18.0</td>\n",
       "      <td>452</td>\n",
       "      <td>огнебиозащита для древесины prosept 2 группа, ...</td>\n",
       "      <td>огнебиозащита для древесины 2 группа, красный ...</td>\n",
       "      <td>1</td>\n",
       "      <td>л</td>\n",
       "      <td>кг</td>\n",
       "      <td>10.0</td>\n",
       "      <td>10.00</td>\n",
       "      <td>0</td>\n",
       "      <td>100</td>\n",
       "    </tr>\n",
       "    <tr>\n",
       "      <th>2053</th>\n",
       "      <td>94.880928</td>\n",
       "      <td>18.0</td>\n",
       "      <td>416</td>\n",
       "      <td>антисептик многофункциональный фбс, гост</td>\n",
       "      <td>антисептик многофункциональный фбс, гост</td>\n",
       "      <td>1</td>\n",
       "      <td>л</td>\n",
       "      <td>л</td>\n",
       "      <td>5.0</td>\n",
       "      <td>5.00</td>\n",
       "      <td>1</td>\n",
       "      <td>100</td>\n",
       "    </tr>\n",
       "    <tr>\n",
       "      <th>2054</th>\n",
       "      <td>89.019394</td>\n",
       "      <td>18.0</td>\n",
       "      <td>405</td>\n",
       "      <td>средство для удаления ржавчины prosept, 1 шт</td>\n",
       "      <td>удалитель ржавчины rust remover концентрат  1:2</td>\n",
       "      <td>1</td>\n",
       "      <td>not</td>\n",
       "      <td>л</td>\n",
       "      <td>0.0</td>\n",
       "      <td>5.00</td>\n",
       "      <td>0</td>\n",
       "      <td>56</td>\n",
       "    </tr>\n",
       "  </tbody>\n",
       "</table>\n",
       "<p>2055 rows × 12 columns</p>\n",
       "</div>"
      ],
      "text/plain": [
       "         scalar  dealer_id  product_id  \\\n",
       "0     76.407890       13.0          46   \n",
       "1     53.821838       15.0         172   \n",
       "2     66.701706       12.0         401   \n",
       "3     75.943352        3.0         105   \n",
       "4     57.891113        3.0         161   \n",
       "...         ...        ...         ...   \n",
       "2050  87.594940       18.0         258   \n",
       "2051  95.876472       18.0         299   \n",
       "2052  99.045204       18.0         452   \n",
       "2053  94.880928       18.0         416   \n",
       "2054  89.019394       18.0         405   \n",
       "\n",
       "                                           product_name  \\\n",
       "0     спрей prosept cooky spray для столешниц и рако...   \n",
       "1     огнебиозащитадлядревесины proseptогнебиоprofii...   \n",
       "2     чистящее средство universal hard спрей для очи...   \n",
       "3     средство для удаления ржавчины bath acid с аро...   \n",
       "4     средство для мытья полов multipower \"после дож...   \n",
       "...                                                 ...   \n",
       "2050  строительный антисептик  prosept антисептик дл...   \n",
       "2051  огнебиозащита профессиональная для древесины p...   \n",
       "2052  огнебиозащита для древесины prosept 2 группа, ...   \n",
       "2053           антисептик многофункциональный фбс, гост   \n",
       "2054       средство для удаления ржавчины prosept, 1 шт   \n",
       "\n",
       "                                                   name  match  \\\n",
       "0     средство для уборки и дезинфекции санитарных к...      0   \n",
       "1     жидкое гель-мыло с перламутром. без цвета, без...      0   \n",
       "2       удалитель цемента cement cleaner концентрат 1:2      0   \n",
       "3     ополаскиватель для посудомоечных машин всех ти...      0   \n",
       "4     жидкое моющее средство для стирки шерсти, шелк...      0   \n",
       "...                                                 ...    ...   \n",
       "2050  антисептик для внутренних работ prosept interi...      1   \n",
       "2051  огнебиозащита огнебио prof 2 группа, красный г...      1   \n",
       "2052  огнебиозащита для древесины 2 группа, красный ...      1   \n",
       "2053           антисептик многофункциональный фбс, гост      1   \n",
       "2054    удалитель ржавчины rust remover концентрат  1:2      1   \n",
       "\n",
       "     product_mera_let mera_let  product_mera_num  mera_num  let  fuzz  \n",
       "0                  мл        л               0.5      0.75    1    39  \n",
       "1                   л        л              10.0      5.00    1    25  \n",
       "2                 not        л               0.0      1.00    0    30  \n",
       "3                 not        л               0.0      0.80    0    39  \n",
       "4                 not        л               0.0      3.00    0    41  \n",
       "...               ...      ...               ...       ...  ...   ...  \n",
       "2050                л        л               5.0      5.00    1   100  \n",
       "2051                л        л              20.0     20.00    1   100  \n",
       "2052                л       кг              10.0     10.00    0   100  \n",
       "2053                л        л               5.0      5.00    1   100  \n",
       "2054              not        л               0.0      5.00    0    56  \n",
       "\n",
       "[2055 rows x 12 columns]"
      ]
     },
     "execution_count": 109,
     "metadata": {},
     "output_type": "execute_result"
    }
   ],
   "source": [
    "dataframe_final = pd.concat([pd.DataFrame(scalar, columns=[\"scalar\"]), dataframe_final], axis=1)\n",
    "dataframe_final"
   ]
  },
  {
   "cell_type": "code",
   "execution_count": 110,
   "id": "5caae83f",
   "metadata": {
    "colab": {
     "base_uri": "https://localhost:8080/"
    },
    "id": "5caae83f",
    "outputId": "5a051507-3489-4d6b-bc2a-2092891d2b3f"
   },
   "outputs": [
    {
     "name": "stdout",
     "output_type": "stream",
     "text": [
      "<class 'pandas.core.frame.DataFrame'>\n",
      "RangeIndex: 2055 entries, 0 to 2054\n",
      "Data columns (total 12 columns):\n",
      " #   Column            Non-Null Count  Dtype  \n",
      "---  ------            --------------  -----  \n",
      " 0   scalar            2055 non-null   float64\n",
      " 1   dealer_id         2055 non-null   float64\n",
      " 2   product_id        2055 non-null   int32  \n",
      " 3   product_name      2055 non-null   object \n",
      " 4   name              2055 non-null   object \n",
      " 5   match             2055 non-null   int32  \n",
      " 6   product_mera_let  2055 non-null   object \n",
      " 7   mera_let          2055 non-null   object \n",
      " 8   product_mera_num  2055 non-null   float64\n",
      " 9   mera_num          2055 non-null   float64\n",
      " 10  let               2055 non-null   int32  \n",
      " 11  fuzz              2055 non-null   int64  \n",
      "dtypes: float64(4), int32(3), int64(1), object(4)\n",
      "memory usage: 168.7+ KB\n"
     ]
    }
   ],
   "source": [
    "dataframe_final.info()"
   ]
  },
  {
   "cell_type": "markdown",
   "id": "d7ca33ba",
   "metadata": {
    "id": "d7ca33ba"
   },
   "source": [
    "Удалим из выборки сами наименования товаров, уникальные идентификаторы и буквенное обозначение меры товара."
   ]
  },
  {
   "cell_type": "code",
   "execution_count": 111,
   "id": "3ea50b00",
   "metadata": {
    "colab": {
     "base_uri": "https://localhost:8080/",
     "height": 206
    },
    "id": "3ea50b00",
    "outputId": "e585086f-dd58-4597-f804-1d3bf2c47c4c"
   },
   "outputs": [
    {
     "data": {
      "text/html": [
       "<div>\n",
       "<style scoped>\n",
       "    .dataframe tbody tr th:only-of-type {\n",
       "        vertical-align: middle;\n",
       "    }\n",
       "\n",
       "    .dataframe tbody tr th {\n",
       "        vertical-align: top;\n",
       "    }\n",
       "\n",
       "    .dataframe thead th {\n",
       "        text-align: right;\n",
       "    }\n",
       "</style>\n",
       "<table border=\"1\" class=\"dataframe\">\n",
       "  <thead>\n",
       "    <tr style=\"text-align: right;\">\n",
       "      <th></th>\n",
       "      <th>scalar</th>\n",
       "      <th>match</th>\n",
       "      <th>product_mera_num</th>\n",
       "      <th>mera_num</th>\n",
       "      <th>let</th>\n",
       "      <th>fuzz</th>\n",
       "    </tr>\n",
       "  </thead>\n",
       "  <tbody>\n",
       "    <tr>\n",
       "      <th>0</th>\n",
       "      <td>76.407890</td>\n",
       "      <td>0</td>\n",
       "      <td>0.5</td>\n",
       "      <td>0.75</td>\n",
       "      <td>1</td>\n",
       "      <td>39</td>\n",
       "    </tr>\n",
       "    <tr>\n",
       "      <th>1</th>\n",
       "      <td>53.821838</td>\n",
       "      <td>0</td>\n",
       "      <td>10.0</td>\n",
       "      <td>5.00</td>\n",
       "      <td>1</td>\n",
       "      <td>25</td>\n",
       "    </tr>\n",
       "    <tr>\n",
       "      <th>2</th>\n",
       "      <td>66.701706</td>\n",
       "      <td>0</td>\n",
       "      <td>0.0</td>\n",
       "      <td>1.00</td>\n",
       "      <td>0</td>\n",
       "      <td>30</td>\n",
       "    </tr>\n",
       "    <tr>\n",
       "      <th>3</th>\n",
       "      <td>75.943352</td>\n",
       "      <td>0</td>\n",
       "      <td>0.0</td>\n",
       "      <td>0.80</td>\n",
       "      <td>0</td>\n",
       "      <td>39</td>\n",
       "    </tr>\n",
       "    <tr>\n",
       "      <th>4</th>\n",
       "      <td>57.891113</td>\n",
       "      <td>0</td>\n",
       "      <td>0.0</td>\n",
       "      <td>3.00</td>\n",
       "      <td>0</td>\n",
       "      <td>41</td>\n",
       "    </tr>\n",
       "  </tbody>\n",
       "</table>\n",
       "</div>"
      ],
      "text/plain": [
       "      scalar  match  product_mera_num  mera_num  let  fuzz\n",
       "0  76.407890      0               0.5      0.75    1    39\n",
       "1  53.821838      0              10.0      5.00    1    25\n",
       "2  66.701706      0               0.0      1.00    0    30\n",
       "3  75.943352      0               0.0      0.80    0    39\n",
       "4  57.891113      0               0.0      3.00    0    41"
      ]
     },
     "execution_count": 111,
     "metadata": {},
     "output_type": "execute_result"
    }
   ],
   "source": [
    "dataframe_final.drop([\"product_name\", \"name\", \"dealer_id\",\n",
    "                      \"product_id\", \"product_mera_let\", \"mera_let\"], inplace=True, axis=1)\n",
    "dataframe_final.head()"
   ]
  },
  {
   "cell_type": "code",
   "execution_count": 112,
   "id": "c8194915",
   "metadata": {
    "colab": {
     "base_uri": "https://localhost:8080/",
     "height": 432
    },
    "id": "c8194915",
    "outputId": "bb0d8884-c2c4-4d9f-ad7f-14bb2e1fafb9"
   },
   "outputs": [
    {
     "name": "stdout",
     "output_type": "stream",
     "text": [
      "<class 'pandas.core.frame.DataFrame'>\n",
      "RangeIndex: 2055 entries, 0 to 2054\n",
      "Data columns (total 6 columns):\n",
      " #   Column            Non-Null Count  Dtype  \n",
      "---  ------            --------------  -----  \n",
      " 0   scalar            2055 non-null   float64\n",
      " 1   match             2055 non-null   int32  \n",
      " 2   product_mera_num  2055 non-null   float64\n",
      " 3   mera_num          2055 non-null   float64\n",
      " 4   let               2055 non-null   int32  \n",
      " 5   fuzz              2055 non-null   int64  \n",
      "dtypes: float64(3), int32(2), int64(1)\n",
      "memory usage: 80.4 KB\n"
     ]
    },
    {
     "data": {
      "text/html": [
       "<div>\n",
       "<style scoped>\n",
       "    .dataframe tbody tr th:only-of-type {\n",
       "        vertical-align: middle;\n",
       "    }\n",
       "\n",
       "    .dataframe tbody tr th {\n",
       "        vertical-align: top;\n",
       "    }\n",
       "\n",
       "    .dataframe thead th {\n",
       "        text-align: right;\n",
       "    }\n",
       "</style>\n",
       "<table border=\"1\" class=\"dataframe\">\n",
       "  <thead>\n",
       "    <tr style=\"text-align: right;\">\n",
       "      <th></th>\n",
       "      <th>scalar</th>\n",
       "      <th>match</th>\n",
       "      <th>product_mera_num</th>\n",
       "      <th>mera_num</th>\n",
       "      <th>let</th>\n",
       "      <th>fuzz</th>\n",
       "    </tr>\n",
       "  </thead>\n",
       "  <tbody>\n",
       "    <tr>\n",
       "      <th>0</th>\n",
       "      <td>76.407890</td>\n",
       "      <td>0</td>\n",
       "      <td>0.5</td>\n",
       "      <td>0.75</td>\n",
       "      <td>1</td>\n",
       "      <td>39</td>\n",
       "    </tr>\n",
       "    <tr>\n",
       "      <th>1</th>\n",
       "      <td>53.821838</td>\n",
       "      <td>0</td>\n",
       "      <td>10.0</td>\n",
       "      <td>5.00</td>\n",
       "      <td>1</td>\n",
       "      <td>25</td>\n",
       "    </tr>\n",
       "    <tr>\n",
       "      <th>2</th>\n",
       "      <td>66.701706</td>\n",
       "      <td>0</td>\n",
       "      <td>0.0</td>\n",
       "      <td>1.00</td>\n",
       "      <td>0</td>\n",
       "      <td>30</td>\n",
       "    </tr>\n",
       "    <tr>\n",
       "      <th>3</th>\n",
       "      <td>75.943352</td>\n",
       "      <td>0</td>\n",
       "      <td>0.0</td>\n",
       "      <td>0.80</td>\n",
       "      <td>0</td>\n",
       "      <td>39</td>\n",
       "    </tr>\n",
       "    <tr>\n",
       "      <th>4</th>\n",
       "      <td>57.891113</td>\n",
       "      <td>0</td>\n",
       "      <td>0.0</td>\n",
       "      <td>3.00</td>\n",
       "      <td>0</td>\n",
       "      <td>41</td>\n",
       "    </tr>\n",
       "  </tbody>\n",
       "</table>\n",
       "</div>"
      ],
      "text/plain": [
       "      scalar  match  product_mera_num  mera_num  let  fuzz\n",
       "0  76.407890      0               0.5      0.75    1    39\n",
       "1  53.821838      0              10.0      5.00    1    25\n",
       "2  66.701706      0               0.0      1.00    0    30\n",
       "3  75.943352      0               0.0      0.80    0    39\n",
       "4  57.891113      0               0.0      3.00    0    41"
      ]
     },
     "execution_count": 112,
     "metadata": {},
     "output_type": "execute_result"
    }
   ],
   "source": [
    "dataframe_final.info()\n",
    "dataframe_final.head()"
   ]
  },
  {
   "cell_type": "markdown",
   "id": "1c0fcb54",
   "metadata": {
    "id": "1c0fcb54"
   },
   "source": [
    "Проверим корреляцию в нашем финальном датафрейме."
   ]
  },
  {
   "cell_type": "code",
   "execution_count": 113,
   "id": "a833cf7d",
   "metadata": {
    "colab": {
     "base_uri": "https://localhost:8080/",
     "height": 776
    },
    "id": "a833cf7d",
    "outputId": "0beb2894-03fb-468b-eaec-20d6a9e78c78"
   },
   "outputs": [
    {
     "data": {
      "image/png": "[encoded data removed]",
      "text/plain": [
       "<Figure size 900x900 with 6 Axes>"
      ]
     },
     "metadata": {},
     "output_type": "display_data"
    }
   ],
   "source": [
    "dataframe_final.hist(figsize=(9, 9));"
   ]
  },
  {
   "cell_type": "markdown",
   "id": "dd135ed1",
   "metadata": {
    "id": "dd135ed1"
   },
   "source": [
    "Посмотрим на корреляцию Спирмена. Этот метод подходит для оценки взаимосвязи между непрерывными и порядковыми переменными или в случаях, где данные не соответствуют нормальному распределению."
   ]
  },
  {
   "cell_type": "code",
   "execution_count": 114,
   "id": "cb7d1fb5",
   "metadata": {
    "colab": {
     "base_uri": "https://localhost:8080/",
     "height": 556
    },
    "id": "cb7d1fb5",
    "outputId": "4d8515cd-94a1-4e7e-ec49-4143992a5777"
   },
   "outputs": [
    {
     "data": {
      "image/png": "[encoded data removed]",
      "text/plain": [
       "<Figure size 640x480 with 2 Axes>"
      ]
     },
     "metadata": {},
     "output_type": "display_data"
    }
   ],
   "source": [
    "sns.heatmap(dataframe_final.corr(method=\"spearman\"), cmap=\"YlGnBu\", annot=True);"
   ]
  },
  {
   "cell_type": "markdown",
   "id": "efc7ff76",
   "metadata": {
    "id": "efc7ff76"
   },
   "source": [
    "**Вывод:** В объединенной таблице строкам, которые удалось сопоставить с помощью таблицы с ключами из БД заказчика, был присвоен таргет 1, а с пропусками - 0. Пропуски были заполнены рандомными значениями из соответствующих признаков, которым до этого была подобрана пара. Все признаки имеют тип int или float, но таргет `match` и признак `let` являются бинарными.\n",
    "\n",
    "Был произведен эмбеддинг на предобученной модели RuBERT tiny и скалярное произведение. Неинформативные признаки и сами наименования товаров были удалены.\n",
    "\n",
    "Были добавлены новые фичи:\n",
    "- `product_mera_num` - численная мера из названия товара;\n",
    "- `mera_num` - численная мера из названия товара;\n",
    "- `let` - совпадает ли мера количества товара (объем/вес);\n",
    "- `fuzz` - расстояние Левенштейна между названиями;\n",
    "- `scalar` - скалярное произведение двух эмбеддингов.\n",
    "\n",
    "Выделен таргет:\n",
    "- `match` - схожи ли названия между собой.\n",
    "\n",
    "Мы не наблюдаем высокой корреляции между признаками."
   ]
  },
  {
   "cell_type": "markdown",
   "id": "ea5cfb12",
   "metadata": {
    "id": "ea5cfb12"
   },
   "source": [
    "## Создание выборок и обучение модели"
   ]
  },
  {
   "cell_type": "markdown",
   "id": "8f85c34e",
   "metadata": {
    "id": "8f85c34e"
   },
   "source": [
    "### Создание выборок"
   ]
  },
  {
   "cell_type": "markdown",
   "id": "6291018f",
   "metadata": {
    "id": "6291018f"
   },
   "source": [
    "Создадим две выборки - обучающая (80%) и тестовая (20%)."
   ]
  },
  {
   "cell_type": "code",
   "execution_count": 115,
   "id": "c93e135a",
   "metadata": {
    "id": "c93e135a"
   },
   "outputs": [],
   "source": [
    "target = dataframe_final.match\n",
    "features = dataframe_final.drop([\"match\"], axis=1)"
   ]
  },
  {
   "cell_type": "code",
   "execution_count": 116,
   "id": "eb542f0a",
   "metadata": {
    "colab": {
     "base_uri": "https://localhost:8080/"
    },
    "id": "eb542f0a",
    "outputId": "38119e17-c47e-42b6-b7f3-3da32bcda738"
   },
   "outputs": [
    {
     "data": {
      "text/plain": [
       "1    1691\n",
       "0     364\n",
       "Name: match, dtype: int64"
      ]
     },
     "execution_count": 116,
     "metadata": {},
     "output_type": "execute_result"
    }
   ],
   "source": [
    "target.value_counts()"
   ]
  },
  {
   "cell_type": "markdown",
   "id": "9wEwhu9m_lZt",
   "metadata": {
    "id": "9wEwhu9m_lZt"
   },
   "source": [
    "Проверим баланс классов"
   ]
  },
  {
   "cell_type": "code",
   "execution_count": 117,
   "id": "4b6c63c7",
   "metadata": {
    "colab": {
     "base_uri": "https://localhost:8080/",
     "height": 449
    },
    "id": "4b6c63c7",
    "outputId": "ec7370c3-7f9f-4ea0-953e-c191ed64f91f"
   },
   "outputs": [
    {
     "data": {
      "image/png": "[encoded data removed]",
      "text/plain": [
       "<Figure size 640x480 with 1 Axes>"
      ]
     },
     "metadata": {},
     "output_type": "display_data"
    }
   ],
   "source": [
    "dataframe_final[\"match\"].hist()\n",
    "plt.xlabel(\"Совпадающие пары наименований\")\n",
    "plt.ylabel(\"Количество пар\");"
   ]
  },
  {
   "cell_type": "markdown",
   "id": "7a6deb29",
   "metadata": {
    "id": "7a6deb29"
   },
   "source": [
    "Есть дисбаланс классов, однако он не настолько большой, чтобы появилась необходимость в его устранении\n",
    "\n",
    "\n"
   ]
  },
  {
   "cell_type": "code",
   "execution_count": 118,
   "id": "04d30aef",
   "metadata": {
    "id": "04d30aef"
   },
   "outputs": [],
   "source": [
    "features_train, features_test, target_train, target_test = train_test_split(features, target,\n",
    "                                                                            test_size=.2,\n",
    "                                                                            random_state=RANDOM_STATE)"
   ]
  },
  {
   "cell_type": "markdown",
   "id": "916e2a06",
   "metadata": {
    "id": "916e2a06"
   },
   "source": [
    "### Обучение модели  \n",
    "В качестве модели выбрали LGBMClassifier , гиперпараметры будем подбирать с помощью GridSearchCV"
   ]
  },
  {
   "cell_type": "code",
   "execution_count": 119,
   "id": "6a938fd2",
   "metadata": {
    "colab": {
     "base_uri": "https://localhost:8080/"
    },
    "id": "6a938fd2",
    "outputId": "432c3df2-6d8b-44a4-a3d9-475ed857836b"
   },
   "outputs": [
    {
     "name": "stdout",
     "output_type": "stream",
     "text": [
      "Лучший precision: 0.979\n",
      "CPU times: total: 594 ms\n",
      "Wall time: 15.6 s\n"
     ]
    }
   ],
   "source": [
    "%%time\n",
    "\n",
    "params = {\n",
    "    \"n_estimators\": range(100, 1001, 100)\n",
    "}\n",
    "grid = GridSearchCV(LGBMClassifier(random_state=RANDOM_STATE), params, scoring=\"precision\", n_jobs=-1)\n",
    "grid.fit(features_train, target_train)\n",
    "print(f\"Лучший precision: {round(grid.best_score_, 3)}\")"
   ]
  },
  {
   "cell_type": "code",
   "execution_count": 120,
   "id": "ff9420a4",
   "metadata": {
    "colab": {
     "base_uri": "https://localhost:8080/"
    },
    "id": "ff9420a4",
    "outputId": "bdaf1297-98f7-4509-9487-83284657589c"
   },
   "outputs": [
    {
     "data": {
      "text/plain": [
       "{'n_estimators': 100}"
      ]
     },
     "execution_count": 120,
     "metadata": {},
     "output_type": "execute_result"
    }
   ],
   "source": [
    "grid.best_params_"
   ]
  },
  {
   "cell_type": "markdown",
   "id": "e7c15a7c",
   "metadata": {
    "id": "e7c15a7c"
   },
   "source": [
    "**Вывод:** Было создано две выборки - обучающая (80%) и тестовая (20%). Есть дисбаланс классов, но модель показывает себя хорошо. Обучалась модель LGBMClassifier, валидация была настроена с помощью GridSearchCV, подобраны гиперпараметры модели. Модель показала высокую оценку качества, проверим модель с лучшими параметрами на тестовой выборке.\n",
    "\n",
    "Гиперпараметры: n_estimators - 100.\n",
    "\n",
    "Лучший precision - 0.98."
   ]
  },
  {
   "cell_type": "markdown",
   "id": "b5a4f74e",
   "metadata": {
    "id": "b5a4f74e"
   },
   "source": [
    "## Тестирование модели"
   ]
  },
  {
   "cell_type": "code",
   "execution_count": 121,
   "id": "b027070d",
   "metadata": {
    "colab": {
     "base_uri": "https://localhost:8080/"
    },
    "id": "b027070d",
    "outputId": "f226bab4-3548-44c5-c4ef-e4c987a61347"
   },
   "outputs": [
    {
     "name": "stdout",
     "output_type": "stream",
     "text": [
      "Presicion на тест выборке:0.971\n"
     ]
    }
   ],
   "source": [
    "print(f\"Presicion на тест выборке:{round(precision_score(target_test, grid.best_estimator_.predict(features_test)), 3)}\")"
   ]
  },
  {
   "cell_type": "code",
   "execution_count": 122,
   "id": "ff49bd92",
   "metadata": {
    "colab": {
     "base_uri": "https://localhost:8080/",
     "height": 493
    },
    "id": "ff49bd92",
    "outputId": "87701fa7-ae40-4663-dd52-93e3fe2bad34"
   },
   "outputs": [
    {
     "data": {
      "image/png": "[encoded data removed]",
      "text/plain": [
       "<Figure size 640x480 with 2 Axes>"
      ]
     },
     "metadata": {},
     "output_type": "display_data"
    }
   ],
   "source": [
    "cm = confusion_matrix(target_test, grid.best_estimator_.predict(features_test), labels=grid.best_estimator_.classes_)\n",
    "disp = ConfusionMatrixDisplay(confusion_matrix=cm, display_labels=grid.best_estimator_.classes_)\n",
    "disp.plot()\n",
    "plt.title(\"Mатрица ошибок\" + \"\\n\");"
   ]
  },
  {
   "cell_type": "markdown",
   "id": "AOsRWBKhAeJY",
   "metadata": {
    "id": "AOsRWBKhAeJY"
   },
   "source": [
    "Как видим модель хорошо справляется с предсказаниями положительных классов.  \n",
    "Теперь посмотрим какие признаки сильнее всего отработали в модели"
   ]
  },
  {
   "cell_type": "code",
   "execution_count": 123,
   "id": "b148a488",
   "metadata": {
    "colab": {
     "base_uri": "https://localhost:8080/",
     "height": 357
    },
    "id": "b148a488",
    "outputId": "8979574e-21f9-4c6b-ccaf-bf097cd54f63"
   },
   "outputs": [
    {
     "data": {
      "image/png": "[encoded data removed]",
      "text/plain": [
       "<Figure size 800x350 with 1 Axes>"
      ]
     },
     "metadata": {},
     "output_type": "display_data"
    }
   ],
   "source": [
    "#значимость признаков для модели\n",
    "explainer = shap.TreeExplainer(grid.best_estimator_)\n",
    "shap_values = explainer.shap_values(features_test)\n",
    "feature_names = features.columns.tolist()\n",
    "shap.summary_plot(shap_values[0], features_test, plot_type=\"bar\", feature_names=feature_names)"
   ]
  },
  {
   "cell_type": "markdown",
   "id": "a1eb6a40",
   "metadata": {
    "id": "a1eb6a40"
   },
   "source": [
    "**Вывод:** На тестовой выборке у модели тоже хорошее качество - 0.97. Качество предсказаний было оценено, в том числе, визуально. Наиболее важный признак для модели - сходство строк на основании расстояния Левенштейна. Выдача подходящих пар из списка товаров производителя происходит путем выделения предсказанного положительного класса, результаты сортируются по прогнозируемой вероятности для положительного класса и отдаются первые 5 вариантов (число настраиваемое). Модель может не предложить ни одного варианта, если не найдет подходящих."
   ]
  },
  {
   "cell_type": "markdown",
   "id": "9e7c490a",
   "metadata": {
    "id": "9e7c490a"
   },
   "source": [
    "## Вывод"
   ]
  },
  {
   "cell_type": "markdown",
   "id": "b87e45b9",
   "metadata": {
    "id": "b87e45b9"
   },
   "source": [
    "Были получены для изучения 4 таблицы из БД заказчика, мы предположили, что наименований товаров будет достаточно для сопоставления данных производителя и дилеров. Наименования содержат информацию о мерах и количестве веса/объема товара.\n",
    "\n",
    "Мы получили списки уникальных товаров заказчика и дилеров с ключами для соединения таблиц. Разделили слитные слова в наименованиях, привели их к нижнему регистру.\n",
    "\n",
    "С помощью таблицы product_dealer_key соединили таблицы и создали таргет `match`  – целевой признак для модели, он показывает похожи ли товары, таблица состоит из 2 055 строк, негативные сопоставления были подобраны случайным образом для товаров, которым не нашлись пары, из товаров, для которых пары нашлись.\n",
    "\n",
    "Путем обработки названий товаров были созданы 4 новые фичи для модели. Из наименований вынесли меру измерения и количество товара (например, 500 мл). Затем разнесли эти данные, количество из наименования товара дилеров и производителя было конвертировано в соответствии с указанной мерой, добавлены признаки `product_mera_num` и `mera_num`. Если метрика совпадала у двух товаров, то есть был указан объем или вес, новому признаку `let` присвоено значение 1, иначе 0. Удалили метрики измерения и количество из названий. Добавили метрику сходства между наименованиями товаров - расстояние Левенштейна `fuzz`. Создали признак `scalar`, скалярное произведение эмбэндингов, для этого использовали предобученный токенизатор и модель - RuBERT tiny. Он значительно быстрее других BERT'ов, понимающих русский язык.\n",
    "\n",
    "Все признаки имеют тип int или float, но таргет `match` и признак `let` являются бинарными. Мы не наблюдаем высокой корреляции между признаками.\n",
    "\n",
    "Было создано две выборки, размер тестовой 20%. Есть дисбаланс классов, но модель показывает себя хорошо. Обучалась модель **LGBMClassifier**, валидация была настроена с помощью GridSearchCV, подобраны гиперпараметры модели. Модель показала высокую оценку качества - precision, лучшие гиперпараметры - n_estimators – 100, лучшая оценка – 0.98. На тестовой выборке у модели тоже хорошее качество - 0.97. Качество предсказаний было оценено, в том числе, визуально. Наиболее важный признак для модели - сходство строк на основании расстояния Левенштейна - `fuzz`. Выдача подходящих пар из списка товаров производителя происходит путем выделения предсказанного положительного класса, результаты сортируются по прогнозируемой вероятности для положительного класса и отдаются первые 5 вариантов (число настраиваемое). Модель может не предложить ни одного варианта, если не найдет подходящих. Модель и скрипт успешно интегрированы с backend'ом."
   ]
  },
  {
   "cell_type": "markdown",
   "id": "2fab383a",
   "metadata": {
    "id": "2fab383a"
   },
   "source": [
    "## Выгрузка модели"
   ]
  },
  {
   "cell_type": "markdown",
   "id": "3f7bd99d",
   "metadata": {
    "id": "3f7bd99d"
   },
   "source": [
    "Выгрузка модели закомментирована, чтобы она не выгружалась. Модель и скрипт успешно переданы backend-разработчикам."
   ]
  },
  {
   "cell_type": "code",
   "execution_count": 124,
   "id": "3bf755bf",
   "metadata": {
    "id": "3bf755bf"
   },
   "outputs": [],
   "source": [
    "# pkl_filename = \"pickle_model.pkl\"\n",
    "\n",
    "# with open(pkl_filename, \"wb\") as file:\n",
    "#     pickle.dump(grid.best_estimator_, file)"
   ]
  }
 ],
 "metadata": {
  "colab": {
   "provenance": [],
   "toc_visible": true
  },
  "kernelspec": {
   "display_name": "Python 3 (ipykernel)",
   "language": "python",
   "name": "python3"
  },
  "language_info": {
   "codemirror_mode": {
    "name": "ipython",
    "version": 3
   },
   "file_extension": ".py",
   "mimetype": "text/x-python",
   "name": "python",
   "nbconvert_exporter": "python",
   "pygments_lexer": "ipython3",
   "version": "3.9.15"
  },
  "toc": {
   "base_numbering": 1,
   "nav_menu": {},
   "number_sections": true,
   "sideBar": true,
   "skip_h1_title": true,
   "title_cell": "Table of Contents",
   "title_sidebar": "Contents",
   "toc_cell": true,
   "toc_position": {
    "height": "calc(100% - 180px)",
    "left": "10px",
    "top": "150px",
    "width": "291.594px"
   },
   "toc_section_display": true,
   "toc_window_display": true
  }
 },
 "nbformat": 4,
 "nbformat_minor": 5
}
